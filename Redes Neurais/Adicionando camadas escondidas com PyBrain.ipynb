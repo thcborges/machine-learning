{
 "cells": [
  {
   "cell_type": "code",
   "execution_count": 1,
   "metadata": {
    "collapsed": true
   },
   "outputs": [],
   "source": [
    "# Classificação com Pybrain - XOR de 3 dimensões\n",
    "from pybrain.datasets import SupervisedDataSet\n",
    "from pybrain.tools.shortcuts import buildNetwork\n",
    "from pybrain.supervised import BackpropTrainer"
   ]
  },
  {
   "cell_type": "code",
   "execution_count": 2,
   "metadata": {},
   "outputs": [],
   "source": [
    "dataset = SupervisedDataSet(3, 1)"
   ]
  },
  {
   "cell_type": "code",
   "execution_count": 3,
   "metadata": {},
   "outputs": [],
   "source": [
    "dataset.addSample([0, 0, 0], [0])\n",
    "dataset.addSample([0, 0, 1], [1])\n",
    "dataset.addSample([0, 1, 0], [1])\n",
    "dataset.addSample([0, 1, 1], [0])\n",
    "dataset.addSample([1, 0, 0], [1])\n",
    "dataset.addSample([1, 0, 1], [0])\n",
    "dataset.addSample([1, 1, 0], [0])\n",
    "dataset.addSample([1, 1, 1], [1])"
   ]
  },
  {
   "cell_type": "code",
   "execution_count": 7,
   "metadata": {},
   "outputs": [],
   "source": [
    "network = buildNetwork(dataset.indim, 2, dataset.outdim, bias=True)\n",
    "trainer = BackpropTrainer(network, dataset, learningrate=0.01, momentum=0.9)\n",
    "for i in range(1000):\n",
    "    trainer.train()\n"
   ]
  },
  {
   "cell_type": "code",
   "execution_count": 5,
   "metadata": {},
   "outputs": [],
   "source": [
    "test = SupervisedDataSet(3, 1)\n",
    "test.addSample([0, 0, 0], [0])\n",
    "test.addSample([0, 0, 1], [1])\n",
    "test.addSample([0, 1, 0], [1])\n",
    "test.addSample([0, 1, 1], [0])\n",
    "test.addSample([1, 0, 0], [1])\n",
    "test.addSample([1, 0, 1], [0])\n",
    "test.addSample([1, 1, 0], [0])\n",
    "test.addSample([1, 1, 1], [1])"
   ]
  },
  {
   "cell_type": "code",
   "execution_count": 6,
   "metadata": {},
   "outputs": [
    {
     "name": "stdout",
     "output_type": "stream",
     "text": [
      "\nTesting on data:\n('out:    ', '[0.477 ]')\n('correct:', '[0     ]')\nerror:  0.11354418\n('out:    ', '[0.415 ]')\n('correct:', '[1     ]')\nerror:  0.17120348\n('out:    ', '[0.47  ]')\n('correct:', '[1     ]')\nerror:  0.14039922\n('out:    ', '[0.457 ]')\n('correct:', '[0     ]')\nerror:  0.10456643\n('out:    ', '[0.619 ]')\n('correct:', '[1     ]')\nerror:  0.07262268\n('out:    ', '[0.465 ]')\n('correct:', '[0     ]')\nerror:  0.10826197\n('out:    ', '[0.508 ]')\n('correct:', '[0     ]')\nerror:  0.12919361\n('out:    ', '[0.47  ]')\n('correct:', '[1     ]')\nerror:  0.14053210\n('All errors:', [0.11354418078859917, 0.1712034794405865, 0.14039921540290842, 0.10456642823118167, 0.072622678286666478, 0.10826196797416798, 0.12919360694901455, 0.14053209936921846])\n('Average error:', 0.1225404570552929)\n('Max error:', 0.1712034794405865, 'Median error:', 0.12919360694901455)\n"
     ]
    },
    {
     "data": {
      "text/plain": [
       "0.1225404570552929"
      ]
     },
     "execution_count": 6,
     "metadata": {},
     "output_type": "execute_result"
    }
   ],
   "source": [
    "trainer.testOnData(test, verbose=True)"
   ]
  },
  {
   "cell_type": "code",
   "execution_count": null,
   "metadata": {},
   "outputs": [],
   "source": [
    "network = buildNetwork(dataset.indim, 4, 4, dataset.outdim, bias=True)\n",
    "trainer = BackpropTrainer(network, dataset, learningrate=0.01, momentum=0.9)\n",
    "for i in range(1000):\n",
    "    trainer.train()\n"
   ]
  },
  {
   "cell_type": "code",
   "execution_count": 10,
   "metadata": {},
   "outputs": [
    {
     "name": "stdout",
     "output_type": "stream",
     "text": [
      "\nTesting on data:\n('out:    ', '[0.512 ]')\n('correct:', '[0     ]')\nerror:  0.13122456\n('out:    ', '[0.53  ]')\n('correct:', '[1     ]')\nerror:  0.11034186\n('out:    ', '[0.537 ]')\n('correct:', '[1     ]')\nerror:  0.10734767\n('out:    ', '[0.546 ]')\n('correct:', '[0     ]')\nerror:  0.14924052\n('out:    ', '[0.515 ]')\n('correct:', '[1     ]')\nerror:  0.11757585\n('out:    ', '[0.529 ]')\n('correct:', '[0     ]')\nerror:  0.13996428\n('out:    ', '[0.531 ]')\n('correct:', '[0     ]')\nerror:  0.14114780\n('out:    ', '[0.54  ]')\n('correct:', '[1     ]')\nerror:  0.10588004\n('All errors:', [0.1312245593865905, 0.11034186280564329, 0.10734766540237611, 0.14924051785315132, 0.11757585484981424, 0.13996428343835501, 0.14114779595429436, 0.10588004144297292])\n('Average error:', 0.12534032264164974)\n('Max error:', 0.14924051785315132, 'Median error:', 0.1312245593865905)\n"
     ]
    },
    {
     "data": {
      "text/plain": [
       "0.12534032264164974"
      ]
     },
     "execution_count": 10,
     "metadata": {},
     "output_type": "execute_result"
    }
   ],
   "source": [
    "trainer.testOnData(test, verbose=True)"
   ]
  },
  {
   "cell_type": "code",
   "execution_count": 12,
   "metadata": {},
   "outputs": [
    {
     "name": "stdout",
     "output_type": "stream",
     "text": [
      "\nTesting on data:\n('out:    ', '[0.001 ]')\n('correct:', '[0     ]')\nerror:  0.00000017\n('out:    ', '[0.999 ]')\n('correct:', '[1     ]')\nerror:  0.00000022\n('out:    ', '[1     ]')\n('correct:', '[1     ]')\nerror:  0.00000000\n('out:    ', '[-0    ]')\n('correct:', '[0     ]')\nerror:  0.00000002\n('out:    ', '[0.999 ]')\n('correct:', '[1     ]')\nerror:  0.00000045\n('out:    ', '[0.001 ]')\n('correct:', '[0     ]')\nerror:  0.00000055\n('out:    ', '[-0    ]')\n('correct:', '[0     ]')\nerror:  0.00000000\n('out:    ', '[1     ]')\n('correct:', '[1     ]')\nerror:  0.00000003\n('All errors:', [1.6790766757156069e-07, 2.2031091843634557e-07, 1.2650610726677737e-09, 2.3256691465388868e-08, 4.4547357879061165e-07, 5.461101000720778e-07, 4.341830550909123e-12, 2.9102282338373382e-08])\n('Average error:', 1.7917883019719709e-07)\n('Max error:', 5.461101000720778e-07, 'Median error:', 1.6790766757156069e-07)\n"
     ]
    },
    {
     "data": {
      "text/plain": [
       "1.7917883019719709e-07"
      ]
     },
     "execution_count": 12,
     "metadata": {},
     "output_type": "execute_result"
    }
   ],
   "source": [
    "network = buildNetwork(dataset.indim, 6, 6, dataset.outdim, bias=True)\n",
    "trainer = BackpropTrainer(network, dataset, learningrate=0.01, momentum=0.9)\n",
    "for i in range(1000):\n",
    "    trainer.train()\n",
    "\n",
    "trainer.testOnData(test, verbose=True)"
   ]
  },
  {
   "cell_type": "code",
   "execution_count": 14,
   "metadata": {},
   "outputs": [
    {
     "name": "stdout",
     "output_type": "stream",
     "text": [
      "\nTesting on data:\n('out:    ', '[-0.002]')\n('correct:', '[0     ]')\nerror:  0.00000156\n('out:    ', '[1     ]')\n('correct:', '[1     ]')\nerror:  0.00000002\n('out:    ', '[1.004 ]')\n('correct:', '[1     ]')\nerror:  0.00000728\n('out:    ', '[0.001 ]')\n('correct:', '[0     ]')\nerror:  0.00000014\n('out:    ', '[1     ]')\n('correct:', '[1     ]')\nerror:  0.00000005\n('out:    ', '[0.002 ]')\n('correct:', '[0     ]')\nerror:  0.00000295\n('out:    ', '[0.001 ]')\n('correct:', '[0     ]')\nerror:  0.00000021\n('out:    ', '[0.996 ]')\n('correct:', '[1     ]')\nerror:  0.00000647\n('All errors:', [1.5618258225452515e-06, 2.2147215612306024e-08, 7.2791211201855187e-06, 1.3854358041973901e-07, 5.2937787155503532e-08, 2.9504711598805874e-06, 2.0607339388175949e-07, 6.4697587337618735e-06])\n('Average error:', 2.3351098516803171e-06)\n('Max error:', 7.2791211201855187e-06, 'Median error:', 1.5618258225452515e-06)\n"
     ]
    },
    {
     "data": {
      "text/plain": [
       "2.3351098516803171e-06"
      ]
     },
     "execution_count": 14,
     "metadata": {},
     "output_type": "execute_result"
    }
   ],
   "source": [
    "network = buildNetwork(dataset.indim, 6, 6, dataset.outdim, bias=True)\n",
    "trainer = BackpropTrainer(network, dataset, learningrate=0.01, momentum=0.9)\n",
    "for i in range(1500):\n",
    "    trainer.train()\n",
    "\n",
    "trainer.testOnData(test, verbose=True)"
   ]
  },
  {
   "cell_type": "code",
   "execution_count": 15,
   "metadata": {},
   "outputs": [
    {
     "name": "stdout",
     "output_type": "stream",
     "text": [
      "\nTesting on data:\n('out:    ', '[0.416 ]')\n('correct:', '[0     ]')\nerror:  0.08654100\n('out:    ', '[0.541 ]')\n('correct:', '[1     ]')\nerror:  0.10551849\n('out:    ', '[0.556 ]')\n('correct:', '[1     ]')\nerror:  0.09838733\n('out:    ', '[0.588 ]')\n('correct:', '[0     ]')\nerror:  0.17289808\n('out:    ', '[0.529 ]')\n('correct:', '[1     ]')\nerror:  0.11108029\n('out:    ', '[0.564 ]')\n('correct:', '[0     ]')\nerror:  0.15886515\n('out:    ', '[0.592 ]')\n('correct:', '[0     ]')\nerror:  0.17496989\n('out:    ', '[0.597 ]')\n('correct:', '[1     ]')\nerror:  0.08137148\n('All errors:', [0.086541002052249197, 0.10551848614583829, 0.098387326211023862, 0.17289807836676424, 0.1110802947954846, 0.1588651536980914, 0.17496988608135541, 0.081371483095514341])\n('Average error:', 0.12370396380579017)\n('Max error:', 0.17496988608135541, 'Median error:', 0.1110802947954846)\n"
     ]
    },
    {
     "data": {
      "text/plain": [
       "0.12370396380579017"
      ]
     },
     "execution_count": 15,
     "metadata": {},
     "output_type": "execute_result"
    }
   ],
   "source": [
    "network = buildNetwork(dataset.indim, 2, dataset.outdim, bias=True)\n",
    "trainer = BackpropTrainer(network, dataset, learningrate=0.01, momentum=0.9)\n",
    "for i in range(1500):\n",
    "    trainer.train()\n",
    "\n",
    "trainer.testOnData(test, verbose=True)"
   ]
  },
  {
   "cell_type": "code",
   "execution_count": 18,
   "metadata": {},
   "outputs": [
    {
     "name": "stdout",
     "output_type": "stream",
     "text": [
      "\nTesting on data:\n('out:    ', '[0     ]')\n('correct:', '[0     ]')\nerror:  0.00000000\n('out:    ', '[1     ]')\n('correct:', '[1     ]')\nerror:  0.00000000\n('out:    ', '[1     ]')\n('correct:', '[1     ]')\nerror:  0.00000000\n('out:    ', '[0     ]')\n('correct:', '[0     ]')\nerror:  0.00000000\n('out:    ', '[1     ]')\n('correct:', '[1     ]')\nerror:  0.00000000\n('out:    ', '[-0    ]')\n('correct:', '[0     ]')\nerror:  0.00000000\n('out:    ', '[0     ]')\n('correct:', '[0     ]')\nerror:  0.00000000\n('out:    ', '[1     ]')\n('correct:', '[1     ]')\nerror:  0.00000000\n('All errors:', [3.8810568240288205e-23, 1.557552845906057e-23, 7.1464905320669282e-23, 1.5905674266726066e-23, 6.7375383236219e-24, 5.2591196058280683e-24, 1.1559171843062952e-23, 1.2280435355923189e-24])\n('Average error:', 2.081756869935617e-23)\n('Max error:', 7.1464905320669282e-23, 'Median error:', 1.557552845906057e-23)\n"
     ]
    },
    {
     "data": {
      "text/plain": [
       "2.081756869935617e-23"
      ]
     },
     "execution_count": 18,
     "metadata": {},
     "output_type": "execute_result"
    }
   ],
   "source": [
    "network = buildNetwork(dataset.indim, 12, dataset.outdim, bias=True)\n",
    "trainer = BackpropTrainer(network, dataset, learningrate=0.01, momentum=0.9)\n",
    "for i in range(1500):\n",
    "    trainer.train()\n",
    "\n",
    "trainer.testOnData(test, verbose=True)"
   ]
  },
  {
   "cell_type": "code",
   "execution_count": 21,
   "metadata": {},
   "outputs": [
    {
     "name": "stdout",
     "output_type": "stream",
     "text": [
      "\nTesting on data:\n('out:    ', '[0     ]')\n('correct:', '[0     ]')\nerror:  0.00000000\n('out:    ', '[1     ]')\n('correct:', '[1     ]')\nerror:  0.00000000\n('out:    ', '[1     ]')\n('correct:', '[1     ]')\nerror:  0.00000000\n('out:    ', '[0     ]')\n('correct:', '[0     ]')\nerror:  0.00000000\n('out:    ', '[1     ]')\n('correct:', '[1     ]')\nerror:  0.00000000\n('out:    ', '[0     ]')\n('correct:', '[0     ]')\nerror:  0.00000000\n('out:    ', '[0     ]')\n('correct:', '[0     ]')\nerror:  0.00000000\n('out:    ', '[1     ]')\n('correct:', '[1     ]')\nerror:  0.00000000\n('All errors:', [7.1070245809121584e-25, 1.6876871101073278e-25, 1.6160139138053326e-24, 2.0174074837962654e-24, 5.2050090232372106e-27, 1.5145862455982784e-25, 1.4047781125053474e-24, 2.5899905892119548e-28])\n('Average error:', 7.5932416398136003e-25)\n('Max error:', 2.0174074837962654e-24, 'Median error:', 7.1070245809121584e-25)\n"
     ]
    },
    {
     "data": {
      "text/plain": [
       "7.5932416398136003e-25"
      ]
     },
     "execution_count": 21,
     "metadata": {},
     "output_type": "execute_result"
    }
   ],
   "source": [
    "network = buildNetwork(dataset.indim, 8, dataset.outdim, bias=True)\n",
    "trainer = BackpropTrainer(network, dataset, learningrate=0.01, momentum=0.9)\n",
    "for i in range(1500):\n",
    "    trainer.train()\n",
    "\n",
    "trainer.testOnData(test, verbose=True)"
   ]
  },
  {
   "cell_type": "code",
   "execution_count": 23,
   "metadata": {},
   "outputs": [
    {
     "name": "stdout",
     "output_type": "stream",
     "text": [
      "\nTesting on data:\n('out:    ', '[0     ]')\n('correct:', '[0     ]')\nerror:  0.00000000\n('out:    ', '[1     ]')\n('correct:', '[1     ]')\nerror:  0.00000000\n('out:    ', '[1     ]')\n('correct:', '[1     ]')\nerror:  0.00000000\n('out:    ', '[0     ]')\n('correct:', '[0     ]')\nerror:  0.00000000\n('out:    ', '[1     ]')\n('correct:', '[1     ]')\nerror:  0.00000000\n('out:    ', '[0     ]')\n('correct:', '[0     ]')\nerror:  0.00000000\n('out:    ', '[0     ]')\n('correct:', '[0     ]')\nerror:  0.00000000\n('out:    ', '[1     ]')\n('correct:', '[1     ]')\nerror:  0.00000000\n('All errors:', [7.1925899844483052e-22, 1.6302161649495032e-24, 1.523430414090786e-22, 1.9820453522959853e-23, 3.9572492164244346e-22, 8.989872782075814e-23, 6.5901998709826808e-22, 4.8322342224246508e-23])\n('Average error:', 2.6075233604094183e-22)\n('Max error:', 7.1925899844483052e-22, 'Median error:', 1.523430414090786e-22)\n"
     ]
    },
    {
     "data": {
      "text/plain": [
       "2.6075233604094183e-22"
      ]
     },
     "execution_count": 22,
     "metadata": {},
     "output_type": "execute_result"
    }
   ],
   "source": [
    "network = buildNetwork(dataset.indim, 6, dataset.outdim, bias=True)\n",
    "trainer = BackpropTrainer(network, dataset, learningrate=0.01, momentum=0.9)\n",
    "for i in range(1500):\n",
    "    trainer.train()\n",
    "\n",
    "trainer.testOnData(test, verbose=True)"
   ]
  },
  {
   "cell_type": "code",
   "execution_count": 24,
   "metadata": {},
   "outputs": [
    {
     "name": "stdout",
     "output_type": "stream",
     "text": [
      "\nTesting on data:\n('out:    ', '[0     ]')\n('correct:', '[0     ]')\nerror:  0.00000000\n('out:    ', '[1     ]')\n('correct:', '[1     ]')\nerror:  0.00000000\n('out:    ', '[1     ]')\n('correct:', '[1     ]')\nerror:  0.00000000\n('out:    ', '[0     ]')\n('correct:', '[0     ]')\nerror:  0.00000000\n('out:    ', '[1     ]')\n('correct:', '[1     ]')\nerror:  0.00000000\n('out:    ', '[0     ]')\n('correct:', '[0     ]')\nerror:  0.00000000\n('out:    ', '[0     ]')\n('correct:', '[0     ]')\nerror:  0.00000000\n('out:    ', '[1     ]')\n('correct:', '[1     ]')\nerror:  0.00000000\n('All errors:', [5.3317893435724109e-19, 1.4638142732091732e-18, 6.9361540570628971e-19, 2.4459404762701153e-19, 1.095002685887278e-18, 6.3772690445077168e-19, 6.5680107353075086e-20, 1.6972766166524467e-19])\n('Average error:', 6.1291750253201062e-19)\n('Max error:', 1.4638142732091732e-18, 'Median error:', 6.3772690445077168e-19)\n"
     ]
    },
    {
     "data": {
      "text/plain": [
       "6.1291750253201062e-19"
      ]
     },
     "execution_count": 24,
     "metadata": {},
     "output_type": "execute_result"
    }
   ],
   "source": [
    "network = buildNetwork(dataset.indim, 4, dataset.outdim, bias=True)\n",
    "trainer = BackpropTrainer(network, dataset, learningrate=0.01, momentum=0.9)\n",
    "for i in range(1500):\n",
    "    trainer.train()\n",
    "\n",
    "trainer.testOnData(test, verbose=True)"
   ]
  },
  {
   "cell_type": "code",
   "execution_count": null,
   "metadata": {},
   "outputs": [],
   "source": []
  }
 ],
 "metadata": {
  "kernelspec": {
   "display_name": "Python 2",
   "language": "python",
   "name": "python2"
  },
  "language_info": {
   "codemirror_mode": {
    "name": "ipython",
    "version": 2
   },
   "file_extension": ".py",
   "mimetype": "text/x-python",
   "name": "python",
   "nbconvert_exporter": "python",
   "pygments_lexer": "ipython2",
   "version": "2.7.6"
  }
 },
 "nbformat": 4,
 "nbformat_minor": 0
}
