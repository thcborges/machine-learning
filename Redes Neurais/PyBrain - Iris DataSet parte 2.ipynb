{
 "cells": [
  {
   "cell_type": "code",
   "execution_count": 1,
   "metadata": {
    "collapsed": true
   },
   "outputs": [],
   "source": [
    "from sklearn import datasets\n",
    "from pybrain.datasets.classification import ClassificationDataSet\n",
    "from pybrain.tools.shortcuts import buildNetwork\n",
    "from pybrain.supervised.trainers import BackpropTrainer"
   ]
  },
  {
   "cell_type": "code",
   "execution_count": 3,
   "metadata": {},
   "outputs": [
    {
     "name": "stdout",
     "output_type": "stream",
     "text": [
      "90\n30\n30\n"
     ]
    }
   ],
   "source": [
    "iris = datasets.load_iris()\n",
    "x, y = iris.data, iris.target\n",
    "\n",
    "dataset = ClassificationDataSet(4, 1, nb_classes=3)\n",
    "for i in range(len(x)):\n",
    "    dataset.addSample(x[i], y[i])\n",
    "\n",
    "\n",
    "train_data_temp, part_data_temp = dataset.splitWithProportion(0.6)\n",
    "test_data_temp, val_data_temp = part_data_temp.splitWithProportion(0.5)\n",
    "\n",
    "train_data = ClassificationDataSet(4, 1, nb_classes=3)\n",
    "for n in range(train_data_temp.getLength()):\n",
    "    train_data.addSample(train_data_temp.getSample(n)[0], train_data_temp.getSample(n)[1])\n",
    "\n",
    "test_data = ClassificationDataSet(4, 1, nb_classes=3)\n",
    "for n in range(test_data_temp.getLength()):\n",
    "    test_data.addSample(test_data_temp.getSample(n)[0], test_data_temp.getSample(n)[1])\n",
    "\n",
    "val_data = ClassificationDataSet(4, 1, nb_classes=3)\n",
    "for n in range(val_data_temp.getLength()):\n",
    "    val_data.addSample(val_data_temp.getSample(n)[0], val_data_temp.getSample(n)[1])\n",
    "\n",
    "\n",
    "print(len(train_data))\n",
    "print(len(test_data))\n",
    "print(len(val_data))"
   ]
  },
  {
   "cell_type": "code",
   "execution_count": 4,
   "metadata": {},
   "outputs": [
    {
     "name": "stdout",
     "output_type": "stream",
     "text": [
      "Antes do _convertToOneOfMany\n[[1]\n [2]\n [2]\n [1]\n [1]]\nDepois do _convertToOneOfMany\n[[0 1 0]\n [0 0 1]\n [0 0 1]\n [0 1 0]\n [0 1 0]]\n"
     ]
    }
   ],
   "source": [
    "print('Antes do _convertToOneOfMany')\n",
    "print(train_data['target'][:5])\n",
    "\n",
    "train_data._convertToOneOfMany()\n",
    "test_data._convertToOneOfMany()\n",
    "val_data._convertToOneOfMany()\n",
    "\n",
    "print('Depois do _convertToOneOfMany')\n",
    "print(train_data['target'][:5])\n",
    "\n",
    "print('----------------------------------')"
   ]
  },
  {
   "cell_type": "code",
   "execution_count": 19,
   "metadata": {},
   "outputs": [],
   "source": [
    "from pybrain.structure.modules import SoftmaxLayer\n",
    "\n",
    "net = buildNetwork(train_data.indim, 5, train_data.outdim, outclass=SoftmaxLayer)\n",
    "trainer = BackpropTrainer(net, dataset=train_data, learningrate=0.01, momentum=0.1)\n",
    "trainer.trainOnDataset(train_data, 500)"
   ]
  },
  {
   "cell_type": "code",
   "execution_count": 20,
   "metadata": {},
   "outputs": [
    {
     "name": "stdout",
     "output_type": "stream",
     "text": [
      "Erro de teste: 6.666666666666667\nErro de validação: 3.3333333333333335\n-------------------------------------------------------------\nTeste\nSaída da rede:\t [0 2 1 1 1 2 0 2 2 0 2 1 2 1 1 2 2 0 0 0 1 0 2 1 1 0 1 1 1 1]\ncorreto:\t [0 2 1 1 1 2 0 1 2 0 2 1 2 1 1 1 2 0 0 0 1 0 2 1 1 0 1 1 1 1]\n-------------------------------------------------------------\nValidação\nSaída da rede:\t [0 0 2 2 0 1 2 1 2 2 2 1 2 0 2 2 2 1 0 0 0 2 2 2 0 1 0 2 0 0]\ncorreto:\t [0 0 2 1 0 1 2 1 2 2 2 1 2 0 2 2 2 1 0 0 0 2 2 2 0 1 0 2 0 0]\n"
     ]
    }
   ],
   "source": [
    "from pybrain.utilities import percentError\n",
    "\n",
    "out_test = net.activateOnDataset(test_data).argmax(axis=1)\n",
    "print('Erro de teste: {}'.format(percentError(out_test, test_data['class'])))\n",
    "\n",
    "out_val = net.activateOnDataset(val_data).argmax(axis=1)\n",
    "print('Erro de validação: {}'.format(percentError(out_val, val_data['class'])))\n",
    "\n",
    "print('-------------------------------------------------------------')\n",
    "\n",
    "print('Teste')\n",
    "print('Saída da rede:\\t', out_test)\n",
    "print('correto:\\t', test_data['class'][:, 0])\n",
    "\n",
    "print('-------------------------------------------------------------')\n",
    "\n",
    "print('Validação')\n",
    "print('Saída da rede:\\t', out_val)\n",
    "print('correto:\\t', val_data['class'][:, 0])"
   ]
  },
  {
   "cell_type": "code",
   "execution_count": 7,
   "metadata": {},
   "outputs": [
    {
     "name": "stdout",
     "output_type": "stream",
     "text": [
      "Erro de validação: 0.0\n"
     ]
    }
   ],
   "source": [
    "import numpy as np\n",
    "\n",
    "out_val = net.activateOnDataset(val_data).argmax(axis=1)\n",
    "print('Erro de validação: {}'.format(percentError(out_val, val_data['class'])))"
   ]
  },
  {
   "cell_type": "code",
   "execution_count": null,
   "metadata": {},
   "outputs": [],
   "source": []
  }
 ],
 "metadata": {
  "kernelspec": {
   "display_name": "Python 2",
   "language": "python",
   "name": "python2"
  },
  "language_info": {
   "codemirror_mode": {
    "name": "ipython",
    "version": 2
   },
   "file_extension": ".py",
   "mimetype": "text/x-python",
   "name": "python",
   "nbconvert_exporter": "python",
   "pygments_lexer": "ipython2",
   "version": "2.7.6"
  }
 },
 "nbformat": 4,
 "nbformat_minor": 0
}
