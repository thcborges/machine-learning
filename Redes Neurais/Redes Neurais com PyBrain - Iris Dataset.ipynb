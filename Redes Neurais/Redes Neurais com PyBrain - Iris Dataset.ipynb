{
 "cells": [
  {
   "cell_type": "code",
   "execution_count": 3,
   "metadata": {
    "collapsed": true
   },
   "outputs": [
    {
     "name": "stdout",
     "output_type": "stream",
     "text": [
      "150\n150\n"
     ]
    }
   ],
   "source": [
    "import numpy as np\n",
    "\n",
    "# carregando os dados com numpy\n",
    "entradas = np.genfromtxt('Redes Neurais/iris.data', delimiter=',', usecols=(0, 1, 2, 3))\n",
    "saidas = np.genfromtxt('Redes Neurais/iris.data', delimiter=',', usecols=(4))\n",
    "print(len(entradas))\n",
    "print(len(saidas))"
   ]
  },
  {
   "cell_type": "code",
   "execution_count": 5,
   "metadata": {},
   "outputs": [
    {
     "name": "stdout",
     "output_type": "stream",
     "text": [
      "[[ 5.1  3.5  1.4  0.2]\n [ 4.9  3.   1.4  0.2]\n [ 4.7  3.2  1.3  0.2]\n [ 4.6  3.1  1.5  0.2]\n [ 5.   3.6  1.4  0.2]]\n[ 0.  0.  0.  0.  0.]\n--------------------\n[[ 6.7  3.   5.2  2.3]\n [ 6.3  2.5  5.   1.9]\n [ 6.5  3.   5.2  2. ]\n [ 6.2  3.4  5.4  2.3]\n [ 5.9  3.   5.1  1.8]]\n[ 2.  2.  2.  2.  2.]\n"
     ]
    }
   ],
   "source": [
    "\"\"\"\n",
    "Iris-setosa: 0\n",
    "Iris-versicolor: 1\n",
    "Iris-virginica: 2\n",
    "\"\"\"\n",
    "\n",
    "# mostrando as 5 primeiras amostras qeu são Iris-setosa\n",
    "print(entradas[:5])\n",
    "print(saidas[:5])\n",
    "\n",
    "print('--------------------')\n",
    "\n",
    "# mostrando as 5 ultimas amostras que são de Iris-virginica\n",
    "print(entradas[-5:])\n",
    "print(saidas[-5:])"
   ]
  },
  {
   "cell_type": "code",
   "execution_count": 7,
   "metadata": {},
   "outputs": [
    {
     "name": "stdout",
     "output_type": "stream",
     "text": [
      "105\n105\n"
     ]
    }
   ],
   "source": [
    "# vou utilizar 105 amostras para treino sendo 35 de cada classe\n",
    "entradas_treino = np.concatenate((entradas[:35], entradas[50:85], entradas[100:135]))\n",
    "saidas_treino = np.concatenate((saidas[:35], saidas[50:85], saidas[100:135]))\n",
    "print(len(entradas_treino))\n",
    "print(len(saidas_treino))"
   ]
  },
  {
   "cell_type": "code",
   "execution_count": 9,
   "metadata": {},
   "outputs": [
    {
     "name": "stdout",
     "output_type": "stream",
     "text": [
      "45\n45\n"
     ]
    }
   ],
   "source": [
    "entradas_teste = np.concatenate((entradas[35:50], entradas[85:100], entradas[135:]))\n",
    "saidas_teste = np.concatenate((saidas[35:50], saidas[85:100], saidas[135:]))\n",
    "print(len(entradas_teste))\n",
    "print(len(saidas_teste))"
   ]
  },
  {
   "cell_type": "code",
   "execution_count": 10,
   "metadata": {},
   "outputs": [],
   "source": [
    "from pybrain.datasets import SupervisedDataSet\n",
    "from pybrain.tools.shortcuts import buildNetwork\n",
    "from pybrain.supervised import BackpropTrainer"
   ]
  },
  {
   "cell_type": "code",
   "execution_count": 11,
   "metadata": {},
   "outputs": [
    {
     "name": "stdout",
     "output_type": "stream",
     "text": [
      "105\n4\n1\n"
     ]
    }
   ],
   "source": [
    "treinamento = SupervisedDataSet(4, 1)\n",
    "for i in range(len(entradas_treino)):\n",
    "    treinamento.addSample(entradas_treino[i], saidas_treino[i])\n",
    "\n",
    "print(len(treinamento))\n",
    "print(treinamento.indim)\n",
    "print(treinamento.outdim)"
   ]
  },
  {
   "cell_type": "code",
   "execution_count": 12,
   "metadata": {},
   "outputs": [
    {
     "name": "stdout",
     "output_type": "stream",
     "text": [
      "\nTesting on data:\n('out:    ', '[0.025 ]')\n('correct:', '[0     ]')\nerror:  0.00031659\n('out:    ', '[0.02  ]')\n('correct:', '[0     ]')\nerror:  0.00019593\n('out:    ', '[0.032 ]')\n('correct:', '[0     ]')\nerror:  0.00052809\n('out:    ', '[0.038 ]')\n('correct:', '[0     ]')\nerror:  0.00071915\n('out:    ', '[0.028 ]')\n('correct:', '[0     ]')\nerror:  0.00039870\n('out:    ', '[0.026 ]')\n('correct:', '[0     ]')\nerror:  0.00032901\n('out:    ', '[0.069 ]')\n('correct:', '[0     ]')\nerror:  0.00240319\n('out:    ', '[0.033 ]')\n('correct:', '[0     ]')\nerror:  0.00053908\n('out:    ', '[0.05  ]')\n('correct:', '[0     ]')\nerror:  0.00125148\n('out:    ', '[0.038 ]')\n('correct:', '[0     ]')\nerror:  0.00073002\n('out:    ', '[0.043 ]')\n('correct:', '[0     ]')\nerror:  0.00092532\n('out:    ', '[0.023 ]')\n('correct:', '[0     ]')\nerror:  0.00026352\n('out:    ', '[0.034 ]')\n('correct:', '[0     ]')\nerror:  0.00058448\n('out:    ', '[0.022 ]')\n('correct:', '[0     ]')\nerror:  0.00023259\n('out:    ', '[0.028 ]')\n('correct:', '[0     ]')\nerror:  0.00040518\n('out:    ', '[1.216 ]')\n('correct:', '[1     ]')\nerror:  0.02342939\n('out:    ', '[1.277 ]')\n('correct:', '[1     ]')\nerror:  0.03823072\n('out:    ', '[1.426 ]')\n('correct:', '[1     ]')\nerror:  0.09062993\n('out:    ', '[1.029 ]')\n('correct:', '[1     ]')\nerror:  0.00042605\n('out:    ', '[1.25  ]')\n('correct:', '[1     ]')\nerror:  0.03123310\n('out:    ', '[1.329 ]')\n('correct:', '[1     ]')\nerror:  0.05405769\n('out:    ', '[1.294 ]')\n('correct:', '[1     ]')\nerror:  0.04310474\n('out:    ', '[1.065 ]')\n('correct:', '[1     ]')\nerror:  0.00212444\n('out:    ', '[0.823 ]')\n('correct:', '[1     ]')\nerror:  0.01571199\n('out:    ', '[1.237 ]')\n('correct:', '[1     ]')\nerror:  0.02811731\n('out:    ', '[0.984 ]')\n('correct:', '[1     ]')\nerror:  0.00013138\n('out:    ', '[1.117 ]')\n('correct:', '[1     ]')\nerror:  0.00685874\n('out:    ', '[1.086 ]')\n('correct:', '[1     ]')\nerror:  0.00368063\n('out:    ', '[0.65  ]')\n('correct:', '[1     ]')\nerror:  0.06135685\n('out:    ', '[1.115 ]')\n('correct:', '[1     ]')\nerror:  0.00662836\n('out:    ', '[2.105 ]')\n('correct:', '[2     ]')\nerror:  0.00556414\n('out:    ', '[2.058 ]')\n('correct:', '[2     ]')\nerror:  0.00167395\n('out:    ', '[1.869 ]')\n('correct:', '[2     ]')\nerror:  0.00862761\n('out:    ', '[1.697 ]')\n('correct:', '[2     ]')\nerror:  0.04600907\n('out:    ', '[1.929 ]')\n('correct:', '[2     ]')\nerror:  0.00252632\n('out:    ', '[2.086 ]')\n('correct:', '[2     ]')\nerror:  0.00370419\n('out:    ', '[1.931 ]')\n('correct:', '[2     ]')\nerror:  0.00236482\n('out:    ', '[1.962 ]')\n('correct:', '[2     ]')\nerror:  0.00071149\n('out:    ', '[2.089 ]')\n('correct:', '[2     ]')\nerror:  0.00395512\n('out:    ', '[2.096 ]')\n('correct:', '[2     ]')\nerror:  0.00459293\n('out:    ', '[1.997 ]')\n('correct:', '[2     ]')\nerror:  0.00000535\n('out:    ', '[1.945 ]')\n('correct:', '[2     ]')\nerror:  0.00150533\n('out:    ', '[1.891 ]')\n('correct:', '[2     ]')\nerror:  0.00592711\n('out:    ', '[1.99  ]')\n('correct:', '[2     ]')\nerror:  0.00004557\n('out:    ', '[1.821 ]')\n('correct:', '[2     ]')\nerror:  0.01602450\n('All errors:', [0.00031659130686309707, 0.00019592580985797929, 0.00052808630471568615, 0.00071915456633179044, 0.00039869965557987725, 0.00032900699321731077, 0.0024031924284779148, 0.00053908233415944889, 0.0012514796551715639, 0.00073002457805007397, 0.00092531665636511474, 0.00026352352172597253, 0.00058447790004974428, 0.00023259262403245307, 0.00040518060955485748, 0.023429389378779648, 0.038230719070010542, 0.090629929081900359, 0.00042604768675080665, 0.031233101743382525, 0.054057694344017845, 0.043104739915172385, 0.0021244442955889865, 0.01571198561292881, 0.028117312030677862, 0.00013137870525072268, 0.0068587362488351095, 0.0036806296764116506, 0.06135685112610733, 0.0066283557981301052, 0.0055641390633305535, 0.0016739509136596135, 0.0086276060080211214, 0.046009073020866147, 0.0025263160231907343, 0.0037041912205103408, 0.0023648218983769978, 0.00071149095623965696, 0.0039551213361959546, 0.0045929286816828495, 5.3493722164301792e-06, 0.0015053320355543334, 0.005927112868724045, 4.557178108145568e-05, 0.016024499771106648])\n('Average error:', 0.011528470102418987)\n('Max error:', 0.090629929081900359, 'Median error:', 0.0023648218983769978)\n"
     ]
    },
    {
     "data": {
      "text/plain": [
       "0.011528470102418987"
      ]
     },
     "execution_count": 12,
     "metadata": {},
     "output_type": "execute_result"
    }
   ],
   "source": [
    "# construindo a rede\n",
    "rede = buildNetwork(treinamento.indim, 2, treinamento.outdim, bias=True)\n",
    "trainer = BackpropTrainer(rede, treinamento, learningrate=0.01, momentum=0.3)\n",
    "\n",
    "# treinando a rede\n",
    "for epoca in range(1000):\n",
    "    trainer.train()\n",
    "\n",
    "# testando a rede\n",
    "teste = SupervisedDataSet(4, 1)\n",
    "for i in range(len(entradas_teste)):\n",
    "    teste.addSample(entradas_teste[i], saidas_teste[i])\n",
    "trainer.testOnData(teste, verbose=True)"
   ]
  },
  {
   "cell_type": "code",
   "execution_count": 13,
   "metadata": {},
   "outputs": [
    {
     "name": "stdout",
     "output_type": "stream",
     "text": [
      "\nTesting on data:\n('out:    ', '[0.014 ]')\n('correct:', '[0     ]')\nerror:  0.00009394\n('out:    ', '[0.01  ]')\n('correct:', '[0     ]')\nerror:  0.00004524\n('out:    ', '[0.019 ]')\n('correct:', '[0     ]')\nerror:  0.00017769\n('out:    ', '[0.023 ]')\n('correct:', '[0     ]')\nerror:  0.00025836\n('out:    ', '[0.015 ]')\n('correct:', '[0     ]')\nerror:  0.00011381\n('out:    ', '[0.013 ]')\n('correct:', '[0     ]')\nerror:  0.00008508\n('out:    ', '[0.057 ]')\n('correct:', '[0     ]')\nerror:  0.00162470\n('out:    ', '[0.018 ]')\n('correct:', '[0     ]')\nerror:  0.00015976\n('out:    ', '[0.03  ]')\n('correct:', '[0     ]')\nerror:  0.00046049\n('out:    ', '[0.021 ]')\n('correct:', '[0     ]')\nerror:  0.00021676\n('out:    ', '[0.027 ]')\n('correct:', '[0     ]')\nerror:  0.00037288\n('out:    ', '[0.011 ]')\n('correct:', '[0     ]')\nerror:  0.00005705\n('out:    ', '[0.019 ]')\n('correct:', '[0     ]')\nerror:  0.00018759\n('out:    ', '[0.01  ]')\n('correct:', '[0     ]')\nerror:  0.00005086\n('out:    ', '[0.016 ]')\n('correct:', '[0     ]')\nerror:  0.00012046\n('out:    ', '[1.042 ]')\n('correct:', '[1     ]')\nerror:  0.00087830\n('out:    ', '[1.105 ]')\n('correct:', '[1     ]')\nerror:  0.00553583\n('out:    ', '[1.299 ]')\n('correct:', '[1     ]')\nerror:  0.04469962\n('out:    ', '[0.874 ]')\n('correct:', '[1     ]')\nerror:  0.00798093\n('out:    ', '[1.121 ]')\n('correct:', '[1     ]')\nerror:  0.00730576\n('out:    ', '[1.186 ]')\n('correct:', '[1     ]')\nerror:  0.01725865\n('out:    ', '[1.13  ]')\n('correct:', '[1     ]')\nerror:  0.00843209\n('out:    ', '[0.925 ]')\n('correct:', '[1     ]')\nerror:  0.00284173\n('out:    ', '[0.713 ]')\n('correct:', '[1     ]')\nerror:  0.04104853\n('out:    ', '[1.094 ]')\n('correct:', '[1     ]')\nerror:  0.00438788\n('out:    ', '[0.824 ]')\n('correct:', '[1     ]')\nerror:  0.01554554\n('out:    ', '[0.963 ]')\n('correct:', '[1     ]')\nerror:  0.00070093\n('out:    ', '[0.926 ]')\n('correct:', '[1     ]')\nerror:  0.00271550\n('out:    ', '[0.549 ]')\n('correct:', '[1     ]')\nerror:  0.10165650\n('out:    ', '[0.967 ]')\n('correct:', '[1     ]')\nerror:  0.00053927\n('out:    ', '[2.015 ]')\n('correct:', '[2     ]')\nerror:  0.00011039\n('out:    ', '[1.962 ]')\n('correct:', '[2     ]')\nerror:  0.00071248\n('out:    ', '[1.745 ]')\n('correct:', '[2     ]')\nerror:  0.03260764\n('out:    ', '[1.569 ]')\n('correct:', '[2     ]')\nerror:  0.09285365\n('out:    ', '[1.818 ]')\n('correct:', '[2     ]')\nerror:  0.01649896\n('out:    ', '[1.998 ]')\n('correct:', '[2     ]')\nerror:  0.00000209\n('out:    ', '[1.828 ]')\n('correct:', '[2     ]')\nerror:  0.01475057\n('out:    ', '[1.869 ]')\n('correct:', '[2     ]')\nerror:  0.00860705\n('out:    ', '[1.996 ]')\n('correct:', '[2     ]')\nerror:  0.00000703\n('out:    ', '[2.006 ]')\n('correct:', '[2     ]')\nerror:  0.00001987\n('out:    ', '[1.903 ]')\n('correct:', '[2     ]')\nerror:  0.00473153\n('out:    ', '[1.854 ]')\n('correct:', '[2     ]')\nerror:  0.01059794\n('out:    ', '[1.781 ]')\n('correct:', '[2     ]')\nerror:  0.02406110\n('out:    ', '[1.886 ]')\n('correct:', '[2     ]')\nerror:  0.00644379\n('out:    ', '[1.702 ]')\n('correct:', '[2     ]')\nerror:  0.04442654\n('All errors:', [9.3942731589874282e-05, 4.5236612748365629e-05, 0.0001776877551770247, 0.00025836205551716356, 0.00011380890205120769, 8.5077133093766055e-05, 0.0016247038235005476, 0.0001597581065143179, 0.00046048643922413544, 0.00021676331426059668, 0.00037288059841305589, 5.7054677163036283e-05, 0.0001875865311333638, 5.085554210628405e-05, 0.00012045605726570449, 0.00087829941657844007, 0.0055358332708810203, 0.044699619805719459, 0.0079809313777092512, 0.0073057559684165689, 0.017258651323547699, 0.0084320897724132499, 0.0028417287227948465, 0.041048533815756835, 0.0043878790870305459, 0.015545544847522885, 0.00070092965944076088, 0.0027155038853130657, 0.10165649801401501, 0.00053927491533211757, 0.00011038538670644995, 0.00071248072936572486, 0.032607643506064002, 0.092853653920458537, 0.016498957671434077, 2.0939711422148757e-06, 0.014750569147422954, 0.0086070489448457736, 7.0348994753002191e-06, 1.9872669781741261e-05, 0.0047315274185889293, 0.010597943297595383, 0.024061096392606823, 0.0064437884043671489, 0.044426544501649838])\n('Average error:', 0.011599608333860778)\n('Max error:', 0.10165649801401501, 'Median error:', 0.0016247038235005476)\n"
     ]
    },
    {
     "data": {
      "text/plain": [
       "0.011599608333860778"
      ]
     },
     "execution_count": 13,
     "metadata": {},
     "output_type": "execute_result"
    }
   ],
   "source": [
    "rede = buildNetwork(treinamento.indim, 2, treinamento.outdim, bias=True)\n",
    "trainer = BackpropTrainer(rede, treinamento, learningrate=0.01, momentum=0.5)\n",
    "\n",
    "# treinando a rede\n",
    "for epoca in range(1000):\n",
    "    trainer.train()\n",
    "\n",
    "# testando a rede\n",
    "teste = SupervisedDataSet(4, 1)\n",
    "for i in range(len(entradas_teste)):\n",
    "    teste.addSample(entradas_teste[i], saidas_teste[i])\n",
    "trainer.testOnData(teste, verbose=True)"
   ]
  },
  {
   "cell_type": "code",
   "execution_count": 16,
   "metadata": {},
   "outputs": [
    {
     "name": "stdout",
     "output_type": "stream",
     "text": [
      "\nTesting on data:\n('out:    ', '[0.031 ]')\n('correct:', '[0     ]')\nerror:  0.00049311\n('out:    ', '[0.024 ]')\n('correct:', '[0     ]')\nerror:  0.00028808\n('out:    ', '[0.039 ]')\n('correct:', '[0     ]')\nerror:  0.00075926\n('out:    ', '[0.046 ]')\n('correct:', '[0     ]')\nerror:  0.00107605\n('out:    ', '[0.033 ]')\n('correct:', '[0     ]')\nerror:  0.00055671\n('out:    ', '[0.031 ]')\n('correct:', '[0     ]')\nerror:  0.00047083\n('out:    ', '[0.089 ]')\n('correct:', '[0     ]')\nerror:  0.00395041\n('out:    ', '[0.04  ]')\n('correct:', '[0     ]')\nerror:  0.00079461\n('out:    ', '[0.057 ]')\n('correct:', '[0     ]')\nerror:  0.00162386\n('out:    ', '[0.044 ]')\n('correct:', '[0     ]')\nerror:  0.00094644\n('out:    ', '[0.051 ]')\n('correct:', '[0     ]')\nerror:  0.00131757\n('out:    ', '[0.027 ]')\n('correct:', '[0     ]')\nerror:  0.00036016\n('out:    ', '[0.041 ]')\n('correct:', '[0     ]')\nerror:  0.00083638\n('out:    ', '[0.025 ]')\n('correct:', '[0     ]')\nerror:  0.00032247\n('out:    ', '[0.034 ]')\n('correct:', '[0     ]')\nerror:  0.00058178\n('out:    ', '[1.197 ]')\n('correct:', '[1     ]')\nerror:  0.01948149\n('out:    ', '[1.256 ]')\n('correct:', '[1     ]')\nerror:  0.03284054\n('out:    ', '[1.398 ]')\n('correct:', '[1     ]')\nerror:  0.07902786\n('out:    ', '[1.011 ]')\n('correct:', '[1     ]')\nerror:  0.00005985\n('out:    ', '[1.223 ]')\n('correct:', '[1     ]')\nerror:  0.02494640\n('out:    ', '[1.298 ]')\n('correct:', '[1     ]')\nerror:  0.04432688\n('out:    ', '[1.269 ]')\n('correct:', '[1     ]')\nerror:  0.03613976\n('out:    ', '[1.045 ]')\n('correct:', '[1     ]')\nerror:  0.00099660\n('out:    ', '[0.809 ]')\n('correct:', '[1     ]')\nerror:  0.01820781\n('out:    ', '[1.211 ]')\n('correct:', '[1     ]')\nerror:  0.02224900\n('out:    ', '[0.966 ]')\n('correct:', '[1     ]')\nerror:  0.00057643\n('out:    ', '[1.096 ]')\n('correct:', '[1     ]')\nerror:  0.00456122\n('out:    ', '[1.067 ]')\n('correct:', '[1     ]')\nerror:  0.00225912\n('out:    ', '[0.647 ]')\n('correct:', '[1     ]')\nerror:  0.06234019\n('out:    ', '[1.094 ]')\n('correct:', '[1     ]')\nerror:  0.00439400\n('out:    ', '[2.11  ]')\n('correct:', '[2     ]')\nerror:  0.00600460\n('out:    ', '[2.057 ]')\n('correct:', '[2     ]')\nerror:  0.00161185\n('out:    ', '[1.851 ]')\n('correct:', '[2     ]')\nerror:  0.01111536\n('out:    ', '[1.674 ]')\n('correct:', '[2     ]')\nerror:  0.05319825\n('out:    ', '[1.918 ]')\n('correct:', '[2     ]')\nerror:  0.00333963\n('out:    ', '[2.088 ]')\n('correct:', '[2     ]')\nerror:  0.00385948\n('out:    ', '[1.923 ]')\n('correct:', '[2     ]')\nerror:  0.00297356\n('out:    ', '[1.95  ]')\n('correct:', '[2     ]')\nerror:  0.00126849\n('out:    ', '[2.09  ]')\n('correct:', '[2     ]')\nerror:  0.00408689\n('out:    ', '[2.099 ]')\n('correct:', '[2     ]')\nerror:  0.00490884\n('out:    ', '[1.991 ]')\n('correct:', '[2     ]')\nerror:  0.00003781\n('out:    ', '[1.932 ]')\n('correct:', '[2     ]')\nerror:  0.00228324\n('out:    ', '[1.877 ]')\n('correct:', '[2     ]')\nerror:  0.00756998\n('out:    ', '[1.984 ]')\n('correct:', '[2     ]')\nerror:  0.00013274\n('out:    ', '[1.801 ]')\n('correct:', '[2     ]')\nerror:  0.01989613\n('All errors:', [0.00049311157215241341, 0.00028807819028925255, 0.0007592577112445453, 0.0010760506724323212, 0.00055671461367218711, 0.00047083089373389076, 0.0039504092863919633, 0.00079460865690725475, 0.0016238555111477153, 0.00094643542846547786, 0.0013175706395908403, 0.00036016473134504773, 0.00083638055957538056, 0.00032247079525679552, 0.00058177935876228641, 0.019481491991559543, 0.032840544742543817, 0.079027864039065546, 5.985190970590006e-05, 0.024946399720644885, 0.0443268818776077, 0.036139757865920996, 0.00099659754252679963, 0.018207807814706326, 0.022249001859710828, 0.0005764343169645422, 0.0045612227274945448, 0.0022591229570209431, 0.062340188504735231, 0.0043939979633066013, 0.0060045988179281218, 0.0016118529058590314, 0.011115362972411344, 0.053198248588951565, 0.0033396284013258656, 0.0038594788766528327, 0.0029735569465367405, 0.0012684894674849375, 0.00408688678382595, 0.0049088386313684996, 3.7809375214187299e-05, 0.0022832422230322676, 0.0075699795855048123, 0.00013274329275877019, 0.019896128999021476])\n('Average error:', 0.010868260673830175)\n('Max error:', 0.079027864039065546, 'Median error:', 0.0022832422230322676)\n"
     ]
    },
    {
     "data": {
      "text/plain": [
       "0.010868260673830175"
      ]
     },
     "execution_count": 16,
     "metadata": {},
     "output_type": "execute_result"
    }
   ],
   "source": [
    "rede = buildNetwork(treinamento.indim, 2, treinamento.outdim, bias=True)\n",
    "trainer = BackpropTrainer(rede, treinamento, learningrate=0.005, momentum=0.5)\n",
    "\n",
    "# treinando a rede\n",
    "for epoca in range(2000):\n",
    "    trainer.train()\n",
    "\n",
    "# testando a rede\n",
    "teste = SupervisedDataSet(4, 1)\n",
    "for i in range(len(entradas_teste)):\n",
    "    teste.addSample(entradas_teste[i], saidas_teste[i])\n",
    "trainer.testOnData(teste, verbose=True)"
   ]
  },
  {
   "cell_type": "code",
   "execution_count": 18,
   "metadata": {},
   "outputs": [
    {
     "name": "stdout",
     "output_type": "stream",
     "text": [
      "\nTesting on data:\n('out:    ', '[0.389 ]')\n('correct:', '[0     ]')\nerror:  0.07572183\n('out:    ', '[0.389 ]')\n('correct:', '[0     ]')\nerror:  0.07572183\n('out:    ', '[0.389 ]')\n('correct:', '[0     ]')\nerror:  0.07572183\n('out:    ', '[0.389 ]')\n('correct:', '[0     ]')\nerror:  0.07572183\n('out:    ', '[0.389 ]')\n('correct:', '[0     ]')\nerror:  0.07572183\n('out:    ', '[0.389 ]')\n('correct:', '[0     ]')\nerror:  0.07572183\n('out:    ', '[0.389 ]')\n('correct:', '[0     ]')\nerror:  0.07572183\n('out:    ', '[0.389 ]')\n('correct:', '[0     ]')\nerror:  0.07572183\n('out:    ', '[0.389 ]')\n('correct:', '[0     ]')\nerror:  0.07572183\n('out:    ', '[0.389 ]')\n('correct:', '[0     ]')\nerror:  0.07572183\n('out:    ', '[0.389 ]')\n('correct:', '[0     ]')\nerror:  0.07572183\n('out:    ', '[0.389 ]')\n('correct:', '[0     ]')\nerror:  0.07572183\n('out:    ', '[0.389 ]')\n('correct:', '[0     ]')\nerror:  0.07572183\n('out:    ', '[0.389 ]')\n('correct:', '[0     ]')\nerror:  0.07572183\n('out:    ', '[0.389 ]')\n('correct:', '[0     ]')\nerror:  0.07572183\n('out:    ', '[0.389 ]')\n('correct:', '[1     ]')\nerror:  0.18656420\n('out:    ', '[0.389 ]')\n('correct:', '[1     ]')\nerror:  0.18656420\n('out:    ', '[0.389 ]')\n('correct:', '[1     ]')\nerror:  0.18656420\n('out:    ', '[0.389 ]')\n('correct:', '[1     ]')\nerror:  0.18656420\n('out:    ', '[0.389 ]')\n('correct:', '[1     ]')\nerror:  0.18656420\n('out:    ', '[0.389 ]')\n('correct:', '[1     ]')\nerror:  0.18656420\n('out:    ', '[0.389 ]')\n('correct:', '[1     ]')\nerror:  0.18656420\n('out:    ', '[0.389 ]')\n('correct:', '[1     ]')\nerror:  0.18656420\n('out:    ', '[0.389 ]')\n('correct:', '[1     ]')\nerror:  0.18656420\n('out:    ', '[0.389 ]')\n('correct:', '[1     ]')\nerror:  0.18656420\n('out:    ', '[0.389 ]')\n('correct:', '[1     ]')\nerror:  0.18656420\n('out:    ', '[0.389 ]')\n('correct:', '[1     ]')\nerror:  0.18656420\n('out:    ', '[0.389 ]')\n('correct:', '[1     ]')\nerror:  0.18656420\n('out:    ', '[0.389 ]')\n('correct:', '[1     ]')\nerror:  0.18656420\n('out:    ', '[0.389 ]')\n('correct:', '[1     ]')\nerror:  0.18656420\n('out:    ', '[0.389 ]')\n('correct:', '[2     ]')\nerror:  1.29740657\n('out:    ', '[0.389 ]')\n('correct:', '[2     ]')\nerror:  1.29740657\n('out:    ', '[0.389 ]')\n('correct:', '[2     ]')\nerror:  1.29740657\n('out:    ', '[0.389 ]')\n('correct:', '[2     ]')\nerror:  1.29740657\n('out:    ', '[0.389 ]')\n('correct:', '[2     ]')\nerror:  1.29740657\n('out:    ', '[0.389 ]')\n('correct:', '[2     ]')\nerror:  1.29740657\n('out:    ', '[0.389 ]')\n('correct:', '[2     ]')\nerror:  1.29740657\n('out:    ', '[0.389 ]')\n('correct:', '[2     ]')\nerror:  1.29740657\n('out:    ', '[0.389 ]')\n('correct:', '[2     ]')\nerror:  1.29740657\n('out:    ', '[0.389 ]')\n('correct:', '[2     ]')\nerror:  1.29740657\n('out:    ', '[0.389 ]')\n('correct:', '[2     ]')\nerror:  1.29740657\n('out:    ', '[0.389 ]')\n('correct:', '[2     ]')\nerror:  1.29740657\n('out:    ', '[0.389 ]')\n('correct:', '[2     ]')\nerror:  1.29740657\n('out:    ', '[0.389 ]')\n('correct:', '[2     ]')\nerror:  1.29740657\n('out:    ', '[0.389 ]')\n('correct:', '[2     ]')\nerror:  1.29740657\n('All errors:', [0.075721829855312978, 0.07572182985699813, 0.07572182985608876, 0.07572182984554357, 0.075721829856825795, 0.075721829856371256, 0.075721829844165908, 0.075721829847472805, 0.075721829857029063, 0.075721829857139239, 0.075721829855477221, 0.075721829857009773, 0.075721829853821532, 0.075721829857040276, 0.075721829856386397, 0.18656420149258726, 0.18656420149258726, 0.18656420149258726, 0.18656420149258726, 0.18656420149258726, 0.18656420149258726, 0.18656420149258726, 0.18656420149258726, 0.18656420149258773, 0.18656420149258726, 0.18656420149258726, 0.18656420149258726, 0.18656420149258726, 0.18656420149258801, 0.18656420149258726, 1.2974065731279989, 1.2974065731279989, 1.2974065731279989, 1.2974065731279989, 1.2974065731279989, 1.2974065731279989, 1.2974065731279989, 1.2974065731279989, 1.2974065731279989, 1.2974065731279989, 1.2974065731279989, 1.2974065731279989, 1.2974065731279989, 1.2974065731279989, 1.2974065731279989])\n('Average error:', 0.51989753482492185)\n('Max error:', 1.2974065731279989, 'Median error:', 0.18656420149258726)\n"
     ]
    },
    {
     "data": {
      "text/plain": [
       "0.51989753482492185"
      ]
     },
     "execution_count": 17,
     "metadata": {},
     "output_type": "execute_result"
    }
   ],
   "source": [
    "rede = buildNetwork(treinamento.indim, 2, treinamento.outdim, bias=True)\n",
    "trainer = BackpropTrainer(rede, treinamento, learningrate=0.3, momentum=0.9)\n",
    "\n",
    "# treinando a rede\n",
    "for epoca in range(10000):\n",
    "    trainer.train()\n",
    "\n",
    "# testando a rede\n",
    "teste = SupervisedDataSet(4, 1)\n",
    "for i in range(len(entradas_teste)):\n",
    "    teste.addSample(entradas_teste[i], saidas_teste[i])\n",
    "trainer.testOnData(teste, verbose=True)"
   ]
  },
  {
   "cell_type": "code",
   "execution_count": 20,
   "metadata": {},
   "outputs": [
    {
     "name": "stdout",
     "output_type": "stream",
     "text": [
      "\nTesting on data:\n('out:    ', '[-0.049]')\n('correct:', '[0     ]')\nerror:  0.00121171\n('out:    ', '[-0.082]')\n('correct:', '[0     ]')\nerror:  0.00335299\n('out:    ', '[-0.012]')\n('correct:', '[0     ]')\nerror:  0.00007600\n('out:    ', '[0.027 ]')\n('correct:', '[0     ]')\nerror:  0.00035814\n('out:    ', '[-0.032]')\n('correct:', '[0     ]')\nerror:  0.00052175\n('out:    ', '[-0.041]')\n('correct:', '[0     ]')\nerror:  0.00084817\n('out:    ', '[0.075 ]')\n('correct:', '[0     ]')\nerror:  0.00277864\n('out:    ', '[0.015 ]')\n('correct:', '[0     ]')\nerror:  0.00011885\n('out:    ', '[0.034 ]')\n('correct:', '[0     ]')\nerror:  0.00057533\n('out:    ', '[0.025 ]')\n('correct:', '[0     ]')\nerror:  0.00030818\n('out:    ', '[0.013 ]')\n('correct:', '[0     ]')\nerror:  0.00008251\n('out:    ', '[-0.038]')\n('correct:', '[0     ]')\nerror:  0.00071668\n('out:    ', '[0.01  ]')\n('correct:', '[0     ]')\nerror:  0.00004589\n('out:    ', '[-0.059]')\n('correct:', '[0     ]')\nerror:  0.00172695\n('out:    ', '[-0.031]')\n('correct:', '[0     ]')\nerror:  0.00049525\n('out:    ', '[1.243 ]')\n('correct:', '[1     ]')\nerror:  0.02955069\n('out:    ', '[1.092 ]')\n('correct:', '[1     ]')\nerror:  0.00420479\n('out:    ', '[1.15  ]')\n('correct:', '[1     ]')\nerror:  0.01128797\n('out:    ', '[1.109 ]')\n('correct:', '[1     ]')\nerror:  0.00597923\n('out:    ', '[1.199 ]')\n('correct:', '[1     ]')\nerror:  0.01975160\n('out:    ', '[1.356 ]')\n('correct:', '[1     ]')\nerror:  0.06337627\n('out:    ', '[1.245 ]')\n('correct:', '[1     ]')\nerror:  0.03008904\n('out:    ', '[1.009 ]')\n('correct:', '[1     ]')\nerror:  0.00004130\n('out:    ', '[0.897 ]')\n('correct:', '[1     ]')\nerror:  0.00527125\n('out:    ', '[1.23  ]')\n('correct:', '[1     ]')\nerror:  0.02654900\n('out:    ', '[1.077 ]')\n('correct:', '[1     ]')\nerror:  0.00293701\n('out:    ', '[1.148 ]')\n('correct:', '[1     ]')\nerror:  0.01090742\n('out:    ', '[1.007 ]')\n('correct:', '[1     ]')\nerror:  0.00002331\n('out:    ', '[0.713 ]')\n('correct:', '[1     ]')\nerror:  0.04116421\n('out:    ', '[1.112 ]')\n('correct:', '[1     ]')\nerror:  0.00628012\n('out:    ', '[1.873 ]')\n('correct:', '[2     ]')\nerror:  0.00804821\n('out:    ', '[2.053 ]')\n('correct:', '[2     ]')\nerror:  0.00142075\n('out:    ', '[1.793 ]')\n('correct:', '[2     ]')\nerror:  0.02143557\n('out:    ', '[1.595 ]')\n('correct:', '[2     ]')\nerror:  0.08212944\n('out:    ', '[1.699 ]')\n('correct:', '[2     ]')\nerror:  0.04534592\n('out:    ', '[1.985 ]')\n('correct:', '[2     ]')\nerror:  0.00011926\n('out:    ', '[1.634 ]')\n('correct:', '[2     ]')\nerror:  0.06715210\n('out:    ', '[1.914 ]')\n('correct:', '[2     ]')\nerror:  0.00366694\n('out:    ', '[2.028 ]')\n('correct:', '[2     ]')\nerror:  0.00039501\n('out:    ', '[2.031 ]')\n('correct:', '[2     ]')\nerror:  0.00049502\n('out:    ', '[1.777 ]')\n('correct:', '[2     ]')\nerror:  0.02497367\n('out:    ', '[1.734 ]')\n('correct:', '[2     ]')\nerror:  0.03540703\n('out:    ', '[1.714 ]')\n('correct:', '[2     ]')\nerror:  0.04090193\n('out:    ', '[1.963 ]')\n('correct:', '[2     ]')\nerror:  0.00068379\n('out:    ', '[1.787 ]')\n('correct:', '[2     ]')\nerror:  0.02276870\n('All errors:', [0.0012117052501906015, 0.0033529898804323791, 7.6002272284824091e-05, 0.00035813924577133752, 0.00052175065660083552, 0.00084817167535019753, 0.0027786426112792265, 0.00011884974783606843, 0.0005753305477996059, 0.00030817971156622267, 8.2507493540303123e-05, 0.00071668065823436158, 4.5889155445219882e-05, 0.0017269462250673387, 0.00049525169398781691, 0.029550687587053873, 0.0042047869183620516, 0.011287965412986845, 0.0059792297491691026, 0.019751595560139928, 0.063376268692055801, 0.030089044391392029, 4.1298797417922299e-05, 0.005271254066315627, 0.026549002376912417, 0.0029370112012344291, 0.01090741512270264, 2.3310568752911587e-05, 0.041164205885554042, 0.0062801186076501944, 0.0080482142391011622, 0.0014207517673215158, 0.02143557049385663, 0.082129440753150262, 0.045345921267479078, 0.00011926030249529065, 0.067152097598066729, 0.0036669385017455911, 0.00039500696986013919, 0.00049502371415558876, 0.024973674243874061, 0.03540703103606354, 0.040901930058921433, 0.00068378957287101839, 0.022768699809403669])\n('Average error:', 0.013901635157587819)\n('Max error:', 0.082129440753150262, 'Median error:', 0.0033529898804323791)\n"
     ]
    },
    {
     "data": {
      "text/plain": [
       "0.013901635157587819"
      ]
     },
     "execution_count": 19,
     "metadata": {},
     "output_type": "execute_result"
    }
   ],
   "source": [
    "rede = buildNetwork(treinamento.indim, 2, treinamento.outdim, bias=True)\n",
    "trainer = BackpropTrainer(rede, treinamento, learningrate=0.005, momentum=0.5)\n",
    "\n",
    "# treinando a rede\n",
    "trainer.trainUntilConvergence()\n",
    "\n",
    "# testando a rede\n",
    "teste = SupervisedDataSet(4, 1)\n",
    "for i in range(len(entradas_teste)):\n",
    "    teste.addSample(entradas_teste[i], saidas_teste[i])\n",
    "trainer.testOnData(teste, verbose=True)"
   ]
  },
  {
   "cell_type": "code",
   "execution_count": 21,
   "metadata": {},
   "outputs": [
    {
     "name": "stdout",
     "output_type": "stream",
     "text": [
      "\nTesting on data:\n('out:    ', '[-0.04 ]')\n('correct:', '[0     ]')\nerror:  0.00078093\n('out:    ', '[-0.058]')\n('correct:', '[0     ]')\nerror:  0.00168326\n('out:    ', '[-0.025]')\n('correct:', '[0     ]')\nerror:  0.00030937\n('out:    ', '[0.012 ]')\n('correct:', '[0     ]')\nerror:  0.00006765\n('out:    ', '[-0.015]')\n('correct:', '[0     ]')\nerror:  0.00010724\n('out:    ', '[-0.006]')\n('correct:', '[0     ]')\nerror:  0.00001539\n('out:    ', '[0.024 ]')\n('correct:', '[0     ]')\nerror:  0.00028141\n('out:    ', '[0.014 ]')\n('correct:', '[0     ]')\nerror:  0.00009356\n('out:    ', '[0.115 ]')\n('correct:', '[0     ]')\nerror:  0.00660635\n('out:    ', '[0.092 ]')\n('correct:', '[0     ]')\nerror:  0.00423920\n('out:    ', '[0.016 ]')\n('correct:', '[0     ]')\nerror:  0.00012743\n('out:    ', '[0.001 ]')\n('correct:', '[0     ]')\nerror:  0.00000013\n('out:    ', '[0.01  ]')\n('correct:', '[0     ]')\nerror:  0.00004574\n('out:    ', '[-0.025]')\n('correct:', '[0     ]')\nerror:  0.00032258\n('out:    ', '[-0.019]')\n('correct:', '[0     ]')\nerror:  0.00018029\n('out:    ', '[1.054 ]')\n('correct:', '[1     ]')\nerror:  0.00143963\n('out:    ', '[1.063 ]')\n('correct:', '[1     ]')\nerror:  0.00201268\n('out:    ', '[1.226 ]')\n('correct:', '[1     ]')\nerror:  0.02548288\n('out:    ', '[0.929 ]')\n('correct:', '[1     ]')\nerror:  0.00249492\n('out:    ', '[1.107 ]')\n('correct:', '[1     ]')\nerror:  0.00567410\n('out:    ', '[1.187 ]')\n('correct:', '[1     ]')\nerror:  0.01746055\n('out:    ', '[1.115 ]')\n('correct:', '[1     ]')\nerror:  0.00659285\n('out:    ', '[0.923 ]')\n('correct:', '[1     ]')\nerror:  0.00293470\n('out:    ', '[0.75  ]')\n('correct:', '[1     ]')\nerror:  0.03120329\n('out:    ', '[1.092 ]')\n('correct:', '[1     ]')\nerror:  0.00425365\n('out:    ', '[0.889 ]')\n('correct:', '[1     ]')\nerror:  0.00614913\n('out:    ', '[0.988 ]')\n('correct:', '[1     ]')\nerror:  0.00007633\n('out:    ', '[0.931 ]')\n('correct:', '[1     ]')\nerror:  0.00235517\n('out:    ', '[0.636 ]')\n('correct:', '[1     ]')\nerror:  0.06624188\n('out:    ', '[0.982 ]')\n('correct:', '[1     ]')\nerror:  0.00015560\n('out:    ', '[1.99  ]')\n('correct:', '[2     ]')\nerror:  0.00004631\n('out:    ', '[1.943 ]')\n('correct:', '[2     ]')\nerror:  0.00163581\n('out:    ', '[1.72  ]')\n('correct:', '[2     ]')\nerror:  0.03920246\n('out:    ', '[1.527 ]')\n('correct:', '[2     ]')\nerror:  0.11190406\n('out:    ', '[1.769 ]')\n('correct:', '[2     ]')\nerror:  0.02675005\n('out:    ', '[1.981 ]')\n('correct:', '[2     ]')\nerror:  0.00017536\n('out:    ', '[1.763 ]')\n('correct:', '[2     ]')\nerror:  0.02797213\n('out:    ', '[1.872 ]')\n('correct:', '[2     ]')\nerror:  0.00824566\n('out:    ', '[1.983 ]')\n('correct:', '[2     ]')\nerror:  0.00014574\n('out:    ', '[1.987 ]')\n('correct:', '[2     ]')\nerror:  0.00008786\n('out:    ', '[1.866 ]')\n('correct:', '[2     ]')\nerror:  0.00901390\n('out:    ', '[1.837 ]')\n('correct:', '[2     ]')\nerror:  0.01322125\n('out:    ', '[1.741 ]')\n('correct:', '[2     ]')\nerror:  0.03347409\n('out:    ', '[1.856 ]')\n('correct:', '[2     ]')\nerror:  0.01040532\n('out:    ', '[1.684 ]')\n('correct:', '[2     ]')\nerror:  0.04983164\n('All errors:', [0.00078092669174070002, 0.0016832631158021881, 0.00030937295789905042, 6.7646502503599802e-05, 0.00010723777739740978, 1.5393719625386499e-05, 0.00028140801954882499, 9.356061789168952e-05, 0.0066063474900247233, 0.0042391963727244899, 0.00012742899746332343, 1.2937863546943792e-07, 4.5738958667113556e-05, 0.00032258357807353895, 0.00018029061592979553, 0.001439634060003789, 0.0020126781266135907, 0.0254828774089291, 0.0024949241935034645, 0.0056740957306092438, 0.01746054982529786, 0.0065928460772885457, 0.0029347023920237763, 0.031203285239153295, 0.0042536516375447763, 0.0061491263807562958, 7.632567908298834e-05, 0.0023551748480967211, 0.066241878894041983, 0.00015560286678936968, 4.6310360493766236e-05, 0.0016358084727871184, 0.039202461420037645, 0.11190406295976783, 0.026750049993963257, 0.00017536380025437722, 0.02797212841703894, 0.0082456587647616163, 0.00014574012900044956, 8.7864298027432578e-05, 0.0090138954703051204, 0.013221246784575889, 0.033474090025447517, 0.010405321095432853, 0.049831637544200072])\n('Average error:', 0.011588878170883467)\n('Max error:', 0.11190406295976783, 'Median error:', 0.0023551748480967211)\n"
     ]
    },
    {
     "data": {
      "text/plain": [
       "0.011588878170883467"
      ]
     },
     "execution_count": 21,
     "metadata": {},
     "output_type": "execute_result"
    }
   ],
   "source": [
    "rede = buildNetwork(treinamento.indim, 2, treinamento.outdim, bias=True)\n",
    "trainer = BackpropTrainer(rede, treinamento, learningrate=0.01, momentum=0.7)\n",
    "\n",
    "# treinando a rede\n",
    "for epoca in range(1000):\n",
    "    trainer.train()\n",
    "\n",
    "# testando a rede\n",
    "teste = SupervisedDataSet(4, 1)\n",
    "for i in range(len(entradas_teste)):\n",
    "    teste.addSample(entradas_teste[i], saidas_teste[i])\n",
    "trainer.testOnData(teste, verbose=True)"
   ]
  },
  {
   "cell_type": "code",
   "execution_count": null,
   "metadata": {},
   "outputs": [],
   "source": []
  }
 ],
 "metadata": {
  "kernelspec": {
   "display_name": "Python 2",
   "language": "python",
   "name": "python2"
  },
  "language_info": {
   "codemirror_mode": {
    "name": "ipython",
    "version": 2
   },
   "file_extension": ".py",
   "mimetype": "text/x-python",
   "name": "python",
   "nbconvert_exporter": "python",
   "pygments_lexer": "ipython2",
   "version": "2.7.6"
  }
 },
 "nbformat": 4,
 "nbformat_minor": 0
}
