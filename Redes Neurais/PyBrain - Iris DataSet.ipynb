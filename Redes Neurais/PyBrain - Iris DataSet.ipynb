{
 "cells": [
  {
   "cell_type": "code",
   "execution_count": 1,
   "metadata": {
    "collapsed": true
   },
   "outputs": [],
   "source": [
    "# Carregando os dados do Iris Dataset com sklearn\n",
    "from sklearn import datasets\n",
    "iris = datasets.load_iris()\n",
    "\n",
    "# obtendo as entradas e saídas\n",
    "x, y = iris.data, iris.target\n",
    "print(len(x))\n",
    "print(len(y))"
   ]
  },
  {
   "cell_type": "code",
   "execution_count": 2,
   "metadata": {},
   "outputs": [
    {
     "data": {
      "text/plain": [
       "150"
      ]
     },
     "execution_count": 2,
     "metadata": {},
     "output_type": "execute_result"
    }
   ],
   "source": [
    "from pybrain.datasets.classification import ClassificationDataSet\n",
    "\n",
    "dataset = ClassificationDataSet(4, 1, nb_classes=3)\n",
    "\n",
    "# adicionando as amostras\n",
    "for i in range(len(x)):\n",
    "    dataset.addSample(x[i], y[i])\n",
    "\n",
    "len(dataset)"
   ]
  },
  {
   "cell_type": "code",
   "execution_count": 3,
   "metadata": {},
   "outputs": [
    {
     "data": {
      "text/plain": [
       "array([[ 5.1,  3.5,  1.4,  0.2],\n       [ 4.9,  3. ,  1.4,  0.2],\n       [ 4.7,  3.2,  1.3,  0.2],\n       [ 4.6,  3.1,  1.5,  0.2],\n       [ 5. ,  3.6,  1.4,  0.2],\n       [ 5.4,  3.9,  1.7,  0.4],\n       [ 4.6,  3.4,  1.4,  0.3],\n       [ 5. ,  3.4,  1.5,  0.2],\n       [ 4.4,  2.9,  1.4,  0.2],\n       [ 4.9,  3.1,  1.5,  0.1],\n       [ 5.4,  3.7,  1.5,  0.2],\n       [ 4.8,  3.4,  1.6,  0.2],\n       [ 4.8,  3. ,  1.4,  0.1],\n       [ 4.3,  3. ,  1.1,  0.1],\n       [ 5.8,  4. ,  1.2,  0.2],\n       [ 5.7,  4.4,  1.5,  0.4],\n       [ 5.4,  3.9,  1.3,  0.4],\n       [ 5.1,  3.5,  1.4,  0.3],\n       [ 5.7,  3.8,  1.7,  0.3],\n       [ 5.1,  3.8,  1.5,  0.3],\n       [ 5.4,  3.4,  1.7,  0.2],\n       [ 5.1,  3.7,  1.5,  0.4],\n       [ 4.6,  3.6,  1. ,  0.2],\n       [ 5.1,  3.3,  1.7,  0.5],\n       [ 4.8,  3.4,  1.9,  0.2],\n       [ 5. ,  3. ,  1.6,  0.2],\n       [ 5. ,  3.4,  1.6,  0.4],\n       [ 5.2,  3.5,  1.5,  0.2],\n       [ 5.2,  3.4,  1.4,  0.2],\n       [ 4.7,  3.2,  1.6,  0.2],\n       [ 4.8,  3.1,  1.6,  0.2],\n       [ 5.4,  3.4,  1.5,  0.4],\n       [ 5.2,  4.1,  1.5,  0.1],\n       [ 5.5,  4.2,  1.4,  0.2],\n       [ 4.9,  3.1,  1.5,  0.1],\n       [ 5. ,  3.2,  1.2,  0.2],\n       [ 5.5,  3.5,  1.3,  0.2],\n       [ 4.9,  3.1,  1.5,  0.1],\n       [ 4.4,  3. ,  1.3,  0.2],\n       [ 5.1,  3.4,  1.5,  0.2],\n       [ 5. ,  3.5,  1.3,  0.3],\n       [ 4.5,  2.3,  1.3,  0.3],\n       [ 4.4,  3.2,  1.3,  0.2],\n       [ 5. ,  3.5,  1.6,  0.6],\n       [ 5.1,  3.8,  1.9,  0.4],\n       [ 4.8,  3. ,  1.4,  0.3],\n       [ 5.1,  3.8,  1.6,  0.2],\n       [ 4.6,  3.2,  1.4,  0.2],\n       [ 5.3,  3.7,  1.5,  0.2],\n       [ 5. ,  3.3,  1.4,  0.2],\n       [ 7. ,  3.2,  4.7,  1.4],\n       [ 6.4,  3.2,  4.5,  1.5],\n       [ 6.9,  3.1,  4.9,  1.5],\n       [ 5.5,  2.3,  4. ,  1.3],\n       [ 6.5,  2.8,  4.6,  1.5],\n       [ 5.7,  2.8,  4.5,  1.3],\n       [ 6.3,  3.3,  4.7,  1.6],\n       [ 4.9,  2.4,  3.3,  1. ],\n       [ 6.6,  2.9,  4.6,  1.3],\n       [ 5.2,  2.7,  3.9,  1.4],\n       [ 5. ,  2. ,  3.5,  1. ],\n       [ 5.9,  3. ,  4.2,  1.5],\n       [ 6. ,  2.2,  4. ,  1. ],\n       [ 6.1,  2.9,  4.7,  1.4],\n       [ 5.6,  2.9,  3.6,  1.3],\n       [ 6.7,  3.1,  4.4,  1.4],\n       [ 5.6,  3. ,  4.5,  1.5],\n       [ 5.8,  2.7,  4.1,  1. ],\n       [ 6.2,  2.2,  4.5,  1.5],\n       [ 5.6,  2.5,  3.9,  1.1],\n       [ 5.9,  3.2,  4.8,  1.8],\n       [ 6.1,  2.8,  4. ,  1.3],\n       [ 6.3,  2.5,  4.9,  1.5],\n       [ 6.1,  2.8,  4.7,  1.2],\n       [ 6.4,  2.9,  4.3,  1.3],\n       [ 6.6,  3. ,  4.4,  1.4],\n       [ 6.8,  2.8,  4.8,  1.4],\n       [ 6.7,  3. ,  5. ,  1.7],\n       [ 6. ,  2.9,  4.5,  1.5],\n       [ 5.7,  2.6,  3.5,  1. ],\n       [ 5.5,  2.4,  3.8,  1.1],\n       [ 5.5,  2.4,  3.7,  1. ],\n       [ 5.8,  2.7,  3.9,  1.2],\n       [ 6. ,  2.7,  5.1,  1.6],\n       [ 5.4,  3. ,  4.5,  1.5],\n       [ 6. ,  3.4,  4.5,  1.6],\n       [ 6.7,  3.1,  4.7,  1.5],\n       [ 6.3,  2.3,  4.4,  1.3],\n       [ 5.6,  3. ,  4.1,  1.3],\n       [ 5.5,  2.5,  4. ,  1.3],\n       [ 5.5,  2.6,  4.4,  1.2],\n       [ 6.1,  3. ,  4.6,  1.4],\n       [ 5.8,  2.6,  4. ,  1.2],\n       [ 5. ,  2.3,  3.3,  1. ],\n       [ 5.6,  2.7,  4.2,  1.3],\n       [ 5.7,  3. ,  4.2,  1.2],\n       [ 5.7,  2.9,  4.2,  1.3],\n       [ 6.2,  2.9,  4.3,  1.3],\n       [ 5.1,  2.5,  3. ,  1.1],\n       [ 5.7,  2.8,  4.1,  1.3],\n       [ 6.3,  3.3,  6. ,  2.5],\n       [ 5.8,  2.7,  5.1,  1.9],\n       [ 7.1,  3. ,  5.9,  2.1],\n       [ 6.3,  2.9,  5.6,  1.8],\n       [ 6.5,  3. ,  5.8,  2.2],\n       [ 7.6,  3. ,  6.6,  2.1],\n       [ 4.9,  2.5,  4.5,  1.7],\n       [ 7.3,  2.9,  6.3,  1.8],\n       [ 6.7,  2.5,  5.8,  1.8],\n       [ 7.2,  3.6,  6.1,  2.5],\n       [ 6.5,  3.2,  5.1,  2. ],\n       [ 6.4,  2.7,  5.3,  1.9],\n       [ 6.8,  3. ,  5.5,  2.1],\n       [ 5.7,  2.5,  5. ,  2. ],\n       [ 5.8,  2.8,  5.1,  2.4],\n       [ 6.4,  3.2,  5.3,  2.3],\n       [ 6.5,  3. ,  5.5,  1.8],\n       [ 7.7,  3.8,  6.7,  2.2],\n       [ 7.7,  2.6,  6.9,  2.3],\n       [ 6. ,  2.2,  5. ,  1.5],\n       [ 6.9,  3.2,  5.7,  2.3],\n       [ 5.6,  2.8,  4.9,  2. ],\n       [ 7.7,  2.8,  6.7,  2. ],\n       [ 6.3,  2.7,  4.9,  1.8],\n       [ 6.7,  3.3,  5.7,  2.1],\n       [ 7.2,  3.2,  6. ,  1.8],\n       [ 6.2,  2.8,  4.8,  1.8],\n       [ 6.1,  3. ,  4.9,  1.8],\n       [ 6.4,  2.8,  5.6,  2.1],\n       [ 7.2,  3. ,  5.8,  1.6],\n       [ 7.4,  2.8,  6.1,  1.9],\n       [ 7.9,  3.8,  6.4,  2. ],\n       [ 6.4,  2.8,  5.6,  2.2],\n       [ 6.3,  2.8,  5.1,  1.5],\n       [ 6.1,  2.6,  5.6,  1.4],\n       [ 7.7,  3. ,  6.1,  2.3],\n       [ 6.3,  3.4,  5.6,  2.4],\n       [ 6.4,  3.1,  5.5,  1.8],\n       [ 6. ,  3. ,  4.8,  1.8],\n       [ 6.9,  3.1,  5.4,  2.1],\n       [ 6.7,  3.1,  5.6,  2.4],\n       [ 6.9,  3.1,  5.1,  2.3],\n       [ 5.8,  2.7,  5.1,  1.9],\n       [ 6.8,  3.2,  5.9,  2.3],\n       [ 6.7,  3.3,  5.7,  2.5],\n       [ 6.7,  3. ,  5.2,  2.3],\n       [ 6.3,  2.5,  5. ,  1.9],\n       [ 6.5,  3. ,  5.2,  2. ],\n       [ 6.2,  3.4,  5.4,  2.3],\n       [ 5.9,  3. ,  5.1,  1.8]])"
      ]
     },
     "execution_count": 3,
     "metadata": {},
     "output_type": "execute_result"
    }
   ],
   "source": [
    "dataset['input']"
   ]
  },
  {
   "cell_type": "code",
   "execution_count": 4,
   "metadata": {},
   "outputs": [
    {
     "data": {
      "text/plain": [
       "array([[0],\n       [0],\n       [0],\n       [0],\n       [0],\n       [0],\n       [0],\n       [0],\n       [0],\n       [0],\n       [0],\n       [0],\n       [0],\n       [0],\n       [0],\n       [0],\n       [0],\n       [0],\n       [0],\n       [0],\n       [0],\n       [0],\n       [0],\n       [0],\n       [0],\n       [0],\n       [0],\n       [0],\n       [0],\n       [0],\n       [0],\n       [0],\n       [0],\n       [0],\n       [0],\n       [0],\n       [0],\n       [0],\n       [0],\n       [0],\n       [0],\n       [0],\n       [0],\n       [0],\n       [0],\n       [0],\n       [0],\n       [0],\n       [0],\n       [0],\n       [1],\n       [1],\n       [1],\n       [1],\n       [1],\n       [1],\n       [1],\n       [1],\n       [1],\n       [1],\n       [1],\n       [1],\n       [1],\n       [1],\n       [1],\n       [1],\n       [1],\n       [1],\n       [1],\n       [1],\n       [1],\n       [1],\n       [1],\n       [1],\n       [1],\n       [1],\n       [1],\n       [1],\n       [1],\n       [1],\n       [1],\n       [1],\n       [1],\n       [1],\n       [1],\n       [1],\n       [1],\n       [1],\n       [1],\n       [1],\n       [1],\n       [1],\n       [1],\n       [1],\n       [1],\n       [1],\n       [1],\n       [1],\n       [1],\n       [1],\n       [2],\n       [2],\n       [2],\n       [2],\n       [2],\n       [2],\n       [2],\n       [2],\n       [2],\n       [2],\n       [2],\n       [2],\n       [2],\n       [2],\n       [2],\n       [2],\n       [2],\n       [2],\n       [2],\n       [2],\n       [2],\n       [2],\n       [2],\n       [2],\n       [2],\n       [2],\n       [2],\n       [2],\n       [2],\n       [2],\n       [2],\n       [2],\n       [2],\n       [2],\n       [2],\n       [2],\n       [2],\n       [2],\n       [2],\n       [2],\n       [2],\n       [2],\n       [2],\n       [2],\n       [2],\n       [2],\n       [2],\n       [2],\n       [2],\n       [2]])"
      ]
     },
     "execution_count": 4,
     "metadata": {},
     "output_type": "execute_result"
    }
   ],
   "source": [
    "dataset['target']"
   ]
  },
  {
   "cell_type": "code",
   "execution_count": 5,
   "metadata": {},
   "outputs": [
    {
     "data": {
      "text/plain": [
       "150"
      ]
     },
     "execution_count": 5,
     "metadata": {},
     "output_type": "execute_result"
    }
   ],
   "source": [
    "len(dataset['target'])"
   ]
  },
  {
   "cell_type": "code",
   "execution_count": 7,
   "metadata": {},
   "outputs": [
    {
     "name": "stdout",
     "output_type": "stream",
     "text": [
      "Quantidade para treino: 90\nQuantidade para teste: 30\nQuantidade para validação: 30\n"
     ]
    }
   ],
   "source": [
    "# particionando os dados para treinamento\n",
    "train_data, part_data = dataset.splitWithProportion(0.6)\n",
    "print('Quantidade para treino: {}'.format(len(train_data)))\n",
    "\n",
    "# dividindo os dados para teste e validação\n",
    "test_data, val_data = part_data.splitWithProportion(0.5)\n",
    "print('Quantidade para teste: {}'.format(len(test_data)))\n",
    "print('Quantidade para validação: {}'.format(len(val_data)))"
   ]
  },
  {
   "cell_type": "code",
   "execution_count": 8,
   "metadata": {},
   "outputs": [],
   "source": [
    "from pybrain.tools.shortcuts import buildNetwork\n",
    "from pybrain.supervised.trainers import BackpropTrainer"
   ]
  },
  {
   "cell_type": "code",
   "execution_count": 15,
   "metadata": {},
   "outputs": [
    {
     "name": "stdout",
     "output_type": "stream",
     "text": [
      "Total error:  1.57390608783\nTotal error:  0.336570832426\nTotal error:  0.323317329497\n"
     ]
    },
    {
     "name": "stdout",
     "output_type": "stream",
     "text": [
      "Total error:  0.314825763687\nTotal error:  0.321305993704\nTotal error:  0.308842388615\n"
     ]
    },
    {
     "name": "stdout",
     "output_type": "stream",
     "text": [
      "Total error:  0.316874410941\nTotal error:  0.315696490743\nTotal error:  0.312517040246\n"
     ]
    },
    {
     "name": "stdout",
     "output_type": "stream",
     "text": [
      "Total error:  0.315700546542\nTotal error:  0.313836118663\nTotal error:  0.314546508515\n"
     ]
    },
    {
     "name": "stdout",
     "output_type": "stream",
     "text": [
      "Total error:  0.314152791689\nTotal error:  0.31543680152\nTotal error:  0.31536838023\n"
     ]
    },
    {
     "name": "stdout",
     "output_type": "stream",
     "text": [
      "Total error:  0.315976504894\nTotal error:  0.315993582791\nTotal error:  0.312586353339\n"
     ]
    },
    {
     "name": "stdout",
     "output_type": "stream",
     "text": [
      "Total error:  0.315929810865\nTotal error:  0.309895738262\n"
     ]
    },
    {
     "name": "stdout",
     "output_type": "stream",
     "text": [
      "Total error:  0.318053045311\nTotal error:  0.314078304618\nTotal error:  0.314871693473\n"
     ]
    },
    {
     "name": "stdout",
     "output_type": "stream",
     "text": [
      "Total error:  0.313780339225\nTotal error:  0.301762900436\nTotal error:  0.316710519163\n"
     ]
    },
    {
     "name": "stdout",
     "output_type": "stream",
     "text": [
      "Total error:  0.311094382392\nTotal error:  0.315761103795\nTotal error:  0.309916486801\n"
     ]
    },
    {
     "name": "stdout",
     "output_type": "stream",
     "text": [
      "Total error:  0.313554594557\nTotal error:  0.313678031907\nTotal error:  0.314478695339\n"
     ]
    },
    {
     "name": "stdout",
     "output_type": "stream",
     "text": [
      "Total error:  0.315141447082\nTotal error:  0.314341740795\nTotal error:  0.311729167541\n"
     ]
    },
    {
     "name": "stdout",
     "output_type": "stream",
     "text": [
      "Total error:  0.314576159819\nTotal error:  0.313341556461\nTotal error:  0.313169059503\n"
     ]
    },
    {
     "name": "stdout",
     "output_type": "stream",
     "text": [
      "Total error:  0.308053177368\nTotal error:  0.316198440157\nTotal error:  0.310527732806\n"
     ]
    },
    {
     "name": "stdout",
     "output_type": "stream",
     "text": [
      "Total error:  0.311774199575\nTotal error:  0.312327478851\nTotal error:  0.314548027846\n"
     ]
    },
    {
     "name": "stdout",
     "output_type": "stream",
     "text": [
      "Total error:  0.312511797406\nTotal error:  0.314918654473\nTotal error:  0.314899788294"
     ]
    },
    {
     "name": "stdout",
     "output_type": "stream",
     "text": [
      "\nTotal error:  0.308272816627\nTotal error:  0.314265211172\nTotal error:  0.313800396509\n"
     ]
    },
    {
     "name": "stdout",
     "output_type": "stream",
     "text": [
      "Total error:  0.31429367166\nTotal error:  0.31282990659\nTotal error:  0.310867323027\n"
     ]
    },
    {
     "name": "stdout",
     "output_type": "stream",
     "text": [
      "Total error:  0.311920877449\nTotal error:  0.315694277025\nTotal error:  0.314748119726\n"
     ]
    },
    {
     "name": "stdout",
     "output_type": "stream",
     "text": [
      "Total error:  0.309542892493\nTotal error:  0.310997810592\nTotal error:  0.315067168282\n"
     ]
    },
    {
     "name": "stdout",
     "output_type": "stream",
     "text": [
      "Total error:  0.313975909325\nTotal error:  0.310581575602\nTotal error:  0.316863691601\nTotal error:  0.309993512956\n"
     ]
    },
    {
     "name": "stdout",
     "output_type": "stream",
     "text": [
      "Total error:  0.312154966117\nTotal error:  0.310240884068\nTotal error:  0.308450894398\nTotal error:  0.316061510438\n"
     ]
    },
    {
     "name": "stdout",
     "output_type": "stream",
     "text": [
      "Total error:  0.314796893846\nTotal error:  0.312260112405\nTotal error:  0.311656387998\n"
     ]
    },
    {
     "name": "stdout",
     "output_type": "stream",
     "text": [
      "Total error:  0.30854945138\nTotal error:  0.316509576863\nTotal error:  0.31498624607\nTotal error:  0.315231198858\n"
     ]
    },
    {
     "name": "stdout",
     "output_type": "stream",
     "text": [
      "Total error:  0.29989711356\nTotal error:  0.318037665107\nTotal error:  0.315046297553\nTotal error:  0.310602382946\n"
     ]
    },
    {
     "name": "stdout",
     "output_type": "stream",
     "text": [
      "Total error:  0.311295800222\nTotal error:  0.314407032711\nTotal error:  0.315230181367\n"
     ]
    },
    {
     "name": "stdout",
     "output_type": "stream",
     "text": [
      "Total error:  0.314562437271\nTotal error:  0.314294919465\nTotal error:  0.314675050549\nTotal error:  0.312992565907\n"
     ]
    },
    {
     "name": "stdout",
     "output_type": "stream",
     "text": [
      "Total error:  0.314525232363\nTotal error:  0.315003971313\nTotal error:  0.303230922787\nTotal error:  0.314770180059\n"
     ]
    },
    {
     "name": "stdout",
     "output_type": "stream",
     "text": [
      "Total error:  0.312838993882\nTotal error:  0.31193808327\nTotal error:  0.311486452637\nTotal error:  0.315088064211\n"
     ]
    },
    {
     "name": "stdout",
     "output_type": "stream",
     "text": [
      "Total error:  0.312892558831\nTotal error:  0.310897581494\nTotal error:  0.312958654303\nTotal error:  0.307226122778\n"
     ]
    },
    {
     "name": "stdout",
     "output_type": "stream",
     "text": [
      "Total error:  0.312360195493\nTotal error:  0.315347013623\nTotal error:  0.313996443215\nTotal error:  0.31320970723\n('train-errors:', '[1.57391  , 0.336571 , 0.323317 , 0.314826 , 0.321306 , 0.308842 , 0.316874 , 0.315696 , 0.312517 , 0.315701 , 0.313836 , 0.314547 , 0.314153 , 0.315437 , 0.315368 , 0.315977 , 0.315994 , 0.312586 , 0.31593  , 0.309896 , 0.318053 , 0.314078 , 0.314872 , 0.31378  , 0.301763 , 0.316711 , 0.311094 , 0.315761 , 0.309916 , 0.313555 , 0.313678 , 0.314479 , 0.315141 , 0.314342 , 0.311729 , 0.314576 , 0.313342 , 0.313169 , 0.308053 , 0.316198 , 0.310528 , 0.311774 , 0.312327 , 0.314548 , 0.312512 , 0.314919 , 0.3149   , 0.308273 , 0.314265 , 0.3138   , 0.314294 , 0.31283  , 0.310867 , 0.311921 , 0.315694 , 0.314748 , 0.309543 , 0.310998 , 0.315067 , 0.313976 , 0.310582 , 0.316864 , 0.309994 , 0.312155 , 0.310241 , 0.308451 , 0.316062 , 0.314797 , 0.31226  , 0.311656 , 0.308549 , 0.31651  , 0.314986 , 0.315231 , 0.299897 , 0.318038 , 0.315046 , 0.310602 , 0.311296 , 0.314407 , 0.31523  , 0.314562 , 0.314295 , 0.314675 , 0.312993 , 0.314525 , 0.315004 , 0.303231 , 0.31477  , 0.312839 , 0.311938 , 0.311486 , 0.315088 , 0.312893 , 0.310898 , 0.312959 , 0.307226 , 0.31236  , 0.315347 , 0.313996 , 0.31321  ]')\n('valid-errors:', '[6.16448  , 0.398254 , 0.377987 , 0.408024 , 0.351482 , 0.407071 , 0.353173 , 0.380762 , 0.423876 , 0.362392 , 0.41349  , 0.376949 , 0.416308 , 0.429621 , 0.436263 , 0.42643  , 0.408716 , 0.391435 , 0.439789 , 0.401822 , 0.350725 , 0.388107 , 0.382113 , 0.421659 , 0.381366 , 0.479216 , 0.389643 , 0.41993  , 0.416628 , 0.462869 , 0.399758 , 0.39846  , 0.388009 , 0.411947 , 0.424313 , 0.361514 , 0.398902 , 0.414965 , 0.382927 , 0.463551 , 0.422207 , 0.390593 , 0.45236  , 0.452675 , 0.434398 , 0.397402 , 0.376064 , 0.391029 , 0.432186 , 0.434496 , 0.390132 , 0.416784 , 0.377091 , 0.402931 , 0.426371 , 0.417027 , 0.422167 , 0.352889 , 0.342991 , 0.432666 , 0.427374 , 0.461328 , 0.413094 , 0.361204 , 0.433165 , 0.4524   , 0.472315 , 0.425656 , 0.393781 , 0.370174 , 0.400399 , 0.459082 , 0.406891 , 0.420237 , 0.39199  , 0.498723 , 0.396226 , 0.388882 , 0.438098 , 0.375913 , 0.3712   , 0.416552 , 0.408937 , 0.388372 , 0.417871 , 0.414288 , 0.413124 , 0.387232 , 0.482415 , 0.39269  , 0.429249 , 0.361895 , 0.405914 , 0.403116 , 0.435071 , 0.362934 , 0.410604 , 0.463437 , 0.368042 , 0.381525 , 0.427254 , 0.434464 ]')\n"
     ]
    }
   ],
   "source": [
    "net = buildNetwork(dataset.indim, 3, dataset.outdim)\n",
    "trainer = BackpropTrainer(\n",
    "    net,\n",
    "    dataset=train_data,\n",
    "    learningrate=0.01, \n",
    "    momentum=0.1,\n",
    "    verbose=True\n",
    ")\n",
    "\n",
    "train_erros, val_erros = trainer.trainUntilConvergence(dataset=train_data, maxEpochs=100)"
   ]
  },
  {
   "cell_type": "code",
   "execution_count": 22,
   "metadata": {},
   "outputs": [
    {
     "data": {
      "image/png": "[encoded data removed]",
      "text/plain": [
       "<matplotlib.figure.Figure at 0x14873104d30>"
      ]
     },
     "metadata": {},
     "output_type": "display_data"
    },
    {
     "data": {
      "text/plain": [
       "5001"
      ]
     },
     "execution_count": 22,
     "metadata": {},
     "output_type": "execute_result"
    }
   ],
   "source": [
    "import matplotlib.pyplot as plt\n",
    "import seaborn\n",
    "\n",
    "plt.plot(train_erros, 'b', val_erros, 'r')\n",
    "plt.show()\n",
    "\n",
    "trainer.totalepochs"
   ]
  },
  {
   "cell_type": "code",
   "execution_count": 21,
   "metadata": {},
   "outputs": [
    {
     "name": "stdout",
     "output_type": "stream",
     "text": [
      "Total error:  0.271948823049\nTotal error:  0.080416004933\nTotal error:  0.0670020055816\nTotal error:  0.0630257260513\n"
     ]
    },
    {
     "name": "stdout",
     "output_type": "stream",
     "text": [
      "Total error:  0.0593481768422\nTotal error:  0.0577082423527\nTotal error:  0.0540139996614\n"
     ]
    },
    {
     "name": "stdout",
     "output_type": "stream",
     "text": [
      "Total error:  0.0538197593727\nTotal error:  0.0506521272917\nTotal error:  0.0498470306673\nTotal error:  0.0432440376647\n"
     ]
    },
    {
     "name": "stdout",
     "output_type": "stream",
     "text": [
      "Total error:  0.0458190639482\nTotal error:  0.0438721836066\nTotal error:  0.0423175248399\n"
     ]
    },
    {
     "name": "stdout",
     "output_type": "stream",
     "text": [
      "Total error:  0.0373706809225\nTotal error:  0.0391241967908\nTotal error:  0.0383318719345\n"
     ]
    },
    {
     "name": "stdout",
     "output_type": "stream",
     "text": [
      "Total error:  0.032357512406\nTotal error:  0.0363088193319\nTotal error:  0.0342631002038\nTotal error:  0.0335396187614\nTotal error:  0.0339936898028"
     ]
    },
    {
     "name": "stdout",
     "output_type": "stream",
     "text": [
      "\nTotal error:  0.0331875936232\nTotal error:  0.0280999563674\nTotal error:  0.028884789576\nTotal error:  0.0258918613921\n"
     ]
    },
    {
     "name": "stdout",
     "output_type": "stream",
     "text": [
      "Total error:  0.0304576228505\nTotal error:  0.0298682965105\nTotal error:  0.0249461053607\nTotal error:  0.0294059969663"
     ]
    },
    {
     "name": "stdout",
     "output_type": "stream",
     "text": [
      "\nTotal error:  0.0284458058348\nTotal error:  0.0286798823999\nTotal error:  0.0276085687122\nTotal error:  0.0269179154898"
     ]
    },
    {
     "name": "stdout",
     "output_type": "stream",
     "text": [
      "\nTotal error:  0.0264217838993\nTotal error:  0.0223534093075\nTotal error:  0.0268520162701\nTotal error:  0.0262251434678\n"
     ]
    },
    {
     "name": "stdout",
     "output_type": "stream",
     "text": [
      "Total error:  0.025799602393\nTotal error:  0.0227977586299\nTotal error:  0.0236247067792\nTotal error:  0.0245457850503\n"
     ]
    },
    {
     "name": "stdout",
     "output_type": "stream",
     "text": [
      "Total error:  0.0261041658714\nTotal error:  0.024188014863\nTotal error:  0.0231575229732\n"
     ]
    },
    {
     "name": "stdout",
     "output_type": "stream",
     "text": [
      "Total error:  0.0209074132389\nTotal error:  0.0208728395196\nTotal error:  0.0241577812667\n"
     ]
    },
    {
     "name": "stdout",
     "output_type": "stream",
     "text": [
      "Total error:  0.0242579104844\nTotal error:  0.0218814108664\nTotal error:  0.0248175858561\n"
     ]
    },
    {
     "name": "stdout",
     "output_type": "stream",
     "text": [
      "Total error:  0.0235799888819\nTotal error:  0.0213215865545\nTotal error:  0.0231255331872\nTotal error:  0.0217750422393\n"
     ]
    },
    {
     "name": "stdout",
     "output_type": "stream",
     "text": [
      "Total error:  0.0238224101908\nTotal error:  0.0200538090115\nTotal error:  0.0222877042547\nTotal error:  0.0228587343341\n"
     ]
    },
    {
     "name": "stdout",
     "output_type": "stream",
     "text": [
      "Total error:  0.0229007680141\nTotal error:  0.0233610905541\nTotal error:  0.022237176757\nTotal error:  0.0233717232524\n"
     ]
    },
    {
     "name": "stdout",
     "output_type": "stream",
     "text": [
      "Total error:  0.0237680414384\nTotal error:  0.0224113479195\nTotal error:  0.0225368839303\nTotal error:  0.0232357703145\nTotal error:  0.0210158120269\n"
     ]
    },
    {
     "name": "stdout",
     "output_type": "stream",
     "text": [
      "Total error:  0.0233561870795\nTotal error:  0.0222935447207\nTotal error:  0.0224778016967\nTotal error:  0.0226077957926\n"
     ]
    },
    {
     "name": "stdout",
     "output_type": "stream",
     "text": [
      "Total error:  0.021932980432\nTotal error:  0.0236369863656\nTotal error:  0.0216586169849\nTotal error:  0.0232260599098\n"
     ]
    },
    {
     "name": "stdout",
     "output_type": "stream",
     "text": [
      "Total error:  0.0223448112252\nTotal error:  0.0221726970275\nTotal error:  0.0233216297189\nTotal error:  0.0224336494364\nTotal error:  0.0234653786368\n"
     ]
    },
    {
     "name": "stdout",
     "output_type": "stream",
     "text": [
      "Total error:  0.0217167305677\nTotal error:  0.0190536496039\nTotal error:  0.0225398239691\nTotal error:  0.0223454855184\nTotal error:  0.0227820776609\n"
     ]
    },
    {
     "name": "stdout",
     "output_type": "stream",
     "text": [
      "Total error:  0.0234789935684\nTotal error:  0.0224253534525\nTotal error:  0.0229566758903\nTotal error:  0.0234298933831\n"
     ]
    },
    {
     "name": "stdout",
     "output_type": "stream",
     "text": [
      "Total error:  0.0229977195275\nTotal error:  0.0212996939579\nTotal error:  0.0215196402578\nTotal error:  0.0211129268426\nTotal error:  0.0232804689291\n"
     ]
    },
    {
     "name": "stdout",
     "output_type": "stream",
     "text": [
      "Total error:  0.0230179301317\nTotal error:  0.0213220036634\nTotal error:  0.0229366292528\nTotal error:  0.0220553466264\n"
     ]
    },
    {
     "name": "stdout",
     "output_type": "stream",
     "text": [
      "Total error:  0.0223206373559\nTotal error:  0.0208432121574\nTotal error:  0.0215968193949\nTotal error:  0.0237738096828\nTotal error:  0.0216988798704"
     ]
    },
    {
     "name": "stdout",
     "output_type": "stream",
     "text": [
      "\nTotal error:  0.0220663556975\nTotal error:  0.0224470946468\nTotal error:  0.0208463550789\nTotal error:  0.0224869713469\nTotal error:  0.0215278586382"
     ]
    },
    {
     "name": "stdout",
     "output_type": "stream",
     "text": [
      "\nTotal error:  0.0203750196148\nTotal error:  0.0225930205826\nTotal error:  0.0204099544358\nTotal error:  0.0223087545609\nTotal error:  0.0223174767848\n"
     ]
    },
    {
     "name": "stdout",
     "output_type": "stream",
     "text": [
      "Total error:  0.0212238335433\nTotal error:  0.022291450559\nTotal error:  0.0204608259137\nTotal error:  0.020703311371\nTotal error:  0.0216276894824\n"
     ]
    },
    {
     "name": "stdout",
     "output_type": "stream",
     "text": [
      "Total error:  0.0194840127502\nTotal error:  0.0196763563896\nTotal error:  0.0212426168984\nTotal error:  0.0201911679486\n"
     ]
    },
    {
     "name": "stdout",
     "output_type": "stream",
     "text": [
      "Total error:  0.0214521178014\nTotal error:  0.0212529681855\nTotal error:  0.0196750056328\nTotal error:  0.0202196557916\n"
     ]
    },
    {
     "name": "stdout",
     "output_type": "stream",
     "text": [
      "Total error:  0.0225105570024\nTotal error:  0.0211377024103\nTotal error:  0.0216322679187\nTotal error:  0.0191700622617\nTotal error:  0.0224597825008\n"
     ]
    },
    {
     "name": "stdout",
     "output_type": "stream",
     "text": [
      "Total error:  0.0213923930265\nTotal error:  0.0224647123753\nTotal error:  0.0216825574898\nTotal error:  0.0202022406921\nTotal error:  0.0220882105459"
     ]
    },
    {
     "name": "stdout",
     "output_type": "stream",
     "text": [
      "\nTotal error:  0.0215200371207\nTotal error:  0.0201182375158\nTotal error:  0.02079114426\nTotal error:  0.0199396977345\nTotal error:  0.0204949302956\n"
     ]
    },
    {
     "name": "stdout",
     "output_type": "stream",
     "text": [
      "Total error:  0.0203756649252\nTotal error:  0.0201173581354\nTotal error:  0.0212835923342\nTotal error:  0.0210852614117\nTotal error:  0.0198418444618\n"
     ]
    },
    {
     "name": "stdout",
     "output_type": "stream",
     "text": [
      "Total error:  0.0214048678452\nTotal error:  0.0219858924418\nTotal error:  0.0211270874667\nTotal error:  0.0206566277913\n"
     ]
    },
    {
     "name": "stdout",
     "output_type": "stream",
     "text": [
      "Total error:  0.0222976146387\nTotal error:  0.0210876979175\nTotal error:  0.0198340418605\nTotal error:  0.021146088428\n"
     ]
    },
    {
     "name": "stdout",
     "output_type": "stream",
     "text": [
      "Total error:  0.0173305276831\nTotal error:  0.0217861164081\nTotal error:  0.0190794479812\nTotal error:  0.021771071785\nTotal error:  0.0219988116944\n"
     ]
    },
    {
     "name": "stdout",
     "output_type": "stream",
     "text": [
      "Total error:  0.0196986552617\nTotal error:  0.0207223105727\nTotal error:  0.0189070735993\nTotal error:  0.0210854046081\n"
     ]
    },
    {
     "name": "stdout",
     "output_type": "stream",
     "text": [
      "Total error:  0.0200436756853\nTotal error:  0.0185079265506\nTotal error:  0.0211303561828\nTotal error:  0.0210102811448\nTotal error:  0.0206546900731"
     ]
    },
    {
     "name": "stdout",
     "output_type": "stream",
     "text": [
      "\nTotal error:  0.0183284602967\nTotal error:  0.0203012717276\nTotal error:  0.0184679948719\nTotal error:  0.0190947510548\n"
     ]
    },
    {
     "name": "stdout",
     "output_type": "stream",
     "text": [
      "Total error:  0.0222128679015\nTotal error:  0.0211634678391\nTotal error:  0.021008400643\nTotal error:  0.0184661246214\n"
     ]
    },
    {
     "name": "stdout",
     "output_type": "stream",
     "text": [
      "Total error:  0.020226133754\nTotal error:  0.0206820401472\nTotal error:  0.0187409971126\nTotal error:  0.0210383408995\n"
     ]
    },
    {
     "name": "stdout",
     "output_type": "stream",
     "text": [
      "Total error:  0.021342278906\nTotal error:  0.0196386088609\nTotal error:  0.0207679145703\nTotal error:  0.0196705817196\nTotal error:  0.0194827716311\n"
     ]
    },
    {
     "name": "stdout",
     "output_type": "stream",
     "text": [
      "Total error:  0.0194130192752\nTotal error:  0.0204893311416\nTotal error:  0.0193165858573\nTotal error:  0.020797868935\nTotal error:  0.0198687466019\n"
     ]
    },
    {
     "name": "stdout",
     "output_type": "stream",
     "text": [
      "Total error:  0.0201258475541\nTotal error:  0.0192635912194\nTotal error:  0.020603725182\nTotal error:  0.020511543636\nTotal error:  0.0192594586895"
     ]
    },
    {
     "name": "stdout",
     "output_type": "stream",
     "text": [
      "\nTotal error:  0.0207853388319\nTotal error:  0.0214024666926\nTotal error:  0.0208064103833\nTotal error:  0.0212939751\n"
     ]
    },
    {
     "name": "stdout",
     "output_type": "stream",
     "text": [
      "Total error:  0.0205222989791\nTotal error:  0.0204296505779\nTotal error:  0.0220438757859\nTotal error:  0.0197900512693\n"
     ]
    },
    {
     "name": "stdout",
     "output_type": "stream",
     "text": [
      "Total error:  0.0198573908162\nTotal error:  0.019697772286\nTotal error:  0.0200372917595\nTotal error:  0.020615050221\n"
     ]
    },
    {
     "name": "stdout",
     "output_type": "stream",
     "text": [
      "Total error:  0.020936788836\nTotal error:  0.0201081563335\nTotal error:  0.0199949745809\nTotal error:  0.0184152996874\nTotal error:  0.0199627712709\n"
     ]
    },
    {
     "name": "stdout",
     "output_type": "stream",
     "text": [
      "Total error:  0.0208555011857\nTotal error:  0.0209458077076\nTotal error:  0.0209282647924\nTotal error:  0.0184410637683\nTotal error:  0.0201788931551\n"
     ]
    },
    {
     "name": "stdout",
     "output_type": "stream",
     "text": [
      "Total error:  0.0213888190792\nTotal error:  0.0208604595062\nTotal error:  0.0200279571261\nTotal error:  0.0190492877459\nTotal error:  0.0150597688359\n"
     ]
    },
    {
     "name": "stdout",
     "output_type": "stream",
     "text": [
      "Total error:  0.0212618241582\nTotal error:  0.0195402189722\nTotal error:  0.0165431107363\nTotal error:  0.0214071132537\n"
     ]
    },
    {
     "name": "stdout",
     "output_type": "stream",
     "text": [
      "Total error:  0.019176112852\nTotal error:  0.0194995449191\nTotal error:  0.017603193577\nTotal error:  0.0203270604643\n"
     ]
    },
    {
     "name": "stdout",
     "output_type": "stream",
     "text": [
      "Total error:  0.0204026614766\nTotal error:  0.0189494828113\nTotal error:  0.0195716420026\nTotal error:  0.0187752808517\nTotal error:  0.0173107425375\n"
     ]
    },
    {
     "name": "stdout",
     "output_type": "stream",
     "text": [
      "Total error:  0.0189587247444\nTotal error:  0.0198281183333\nTotal error:  0.0190300440222\nTotal error:  0.0184010753673\n"
     ]
    },
    {
     "name": "stdout",
     "output_type": "stream",
     "text": [
      "Total error:  0.0208802946123\nTotal error:  0.0203731664769\nTotal error:  0.019451509782\nTotal error:  0.0199123507917\nTotal error:  0.0213806976042\n"
     ]
    },
    {
     "name": "stdout",
     "output_type": "stream",
     "text": [
      "Total error:  0.0201886365973\nTotal error:  0.0184781231193\nTotal error:  0.019473668189\nTotal error:  0.0206893312347\nTotal error:  0.0186423953986\n"
     ]
    },
    {
     "name": "stdout",
     "output_type": "stream",
     "text": [
      "Total error:  0.0201679294067\nTotal error:  0.0172991892588\nTotal error:  0.0195238841663\nTotal error:  0.0177130812203\nTotal error:  0.0197226422365"
     ]
    },
    {
     "name": "stdout",
     "output_type": "stream",
     "text": [
      "\nTotal error:  0.0192478529606\nTotal error:  0.0203730077625\nTotal error:  0.0201969312314\nTotal error:  0.0196899392484\n"
     ]
    },
    {
     "name": "stdout",
     "output_type": "stream",
     "text": [
      "Total error:  0.0196373244441\nTotal error:  0.0184306170079\nTotal error:  0.0211615321319\nTotal error:  0.0175635999642\n"
     ]
    },
    {
     "name": "stdout",
     "output_type": "stream",
     "text": [
      "Total error:  0.0206877823357\nTotal error:  0.0201464468051\nTotal error:  0.020998870139\nTotal error:  0.0203744324712"
     ]
    },
    {
     "name": "stdout",
     "output_type": "stream",
     "text": [
      "\nTotal error:  0.0206369133925\nTotal error:  0.0191807618453\nTotal error:  0.0194985878651\nTotal error:  0.0202141278491\nTotal error:  0.0191747264407\n"
     ]
    },
    {
     "name": "stdout",
     "output_type": "stream",
     "text": [
      "Total error:  0.0201457985944\nTotal error:  0.0186103064826\nTotal error:  0.020464122166\nTotal error:  0.0195355504987\nTotal error:  0.0192771175556"
     ]
    },
    {
     "name": "stdout",
     "output_type": "stream",
     "text": [
      "\nTotal error:  0.01880284087\nTotal error:  0.0188858153188\nTotal error:  0.019308678508\nTotal error:  0.017949259766\nTotal error:  0.0198527564742\n"
     ]
    },
    {
     "name": "stdout",
     "output_type": "stream",
     "text": [
      "Total error:  0.0185810127975\nTotal error:  0.0208711995683\nTotal error:  0.0193830094871\nTotal error:  0.0210130867939\nTotal error:  0.0204592167343\n"
     ]
    },
    {
     "name": "stdout",
     "output_type": "stream",
     "text": [
      "Total error:  0.020161349357\nTotal error:  0.0182571308232\nTotal error:  0.0213670259574\nTotal error:  0.0194830692163\n"
     ]
    },
    {
     "name": "stdout",
     "output_type": "stream",
     "text": [
      "Total error:  0.0187942705648\nTotal error:  0.0195258718307\nTotal error:  0.0193868142628\nTotal error:  0.0187176276466\n"
     ]
    },
    {
     "name": "stdout",
     "output_type": "stream",
     "text": [
      "Total error:  0.0172254852252\nTotal error:  0.0182448051126\nTotal error:  0.0200226276085\nTotal error:  0.0192901358244\nTotal error:  0.0207872992379\n"
     ]
    },
    {
     "name": "stdout",
     "output_type": "stream",
     "text": [
      "Total error:  0.0206649707596\nTotal error:  0.0179316629301\nTotal error:  0.0187000925187\nTotal error:  0.0173655228294\nTotal error:  0.0188528991163\n"
     ]
    },
    {
     "name": "stdout",
     "output_type": "stream",
     "text": [
      "Total error:  0.020163259558\nTotal error:  0.020069426912\nTotal error:  0.0193689818692\nTotal error:  0.0189515164492\nTotal error:  0.0197389501266\n"
     ]
    },
    {
     "name": "stdout",
     "output_type": "stream",
     "text": [
      "Total error:  0.0189052906101\nTotal error:  0.0200176588691\nTotal error:  0.0197668598772\nTotal error:  0.0183902158254\nTotal error:  0.0162034663689\n"
     ]
    },
    {
     "name": "stdout",
     "output_type": "stream",
     "text": [
      "Total error:  0.0191070569757\nTotal error:  0.0196909487383\nTotal error:  0.0187313756085\nTotal error:  0.0195595235676\nTotal error:  0.0182264645855\n"
     ]
    },
    {
     "name": "stdout",
     "output_type": "stream",
     "text": [
      "Total error:  0.0184260777152\nTotal error:  0.0197959663801\nTotal error:  0.0188219821074\nTotal error:  0.0189806364538\nTotal error:  0.0184370150098\n"
     ]
    },
    {
     "name": "stdout",
     "output_type": "stream",
     "text": [
      "Total error:  0.0206172652966\nTotal error:  0.0192286559408\nTotal error:  0.0199676439857\nTotal error:  0.0190529327227\nTotal error:  0.0203060429351\n"
     ]
    },
    {
     "name": "stdout",
     "output_type": "stream",
     "text": [
      "Total error:  0.0194096784947\nTotal error:  0.01963592583\nTotal error:  0.019161567568\nTotal error:  0.0198815017934\n"
     ]
    },
    {
     "name": "stdout",
     "output_type": "stream",
     "text": [
      "Total error:  0.0194027309953\nTotal error:  0.019622633846\nTotal error:  0.0199344714747\nTotal error:  0.0192256351746\n"
     ]
    },
    {
     "name": "stdout",
     "output_type": "stream",
     "text": [
      "Total error:  0.0201354186635\nTotal error:  0.0171898183682\nTotal error:  0.0180179511526\nTotal error:  0.0191171079861\nTotal error:  0.0189632384609\n"
     ]
    },
    {
     "name": "stdout",
     "output_type": "stream",
     "text": [
      "Total error:  0.0183857560577\nTotal error:  0.0192357646178\nTotal error:  0.0193876041319\nTotal error:  0.0192930886799\n"
     ]
    },
    {
     "name": "stdout",
     "output_type": "stream",
     "text": [
      "Total error:  0.0201543102939\nTotal error:  0.0180125884594\nTotal error:  0.0210930494668\nTotal error:  0.01878376212\nTotal error:  0.0190820297803\n"
     ]
    },
    {
     "name": "stdout",
     "output_type": "stream",
     "text": [
      "Total error:  0.0190376454161\nTotal error:  0.0192793058539\nTotal error:  0.0193318081509\nTotal error:  0.0174887837026\n"
     ]
    },
    {
     "name": "stdout",
     "output_type": "stream",
     "text": [
      "Total error:  0.0197959104987\nTotal error:  0.0178717678296\nTotal error:  0.0187337409145\nTotal error:  0.0207304422108\nTotal error:  0.0184515596948\n"
     ]
    },
    {
     "name": "stdout",
     "output_type": "stream",
     "text": [
      "Total error:  0.0202894872837\nTotal error:  0.0181059466044\nTotal error:  0.0163929392428\nTotal error:  0.020543824577\n"
     ]
    },
    {
     "name": "stdout",
     "output_type": "stream",
     "text": [
      "Total error:  0.0184257016949\nTotal error:  0.0170370854389\nTotal error:  0.0203996538543\nTotal error:  0.0195138885233\nTotal error:  0.0195945576237\n"
     ]
    },
    {
     "name": "stdout",
     "output_type": "stream",
     "text": [
      "Total error:  0.0184132621514\nTotal error:  0.0195914377991\nTotal error:  0.0180943050137\nTotal error:  0.0183531974292\nTotal error:  0.0188174444469\n"
     ]
    },
    {
     "name": "stdout",
     "output_type": "stream",
     "text": [
      "Total error:  0.0187122353988\nTotal error:  0.0198824751457\nTotal error:  0.0189498806688\nTotal error:  0.0199503917504"
     ]
    },
    {
     "name": "stdout",
     "output_type": "stream",
     "text": [
      "\nTotal error:  0.0186364218176\nTotal error:  0.0191337613266\nTotal error:  0.0190336397279\nTotal error:  0.0182999587264\nTotal error:  0.0188087841229\n"
     ]
    },
    {
     "name": "stdout",
     "output_type": "stream",
     "text": [
      "Total error:  0.0190325393314\nTotal error:  0.019445134507\nTotal error:  0.0193882658505\nTotal error:  0.0192695071808\nTotal error:  0.019136240002\n"
     ]
    },
    {
     "name": "stdout",
     "output_type": "stream",
     "text": [
      "Total error:  0.0193740509441\nTotal error:  0.0183640902941\nTotal error:  0.0190388047945\nTotal error:  0.0194707570992\n"
     ]
    },
    {
     "name": "stdout",
     "output_type": "stream",
     "text": [
      "Total error:  0.020128876733\nTotal error:  0.0189448489916\nTotal error:  0.0196593249421\nTotal error:  0.0178994638631\n"
     ]
    },
    {
     "name": "stdout",
     "output_type": "stream",
     "text": [
      "Total error:  0.0198728890137\nTotal error:  0.0184135385083\nTotal error:  0.0201582871027\nTotal error:  0.0184490328066\n"
     ]
    },
    {
     "name": "stdout",
     "output_type": "stream",
     "text": [
      "Total error:  0.018243739783\nTotal error:  0.020208933181\nTotal error:  0.0183697704251\nTotal error:  0.0188080052947\n"
     ]
    },
    {
     "name": "stdout",
     "output_type": "stream",
     "text": [
      "Total error:  0.0200788777614\nTotal error:  0.0184130784053\nTotal error:  0.0201610102621\nTotal error:  0.0177056975017\n"
     ]
    },
    {
     "name": "stdout",
     "output_type": "stream",
     "text": [
      "Total error:  0.0187160177104\nTotal error:  0.0197836627833\nTotal error:  0.0195742011121\nTotal error:  0.0185695042453\nTotal error:  0.0191145403998\n"
     ]
    },
    {
     "name": "stdout",
     "output_type": "stream",
     "text": [
      "Total error:  0.0189948426993\nTotal error:  0.0197821730101\nTotal error:  0.0193690825023\nTotal error:  0.0195094975027\n"
     ]
    },
    {
     "name": "stdout",
     "output_type": "stream",
     "text": [
      "Total error:  0.019547383828\nTotal error:  0.0193879345922\nTotal error:  0.0189896294384\nTotal error:  0.0180380870557\nTotal error:  0.0190526425035\n"
     ]
    },
    {
     "name": "stdout",
     "output_type": "stream",
     "text": [
      "Total error:  0.0185773153937\nTotal error:  0.01868543439\nTotal error:  0.0196401214235\nTotal error:  0.0187189900198\nTotal error:  0.018512099909\n"
     ]
    },
    {
     "name": "stdout",
     "output_type": "stream",
     "text": [
      "Total error:  0.0194559127796\nTotal error:  0.017383968968\nTotal error:  0.0182525579163\nTotal error:  0.01765554252\nTotal error:  0.0195383170766\n"
     ]
    },
    {
     "name": "stdout",
     "output_type": "stream",
     "text": [
      "Total error:  0.0191224744804\nTotal error:  0.0175058518183\nTotal error:  0.0195470158558\nTotal error:  0.0193230972832\nTotal error:  0.0189952098939\n"
     ]
    },
    {
     "name": "stdout",
     "output_type": "stream",
     "text": [
      "Total error:  0.0182873622097\nTotal error:  0.0203049808909\nTotal error:  0.019107075519\nTotal error:  0.0189515854466\n"
     ]
    },
    {
     "name": "stdout",
     "output_type": "stream",
     "text": [
      "Total error:  0.0190421269186\nTotal error:  0.0193720134696\nTotal error:  0.0186186669734\nTotal error:  0.0174101122322\nTotal error:  0.0199832091193\n"
     ]
    },
    {
     "name": "stdout",
     "output_type": "stream",
     "text": [
      "Total error:  0.0191672882334\nTotal error:  0.017131137913\nTotal error:  0.019604998604\nTotal error:  0.0198319093964\nTotal error:  0.0178994732357\n"
     ]
    },
    {
     "name": "stdout",
     "output_type": "stream",
     "text": [
      "Total error:  0.0195323690554\nTotal error:  0.0176869027464\nTotal error:  0.0188038740542\nTotal error:  0.0198496852191\nTotal error:  0.0178574815608\n"
     ]
    },
    {
     "name": "stdout",
     "output_type": "stream",
     "text": [
      "Total error:  0.0200857354812\nTotal error:  0.0193024978007\nTotal error:  0.0189683072952\nTotal error:  0.0171896223452\nTotal error:  0.0189686927554\n"
     ]
    },
    {
     "name": "stdout",
     "output_type": "stream",
     "text": [
      "Total error:  0.0185912925907\nTotal error:  0.0189651895184\nTotal error:  0.0198032019808\nTotal error:  0.0192520019787\nTotal error:  0.0193509478568\n"
     ]
    },
    {
     "name": "stdout",
     "output_type": "stream",
     "text": [
      "Total error:  0.0195827741471\nTotal error:  0.0186498773327\nTotal error:  0.0183039586702\nTotal error:  0.0181553766278\nTotal error:  0.0189580072248\n"
     ]
    },
    {
     "name": "stdout",
     "output_type": "stream",
     "text": [
      "Total error:  0.0193163165901\nTotal error:  0.01798804609\nTotal error:  0.0194301868054\nTotal error:  0.017548458996\nTotal error:  0.0178179615995\n"
     ]
    },
    {
     "name": "stdout",
     "output_type": "stream",
     "text": [
      "Total error:  0.0195897375305\nTotal error:  0.0170164750578\nTotal error:  0.0193968379508\nTotal error:  0.0188296547478\n"
     ]
    },
    {
     "name": "stdout",
     "output_type": "stream",
     "text": [
      "Total error:  0.0180680224894\nTotal error:  0.018970133974\nTotal error:  0.0178279852455\nTotal error:  0.0160213684232\nTotal error:  0.0175666662272\n"
     ]
    },
    {
     "name": "stdout",
     "output_type": "stream",
     "text": [
      "Total error:  0.018284544835\nTotal error:  0.0193941327077\nTotal error:  0.0186848562491\nTotal error:  0.0192361939881\n"
     ]
    },
    {
     "name": "stdout",
     "output_type": "stream",
     "text": [
      "Total error:  0.0188758885872\nTotal error:  0.0189641528239\nTotal error:  0.0187640707327\nTotal error:  0.0190373828512\nTotal error:  0.0172213649178\n"
     ]
    },
    {
     "name": "stdout",
     "output_type": "stream",
     "text": [
      "Total error:  0.0152724392928\nTotal error:  0.0192907342344\nTotal error:  0.0193275583895\nTotal error:  0.0182347831633\nTotal error:  0.0180557133519\n"
     ]
    },
    {
     "name": "stdout",
     "output_type": "stream",
     "text": [
      "Total error:  0.0187191517647\nTotal error:  0.0190105451798\nTotal error:  0.0193108086881\nTotal error:  0.0184820373809\n"
     ]
    },
    {
     "name": "stdout",
     "output_type": "stream",
     "text": [
      "Total error:  0.0143643313296\nTotal error:  0.0188046202251\nTotal error:  0.0188602214967\nTotal error:  0.0186699859149\n"
     ]
    },
    {
     "name": "stdout",
     "output_type": "stream",
     "text": [
      "Total error:  0.0192478765573\nTotal error:  0.0180674274215\nTotal error:  0.018450084328\nTotal error:  0.0185329320952\nTotal error:  0.0184564153499"
     ]
    },
    {
     "name": "stdout",
     "output_type": "stream",
     "text": [
      "\nTotal error:  0.0194156944267\nTotal error:  0.0175264357232\nTotal error:  0.0186843934283\nTotal error:  0.0195410996497\nTotal error:  0.0192032464354\n"
     ]
    },
    {
     "name": "stdout",
     "output_type": "stream",
     "text": [
      "Total error:  0.0184613125051\nTotal error:  0.0190104150533\nTotal error:  0.0193188612384\nTotal error:  0.0192808451068\n"
     ]
    },
    {
     "name": "stdout",
     "output_type": "stream",
     "text": [
      "Total error:  0.0181563830508\nTotal error:  0.0187919346537\nTotal error:  0.0193175890352\nTotal error:  0.016681683087\n"
     ]
    },
    {
     "name": "stdout",
     "output_type": "stream",
     "text": [
      "Total error:  0.0190485287075\nTotal error:  0.0169046448393\nTotal error:  0.0184490164291\nTotal error:  0.019541345882\n"
     ]
    },
    {
     "name": "stdout",
     "output_type": "stream",
     "text": [
      "Total error:  0.0190650065536\nTotal error:  0.0196685561442\nTotal error:  0.0183531269841\nTotal error:  0.0195269551466\nTotal error:  0.0189073086787"
     ]
    },
    {
     "name": "stdout",
     "output_type": "stream",
     "text": [
      "\nTotal error:  0.0151968534783\nTotal error:  0.0186271022128\nTotal error:  0.018762420136\nTotal error:  0.0169161935008\nTotal error:  0.0189615545212\n"
     ]
    },
    {
     "name": "stdout",
     "output_type": "stream",
     "text": [
      "Total error:  0.0187682731774\nTotal error:  0.0190840936348\nTotal error:  0.0190051662121\nTotal error:  0.0194137662833\nTotal error:  0.019111629544\n"
     ]
    },
    {
     "name": "stdout",
     "output_type": "stream",
     "text": [
      "Total error:  0.0183422971393\nTotal error:  0.0182635787965\nTotal error:  0.0184891613024\nTotal error:  0.0191308095005\nTotal error:  0.0184520908881"
     ]
    },
    {
     "name": "stdout",
     "output_type": "stream",
     "text": [
      "\nTotal error:  0.0198880501195\nTotal error:  0.0193803560033\nTotal error:  0.0190265065677\nTotal error:  0.0179127481537\n"
     ]
    },
    {
     "name": "stdout",
     "output_type": "stream",
     "text": [
      "Total error:  0.0184683701752\nTotal error:  0.017291212232\nTotal error:  0.0181969983691\nTotal error:  0.0186632672581\n"
     ]
    },
    {
     "name": "stdout",
     "output_type": "stream",
     "text": [
      "Total error:  0.0186393309305\nTotal error:  0.0193434740383\nTotal error:  0.0189522221125\nTotal error:  0.0176988511651\nTotal error:  0.0176080866888"
     ]
    },
    {
     "name": "stdout",
     "output_type": "stream",
     "text": [
      "\nTotal error:  0.0189954980147\nTotal error:  0.0162688123375\nTotal error:  0.0184604330516\nTotal error:  0.0172258561743\nTotal error:  0.0193195076376"
     ]
    },
    {
     "name": "stdout",
     "output_type": "stream",
     "text": [
      "\nTotal error:  0.0181248703298\nTotal error:  0.0170289084303\nTotal error:  0.0170697685295\n"
     ]
    },
    {
     "name": "stdout",
     "output_type": "stream",
     "text": [
      "Total error:  0.0176772935749\nTotal error:  0.0181725219637\nTotal error:  0.0161743296895\nTotal error:  0.0174824794429\nTotal error:  0.017140005595\n"
     ]
    },
    {
     "name": "stdout",
     "output_type": "stream",
     "text": [
      "Total error:  0.0184092720865\nTotal error:  0.0173568842075\nTotal error:  0.0175903785284\nTotal error:  0.0187277756443\nTotal error:  0.0183947685769"
     ]
    },
    {
     "name": "stdout",
     "output_type": "stream",
     "text": [
      "\nTotal error:  0.0180184588042\nTotal error:  0.0190090210349\nTotal error:  0.0178769738578\nTotal error:  0.0190638472125\nTotal error:  0.0183909384989\n"
     ]
    },
    {
     "name": "stdout",
     "output_type": "stream",
     "text": [
      "Total error:  0.0182728075087\nTotal error:  0.0188545255031\nTotal error:  0.0187860217274\nTotal error:  0.0188398497054\nTotal error:  0.018456524554\n"
     ]
    },
    {
     "name": "stdout",
     "output_type": "stream",
     "text": [
      "Total error:  0.0174862012717\nTotal error:  0.0190150953072\nTotal error:  0.0171245371383\nTotal error:  0.0191624284384\nTotal error:  0.0194012818629\n"
     ]
    },
    {
     "name": "stdout",
     "output_type": "stream",
     "text": [
      "Total error:  0.0182805837109\nTotal error:  0.0192987139185\nTotal error:  0.0180451254369\nTotal error:  0.0183795988638\nTotal error:  0.0183089049075\n"
     ]
    },
    {
     "name": "stdout",
     "output_type": "stream",
     "text": [
      "Total error:  0.018704992457\nTotal error:  0.0186534285625\nTotal error:  0.0179943256998\nTotal error:  0.019146717776\nTotal error:  0.0191678607273\n"
     ]
    },
    {
     "name": "stdout",
     "output_type": "stream",
     "text": [
      "Total error:  0.0184359667174\nTotal error:  0.0170512683755\nTotal error:  0.0183365790923\nTotal error:  0.0182263940164\nTotal error:  0.0182513135825\n"
     ]
    },
    {
     "name": "stdout",
     "output_type": "stream",
     "text": [
      "Total error:  0.0180799282471\nTotal error:  0.0184800206799\nTotal error:  0.0180553726471\nTotal error:  0.0184518165088\nTotal error:  0.0174761961463\n"
     ]
    },
    {
     "name": "stdout",
     "output_type": "stream",
     "text": [
      "Total error:  0.0192670140318\nTotal error:  0.0191476200663\nTotal error:  0.0182171521339\nTotal error:  0.0189822195507\nTotal error:  0.0181759377717"
     ]
    },
    {
     "name": "stdout",
     "output_type": "stream",
     "text": [
      "\nTotal error:  0.0186017356017\nTotal error:  0.0184224061271\nTotal error:  0.0191593199082\nTotal error:  0.0172271366773\nTotal error:  0.0180433347188\n"
     ]
    },
    {
     "name": "stdout",
     "output_type": "stream",
     "text": [
      "Total error:  0.0187321382452\nTotal error:  0.0177389048519\nTotal error:  0.0180601596714\nTotal error:  0.0174007327492\n"
     ]
    },
    {
     "name": "stdout",
     "output_type": "stream",
     "text": [
      "Total error:  0.017116343751\nTotal error:  0.018011574416\nTotal error:  0.0172778516749\nTotal error:  0.0202279809095\n"
     ]
    },
    {
     "name": "stdout",
     "output_type": "stream",
     "text": [
      "Total error:  0.0186161909636\nTotal error:  0.0190157563392\nTotal error:  0.0187037353259\nTotal error:  0.0174869268027\nTotal error:  0.0177527595898\n"
     ]
    },
    {
     "name": "stdout",
     "output_type": "stream",
     "text": [
      "Total error:  0.0177791786342\nTotal error:  0.0167787683167\nTotal error:  0.017970933061\nTotal error:  0.0190266977466\n"
     ]
    },
    {
     "name": "stdout",
     "output_type": "stream",
     "text": [
      "Total error:  0.0182423440997\nTotal error:  0.0183232551581\nTotal error:  0.0164949338483\nTotal error:  0.0182290592039\n"
     ]
    },
    {
     "name": "stdout",
     "output_type": "stream",
     "text": [
      "Total error:  0.0182331914851\nTotal error:  0.0181237554828\nTotal error:  0.0162498285631\nTotal error:  0.0185600575162\n"
     ]
    },
    {
     "name": "stdout",
     "output_type": "stream",
     "text": [
      "Total error:  0.0180489825804\nTotal error:  0.0183819937142\nTotal error:  0.0183421137895\nTotal error:  0.0189021854703\nTotal error:  0.0186403768566\n"
     ]
    },
    {
     "name": "stdout",
     "output_type": "stream",
     "text": [
      "Total error:  0.0186232866047\nTotal error:  0.0175895068242\nTotal error:  0.0191856134882\nTotal error:  0.0188759017629\nTotal error:  0.0183440654813"
     ]
    },
    {
     "name": "stdout",
     "output_type": "stream",
     "text": [
      "\nTotal error:  0.0181810532367\nTotal error:  0.0185594146414\nTotal error:  0.0185240981598\nTotal error:  0.0180535752678\n"
     ]
    },
    {
     "name": "stdout",
     "output_type": "stream",
     "text": [
      "Total error:  0.0176938119576\nTotal error:  0.0195491497145\nTotal error:  0.0169279449345\nTotal error:  0.0181338312201"
     ]
    },
    {
     "name": "stdout",
     "output_type": "stream",
     "text": [
      "\nTotal error:  0.0186599096299\nTotal error:  0.018238077705\nTotal error:  0.0189775993678\nTotal error:  0.0174540199692\n"
     ]
    },
    {
     "name": "stdout",
     "output_type": "stream",
     "text": [
      "Total error:  0.0185682300048\nTotal error:  0.0163001935569\nTotal error:  0.0189617707888\nTotal error:  0.018313038864\nTotal error:  0.0177921477088\n"
     ]
    },
    {
     "name": "stdout",
     "output_type": "stream",
     "text": [
      "Total error:  0.0185753379798\nTotal error:  0.0189633540947\nTotal error:  0.0175555124429\nTotal error:  0.0183347536595\nTotal error:  0.01714160179"
     ]
    },
    {
     "name": "stdout",
     "output_type": "stream",
     "text": [
      "\nTotal error:  0.0179997864802\nTotal error:  0.0184289561669\nTotal error:  0.0165025552727\nTotal error:  0.0180891236297\n"
     ]
    },
    {
     "name": "stdout",
     "output_type": "stream",
     "text": [
      "Total error:  0.0182613883735\nTotal error:  0.0176118176148\nTotal error:  0.0182685148739\nTotal error:  0.0189739984658\n"
     ]
    },
    {
     "name": "stdout",
     "output_type": "stream",
     "text": [
      "Total error:  0.0186638913969\nTotal error:  0.0192318348897\nTotal error:  0.0175965859787\nTotal error:  0.0182106354375\n"
     ]
    },
    {
     "name": "stdout",
     "output_type": "stream",
     "text": [
      "Total error:  0.0168460708205\nTotal error:  0.0177779443384\nTotal error:  0.0182563775251\nTotal error:  0.0193015889887\n"
     ]
    },
    {
     "name": "stdout",
     "output_type": "stream",
     "text": [
      "Total error:  0.0174194454656\nTotal error:  0.0174760279508\nTotal error:  0.0184561216703\nTotal error:  0.0178131637051\n"
     ]
    },
    {
     "name": "stdout",
     "output_type": "stream",
     "text": [
      "Total error:  0.0173797497642\nTotal error:  0.0191514473775\nTotal error:  0.0182381333673\nTotal error:  0.0179506169646\n"
     ]
    },
    {
     "name": "stdout",
     "output_type": "stream",
     "text": [
      "Total error:  0.0172415026934\nTotal error:  0.018420603987\nTotal error:  0.0186638989152\nTotal error:  0.0191233389985\n"
     ]
    },
    {
     "name": "stdout",
     "output_type": "stream",
     "text": [
      "Total error:  0.0171544672119\nTotal error:  0.0174659962343\nTotal error:  0.0178920209777\nTotal error:  0.0180538139852\n"
     ]
    },
    {
     "name": "stdout",
     "output_type": "stream",
     "text": [
      "Total error:  0.0184977271826\nTotal error:  0.0173625056412\nTotal error:  0.0181648724193\nTotal error:  0.0173591854749\n"
     ]
    },
    {
     "name": "stdout",
     "output_type": "stream",
     "text": [
      "Total error:  0.0178789938646\nTotal error:  0.0169169863508\nTotal error:  0.0184566014018\nTotal error:  0.0185255349845\n"
     ]
    },
    {
     "name": "stdout",
     "output_type": "stream",
     "text": [
      "Total error:  0.0171562929879\nTotal error:  0.0179721716363\nTotal error:  0.0180383961537\nTotal error:  0.0180035849081\n"
     ]
    },
    {
     "name": "stdout",
     "output_type": "stream",
     "text": [
      "Total error:  0.0187098641749\nTotal error:  0.0181977056142\nTotal error:  0.0181278130465\nTotal error:  0.018190789827\n"
     ]
    },
    {
     "name": "stdout",
     "output_type": "stream",
     "text": [
      "Total error:  0.0180533241305\nTotal error:  0.0180693681809\nTotal error:  0.0172859699922\nTotal error:  0.0184590217005\n"
     ]
    },
    {
     "name": "stdout",
     "output_type": "stream",
     "text": [
      "Total error:  0.0185416277589\nTotal error:  0.0181758688857\nTotal error:  0.0174603519737\nTotal error:  0.017529122301\n"
     ]
    },
    {
     "name": "stdout",
     "output_type": "stream",
     "text": [
      "Total error:  0.0184376126414\nTotal error:  0.0177544322187\nTotal error:  0.0182146036209\nTotal error:  0.0171066694017\n"
     ]
    },
    {
     "name": "stdout",
     "output_type": "stream",
     "text": [
      "Total error:  0.0169949330224\nTotal error:  0.0180662692776\nTotal error:  0.019256361601\nTotal error:  0.0176108393369\n"
     ]
    },
    {
     "name": "stdout",
     "output_type": "stream",
     "text": [
      "Total error:  0.0191393847561\nTotal error:  0.0178865652192\nTotal error:  0.0180980265257\n"
     ]
    },
    {
     "name": "stdout",
     "output_type": "stream",
     "text": [
      "Total error:  0.0180452589358\nTotal error:  0.0177423933228\nTotal error:  0.018815515727\n"
     ]
    },
    {
     "name": "stdout",
     "output_type": "stream",
     "text": [
      "Total error:  0.0180636533881\nTotal error:  0.0186751742857\nTotal error:  0.018198608236\n"
     ]
    },
    {
     "name": "stdout",
     "output_type": "stream",
     "text": [
      "Total error:  0.0184963578176\nTotal error:  0.018380187826\nTotal error:  0.0173988821851\nTotal error:  0.0184371258909\n"
     ]
    },
    {
     "name": "stdout",
     "output_type": "stream",
     "text": [
      "Total error:  0.0169022292442\nTotal error:  0.0180286357516\nTotal error:  0.0178125395824\nTotal error:  0.0174129967047\n"
     ]
    },
    {
     "name": "stdout",
     "output_type": "stream",
     "text": [
      "Total error:  0.0167051157284\nTotal error:  0.0188687524675\nTotal error:  0.0184597109992\nTotal error:  0.0174075675313\n"
     ]
    },
    {
     "name": "stdout",
     "output_type": "stream",
     "text": [
      "Total error:  0.0185511663076\nTotal error:  0.0159960356494\nTotal error:  0.0186099835388\n"
     ]
    },
    {
     "name": "stdout",
     "output_type": "stream",
     "text": [
      "Total error:  0.0186003993813\nTotal error:  0.0176000790784\nTotal error:  0.0183505548962\n"
     ]
    },
    {
     "name": "stdout",
     "output_type": "stream",
     "text": [
      "Total error:  0.0167467135378\nTotal error:  0.0164891323433\n"
     ]
    },
    {
     "name": "stdout",
     "output_type": "stream",
     "text": [
      "Total error:  0.0170665913335\nTotal error:  0.0174173183905\nTotal error:  0.0173481181845\n"
     ]
    },
    {
     "name": "stdout",
     "output_type": "stream",
     "text": [
      "Total error:  0.0187733608676\nTotal error:  0.0176193131862\nTotal error:  0.0184359707969\n"
     ]
    },
    {
     "name": "stdout",
     "output_type": "stream",
     "text": [
      "Total error:  0.0182368706011\nTotal error:  0.0173385623205\nTotal error:  0.0187662481487\n"
     ]
    },
    {
     "name": "stdout",
     "output_type": "stream",
     "text": [
      "Total error:  0.0184167914585\nTotal error:  0.0182175448764\nTotal error:  0.0178677348706\nTotal error:  0.018328963048\n"
     ]
    },
    {
     "name": "stdout",
     "output_type": "stream",
     "text": [
      "Total error:  0.0172735211946\nTotal error:  0.0169292163621\nTotal error:  0.0174239274847\nTotal error:  0.0183907879923\n"
     ]
    },
    {
     "name": "stdout",
     "output_type": "stream",
     "text": [
      "Total error:  0.0186249401781\nTotal error:  0.0169022246838\nTotal error:  0.0154687581595\nTotal error:  0.0184423608138\n"
     ]
    },
    {
     "name": "stdout",
     "output_type": "stream",
     "text": [
      "Total error:  0.0167687276391\nTotal error:  0.0168244599015\nTotal error:  0.0178132610273\nTotal error:  0.0176669311803\n"
     ]
    },
    {
     "name": "stdout",
     "output_type": "stream",
     "text": [
      "Total error:  0.0182788414188\nTotal error:  0.017777058967\nTotal error:  0.0183404027711\nTotal error:  0.0183096335695\n"
     ]
    },
    {
     "name": "stdout",
     "output_type": "stream",
     "text": [
      "Total error:  0.0181064367144\nTotal error:  0.0164271711733\nTotal error:  0.0188057734067\nTotal error:  0.0177126654428\n"
     ]
    },
    {
     "name": "stdout",
     "output_type": "stream",
     "text": [
      "Total error:  0.0155893005962\nTotal error:  0.0179222118247\nTotal error:  0.016679158295\nTotal error:  0.0183877297107\nTotal error:  0.0175242247949"
     ]
    },
    {
     "name": "stdout",
     "output_type": "stream",
     "text": [
      "\nTotal error:  0.0167782283885\nTotal error:  0.018472727619\nTotal error:  0.0174237634122\nTotal error:  0.018955729207\n"
     ]
    },
    {
     "name": "stdout",
     "output_type": "stream",
     "text": [
      "Total error:  0.0180876803721\nTotal error:  0.0180543032381\nTotal error:  0.0183454816619\nTotal error:  0.0182804861528\n"
     ]
    },
    {
     "name": "stdout",
     "output_type": "stream",
     "text": [
      "Total error:  0.0167266372388\nTotal error:  0.0176335018848\nTotal error:  0.0175331318859\nTotal error:  0.0179290136859\n"
     ]
    },
    {
     "name": "stdout",
     "output_type": "stream",
     "text": [
      "Total error:  0.0185693486953\nTotal error:  0.0174088860007\nTotal error:  0.0154034714365\nTotal error:  0.018634898187\n"
     ]
    },
    {
     "name": "stdout",
     "output_type": "stream",
     "text": [
      "Total error:  0.0185371379878\nTotal error:  0.0180647582358\nTotal error:  0.0180310049534\nTotal error:  0.0168983394132\n"
     ]
    },
    {
     "name": "stdout",
     "output_type": "stream",
     "text": [
      "Total error:  0.017971954069\nTotal error:  0.0161552945722\nTotal error:  0.0167431948062\nTotal error:  0.0168452375173\nTotal error:  0.0182241019217\n"
     ]
    },
    {
     "name": "stdout",
     "output_type": "stream",
     "text": [
      "Total error:  0.0175146215397\nTotal error:  0.0183568242473\nTotal error:  0.0180192413303\nTotal error:  0.0185773299512\n"
     ]
    },
    {
     "name": "stdout",
     "output_type": "stream",
     "text": [
      "Total error:  0.0175012991795\nTotal error:  0.0176930333078\nTotal error:  0.0179251833217\nTotal error:  0.0168754456052\nTotal error:  0.0176284385141"
     ]
    },
    {
     "name": "stdout",
     "output_type": "stream",
     "text": [
      "\nTotal error:  0.0182354577526\nTotal error:  0.0173566236086\nTotal error:  0.0180134224915\nTotal error:  0.0177271937965\nTotal error:  0.0157817027678"
     ]
    },
    {
     "name": "stdout",
     "output_type": "stream",
     "text": [
      "\nTotal error:  0.0179213446785\nTotal error:  0.0176040238519\nTotal error:  0.0166553409367\nTotal error:  0.0180606547279\nTotal error:  0.0170681035386\n"
     ]
    },
    {
     "name": "stdout",
     "output_type": "stream",
     "text": [
      "Total error:  0.0180867244767\nTotal error:  0.018081332636\nTotal error:  0.0177028371628\nTotal error:  0.0174890265762\n"
     ]
    },
    {
     "name": "stdout",
     "output_type": "stream",
     "text": [
      "Total error:  0.0177791046565\nTotal error:  0.0177777010685\nTotal error:  0.0158722515356\nTotal error:  0.0177626976948\n"
     ]
    },
    {
     "name": "stdout",
     "output_type": "stream",
     "text": [
      "Total error:  0.0177667393259\nTotal error:  0.0178968158949\nTotal error:  0.0154612277991\nTotal error:  0.0182856046535\n"
     ]
    },
    {
     "name": "stdout",
     "output_type": "stream",
     "text": [
      "Total error:  0.018440826045\nTotal error:  0.0183796880427\nTotal error:  0.0181779982504\nTotal error:  0.0169269960115\n"
     ]
    },
    {
     "name": "stdout",
     "output_type": "stream",
     "text": [
      "Total error:  0.0177141932116\nTotal error:  0.0172083644239\nTotal error:  0.0181993385409\nTotal error:  0.0182676377913\n"
     ]
    },
    {
     "name": "stdout",
     "output_type": "stream",
     "text": [
      "Total error:  0.0185032348285\nTotal error:  0.017050799365\nTotal error:  0.0176068808073\nTotal error:  0.0158122816625\nTotal error:  0.0188016427449\n"
     ]
    },
    {
     "name": "stdout",
     "output_type": "stream",
     "text": [
      "Total error:  0.0179764818096\nTotal error:  0.0176717573111\nTotal error:  0.0178344136605\nTotal error:  0.0175466781898\nTotal error:  0.0177817722144\n"
     ]
    },
    {
     "name": "stdout",
     "output_type": "stream",
     "text": [
      "Total error:  0.0181245087522\nTotal error:  0.0174785047755\nTotal error:  0.017910786771\nTotal error:  0.0182305343518\n"
     ]
    },
    {
     "name": "stdout",
     "output_type": "stream",
     "text": [
      "Total error:  0.0182709031542\nTotal error:  0.0169867967008\nTotal error:  0.0177918333801\nTotal error:  0.0179349585892\n"
     ]
    },
    {
     "name": "stdout",
     "output_type": "stream",
     "text": [
      "Total error:  0.0180958186916\nTotal error:  0.0180711362212\nTotal error:  0.0169928969633\nTotal error:  0.0182930920123\n"
     ]
    },
    {
     "name": "stdout",
     "output_type": "stream",
     "text": [
      "Total error:  0.017861357409\nTotal error:  0.0178843680214\nTotal error:  0.0158517976188\nTotal error:  0.018283587323\n"
     ]
    },
    {
     "name": "stdout",
     "output_type": "stream",
     "text": [
      "Total error:  0.0171748483113\nTotal error:  0.0182887782426\nTotal error:  0.0180359800611\n"
     ]
    },
    {
     "name": "stdout",
     "output_type": "stream",
     "text": [
      "Total error:  0.0175536983046\nTotal error:  0.0175012487092\nTotal error:  0.0161707583565\nTotal error:  0.0149968059211"
     ]
    },
    {
     "name": "stdout",
     "output_type": "stream",
     "text": [
      "\nTotal error:  0.0184298480194\nTotal error:  0.0182555145692\nTotal error:  0.0180760527465\nTotal error:  0.0181385626372\nTotal error:  0.0175518397668\n"
     ]
    },
    {
     "name": "stdout",
     "output_type": "stream",
     "text": [
      "Total error:  0.0179058671911\nTotal error:  0.0161510607469\nTotal error:  0.0173680245425\nTotal error:  0.0176521888089\n"
     ]
    },
    {
     "name": "stdout",
     "output_type": "stream",
     "text": [
      "Total error:  0.0173685694092\nTotal error:  0.0174359479017\nTotal error:  0.0170188210278\nTotal error:  0.0173957824314\n"
     ]
    },
    {
     "name": "stdout",
     "output_type": "stream",
     "text": [
      "Total error:  0.0177971482187\nTotal error:  0.0181916226671\nTotal error:  0.0165654188408\nTotal error:  0.0182869037612\nTotal error:  0.0165606479353\n"
     ]
    },
    {
     "name": "stdout",
     "output_type": "stream",
     "text": [
      "Total error:  0.0167796690101\nTotal error:  0.0171204430971\nTotal error:  0.0181339734631\nTotal error:  0.0172855415014\n"
     ]
    },
    {
     "name": "stdout",
     "output_type": "stream",
     "text": [
      "Total error:  0.0181262479739\nTotal error:  0.0179973368962\nTotal error:  0.0174647949932\nTotal error:  0.0170855936006\nTotal error:  0.0170063993163\n"
     ]
    },
    {
     "name": "stdout",
     "output_type": "stream",
     "text": [
      "Total error:  0.0182894005367\nTotal error:  0.0181512356308\nTotal error:  0.0181381551221\nTotal error:  0.0181014855344\nTotal error:  0.0182722795565"
     ]
    },
    {
     "name": "stdout",
     "output_type": "stream",
     "text": [
      "\nTotal error:  0.018070607259\nTotal error:  0.01720494842\nTotal error:  0.0183732986987\nTotal error:  0.018219548416\nTotal error:  0.0174876109882"
     ]
    },
    {
     "name": "stdout",
     "output_type": "stream",
     "text": [
      "\nTotal error:  0.0142581500822\nTotal error:  0.0181033287348\nTotal error:  0.0168873460458\nTotal error:  0.017131948725\nTotal error:  0.0174587698312\n"
     ]
    },
    {
     "name": "stdout",
     "output_type": "stream",
     "text": [
      "Total error:  0.0175679184885\nTotal error:  0.0166376353403\nTotal error:  0.0176517063368\nTotal error:  0.0180411376444\n"
     ]
    },
    {
     "name": "stdout",
     "output_type": "stream",
     "text": [
      "Total error:  0.0181373494\nTotal error:  0.0173440016199\nTotal error:  0.0182872825262\nTotal error:  0.0170321839907\n"
     ]
    },
    {
     "name": "stdout",
     "output_type": "stream",
     "text": [
      "Total error:  0.0174554205769\nTotal error:  0.0180680040352\nTotal error:  0.0166524197965\nTotal error:  0.0182682692882\n"
     ]
    },
    {
     "name": "stdout",
     "output_type": "stream",
     "text": [
      "Total error:  0.0181246494072\nTotal error:  0.017381950835\nTotal error:  0.0179730087743\nTotal error:  0.0170842665065\n"
     ]
    },
    {
     "name": "stdout",
     "output_type": "stream",
     "text": [
      "Total error:  0.0176252757589\nTotal error:  0.0173009773599\nTotal error:  0.0176253917893\nTotal error:  0.0181591741859\n"
     ]
    },
    {
     "name": "stdout",
     "output_type": "stream",
     "text": [
      "Total error:  0.0171129375662\nTotal error:  0.0175555663507\nTotal error:  0.0175713398157\nTotal error:  0.0177678405011\n"
     ]
    },
    {
     "name": "stdout",
     "output_type": "stream",
     "text": [
      "Total error:  0.0179253374961\nTotal error:  0.0177253522713\nTotal error:  0.0182231554004\nTotal error:  0.0169415177619\nTotal error:  0.0171902235876\n"
     ]
    },
    {
     "name": "stdout",
     "output_type": "stream",
     "text": [
      "Total error:  0.0179238431024\nTotal error:  0.0168694019183\nTotal error:  0.0182979946652\nTotal error:  0.0165504139685\nTotal error:  0.0174475302141\n"
     ]
    },
    {
     "name": "stdout",
     "output_type": "stream",
     "text": [
      "Total error:  0.0173882931346\nTotal error:  0.0177310197879\nTotal error:  0.0181622616734\nTotal error:  0.0183845012529\n"
     ]
    },
    {
     "name": "stdout",
     "output_type": "stream",
     "text": [
      "Total error:  0.0177112378028\nTotal error:  0.015810523032\nTotal error:  0.0159969417116\nTotal error:  0.0178170026915\n"
     ]
    },
    {
     "name": "stdout",
     "output_type": "stream",
     "text": [
      "Total error:  0.0175591199317\nTotal error:  0.0169605762874\nTotal error:  0.0162869335326\nTotal error:  0.0177805571274\nTotal error:  0.0166825335542"
     ]
    },
    {
     "name": "stdout",
     "output_type": "stream",
     "text": [
      "\nTotal error:  0.017318737141\nTotal error:  0.0160055210192\nTotal error:  0.0179991729304\nTotal error:  0.0180942521067\n"
     ]
    },
    {
     "name": "stdout",
     "output_type": "stream",
     "text": [
      "Total error:  0.0169029042356\nTotal error:  0.017531494502\nTotal error:  0.0180537295419\nTotal error:  0.0158916632008\n"
     ]
    },
    {
     "name": "stdout",
     "output_type": "stream",
     "text": [
      "Total error:  0.0176290795544\nTotal error:  0.0178399505289\nTotal error:  0.0160204340083\nTotal error:  0.0181842504978\n"
     ]
    },
    {
     "name": "stdout",
     "output_type": "stream",
     "text": [
      "Total error:  0.0177054097394\nTotal error:  0.016018913072\nTotal error:  0.017960937483\nTotal error:  0.0176588040551\n"
     ]
    },
    {
     "name": "stdout",
     "output_type": "stream",
     "text": [
      "Total error:  0.0180900455507\nTotal error:  0.0174914466994\nTotal error:  0.0171484522294\nTotal error:  0.0166774793708\nTotal error:  0.0178611898252"
     ]
    },
    {
     "name": "stdout",
     "output_type": "stream",
     "text": [
      "\nTotal error:  0.01725022991\nTotal error:  0.0170028053292\nTotal error:  0.0177590367079\nTotal error:  0.0163308923936\n"
     ]
    },
    {
     "name": "stdout",
     "output_type": "stream",
     "text": [
      "Total error:  0.0152065755889\nTotal error:  0.0175147363247\nTotal error:  0.0173884284188\nTotal error:  0.0174332531066\n"
     ]
    },
    {
     "name": "stdout",
     "output_type": "stream",
     "text": [
      "Total error:  0.0169621544144\nTotal error:  0.0173203771006\nTotal error:  0.01765907502\nTotal error:  0.0171463180053\nTotal error:  0.0167205514778"
     ]
    },
    {
     "name": "stdout",
     "output_type": "stream",
     "text": [
      "\nTotal error:  0.0168059102337\nTotal error:  0.0171900574172\nTotal error:  0.0177635089929\nTotal error:  0.0162929495855\nTotal error:  0.0173847888056"
     ]
    },
    {
     "name": "stdout",
     "output_type": "stream",
     "text": [
      "\nTotal error:  0.0174757646452\nTotal error:  0.0178343066517\nTotal error:  0.0168896171218\nTotal error:  0.0178362654874\n"
     ]
    },
    {
     "name": "stdout",
     "output_type": "stream",
     "text": [
      "Total error:  0.0174329234403\nTotal error:  0.017666684832\nTotal error:  0.0172948499941\nTotal error:  0.0178644352437\n"
     ]
    },
    {
     "name": "stdout",
     "output_type": "stream",
     "text": [
      "Total error:  0.0162543921574\nTotal error:  0.0174303934783\nTotal error:  0.0166757215171\nTotal error:  0.0159603790958\nTotal error:  0.0172901708267\n"
     ]
    },
    {
     "name": "stdout",
     "output_type": "stream",
     "text": [
      "Total error:  0.0161747618735\nTotal error:  0.017740501235\nTotal error:  0.0181248405696\nTotal error:  0.016489087193\n"
     ]
    },
    {
     "name": "stdout",
     "output_type": "stream",
     "text": [
      "Total error:  0.0176027390953\nTotal error:  0.0177061493474\nTotal error:  0.0180187240983\nTotal error:  0.0175335333551\n"
     ]
    },
    {
     "name": "stdout",
     "output_type": "stream",
     "text": [
      "Total error:  0.0163728268678\nTotal error:  0.0174805708448\nTotal error:  0.0179627778397\nTotal error:  0.0172353879686\n"
     ]
    },
    {
     "name": "stdout",
     "output_type": "stream",
     "text": [
      "Total error:  0.017128633711\nTotal error:  0.0168627519776\nTotal error:  0.0165477978462\nTotal error:  0.0169979751472\n"
     ]
    },
    {
     "name": "stdout",
     "output_type": "stream",
     "text": [
      "Total error:  0.0165686354945\nTotal error:  0.0181622172352\nTotal error:  0.0168305673114\nTotal error:  0.0171860762617\n"
     ]
    },
    {
     "name": "stdout",
     "output_type": "stream",
     "text": [
      "Total error:  0.0175897198958\nTotal error:  0.0174218769388\nTotal error:  0.0171887252484\nTotal error:  0.017470243422\n"
     ]
    },
    {
     "name": "stdout",
     "output_type": "stream",
     "text": [
      "Total error:  0.0175719879143\nTotal error:  0.0170476937376\nTotal error:  0.0172621058004\nTotal error:  0.0153027718337\n"
     ]
    },
    {
     "name": "stdout",
     "output_type": "stream",
     "text": [
      "Total error:  0.0171590742261\nTotal error:  0.0176678047446\nTotal error:  0.0175124217014\nTotal error:  0.0174554359526\n"
     ]
    },
    {
     "name": "stdout",
     "output_type": "stream",
     "text": [
      "Total error:  0.0179252782376\nTotal error:  0.0172801926186\nTotal error:  0.0179552780963\nTotal error:  0.0164279733331\n"
     ]
    },
    {
     "name": "stdout",
     "output_type": "stream",
     "text": [
      "Total error:  0.0176788659949\nTotal error:  0.0172103046536\nTotal error:  0.0172926260842\nTotal error:  0.0166909748922\n"
     ]
    },
    {
     "name": "stdout",
     "output_type": "stream",
     "text": [
      "Total error:  0.0162548883694\nTotal error:  0.0178565794282\nTotal error:  0.0172776146373\nTotal error:  0.0180079513642\n"
     ]
    },
    {
     "name": "stdout",
     "output_type": "stream",
     "text": [
      "Total error:  0.0167194957673\nTotal error:  0.0156161379245\nTotal error:  0.017422512969\nTotal error:  0.0167651282469\nTotal error:  0.016989169049\n"
     ]
    },
    {
     "name": "stdout",
     "output_type": "stream",
     "text": [
      "Total error:  0.0170033013413\nTotal error:  0.0180442793386\nTotal error:  0.0171963560475\nTotal error:  0.0163465522752\n"
     ]
    },
    {
     "name": "stdout",
     "output_type": "stream",
     "text": [
      "Total error:  0.0168105828659\nTotal error:  0.017584927821\nTotal error:  0.0181543873867\nTotal error:  0.0167564763191\n"
     ]
    },
    {
     "name": "stdout",
     "output_type": "stream",
     "text": [
      "Total error:  0.0166746579115\nTotal error:  0.0173880771369\nTotal error:  0.0177371987428\nTotal error:  0.0173543722688\n"
     ]
    },
    {
     "name": "stdout",
     "output_type": "stream",
     "text": [
      "Total error:  0.0175755651175\nTotal error:  0.0167923408575\nTotal error:  0.0180397287988\nTotal error:  0.0171376642228\nTotal error:  0.0171820588181\n"
     ]
    },
    {
     "name": "stdout",
     "output_type": "stream",
     "text": [
      "Total error:  0.0168940570947\nTotal error:  0.0178684929581\nTotal error:  0.0171158469136\nTotal error:  0.0177571795233\nTotal error:  0.0176471536515\n"
     ]
    },
    {
     "name": "stdout",
     "output_type": "stream",
     "text": [
      "Total error:  0.0169669379473\nTotal error:  0.0172745197652\nTotal error:  0.0171288479256\nTotal error:  0.0162298053895\nTotal error:  0.0173352818516\n"
     ]
    },
    {
     "name": "stdout",
     "output_type": "stream",
     "text": [
      "Total error:  0.0173602557792\nTotal error:  0.0166029998054\nTotal error:  0.0178101509021\nTotal error:  0.0177959625128\n"
     ]
    },
    {
     "name": "stdout",
     "output_type": "stream",
     "text": [
      "Total error:  0.0165927925182\nTotal error:  0.016787525382\nTotal error:  0.0175090880514\nTotal error:  0.0167016655286\n"
     ]
    },
    {
     "name": "stdout",
     "output_type": "stream",
     "text": [
      "Total error:  0.0175614397768\nTotal error:  0.0164273043045\nTotal error:  0.0164302942696\nTotal error:  0.0176044007836\nTotal error:  0.0177622269969\n"
     ]
    },
    {
     "name": "stdout",
     "output_type": "stream",
     "text": [
      "Total error:  0.0174513596565\nTotal error:  0.0156002163284\nTotal error:  0.0166583514287\nTotal error:  0.0178037874996\nTotal error:  0.0171310410849\n"
     ]
    },
    {
     "name": "stdout",
     "output_type": "stream",
     "text": [
      "Total error:  0.0173420560839\nTotal error:  0.0177550758716\nTotal error:  0.0171363717645\nTotal error:  0.0170203336639\n"
     ]
    },
    {
     "name": "stdout",
     "output_type": "stream",
     "text": [
      "Total error:  0.0149865494142\nTotal error:  0.0169491756638\nTotal error:  0.0171393659739\nTotal error:  0.0170214370379"
     ]
    },
    {
     "name": "stdout",
     "output_type": "stream",
     "text": [
      "\nTotal error:  0.0175403463106\nTotal error:  0.0175296146108\nTotal error:  0.0151005062728\nTotal error:  0.01579351324\n"
     ]
    },
    {
     "name": "stdout",
     "output_type": "stream",
     "text": [
      "Total error:  0.017030190057\nTotal error:  0.0171277088072\nTotal error:  0.0170285985647\nTotal error:  0.0168397793404\n"
     ]
    },
    {
     "name": "stdout",
     "output_type": "stream",
     "text": [
      "Total error:  0.0165429417592\nTotal error:  0.0167024995539\nTotal error:  0.0168963140959\nTotal error:  0.0174904584734\n"
     ]
    },
    {
     "name": "stdout",
     "output_type": "stream",
     "text": [
      "Total error:  0.0172292328889\nTotal error:  0.0175287204161\nTotal error:  0.0166008216833\nTotal error:  0.0172812553746\n"
     ]
    },
    {
     "name": "stdout",
     "output_type": "stream",
     "text": [
      "Total error:  0.0173565201864\nTotal error:  0.0166199226938\nTotal error:  0.0167674351525\nTotal error:  0.017631407482\nTotal error:  0.016702847481\n"
     ]
    },
    {
     "name": "stdout",
     "output_type": "stream",
     "text": [
      "Total error:  0.0173131208222\nTotal error:  0.0170973220509\nTotal error:  0.0167177063659\nTotal error:  0.0176909074623\nTotal error:  0.0166777630558"
     ]
    },
    {
     "name": "stdout",
     "output_type": "stream",
     "text": [
      "\nTotal error:  0.0171057557373\nTotal error:  0.0170819261035\nTotal error:  0.0176524291016\nTotal error:  0.017418311306\nTotal error:  0.0163948025424\n"
     ]
    },
    {
     "name": "stdout",
     "output_type": "stream",
     "text": [
      "Total error:  0.0177453795979\nTotal error:  0.0169536511104\nTotal error:  0.0176079652497\nTotal error:  0.0173753315325\n"
     ]
    },
    {
     "name": "stdout",
     "output_type": "stream",
     "text": [
      "Total error:  0.0169947953783\nTotal error:  0.0172746498675\nTotal error:  0.0163345269588\nTotal error:  0.0178235336801\n"
     ]
    },
    {
     "name": "stdout",
     "output_type": "stream",
     "text": [
      "Total error:  0.017402225949\nTotal error:  0.0168691530598\nTotal error:  0.0165612332763\nTotal error:  0.0174941358131\nTotal error:  0.0167194407189"
     ]
    },
    {
     "name": "stdout",
     "output_type": "stream",
     "text": [
      "\nTotal error:  0.0174587756963\nTotal error:  0.0171474322313\nTotal error:  0.0173271184134\nTotal error:  0.0173470134073\n"
     ]
    },
    {
     "name": "stdout",
     "output_type": "stream",
     "text": [
      "Total error:  0.0166717309876\nTotal error:  0.0177039662159\nTotal error:  0.0170231207655\nTotal error:  0.0165249702564\n"
     ]
    },
    {
     "name": "stdout",
     "output_type": "stream",
     "text": [
      "Total error:  0.0164230887685\nTotal error:  0.0175459243739\nTotal error:  0.0161043404191\nTotal error:  0.0173052971415\n"
     ]
    },
    {
     "name": "stdout",
     "output_type": "stream",
     "text": [
      "Total error:  0.0170896788135\nTotal error:  0.017091370579\nTotal error:  0.0175534133477\nTotal error:  0.0160541194511\nTotal error:  0.0167577186448\n"
     ]
    },
    {
     "name": "stdout",
     "output_type": "stream",
     "text": [
      "Total error:  0.0176271931645\nTotal error:  0.0173347299944\nTotal error:  0.0149494444873\nTotal error:  0.0185223529142\nTotal error:  0.0171960077739\n"
     ]
    },
    {
     "name": "stdout",
     "output_type": "stream",
     "text": [
      "Total error:  0.01742721869\nTotal error:  0.017255135983\nTotal error:  0.0166629849577\nTotal error:  0.0171445723519\n"
     ]
    },
    {
     "name": "stdout",
     "output_type": "stream",
     "text": [
      "Total error:  0.0165292080978\nTotal error:  0.0174532679166\nTotal error:  0.0177806143556\nTotal error:  0.0163786481972\n"
     ]
    },
    {
     "name": "stdout",
     "output_type": "stream",
     "text": [
      "Total error:  0.0168462355354\nTotal error:  0.0167316009117\nTotal error:  0.017542009199\nTotal error:  0.0172215441383\n"
     ]
    },
    {
     "name": "stdout",
     "output_type": "stream",
     "text": [
      "Total error:  0.017201504322\nTotal error:  0.0174410587507\nTotal error:  0.0173016937829\nTotal error:  0.0168929546085\n"
     ]
    },
    {
     "name": "stdout",
     "output_type": "stream",
     "text": [
      "Total error:  0.0168585550113\nTotal error:  0.0176245597255\nTotal error:  0.0171554549742\nTotal error:  0.0173989908313\n"
     ]
    },
    {
     "name": "stdout",
     "output_type": "stream",
     "text": [
      "Total error:  0.0174506827799\nTotal error:  0.0166615229243\nTotal error:  0.0170096244537\nTotal error:  0.0172052568043\n"
     ]
    },
    {
     "name": "stdout",
     "output_type": "stream",
     "text": [
      "Total error:  0.0175321381321\nTotal error:  0.0175728410969\nTotal error:  0.0163159381694\nTotal error:  0.0169312416358\n"
     ]
    },
    {
     "name": "stdout",
     "output_type": "stream",
     "text": [
      "Total error:  0.0174302864735\nTotal error:  0.0169525771399\nTotal error:  0.0162949355681\nTotal error:  0.0159629351003\nTotal error:  0.0169359226477"
     ]
    },
    {
     "name": "stdout",
     "output_type": "stream",
     "text": [
      "\nTotal error:  0.0159038986618\nTotal error:  0.0174345460104\nTotal error:  0.0171056888263\nTotal error:  0.0175094607664\n"
     ]
    },
    {
     "name": "stdout",
     "output_type": "stream",
     "text": [
      "Total error:  0.0167376477665\nTotal error:  0.0168055904168\nTotal error:  0.0151108520396\nTotal error:  0.0172785844058\n"
     ]
    },
    {
     "name": "stdout",
     "output_type": "stream",
     "text": [
      "Total error:  0.0174387781378\nTotal error:  0.0169686175777\nTotal error:  0.0166273101673\nTotal error:  0.0172127099174\n"
     ]
    },
    {
     "name": "stdout",
     "output_type": "stream",
     "text": [
      "Total error:  0.0177135547514\nTotal error:  0.0176083649087\nTotal error:  0.0170584266793\nTotal error:  0.0165233210579\n"
     ]
    },
    {
     "name": "stdout",
     "output_type": "stream",
     "text": [
      "Total error:  0.0174288072272\nTotal error:  0.0168085540977\nTotal error:  0.0166535427717\nTotal error:  0.0174846349732\n"
     ]
    },
    {
     "name": "stdout",
     "output_type": "stream",
     "text": [
      "Total error:  0.0162505767514\nTotal error:  0.0167615708202\nTotal error:  0.0172717706324\nTotal error:  0.0174727836001\n"
     ]
    },
    {
     "name": "stdout",
     "output_type": "stream",
     "text": [
      "Total error:  0.0164666354882\nTotal error:  0.0170007635666\nTotal error:  0.0158551497523\nTotal error:  0.0168406517781\n"
     ]
    },
    {
     "name": "stdout",
     "output_type": "stream",
     "text": [
      "Total error:  0.0168474823676\nTotal error:  0.0168490937077\nTotal error:  0.0168735722811\nTotal error:  0.0167060875611\n"
     ]
    },
    {
     "name": "stdout",
     "output_type": "stream",
     "text": [
      "Total error:  0.0159842102784\nTotal error:  0.0169597245079\nTotal error:  0.0165453617951\nTotal error:  0.0165410829155\n"
     ]
    },
    {
     "name": "stdout",
     "output_type": "stream",
     "text": [
      "Total error:  0.0169878950617\nTotal error:  0.0168706909869\nTotal error:  0.0168658553444\nTotal error:  0.0172170095243\n"
     ]
    },
    {
     "name": "stdout",
     "output_type": "stream",
     "text": [
      "Total error:  0.0170252986985\nTotal error:  0.0157409242647\nTotal error:  0.0176129318165\nTotal error:  0.0167860077318\n"
     ]
    },
    {
     "name": "stdout",
     "output_type": "stream",
     "text": [
      "Total error:  0.0168693505546\nTotal error:  0.0167270768532\nTotal error:  0.01722541744\nTotal error:  0.0172815916288\n"
     ]
    },
    {
     "name": "stdout",
     "output_type": "stream",
     "text": [
      "Total error:  0.016354145652\nTotal error:  0.0176447417139\nTotal error:  0.0165519440282\nTotal error:  0.0176110062385\n"
     ]
    },
    {
     "name": "stdout",
     "output_type": "stream",
     "text": [
      "Total error:  0.0156089759066\nTotal error:  0.0158299836952\nTotal error:  0.0163978772835\nTotal error:  0.0169385925536\n"
     ]
    },
    {
     "name": "stdout",
     "output_type": "stream",
     "text": [
      "Total error:  0.0175107118986\nTotal error:  0.0157431296572\nTotal error:  0.0168552450106\nTotal error:  0.0163078163283\n"
     ]
    },
    {
     "name": "stdout",
     "output_type": "stream",
     "text": [
      "Total error:  0.0176041284\nTotal error:  0.0167291223702\nTotal error:  0.0166184973954\nTotal error:  0.0167025402839\n"
     ]
    },
    {
     "name": "stdout",
     "output_type": "stream",
     "text": [
      "Total error:  0.0166811388303\nTotal error:  0.0166080543525\nTotal error:  0.0171610866451\nTotal error:  0.0170751043638\nTotal error:  0.0164943181641\n"
     ]
    },
    {
     "name": "stdout",
     "output_type": "stream",
     "text": [
      "Total error:  0.0176793645048\nTotal error:  0.0155793302947\nTotal error:  0.0168803403114\nTotal error:  0.0168872787938\nTotal error:  0.0162407914813\n"
     ]
    },
    {
     "name": "stdout",
     "output_type": "stream",
     "text": [
      "Total error:  0.0167787009219\nTotal error:  0.0174803043853\nTotal error:  0.0164470635715\nTotal error:  0.0161962807237\n"
     ]
    },
    {
     "name": "stdout",
     "output_type": "stream",
     "text": [
      "Total error:  0.0172799047669\nTotal error:  0.0163776715793\nTotal error:  0.0159140998477\nTotal error:  0.0160485070816\n"
     ]
    },
    {
     "name": "stdout",
     "output_type": "stream",
     "text": [
      "Total error:  0.0166131967109\nTotal error:  0.0168883116245\nTotal error:  0.016378706621\nTotal error:  0.0163454208966\n"
     ]
    },
    {
     "name": "stdout",
     "output_type": "stream",
     "text": [
      "Total error:  0.0159914359839\nTotal error:  0.0172372783118\nTotal error:  0.0151112186148\nTotal error:  0.0165553100695\n"
     ]
    },
    {
     "name": "stdout",
     "output_type": "stream",
     "text": [
      "Total error:  0.0171909302693\nTotal error:  0.015740096337\nTotal error:  0.0163348844964\nTotal error:  0.016937956321\n"
     ]
    },
    {
     "name": "stdout",
     "output_type": "stream",
     "text": [
      "Total error:  0.0169865419216\nTotal error:  0.0159235613069\nTotal error:  0.0169871869265\nTotal error:  0.016617693779\nTotal error:  0.0174761543739"
     ]
    },
    {
     "name": "stdout",
     "output_type": "stream",
     "text": [
      "\nTotal error:  0.0162198490741\nTotal error:  0.0160628479628\nTotal error:  0.0163151628102\nTotal error:  0.0169741525722\n"
     ]
    },
    {
     "name": "stdout",
     "output_type": "stream",
     "text": [
      "Total error:  0.0143255359499\nTotal error:  0.0173064982357\nTotal error:  0.0151294113697\nTotal error:  0.0177975494624\n"
     ]
    },
    {
     "name": "stdout",
     "output_type": "stream",
     "text": [
      "Total error:  0.0163990177462\nTotal error:  0.016820110872\nTotal error:  0.016115593651\nTotal error:  0.0171857372907\n"
     ]
    },
    {
     "name": "stdout",
     "output_type": "stream",
     "text": [
      "Total error:  0.0168149999867\nTotal error:  0.0162763747828\nTotal error:  0.0169031036077\nTotal error:  0.0158232377014\n"
     ]
    },
    {
     "name": "stdout",
     "output_type": "stream",
     "text": [
      "Total error:  0.0166922999306\nTotal error:  0.0166541206403\nTotal error:  0.0164759100381\nTotal error:  0.0167344904122\n"
     ]
    },
    {
     "name": "stdout",
     "output_type": "stream",
     "text": [
      "Total error:  0.0162288785953\nTotal error:  0.0167574942911\nTotal error:  0.016598679743\nTotal error:  0.0166979910538\n"
     ]
    },
    {
     "name": "stdout",
     "output_type": "stream",
     "text": [
      "Total error:  0.0165279468438\nTotal error:  0.016345096967\nTotal error:  0.0171090358515\nTotal error:  0.016626313384\n"
     ]
    },
    {
     "name": "stdout",
     "output_type": "stream",
     "text": [
      "Total error:  0.0154613791645\nTotal error:  0.0177455629722\nTotal error:  0.0163843665243\nTotal error:  0.0160725559165\n"
     ]
    },
    {
     "name": "stdout",
     "output_type": "stream",
     "text": [
      "Total error:  0.0168947334674\nTotal error:  0.0164370577173\nTotal error:  0.0163707693084\nTotal error:  0.0165879527715\n"
     ]
    },
    {
     "name": "stdout",
     "output_type": "stream",
     "text": [
      "Total error:  0.0172501471398\nTotal error:  0.016856625513\nTotal error:  0.0171627442673\nTotal error:  0.0167861350265\n"
     ]
    },
    {
     "name": "stdout",
     "output_type": "stream",
     "text": [
      "Total error:  0.0161017247474\nTotal error:  0.014919318738\nTotal error:  0.0168875150108\nTotal error:  0.0167830895796\n"
     ]
    },
    {
     "name": "stdout",
     "output_type": "stream",
     "text": [
      "Total error:  0.0164271175891\nTotal error:  0.0164037657543\nTotal error:  0.017079165389\nTotal error:  0.0160800490515\n"
     ]
    },
    {
     "name": "stdout",
     "output_type": "stream",
     "text": [
      "Total error:  0.0159820275932\nTotal error:  0.0156752887301\nTotal error:  0.0150970563628\nTotal error:  0.0164473807536\n"
     ]
    },
    {
     "name": "stdout",
     "output_type": "stream",
     "text": [
      "Total error:  0.0168365264981\nTotal error:  0.0164740487626\nTotal error:  0.0170020796303\nTotal error:  0.0160411275214\n"
     ]
    },
    {
     "name": "stdout",
     "output_type": "stream",
     "text": [
      "Total error:  0.0168675009663\nTotal error:  0.0172317893365\nTotal error:  0.0168711646716\nTotal error:  0.017076340837\n"
     ]
    },
    {
     "name": "stdout",
     "output_type": "stream",
     "text": [
      "Total error:  0.016300622052\nTotal error:  0.0172081912909\nTotal error:  0.0145244748641\nTotal error:  0.0169264415444\n"
     ]
    },
    {
     "name": "stdout",
     "output_type": "stream",
     "text": [
      "Total error:  0.0170830370846\nTotal error:  0.0149960607206\nTotal error:  0.016865298486\nTotal error:  0.0164648053085\n"
     ]
    },
    {
     "name": "stdout",
     "output_type": "stream",
     "text": [
      "Total error:  0.0164808463469\nTotal error:  0.0154491446776\nTotal error:  0.0150084302256\nTotal error:  0.0168585921331\n"
     ]
    },
    {
     "name": "stdout",
     "output_type": "stream",
     "text": [
      "Total error:  0.0159410702575\nTotal error:  0.0172169586612\nTotal error:  0.016730664147\nTotal error:  0.0156711613095\n"
     ]
    },
    {
     "name": "stdout",
     "output_type": "stream",
     "text": [
      "Total error:  0.016660833234\nTotal error:  0.015882353614\nTotal error:  0.0172949352388\nTotal error:  0.0164540053167\n"
     ]
    },
    {
     "name": "stdout",
     "output_type": "stream",
     "text": [
      "Total error:  0.0169920543629\nTotal error:  0.0166389074253\nTotal error:  0.0159938340212\nTotal error:  0.016564971857\n"
     ]
    },
    {
     "name": "stdout",
     "output_type": "stream",
     "text": [
      "Total error:  0.0169946470938\nTotal error:  0.0172225027608\nTotal error:  0.0154618259705\nTotal error:  0.0166668318805\n"
     ]
    },
    {
     "name": "stdout",
     "output_type": "stream",
     "text": [
      "Total error:  0.0165292776691\nTotal error:  0.015275938624\nTotal error:  0.0174839404157\nTotal error:  0.0160209575114\n"
     ]
    },
    {
     "name": "stdout",
     "output_type": "stream",
     "text": [
      "Total error:  0.0156512549113\nTotal error:  0.0170806743007\nTotal error:  0.015416011793\nTotal error:  0.0165843362711\nTotal error:  0.0160487460054"
     ]
    },
    {
     "name": "stdout",
     "output_type": "stream",
     "text": [
      "\nTotal error:  0.016329303638\nTotal error:  0.0157046074839\nTotal error:  0.0165141656463\nTotal error:  0.0159231428419\n"
     ]
    },
    {
     "name": "stdout",
     "output_type": "stream",
     "text": [
      "Total error:  0.0152493820986\nTotal error:  0.0156849860532\nTotal error:  0.0153558651318\nTotal error:  0.0170518387495\n"
     ]
    },
    {
     "name": "stdout",
     "output_type": "stream",
     "text": [
      "Total error:  0.0167500529932\nTotal error:  0.0167058693871\nTotal error:  0.0154181710433\nTotal error:  0.0160792600159\n"
     ]
    },
    {
     "name": "stdout",
     "output_type": "stream",
     "text": [
      "Total error:  0.0163329414327\nTotal error:  0.0154042380257\nTotal error:  0.0171259088366\nTotal error:  0.0160780948354\n"
     ]
    },
    {
     "name": "stdout",
     "output_type": "stream",
     "text": [
      "Total error:  0.0162679714945\nTotal error:  0.0167990750298\nTotal error:  0.0166783229246\nTotal error:  0.0149740181883\nTotal error:  0.0164837107716"
     ]
    },
    {
     "name": "stdout",
     "output_type": "stream",
     "text": [
      "\nTotal error:  0.0167036983608\nTotal error:  0.0162912032145\nTotal error:  0.015949961116\nTotal error:  0.0164821765744\n"
     ]
    },
    {
     "name": "stdout",
     "output_type": "stream",
     "text": [
      "Total error:  0.0160910277303\nTotal error:  0.016538856661\nTotal error:  0.0155968858034\nTotal error:  0.0169208273853\n"
     ]
    },
    {
     "name": "stdout",
     "output_type": "stream",
     "text": [
      "Total error:  0.0154452859519\nTotal error:  0.0169226275231\nTotal error:  0.0169305395639\nTotal error:  0.0152437637652\n"
     ]
    },
    {
     "name": "stdout",
     "output_type": "stream",
     "text": [
      "Total error:  0.016447206758\nTotal error:  0.0166158768058\nTotal error:  0.0167194026254\nTotal error:  0.0171326443179\n"
     ]
    },
    {
     "name": "stdout",
     "output_type": "stream",
     "text": [
      "Total error:  0.0166880074803\nTotal error:  0.0165848627617\nTotal error:  0.0165066362302\nTotal error:  0.0169848080824\n"
     ]
    },
    {
     "name": "stdout",
     "output_type": "stream",
     "text": [
      "Total error:  0.0166126518582\nTotal error:  0.016579188483\nTotal error:  0.0160976330662\nTotal error:  0.0165473073672\n"
     ]
    },
    {
     "name": "stdout",
     "output_type": "stream",
     "text": [
      "Total error:  0.0159597683442\nTotal error:  0.0172149166761\nTotal error:  0.0164024569722\nTotal error:  0.0155692324287\n"
     ]
    },
    {
     "name": "stdout",
     "output_type": "stream",
     "text": [
      "Total error:  0.0159213336169\nTotal error:  0.0163464392969\nTotal error:  0.0159330595968\nTotal error:  0.016961999915\n"
     ]
    },
    {
     "name": "stdout",
     "output_type": "stream",
     "text": [
      "Total error:  0.0163394303999\nTotal error:  0.0165258199177\nTotal error:  0.0169599488712\n"
     ]
    },
    {
     "name": "stdout",
     "output_type": "stream",
     "text": [
      "Total error:  0.0162066825236\nTotal error:  0.0171748328962\nTotal error:  0.0165749570159\n"
     ]
    },
    {
     "name": "stdout",
     "output_type": "stream",
     "text": [
      "Total error:  0.0166903531896\nTotal error:  0.0159890531752\nTotal error:  0.0164931058366"
     ]
    },
    {
     "name": "stdout",
     "output_type": "stream",
     "text": [
      "\nTotal error:  0.0159322801695\nTotal error:  0.0155780874498\nTotal error:  0.015951759233\nTotal error:  0.0161203932438"
     ]
    },
    {
     "name": "stdout",
     "output_type": "stream",
     "text": [
      "\nTotal error:  0.0162421574948\nTotal error:  0.0156262003686\nTotal error:  0.0169537127611\nTotal error:  0.0154809503755"
     ]
    },
    {
     "name": "stdout",
     "output_type": "stream",
     "text": [
      "\nTotal error:  0.016699707182\nTotal error:  0.0163054111993\nTotal error:  0.0155975269367\nTotal error:  0.0167134797\nTotal error:  0.0161068508324"
     ]
    },
    {
     "name": "stdout",
     "output_type": "stream",
     "text": [
      "\nTotal error:  0.0155435208134\nTotal error:  0.0166263405544\nTotal error:  0.0167228544795\nTotal error:  0.0166239254489\n"
     ]
    },
    {
     "name": "stdout",
     "output_type": "stream",
     "text": [
      "Total error:  0.0151905379664\nTotal error:  0.0168223999737\nTotal error:  0.0162016694327\nTotal error:  0.0162241910416\n"
     ]
    },
    {
     "name": "stdout",
     "output_type": "stream",
     "text": [
      "Total error:  0.0163262824397\nTotal error:  0.0167718231838\nTotal error:  0.0162724658324\nTotal error:  0.0163041091278\n"
     ]
    },
    {
     "name": "stdout",
     "output_type": "stream",
     "text": [
      "Total error:  0.016653186291\nTotal error:  0.0167439519681\nTotal error:  0.0158858479116\nTotal error:  0.0170307867789\nTotal error:  0.0161310434246"
     ]
    },
    {
     "name": "stdout",
     "output_type": "stream",
     "text": [
      "\nTotal error:  0.0148852753104\nTotal error:  0.0168063489886\nTotal error:  0.016726014475\nTotal error:  0.0168083599438\nTotal error:  0.0167185278487\n"
     ]
    },
    {
     "name": "stdout",
     "output_type": "stream",
     "text": [
      "Total error:  0.0156796440601\nTotal error:  0.0166759902445\nTotal error:  0.0169020006668\nTotal error:  0.016602756208\nTotal error:  0.0169628364459\n"
     ]
    },
    {
     "name": "stdout",
     "output_type": "stream",
     "text": [
      "Total error:  0.0154321415019\nTotal error:  0.0172586241536\nTotal error:  0.0157911359355\nTotal error:  0.0165555352084\n"
     ]
    },
    {
     "name": "stdout",
     "output_type": "stream",
     "text": [
      "Total error:  0.0156044659106\nTotal error:  0.0159418613236\nTotal error:  0.016194908814\nTotal error:  0.016516900196\n"
     ]
    },
    {
     "name": "stdout",
     "output_type": "stream",
     "text": [
      "Total error:  0.0159852624118\nTotal error:  0.0163175844318\nTotal error:  0.0162400555184\nTotal error:  0.0160365674869\n"
     ]
    },
    {
     "name": "stdout",
     "output_type": "stream",
     "text": [
      "Total error:  0.0159833728362\nTotal error:  0.016702359633\nTotal error:  0.0167021667682\nTotal error:  0.0153111976177\n"
     ]
    },
    {
     "name": "stdout",
     "output_type": "stream",
     "text": [
      "Total error:  0.0159332205439\nTotal error:  0.0167146053441\nTotal error:  0.0161416602095\nTotal error:  0.0162229271464\nTotal error:  0.0163597666642\n"
     ]
    },
    {
     "name": "stdout",
     "output_type": "stream",
     "text": [
      "Total error:  0.0165644432659\nTotal error:  0.0166450421886\nTotal error:  0.0160018428232\nTotal error:  0.0162974749171\n"
     ]
    },
    {
     "name": "stdout",
     "output_type": "stream",
     "text": [
      "Total error:  0.0165168542635\nTotal error:  0.0164641045646\nTotal error:  0.016768720129\nTotal error:  0.0160499335581\nTotal error:  0.015558895592\n"
     ]
    },
    {
     "name": "stdout",
     "output_type": "stream",
     "text": [
      "Total error:  0.0166971811852\nTotal error:  0.0157540997112\nTotal error:  0.0165142928041\nTotal error:  0.0162463221127\nTotal error:  0.0123575926231\n"
     ]
    },
    {
     "name": "stdout",
     "output_type": "stream",
     "text": [
      "Total error:  0.0166825217767\nTotal error:  0.0155955349516\nTotal error:  0.016944585808\nTotal error:  0.0168598102744\nTotal error:  0.0168811681827"
     ]
    },
    {
     "name": "stdout",
     "output_type": "stream",
     "text": [
      "\nTotal error:  0.0150456277483\nTotal error:  0.0163911493042\nTotal error:  0.0165917338945\nTotal error:  0.015600665587\n"
     ]
    },
    {
     "name": "stdout",
     "output_type": "stream",
     "text": [
      "Total error:  0.0154755006609\nTotal error:  0.0163644208172\nTotal error:  0.0168552548564\nTotal error:  0.0167308532082\n"
     ]
    },
    {
     "name": "stdout",
     "output_type": "stream",
     "text": [
      "Total error:  0.0166732484567\nTotal error:  0.0163705404219\nTotal error:  0.0166326615538\nTotal error:  0.0153520849261\nTotal error:  0.0165074762916\n"
     ]
    },
    {
     "name": "stdout",
     "output_type": "stream",
     "text": [
      "Total error:  0.016770532067\nTotal error:  0.0148744487315\nTotal error:  0.0160088319787\nTotal error:  0.0156187415865\n"
     ]
    },
    {
     "name": "stdout",
     "output_type": "stream",
     "text": [
      "Total error:  0.0166960380325\nTotal error:  0.0165318798161\nTotal error:  0.0158362843721\nTotal error:  0.0161067618475\n"
     ]
    },
    {
     "name": "stdout",
     "output_type": "stream",
     "text": [
      "Total error:  0.0153928159354\nTotal error:  0.0163254547329\nTotal error:  0.0154267259601\nTotal error:  0.0150364990476\n"
     ]
    },
    {
     "name": "stdout",
     "output_type": "stream",
     "text": [
      "Total error:  0.0154827436039\nTotal error:  0.0165861461359\nTotal error:  0.0156023909036\nTotal error:  0.0163946626183\n"
     ]
    },
    {
     "name": "stdout",
     "output_type": "stream",
     "text": [
      "Total error:  0.0154922494368\nTotal error:  0.0164844856223\nTotal error:  0.0166293405112\nTotal error:  0.0168200755507\n"
     ]
    },
    {
     "name": "stdout",
     "output_type": "stream",
     "text": [
      "Total error:  0.0165358697288\nTotal error:  0.016472209546\nTotal error:  0.0163017507923\nTotal error:  0.0152434721557\n"
     ]
    },
    {
     "name": "stdout",
     "output_type": "stream",
     "text": [
      "Total error:  0.0153020698309\nTotal error:  0.0164393555313\nTotal error:  0.0156473983563\nTotal error:  0.0166702604833\n"
     ]
    },
    {
     "name": "stdout",
     "output_type": "stream",
     "text": [
      "Total error:  0.0163762741457\nTotal error:  0.0148803565092\nTotal error:  0.0168536421545\nTotal error:  0.0166719084521\n"
     ]
    },
    {
     "name": "stdout",
     "output_type": "stream",
     "text": [
      "Total error:  0.0157672731683\nTotal error:  0.0159610970268\nTotal error:  0.0155364152877\nTotal error:  0.0154568632191\n"
     ]
    },
    {
     "name": "stdout",
     "output_type": "stream",
     "text": [
      "Total error:  0.0157564029144\nTotal error:  0.0165370167158\nTotal error:  0.0162188466523\nTotal error:  0.0167770460176\n"
     ]
    },
    {
     "name": "stdout",
     "output_type": "stream",
     "text": [
      "Total error:  0.0160776864076\nTotal error:  0.0160207858479\nTotal error:  0.0161090906572\nTotal error:  0.016482503408\n"
     ]
    },
    {
     "name": "stdout",
     "output_type": "stream",
     "text": [
      "Total error:  0.0165160768945\nTotal error:  0.015745419614\nTotal error:  0.0160250119005\nTotal error:  0.0157199819498\n"
     ]
    },
    {
     "name": "stdout",
     "output_type": "stream",
     "text": [
      "Total error:  0.0155894099072\nTotal error:  0.0161318202676\nTotal error:  0.015892174113\nTotal error:  0.0165053757068\n"
     ]
    },
    {
     "name": "stdout",
     "output_type": "stream",
     "text": [
      "Total error:  0.0158358256979\nTotal error:  0.0160514984668\nTotal error:  0.0161086364434\nTotal error:  0.015964477818\n"
     ]
    },
    {
     "name": "stdout",
     "output_type": "stream",
     "text": [
      "Total error:  0.0153685268225\nTotal error:  0.0163942898138\nTotal error:  0.015780766975\nTotal error:  0.0161507319619\n"
     ]
    },
    {
     "name": "stdout",
     "output_type": "stream",
     "text": [
      "Total error:  0.0160880651744\nTotal error:  0.0163939421189\nTotal error:  0.0156707930053\nTotal error:  0.0165674096997\n"
     ]
    },
    {
     "name": "stdout",
     "output_type": "stream",
     "text": [
      "Total error:  0.0165795395024\nTotal error:  0.0156109125699\nTotal error:  0.0163596694976\nTotal error:  0.0160633159613\n"
     ]
    },
    {
     "name": "stdout",
     "output_type": "stream",
     "text": [
      "Total error:  0.0165614882943\nTotal error:  0.0160058268285\nTotal error:  0.01619303082\nTotal error:  0.015903329841\nTotal error:  0.0161256873131\n"
     ]
    },
    {
     "name": "stdout",
     "output_type": "stream",
     "text": [
      "Total error:  0.016373756895\nTotal error:  0.0156101181934\nTotal error:  0.0162297428865\nTotal error:  0.0159204214158\nTotal error:  0.0156384251428\n"
     ]
    },
    {
     "name": "stdout",
     "output_type": "stream",
     "text": [
      "Total error:  0.0160361570686\nTotal error:  0.0167640098515\nTotal error:  0.0161582170688\nTotal error:  0.0162457426131\n"
     ]
    },
    {
     "name": "stdout",
     "output_type": "stream",
     "text": [
      "Total error:  0.0159751509545\nTotal error:  0.0142198770446\nTotal error:  0.0165378125938\nTotal error:  0.0160698556444\n"
     ]
    },
    {
     "name": "stdout",
     "output_type": "stream",
     "text": [
      "Total error:  0.0162446879021\nTotal error:  0.0149869761704\nTotal error:  0.0162534661754\nTotal error:  0.0155294067199\n"
     ]
    },
    {
     "name": "stdout",
     "output_type": "stream",
     "text": [
      "Total error:  0.0155077506016\nTotal error:  0.0162501569824\nTotal error:  0.0163877561933\nTotal error:  0.0161808006329\n"
     ]
    },
    {
     "name": "stdout",
     "output_type": "stream",
     "text": [
      "Total error:  0.0158398431988\nTotal error:  0.0160069229368\nTotal error:  0.016483656598\nTotal error:  0.0161085683159\nTotal error:  0.0148442858236"
     ]
    },
    {
     "name": "stdout",
     "output_type": "stream",
     "text": [
      "\nTotal error:  0.0156234305959\nTotal error:  0.0164762017734\nTotal error:  0.0161882286162\nTotal error:  0.0154493356514\n"
     ]
    },
    {
     "name": "stdout",
     "output_type": "stream",
     "text": [
      "Total error:  0.0159404819474\nTotal error:  0.016693186093\nTotal error:  0.0166107515466\nTotal error:  0.0162531975385\n"
     ]
    },
    {
     "name": "stdout",
     "output_type": "stream",
     "text": [
      "Total error:  0.0161433419053\nTotal error:  0.015832791651\nTotal error:  0.0165092286227\nTotal error:  0.0159852924962\n"
     ]
    },
    {
     "name": "stdout",
     "output_type": "stream",
     "text": [
      "Total error:  0.0158014072906\nTotal error:  0.0166195564897\nTotal error:  0.0161707989406\nTotal error:  0.0161891259856\n"
     ]
    },
    {
     "name": "stdout",
     "output_type": "stream",
     "text": [
      "Total error:  0.0149524145453\nTotal error:  0.0165256724193\nTotal error:  0.0160376085949\nTotal error:  0.0160642026119\n"
     ]
    },
    {
     "name": "stdout",
     "output_type": "stream",
     "text": [
      "Total error:  0.0153684100103\nTotal error:  0.0165311194914\nTotal error:  0.0164428269657\nTotal error:  0.0162817828881\n"
     ]
    },
    {
     "name": "stdout",
     "output_type": "stream",
     "text": [
      "Total error:  0.0160875531926\nTotal error:  0.0155900314294\nTotal error:  0.0149937617802\nTotal error:  0.0165381818103\n"
     ]
    },
    {
     "name": "stdout",
     "output_type": "stream",
     "text": [
      "Total error:  0.0165657782882\nTotal error:  0.0165742569125\nTotal error:  0.0157963104151\nTotal error:  0.0158947313165\nTotal error:  0.0161493625545"
     ]
    },
    {
     "name": "stdout",
     "output_type": "stream",
     "text": [
      "\nTotal error:  0.016329778249\nTotal error:  0.015776634043\nTotal error:  0.0152627042244\nTotal error:  0.0165025530351\n"
     ]
    },
    {
     "name": "stdout",
     "output_type": "stream",
     "text": [
      "Total error:  0.0147184447088\nTotal error:  0.0166334051689\nTotal error:  0.0158936145687\nTotal error:  0.0162329019361\n"
     ]
    },
    {
     "name": "stdout",
     "output_type": "stream",
     "text": [
      "Total error:  0.015642178095\nTotal error:  0.0164528341561\nTotal error:  0.0147352173815\nTotal error:  0.016337887085\n"
     ]
    },
    {
     "name": "stdout",
     "output_type": "stream",
     "text": [
      "Total error:  0.0158122534269\nTotal error:  0.0155108171646\nTotal error:  0.0161594638749\nTotal error:  0.0167268338868\nTotal error:  0.015498197793"
     ]
    },
    {
     "name": "stdout",
     "output_type": "stream",
     "text": [
      "\nTotal error:  0.0166296255842\nTotal error:  0.0147292064126\nTotal error:  0.0155734321462\nTotal error:  0.0153614893494\nTotal error:  0.0153664774463"
     ]
    },
    {
     "name": "stdout",
     "output_type": "stream",
     "text": [
      "\nTotal error:  0.0159763967334\nTotal error:  0.0143589285816\nTotal error:  0.016446102872\nTotal error:  0.0157093001338\n"
     ]
    },
    {
     "name": "stdout",
     "output_type": "stream",
     "text": [
      "Total error:  0.0162887583693\nTotal error:  0.0158672264015\nTotal error:  0.0163830033507\nTotal error:  0.01653899534\n"
     ]
    },
    {
     "name": "stdout",
     "output_type": "stream",
     "text": [
      "Total error:  0.0154483506478\nTotal error:  0.0152072268788\nTotal error:  0.0160581469507\nTotal error:  0.0160850668247\n"
     ]
    },
    {
     "name": "stdout",
     "output_type": "stream",
     "text": [
      "Total error:  0.0160266125027\nTotal error:  0.0158982872623\nTotal error:  0.0161800527876\nTotal error:  0.0156043824021\n"
     ]
    },
    {
     "name": "stdout",
     "output_type": "stream",
     "text": [
      "Total error:  0.015545208276\nTotal error:  0.0161266666385\nTotal error:  0.0159549640897\nTotal error:  0.0164046324463\nTotal error:  0.0159020616848"
     ]
    },
    {
     "name": "stdout",
     "output_type": "stream",
     "text": [
      "\nTotal error:  0.0163449390351\nTotal error:  0.0155579712456\nTotal error:  0.0168395006518\nTotal error:  0.0142508244617\n"
     ]
    },
    {
     "name": "stdout",
     "output_type": "stream",
     "text": [
      "Total error:  0.0155724997682\nTotal error:  0.0166136078698\nTotal error:  0.0163959063379\nTotal error:  0.0152538888826\nTotal error:  0.0163018625873"
     ]
    },
    {
     "name": "stdout",
     "output_type": "stream",
     "text": [
      "\nTotal error:  0.0144748320226\nTotal error:  0.015766291846\nTotal error:  0.0158160609423\nTotal error:  0.015852484535\n"
     ]
    },
    {
     "name": "stdout",
     "output_type": "stream",
     "text": [
      "Total error:  0.0160847985905\nTotal error:  0.015247281241\nTotal error:  0.0160992309116\nTotal error:  0.0161304041939\nTotal error:  0.0163268304858"
     ]
    },
    {
     "name": "stdout",
     "output_type": "stream",
     "text": [
      "\nTotal error:  0.0158746980238\nTotal error:  0.015604618297\nTotal error:  0.0163529846569\nTotal error:  0.0157244238015\n"
     ]
    },
    {
     "name": "stdout",
     "output_type": "stream",
     "text": [
      "Total error:  0.0162879092942\nTotal error:  0.0148842863333\nTotal error:  0.0161464104556\nTotal error:  0.0152562717452\n"
     ]
    },
    {
     "name": "stdout",
     "output_type": "stream",
     "text": [
      "Total error:  0.0158183591219\nTotal error:  0.0150283256202\nTotal error:  0.0161347686979\nTotal error:  0.0160197045703\n"
     ]
    },
    {
     "name": "stdout",
     "output_type": "stream",
     "text": [
      "Total error:  0.0160036037193\nTotal error:  0.0147477198016\nTotal error:  0.016589142975\nTotal error:  0.0143494905542\n"
     ]
    },
    {
     "name": "stdout",
     "output_type": "stream",
     "text": [
      "Total error:  0.0166016462912\nTotal error:  0.0161156065702\nTotal error:  0.0151076892681\nTotal error:  0.0162017890954\n"
     ]
    },
    {
     "name": "stdout",
     "output_type": "stream",
     "text": [
      "Total error:  0.0160718471053\nTotal error:  0.0155242246943\nTotal error:  0.0156470303572\nTotal error:  0.0166534804734\nTotal error:  0.0149525792549"
     ]
    },
    {
     "name": "stdout",
     "output_type": "stream",
     "text": [
      "\nTotal error:  0.0148327073577\nTotal error:  0.0163368396546\nTotal error:  0.0146627923139\nTotal error:  0.0150312924377\nTotal error:  0.0154119227323\n"
     ]
    },
    {
     "name": "stdout",
     "output_type": "stream",
     "text": [
      "Total error:  0.0160983325629\nTotal error:  0.0152529597713\nTotal error:  0.0164561126901\nTotal error:  0.0161363127317\n"
     ]
    },
    {
     "name": "stdout",
     "output_type": "stream",
     "text": [
      "Total error:  0.0161097839029\nTotal error:  0.0160511072707\nTotal error:  0.0154165658776\nTotal error:  0.0159483656301\n"
     ]
    },
    {
     "name": "stdout",
     "output_type": "stream",
     "text": [
      "Total error:  0.0154176577202\nTotal error:  0.0163369008763\nTotal error:  0.015293344852\nTotal error:  0.0154011753892\n"
     ]
    },
    {
     "name": "stdout",
     "output_type": "stream",
     "text": [
      "Total error:  0.0163100323915\nTotal error:  0.015334249996\nTotal error:  0.0160914251018\nTotal error:  0.0154607474912\n"
     ]
    },
    {
     "name": "stdout",
     "output_type": "stream",
     "text": [
      "Total error:  0.0158703397865\nTotal error:  0.0158933345186\nTotal error:  0.0161161922773\nTotal error:  0.0153073666828\n"
     ]
    },
    {
     "name": "stdout",
     "output_type": "stream",
     "text": [
      "Total error:  0.0156345081949\nTotal error:  0.0154725104235\nTotal error:  0.0156654672876\nTotal error:  0.0152987589294\n"
     ]
    },
    {
     "name": "stdout",
     "output_type": "stream",
     "text": [
      "Total error:  0.014471707404\nTotal error:  0.0159435347444\nTotal error:  0.0159078982102\nTotal error:  0.016086626168\nTotal error:  0.0151110134554"
     ]
    },
    {
     "name": "stdout",
     "output_type": "stream",
     "text": [
      "\nTotal error:  0.0156648640545\nTotal error:  0.0152484262108\nTotal error:  0.0152829956425\nTotal error:  0.015013446512\nTotal error:  0.0153949951378\n"
     ]
    },
    {
     "name": "stdout",
     "output_type": "stream",
     "text": [
      "Total error:  0.0159017494928\nTotal error:  0.015954044744\nTotal error:  0.0152579840039\nTotal error:  0.0158476551075\nTotal error:  0.0155818039934\n"
     ]
    },
    {
     "name": "stdout",
     "output_type": "stream",
     "text": [
      "Total error:  0.0147365973165\nTotal error:  0.0162308810249\nTotal error:  0.0151734801174\nTotal error:  0.0153815908266\n"
     ]
    },
    {
     "name": "stdout",
     "output_type": "stream",
     "text": [
      "Total error:  0.0155022821756\nTotal error:  0.0158700165309\nTotal error:  0.0157813630712\nTotal error:  0.0154854328867\n"
     ]
    },
    {
     "name": "stdout",
     "output_type": "stream",
     "text": [
      "Total error:  0.0161182970491\nTotal error:  0.0156402786355\nTotal error:  0.0155199841741\nTotal error:  0.0145019477353\nTotal error:  0.0167338900084"
     ]
    },
    {
     "name": "stdout",
     "output_type": "stream",
     "text": [
      "\nTotal error:  0.0158765803185\nTotal error:  0.015822370959\nTotal error:  0.0159957916159\nTotal error:  0.0152012141411\nTotal error:  0.0157498204524\n"
     ]
    },
    {
     "name": "stdout",
     "output_type": "stream",
     "text": [
      "Total error:  0.0155881606114\nTotal error:  0.0158859550788\nTotal error:  0.0150200937027\nTotal error:  0.0161981110454\n"
     ]
    },
    {
     "name": "stdout",
     "output_type": "stream",
     "text": [
      "Total error:  0.0143634257041\nTotal error:  0.0150855590265\nTotal error:  0.0161075624396\nTotal error:  0.015998503546\n"
     ]
    },
    {
     "name": "stdout",
     "output_type": "stream",
     "text": [
      "Total error:  0.0160521351928\nTotal error:  0.0158630033451\nTotal error:  0.0161527008919\nTotal error:  0.0159163728105\n"
     ]
    },
    {
     "name": "stdout",
     "output_type": "stream",
     "text": [
      "Total error:  0.0138709207151\nTotal error:  0.0162865086977\nTotal error:  0.014969699625\nTotal error:  0.016111933799\n"
     ]
    },
    {
     "name": "stdout",
     "output_type": "stream",
     "text": [
      "Total error:  0.0158063160347\nTotal error:  0.0145294013862\nTotal error:  0.0140247632956\nTotal error:  0.0158796940145\n"
     ]
    },
    {
     "name": "stdout",
     "output_type": "stream",
     "text": [
      "Total error:  0.0157880773775\nTotal error:  0.0141805068495\nTotal error:  0.0143985697994\nTotal error:  0.0150197621557\n"
     ]
    },
    {
     "name": "stdout",
     "output_type": "stream",
     "text": [
      "Total error:  0.0161913563771\nTotal error:  0.0152751259151\nTotal error:  0.0158282767949\nTotal error:  0.0159852442593\n"
     ]
    },
    {
     "name": "stdout",
     "output_type": "stream",
     "text": [
      "Total error:  0.0156153741856\nTotal error:  0.0154658822496\nTotal error:  0.0160880909438\nTotal error:  0.0157029289676\n"
     ]
    },
    {
     "name": "stdout",
     "output_type": "stream",
     "text": [
      "Total error:  0.0154954744791\nTotal error:  0.0161220832457\nTotal error:  0.0155749751528\nTotal error:  0.0147831761641\n"
     ]
    },
    {
     "name": "stdout",
     "output_type": "stream",
     "text": [
      "Total error:  0.0161346969567\nTotal error:  0.0158334190781\nTotal error:  0.0152455813294\nTotal error:  0.015517887521\n"
     ]
    },
    {
     "name": "stdout",
     "output_type": "stream",
     "text": [
      "Total error:  0.014552654496\nTotal error:  0.0154449750091\nTotal error:  0.0136251715143\nTotal error:  0.0161954895706\n"
     ]
    },
    {
     "name": "stdout",
     "output_type": "stream",
     "text": [
      "Total error:  0.0137481917126\nTotal error:  0.0163527195893\nTotal error:  0.0154973038507\nTotal error:  0.0161602338879\n"
     ]
    },
    {
     "name": "stdout",
     "output_type": "stream",
     "text": [
      "Total error:  0.015141198789\nTotal error:  0.0143960917126\nTotal error:  0.015879186558\nTotal error:  0.0163456152737\n"
     ]
    },
    {
     "name": "stdout",
     "output_type": "stream",
     "text": [
      "Total error:  0.0156107533827\nTotal error:  0.0161310500788\nTotal error:  0.015577182746\nTotal error:  0.0142752934151\n"
     ]
    },
    {
     "name": "stdout",
     "output_type": "stream",
     "text": [
      "Total error:  0.0135660975919\nTotal error:  0.0144539528913\nTotal error:  0.0153412797249\nTotal error:  0.0151842106697\n"
     ]
    },
    {
     "name": "stdout",
     "output_type": "stream",
     "text": [
      "Total error:  0.0153891197775\nTotal error:  0.0152452551206\nTotal error:  0.0155094304371\nTotal error:  0.0141063260681\n"
     ]
    },
    {
     "name": "stdout",
     "output_type": "stream",
     "text": [
      "Total error:  0.0160548506578\nTotal error:  0.0156646014578\nTotal error:  0.0152776381402\nTotal error:  0.0156498396504\n"
     ]
    },
    {
     "name": "stdout",
     "output_type": "stream",
     "text": [
      "Total error:  0.0161292243987\nTotal error:  0.0151270333923\nTotal error:  0.0161984562747\nTotal error:  0.015994550207\n"
     ]
    },
    {
     "name": "stdout",
     "output_type": "stream",
     "text": [
      "Total error:  0.0155939632175\nTotal error:  0.0157870036784\nTotal error:  0.0159759764001\nTotal error:  0.0154916521725\nTotal error:  0.0154795211018\n"
     ]
    },
    {
     "name": "stdout",
     "output_type": "stream",
     "text": [
      "Total error:  0.015180037535\nTotal error:  0.0157378172485\nTotal error:  0.0154744268551\nTotal error:  0.0156331957769\nTotal error:  0.0160543214631"
     ]
    },
    {
     "name": "stdout",
     "output_type": "stream",
     "text": [
      "\nTotal error:  0.0156386641556\nTotal error:  0.0159066838107\nTotal error:  0.0154150928897\nTotal error:  0.0155226475027\n"
     ]
    },
    {
     "name": "stdout",
     "output_type": "stream",
     "text": [
      "Total error:  0.0141533807543\nTotal error:  0.0164562194652\nTotal error:  0.0153998455441\nTotal error:  0.0158108250917\n"
     ]
    },
    {
     "name": "stdout",
     "output_type": "stream",
     "text": [
      "Total error:  0.0151552947302\nTotal error:  0.015954321399\nTotal error:  0.0159050807453\nTotal error:  0.0156883200329\nTotal error:  0.0150025521779"
     ]
    },
    {
     "name": "stdout",
     "output_type": "stream",
     "text": [
      "\nTotal error:  0.0156193515434\nTotal error:  0.0154241380766\nTotal error:  0.0158555633566\nTotal error:  0.0158190076086\n"
     ]
    },
    {
     "name": "stdout",
     "output_type": "stream",
     "text": [
      "Total error:  0.0151762620324\nTotal error:  0.0159988868325\nTotal error:  0.015154360963\nTotal error:  0.0158803300133\n"
     ]
    },
    {
     "name": "stdout",
     "output_type": "stream",
     "text": [
      "Total error:  0.0154067045814\nTotal error:  0.0157703131019\nTotal error:  0.0154293387838\nTotal error:  0.0154626709262\n"
     ]
    },
    {
     "name": "stdout",
     "output_type": "stream",
     "text": [
      "Total error:  0.0156759510202\nTotal error:  0.0147614669782\nTotal error:  0.0155562002595\nTotal error:  0.0159495015802\nTotal error:  0.0149940640769\n"
     ]
    },
    {
     "name": "stdout",
     "output_type": "stream",
     "text": [
      "Total error:  0.0158727484754\nTotal error:  0.0145199742961\nTotal error:  0.015334408742\nTotal error:  0.0154082889749\n"
     ]
    },
    {
     "name": "stdout",
     "output_type": "stream",
     "text": [
      "Total error:  0.0156525345794\nTotal error:  0.0149821194824\nTotal error:  0.0153815087537\nTotal error:  0.0143580707486\n"
     ]
    },
    {
     "name": "stdout",
     "output_type": "stream",
     "text": [
      "Total error:  0.0144699516938\nTotal error:  0.0159964849209\nTotal error:  0.0153331476438\nTotal error:  0.0156301534269\n"
     ]
    },
    {
     "name": "stdout",
     "output_type": "stream",
     "text": [
      "Total error:  0.0157762107784\nTotal error:  0.0152643127928\nTotal error:  0.0151740324349\nTotal error:  0.0149299024828\n"
     ]
    },
    {
     "name": "stdout",
     "output_type": "stream",
     "text": [
      "Total error:  0.0146328599135\nTotal error:  0.0156765412856\nTotal error:  0.0141275688377\nTotal error:  0.0156965424382\n"
     ]
    },
    {
     "name": "stdout",
     "output_type": "stream",
     "text": [
      "Total error:  0.0154186895275\nTotal error:  0.0157076810194\nTotal error:  0.015563363674\nTotal error:  0.0158992262937\n"
     ]
    },
    {
     "name": "stdout",
     "output_type": "stream",
     "text": [
      "Total error:  0.0155121685913\nTotal error:  0.0155447747274\nTotal error:  0.0149845961934\nTotal error:  0.0152392284308\n"
     ]
    },
    {
     "name": "stdout",
     "output_type": "stream",
     "text": [
      "Total error:  0.0141404160729\nTotal error:  0.0149933975858\nTotal error:  0.0145530636607\nTotal error:  0.0160719497279\n"
     ]
    },
    {
     "name": "stdout",
     "output_type": "stream",
     "text": [
      "Total error:  0.0152838656345\nTotal error:  0.0157432076283\nTotal error:  0.0155322541598\nTotal error:  0.0157868531186\n"
     ]
    },
    {
     "name": "stdout",
     "output_type": "stream",
     "text": [
      "Total error:  0.0156552014588\nTotal error:  0.0137018448511\nTotal error:  0.0146697918687\nTotal error:  0.0147948563112\n"
     ]
    },
    {
     "name": "stdout",
     "output_type": "stream",
     "text": [
      "Total error:  0.0154770317035\nTotal error:  0.0151805491129\n"
     ]
    },
    {
     "name": "stdout",
     "output_type": "stream",
     "text": [
      "Total error:  0.015110801911\nTotal error:  0.0148951597336\nTotal error:  0.0157238981633\n"
     ]
    },
    {
     "name": "stdout",
     "output_type": "stream",
     "text": [
      "Total error:  0.0157312581934\nTotal error:  0.0153382025811\nTotal error:  0.0150149123362\nTotal error:  0.015079982376\n"
     ]
    },
    {
     "name": "stdout",
     "output_type": "stream",
     "text": [
      "Total error:  0.0154937565536\nTotal error:  0.0156737152724\nTotal error:  0.0153435352874\nTotal error:  0.0143915367397\n"
     ]
    },
    {
     "name": "stdout",
     "output_type": "stream",
     "text": [
      "Total error:  0.0159637308709\nTotal error:  0.0156640403724\nTotal error:  0.0152836432906\nTotal error:  0.0150294682426\n"
     ]
    },
    {
     "name": "stdout",
     "output_type": "stream",
     "text": [
      "Total error:  0.0150699116337\nTotal error:  0.015860554235\nTotal error:  0.0138752808812\nTotal error:  0.0149598873215\n"
     ]
    },
    {
     "name": "stdout",
     "output_type": "stream",
     "text": [
      "Total error:  0.0155957421549\nTotal error:  0.0145239654818\nTotal error:  0.0155093586934\nTotal error:  0.015274672429\n"
     ]
    },
    {
     "name": "stdout",
     "output_type": "stream",
     "text": [
      "Total error:  0.0153417170257\nTotal error:  0.0151279995949\nTotal error:  0.0156448981726\nTotal error:  0.0157558323916\n"
     ]
    },
    {
     "name": "stdout",
     "output_type": "stream",
     "text": [
      "Total error:  0.0149182946184\nTotal error:  0.0154232553853\nTotal error:  0.0150668820702\nTotal error:  0.0147365203561\nTotal error:  0.0156504681115\n"
     ]
    },
    {
     "name": "stdout",
     "output_type": "stream",
     "text": [
      "Total error:  0.0158226116983\nTotal error:  0.0148017280578\nTotal error:  0.0155184270137\nTotal error:  0.0153980960845\n"
     ]
    },
    {
     "name": "stdout",
     "output_type": "stream",
     "text": [
      "Total error:  0.0158720004466\nTotal error:  0.0144181905414\nTotal error:  0.0155232402697\nTotal error:  0.0154824932954\n"
     ]
    },
    {
     "name": "stdout",
     "output_type": "stream",
     "text": [
      "Total error:  0.0157045037775\nTotal error:  0.0148756563614\nTotal error:  0.0148183687259\nTotal error:  0.0155912491494\nTotal error:  0.0149470851066\n"
     ]
    },
    {
     "name": "stdout",
     "output_type": "stream",
     "text": [
      "Total error:  0.0150964296035\nTotal error:  0.0155654984358\nTotal error:  0.0152485655939\nTotal error:  0.0148060369989\n"
     ]
    },
    {
     "name": "stdout",
     "output_type": "stream",
     "text": [
      "Total error:  0.0153425611311\nTotal error:  0.0149896862603\nTotal error:  0.0149542526894\nTotal error:  0.014780967484\n"
     ]
    },
    {
     "name": "stdout",
     "output_type": "stream",
     "text": [
      "Total error:  0.0150756926332\nTotal error:  0.0155969126897\nTotal error:  0.0149561370439\nTotal error:  0.0149477484582\n"
     ]
    },
    {
     "name": "stdout",
     "output_type": "stream",
     "text": [
      "Total error:  0.0150730721124\nTotal error:  0.0153610409113\nTotal error:  0.0150549533457\nTotal error:  0.0156126488711\n"
     ]
    },
    {
     "name": "stdout",
     "output_type": "stream",
     "text": [
      "Total error:  0.0146507888181\nTotal error:  0.015750997101\nTotal error:  0.0148659664575\nTotal error:  0.0142101750793\n"
     ]
    },
    {
     "name": "stdout",
     "output_type": "stream",
     "text": [
      "Total error:  0.0148353981808\nTotal error:  0.0153812972638\nTotal error:  0.0150356932687\nTotal error:  0.0154133931667\n"
     ]
    },
    {
     "name": "stdout",
     "output_type": "stream",
     "text": [
      "Total error:  0.015154524374\nTotal error:  0.0153489769037\nTotal error:  0.0154440342365\nTotal error:  0.0152887417797\nTotal error:  0.0151131920209"
     ]
    },
    {
     "name": "stdout",
     "output_type": "stream",
     "text": [
      "\nTotal error:  0.0141892352672\nTotal error:  0.0156027360035\nTotal error:  0.0152823844502\nTotal error:  0.0149700969177\n"
     ]
    },
    {
     "name": "stdout",
     "output_type": "stream",
     "text": [
      "Total error:  0.0151176089172\nTotal error:  0.0151064319196\nTotal error:  0.0140628141022\nTotal error:  0.0146915283458\n"
     ]
    },
    {
     "name": "stdout",
     "output_type": "stream",
     "text": [
      "Total error:  0.0151182302828\nTotal error:  0.0156254065667\nTotal error:  0.014124467636\nTotal error:  0.0159967486523\n"
     ]
    },
    {
     "name": "stdout",
     "output_type": "stream",
     "text": [
      "Total error:  0.0149220423127\nTotal error:  0.014893454883\nTotal error:  0.015382268463\nTotal error:  0.015375502305\n"
     ]
    },
    {
     "name": "stdout",
     "output_type": "stream",
     "text": [
      "Total error:  0.0147142877913\nTotal error:  0.0152404577882\nTotal error:  0.0157354974142\nTotal error:  0.0136926486713\n"
     ]
    },
    {
     "name": "stdout",
     "output_type": "stream",
     "text": [
      "Total error:  0.0154431966254\nTotal error:  0.0149624336544\nTotal error:  0.0153104069659\nTotal error:  0.015042398525\n"
     ]
    },
    {
     "name": "stdout",
     "output_type": "stream",
     "text": [
      "Total error:  0.0148427992801\nTotal error:  0.0157065800558\nTotal error:  0.0153014820418\nTotal error:  0.0153929408624\n"
     ]
    },
    {
     "name": "stdout",
     "output_type": "stream",
     "text": [
      "Total error:  0.0155233453554\nTotal error:  0.0152308817847\nTotal error:  0.0152248331689\nTotal error:  0.0153190455543\n"
     ]
    },
    {
     "name": "stdout",
     "output_type": "stream",
     "text": [
      "Total error:  0.0153153197133\nTotal error:  0.013344232574\nTotal error:  0.0155929600635\nTotal error:  0.0152880240419\n"
     ]
    },
    {
     "name": "stdout",
     "output_type": "stream",
     "text": [
      "Total error:  0.0149807863989\nTotal error:  0.0152417797228\nTotal error:  0.0152487878936\nTotal error:  0.0151611121391\n"
     ]
    },
    {
     "name": "stdout",
     "output_type": "stream",
     "text": [
      "Total error:  0.0151674561236\nTotal error:  0.0146071351562\nTotal error:  0.0150337170418\nTotal error:  0.0157009556198\n"
     ]
    },
    {
     "name": "stdout",
     "output_type": "stream",
     "text": [
      "Total error:  0.0148301045277\nTotal error:  0.0155229391531\nTotal error:  0.0151070494481\nTotal error:  0.0153125308987\n"
     ]
    },
    {
     "name": "stdout",
     "output_type": "stream",
     "text": [
      "Total error:  0.0154557051255\nTotal error:  0.0146746487329\nTotal error:  0.0150959744131\nTotal error:  0.0155838754495\n"
     ]
    },
    {
     "name": "stdout",
     "output_type": "stream",
     "text": [
      "Total error:  0.0148513626757\nTotal error:  0.0151839855361\nTotal error:  0.0153188785522\nTotal error:  0.0151289634148\n"
     ]
    },
    {
     "name": "stdout",
     "output_type": "stream",
     "text": [
      "Total error:  0.0153846668504\nTotal error:  0.015584299969\nTotal error:  0.0153184493979\nTotal error:  0.0148888574698\nTotal error:  0.0149054006538"
     ]
    },
    {
     "name": "stdout",
     "output_type": "stream",
     "text": [
      "\nTotal error:  0.0150716474136\nTotal error:  0.0151161843189\nTotal error:  0.0139434041649\nTotal error:  0.0149143414505\nTotal error:  0.0153424352953\n"
     ]
    },
    {
     "name": "stdout",
     "output_type": "stream",
     "text": [
      "Total error:  0.0143969549756\nTotal error:  0.0150295528641\nTotal error:  0.0140248499914\nTotal error:  0.0148688076004\n"
     ]
    },
    {
     "name": "stdout",
     "output_type": "stream",
     "text": [
      "Total error:  0.0139154380129\nTotal error:  0.0153270655617\nTotal error:  0.015185944389\nTotal error:  0.0152181161765\nTotal error:  0.0149172092612"
     ]
    },
    {
     "name": "stdout",
     "output_type": "stream",
     "text": [
      "\nTotal error:  0.01555846904\nTotal error:  0.0147983446684\nTotal error:  0.0145536102412\nTotal error:  0.0150795812112\n"
     ]
    },
    {
     "name": "stdout",
     "output_type": "stream",
     "text": [
      "Total error:  0.0140455248525\nTotal error:  0.0156608277646\nTotal error:  0.0150976633641\nTotal error:  0.0149953180807\n"
     ]
    },
    {
     "name": "stdout",
     "output_type": "stream",
     "text": [
      "Total error:  0.0146237210595\nTotal error:  0.0152602912516\nTotal error:  0.014850537797\nTotal error:  0.0155656640835\n"
     ]
    },
    {
     "name": "stdout",
     "output_type": "stream",
     "text": [
      "Total error:  0.0145316387601\nTotal error:  0.0146116384647\nTotal error:  0.0146652881752\nTotal error:  0.0145203225952\n"
     ]
    },
    {
     "name": "stdout",
     "output_type": "stream",
     "text": [
      "Total error:  0.0140381852075\nTotal error:  0.0151264521235\nTotal error:  0.0133737834245\nTotal error:  0.0157909798886\n"
     ]
    },
    {
     "name": "stdout",
     "output_type": "stream",
     "text": [
      "Total error:  0.0150547015002\nTotal error:  0.0153569514393\nTotal error:  0.0153153891148\nTotal error:  0.0154062959727\n"
     ]
    },
    {
     "name": "stdout",
     "output_type": "stream",
     "text": [
      "Total error:  0.014888892605\nTotal error:  0.0152098859391\nTotal error:  0.0132384976491\nTotal error:  0.0152888954928\n"
     ]
    },
    {
     "name": "stdout",
     "output_type": "stream",
     "text": [
      "Total error:  0.0143375247318\nTotal error:  0.015522375085\nTotal error:  0.0153589427772\nTotal error:  0.0144662799171\n"
     ]
    },
    {
     "name": "stdout",
     "output_type": "stream",
     "text": [
      "Total error:  0.0151359031947\nTotal error:  0.0141673885292\nTotal error:  0.0158713660404\nTotal error:  0.0140689880676\n"
     ]
    },
    {
     "name": "stdout",
     "output_type": "stream",
     "text": [
      "Total error:  0.015529228235\nTotal error:  0.0154247870281\nTotal error:  0.0145174034172\nTotal error:  0.0145928519993\n"
     ]
    },
    {
     "name": "stdout",
     "output_type": "stream",
     "text": [
      "Total error:  0.0141842024703\nTotal error:  0.014374285552\nTotal error:  0.0147054877575\nTotal error:  0.0148868832834\nTotal error:  0.0145529306592"
     ]
    },
    {
     "name": "stdout",
     "output_type": "stream",
     "text": [
      "\nTotal error:  0.0147448469052\nTotal error:  0.0138337661541\nTotal error:  0.0151573868233\nTotal error:  0.01525874045\n"
     ]
    },
    {
     "name": "stdout",
     "output_type": "stream",
     "text": [
      "Total error:  0.0148647099991\nTotal error:  0.0152225522313\nTotal error:  0.0142953846462\nTotal error:  0.0146559353024\n"
     ]
    },
    {
     "name": "stdout",
     "output_type": "stream",
     "text": [
      "Total error:  0.0151134833626\nTotal error:  0.0148885274138\nTotal error:  0.0145210470115\nTotal error:  0.0152657183767\n"
     ]
    },
    {
     "name": "stdout",
     "output_type": "stream",
     "text": [
      "Total error:  0.0149541544593\nTotal error:  0.0152007211163\nTotal error:  0.0149035351445\nTotal error:  0.0146663069128\n"
     ]
    },
    {
     "name": "stdout",
     "output_type": "stream",
     "text": [
      "Total error:  0.0140299182515\nTotal error:  0.015198159092\nTotal error:  0.0152664840701\nTotal error:  0.0150528332373\nTotal error:  0.0138016742941\n"
     ]
    },
    {
     "name": "stdout",
     "output_type": "stream",
     "text": [
      "Total error:  0.0148301037305\nTotal error:  0.0153515306293\nTotal error:  0.0144118473505\nTotal error:  0.0150436674049\nTotal error:  0.0136078246653"
     ]
    },
    {
     "name": "stdout",
     "output_type": "stream",
     "text": [
      "\nTotal error:  0.0157601618168\nTotal error:  0.014832800274\nTotal error:  0.0137117346411\nTotal error:  0.0150660236612\n"
     ]
    },
    {
     "name": "stdout",
     "output_type": "stream",
     "text": [
      "Total error:  0.0149021248606\nTotal error:  0.0150488520447\nTotal error:  0.0152339353981\nTotal error:  0.0141605160297\nTotal error:  0.0151415764921"
     ]
    },
    {
     "name": "stdout",
     "output_type": "stream",
     "text": [
      "\nTotal error:  0.0146802315853\nTotal error:  0.0149243411372\nTotal error:  0.0153498740461\nTotal error:  0.0129708326313\nTotal error:  0.0152118398181\n"
     ]
    },
    {
     "name": "stdout",
     "output_type": "stream",
     "text": [
      "Total error:  0.0142086701866\nTotal error:  0.0152966462225\nTotal error:  0.0147862237907\nTotal error:  0.0143733462266\nTotal error:  0.0139152505349\n"
     ]
    },
    {
     "name": "stdout",
     "output_type": "stream",
     "text": [
      "Total error:  0.0152659206177\nTotal error:  0.0148988557664\nTotal error:  0.0151935389596\nTotal error:  0.0141790164864\nTotal error:  0.0154197533433"
     ]
    },
    {
     "name": "stdout",
     "output_type": "stream",
     "text": [
      "\nTotal error:  0.0149655501973\nTotal error:  0.0148976558187\nTotal error:  0.0138697663563\nTotal error:  0.0150170317842\n"
     ]
    },
    {
     "name": "stdout",
     "output_type": "stream",
     "text": [
      "Total error:  0.0152790957549\nTotal error:  0.014411056986\nTotal error:  0.0152779888056\nTotal error:  0.0146453691558\n"
     ]
    },
    {
     "name": "stdout",
     "output_type": "stream",
     "text": [
      "Total error:  0.0147729886743\nTotal error:  0.014761469322\nTotal error:  0.0149280489266\nTotal error:  0.0145536088002\nTotal error:  0.0146424467623"
     ]
    },
    {
     "name": "stdout",
     "output_type": "stream",
     "text": [
      "\nTotal error:  0.0145356256476\nTotal error:  0.0150215486077\nTotal error:  0.0142307223422\nTotal error:  0.0148795267983\nTotal error:  0.0148403591117\n"
     ]
    },
    {
     "name": "stdout",
     "output_type": "stream",
     "text": [
      "Total error:  0.0141791334991\nTotal error:  0.0150063041813\nTotal error:  0.01478928068\nTotal error:  0.0136435336492\n"
     ]
    },
    {
     "name": "stdout",
     "output_type": "stream",
     "text": [
      "Total error:  0.0153935106276\nTotal error:  0.0141897362652\nTotal error:  0.0141230704451\nTotal error:  0.0152700202689\n"
     ]
    },
    {
     "name": "stdout",
     "output_type": "stream",
     "text": [
      "Total error:  0.0147377090428\nTotal error:  0.0144215540133\nTotal error:  0.0141212905257\nTotal error:  0.0148140567496\n"
     ]
    },
    {
     "name": "stdout",
     "output_type": "stream",
     "text": [
      "Total error:  0.0141574103436\nTotal error:  0.0152391810516\nTotal error:  0.0147882360131\nTotal error:  0.0143250120933\n"
     ]
    },
    {
     "name": "stdout",
     "output_type": "stream",
     "text": [
      "Total error:  0.0148550553221\nTotal error:  0.0148505286333\nTotal error:  0.0145517438513\nTotal error:  0.0152526962143\n"
     ]
    },
    {
     "name": "stdout",
     "output_type": "stream",
     "text": [
      "Total error:  0.0144264379645\nTotal error:  0.0139622595263\nTotal error:  0.014749298416\nTotal error:  0.0151524805615\n"
     ]
    },
    {
     "name": "stdout",
     "output_type": "stream",
     "text": [
      "Total error:  0.0150983161234\nTotal error:  0.0146903158573\nTotal error:  0.0149488454562\nTotal error:  0.0144846139001\n"
     ]
    },
    {
     "name": "stdout",
     "output_type": "stream",
     "text": [
      "Total error:  0.0150361926534\nTotal error:  0.014211535223\nTotal error:  0.0150802835859\nTotal error:  0.0151396783309\n"
     ]
    },
    {
     "name": "stdout",
     "output_type": "stream",
     "text": [
      "Total error:  0.0152979673708\nTotal error:  0.0134450928616\nTotal error:  0.0133035569453\nTotal error:  0.015322111794\n"
     ]
    },
    {
     "name": "stdout",
     "output_type": "stream",
     "text": [
      "Total error:  0.0135402421447\nTotal error:  0.0150285475972\nTotal error:  0.0150313781873\nTotal error:  0.0140134344448\n"
     ]
    },
    {
     "name": "stdout",
     "output_type": "stream",
     "text": [
      "Total error:  0.0150198260983\nTotal error:  0.0145517379389\nTotal error:  0.0151197066301\nTotal error:  0.0149517294945\n"
     ]
    },
    {
     "name": "stdout",
     "output_type": "stream",
     "text": [
      "Total error:  0.0150597182208\nTotal error:  0.0147873340002\nTotal error:  0.0148693258379\nTotal error:  0.0149535614113\n"
     ]
    },
    {
     "name": "stdout",
     "output_type": "stream",
     "text": [
      "Total error:  0.014836013745\nTotal error:  0.0147514304303\nTotal error:  0.015057930742\nTotal error:  0.0148604077461\n"
     ]
    },
    {
     "name": "stdout",
     "output_type": "stream",
     "text": [
      "Total error:  0.0144270338396\nTotal error:  0.0143375760675\nTotal error:  0.014430577534\nTotal error:  0.0149344402499\n"
     ]
    },
    {
     "name": "stdout",
     "output_type": "stream",
     "text": [
      "Total error:  0.0150151581689\nTotal error:  0.0149157280305\nTotal error:  0.0145021624864\nTotal error:  0.0142126007301\nTotal error:  0.0147773123363"
     ]
    },
    {
     "name": "stdout",
     "output_type": "stream",
     "text": [
      "\nTotal error:  0.0145025933177\nTotal error:  0.0146341001563\nTotal error:  0.0135415786965\n"
     ]
    },
    {
     "name": "stdout",
     "output_type": "stream",
     "text": [
      "Total error:  0.01477116676\nTotal error:  0.0144004071611\nTotal error:  0.0146235665512\nTotal error:  0.0146479601963\n"
     ]
    },
    {
     "name": "stdout",
     "output_type": "stream",
     "text": [
      "Total error:  0.0143220087741\nTotal error:  0.0145230896699\nTotal error:  0.0146982384587\nTotal error:  0.0142985893038\n"
     ]
    },
    {
     "name": "stdout",
     "output_type": "stream",
     "text": [
      "Total error:  0.0142555361583\nTotal error:  0.0139715189549\nTotal error:  0.0146694847725\nTotal error:  0.0138008962211\n"
     ]
    },
    {
     "name": "stdout",
     "output_type": "stream",
     "text": [
      "Total error:  0.0148808459453\nTotal error:  0.0137491260852\nTotal error:  0.0145189780711\nTotal error:  0.0150246504034\n"
     ]
    },
    {
     "name": "stdout",
     "output_type": "stream",
     "text": [
      "Total error:  0.014339403058\nTotal error:  0.0148792153994\nTotal error:  0.0147712593062\nTotal error:  0.0148390198103\n"
     ]
    },
    {
     "name": "stdout",
     "output_type": "stream",
     "text": [
      "Total error:  0.014223652402\nTotal error:  0.0145951309833\nTotal error:  0.0145450293763\nTotal error:  0.0148051783583\n"
     ]
    },
    {
     "name": "stdout",
     "output_type": "stream",
     "text": [
      "Total error:  0.0136405738668\nTotal error:  0.0146708533922\nTotal error:  0.0145395075317\nTotal error:  0.0152151216566\n"
     ]
    },
    {
     "name": "stdout",
     "output_type": "stream",
     "text": [
      "Total error:  0.0148709273237\nTotal error:  0.0148136541443\nTotal error:  0.014865335312\nTotal error:  0.0141769595595\n"
     ]
    },
    {
     "name": "stdout",
     "output_type": "stream",
     "text": [
      "Total error:  0.0146478992275\nTotal error:  0.0144386553457\nTotal error:  0.0151688628817\nTotal error:  0.0149035374445\n"
     ]
    },
    {
     "name": "stdout",
     "output_type": "stream",
     "text": [
      "Total error:  0.0143299826524\nTotal error:  0.0144528006308\nTotal error:  0.0144203551979\nTotal error:  0.0144235019812\n"
     ]
    },
    {
     "name": "stdout",
     "output_type": "stream",
     "text": [
      "Total error:  0.014332134888\nTotal error:  0.014295217082\nTotal error:  0.0145529985039\nTotal error:  0.0138213765591\n"
     ]
    },
    {
     "name": "stdout",
     "output_type": "stream",
     "text": [
      "Total error:  0.0145012880404\nTotal error:  0.0142571206816\nTotal error:  0.0131408701173\nTotal error:  0.0150434081284\nTotal error:  0.0139199810524"
     ]
    },
    {
     "name": "stdout",
     "output_type": "stream",
     "text": [
      "\nTotal error:  0.0153473690815\nTotal error:  0.0148543392906\nTotal error:  0.0149233080837\nTotal error:  0.0150241288318\nTotal error:  0.0142521033662"
     ]
    },
    {
     "name": "stdout",
     "output_type": "stream",
     "text": [
      "\nTotal error:  0.0146723673532\nTotal error:  0.0142294930596\nTotal error:  0.0142235188958\nTotal error:  0.0147989731584\n"
     ]
    },
    {
     "name": "stdout",
     "output_type": "stream",
     "text": [
      "Total error:  0.0147153434716\nTotal error:  0.0143525189906\nTotal error:  0.013400464792\nTotal error:  0.0150738168125\n"
     ]
    },
    {
     "name": "stdout",
     "output_type": "stream",
     "text": [
      "Total error:  0.014549708339\nTotal error:  0.0145553966478\nTotal error:  0.0148009265607\nTotal error:  0.0147415001155\n"
     ]
    },
    {
     "name": "stdout",
     "output_type": "stream",
     "text": [
      "Total error:  0.0139027462938\nTotal error:  0.0148004229753\nTotal error:  0.0144118194337\nTotal error:  0.0146281289343\n"
     ]
    },
    {
     "name": "stdout",
     "output_type": "stream",
     "text": [
      "Total error:  0.0148161141213\nTotal error:  0.014459385983\nTotal error:  0.0140421288958\nTotal error:  0.0146849155015\n"
     ]
    },
    {
     "name": "stdout",
     "output_type": "stream",
     "text": [
      "Total error:  0.014059028545\nTotal error:  0.0148557953193\nTotal error:  0.0146362845132\nTotal error:  0.0142252890402\n"
     ]
    },
    {
     "name": "stdout",
     "output_type": "stream",
     "text": [
      "Total error:  0.0145361097859\nTotal error:  0.0139230850546\nTotal error:  0.0148269979944\nTotal error:  0.0141930844641\n"
     ]
    },
    {
     "name": "stdout",
     "output_type": "stream",
     "text": [
      "Total error:  0.0148340615064\nTotal error:  0.0146913070988\nTotal error:  0.0148730436549\n"
     ]
    },
    {
     "name": "stdout",
     "output_type": "stream",
     "text": [
      "Total error:  0.0147275213986\nTotal error:  0.0145975737255\nTotal error:  0.0144874854488\nTotal error:  0.0145772609002\n"
     ]
    },
    {
     "name": "stdout",
     "output_type": "stream",
     "text": [
      "Total error:  0.0148135484534\nTotal error:  0.014947018185\nTotal error:  0.0141572018866\nTotal error:  0.0140688439288\n"
     ]
    },
    {
     "name": "stdout",
     "output_type": "stream",
     "text": [
      "Total error:  0.014673834268\nTotal error:  0.0141151257684\nTotal error:  0.0149148697666\nTotal error:  0.0142340855599\n"
     ]
    },
    {
     "name": "stdout",
     "output_type": "stream",
     "text": [
      "Total error:  0.0143002803619\nTotal error:  0.0144995626698\nTotal error:  0.0141544631518\nTotal error:  0.014755437275\nTotal error:  0.0124380983867"
     ]
    },
    {
     "name": "stdout",
     "output_type": "stream",
     "text": [
      "\nTotal error:  0.0144068952733\nTotal error:  0.0145002960733\nTotal error:  0.0148100142673\nTotal error:  0.0144906959804\n"
     ]
    },
    {
     "name": "stdout",
     "output_type": "stream",
     "text": [
      "Total error:  0.0137641843256\nTotal error:  0.0148050216738\nTotal error:  0.013790066556\nTotal error:  0.0143236187939\n"
     ]
    },
    {
     "name": "stdout",
     "output_type": "stream",
     "text": [
      "Total error:  0.0143761543766\nTotal error:  0.0148752421021\nTotal error:  0.013791374645\nTotal error:  0.0143446971518\n"
     ]
    },
    {
     "name": "stdout",
     "output_type": "stream",
     "text": [
      "Total error:  0.0142262800816\nTotal error:  0.0146230854663\nTotal error:  0.0141101635644\nTotal error:  0.0142888026252\n"
     ]
    },
    {
     "name": "stdout",
     "output_type": "stream",
     "text": [
      "Total error:  0.0138256116465\nTotal error:  0.0140948413525\nTotal error:  0.0143167793911\nTotal error:  0.0140239213786\n"
     ]
    },
    {
     "name": "stdout",
     "output_type": "stream",
     "text": [
      "Total error:  0.0145376334022\nTotal error:  0.0143066087802\nTotal error:  0.0143388329697\nTotal error:  0.0143120998165\n"
     ]
    },
    {
     "name": "stdout",
     "output_type": "stream",
     "text": [
      "Total error:  0.0146608431711\nTotal error:  0.0142142879053\nTotal error:  0.0142640557887\nTotal error:  0.0136416936901\n"
     ]
    },
    {
     "name": "stdout",
     "output_type": "stream",
     "text": [
      "Total error:  0.014158015417\nTotal error:  0.0143189933104\nTotal error:  0.0146081572004\nTotal error:  0.0141067933922\n"
     ]
    },
    {
     "name": "stdout",
     "output_type": "stream",
     "text": [
      "Total error:  0.0148774095458\nTotal error:  0.014264549522\nTotal error:  0.0147592277138\nTotal error:  0.0137047251438\n"
     ]
    },
    {
     "name": "stdout",
     "output_type": "stream",
     "text": [
      "Total error:  0.0144900373843\nTotal error:  0.014795673353\nTotal error:  0.0141960362912\nTotal error:  0.0150272534824\n"
     ]
    },
    {
     "name": "stdout",
     "output_type": "stream",
     "text": [
      "Total error:  0.0143186916998\nTotal error:  0.0135638181391\nTotal error:  0.0147319001052\nTotal error:  0.0143687034319\n"
     ]
    },
    {
     "name": "stdout",
     "output_type": "stream",
     "text": [
      "Total error:  0.0142929507224\nTotal error:  0.0148158139866\nTotal error:  0.0142814584447\nTotal error:  0.0142951055719\n"
     ]
    },
    {
     "name": "stdout",
     "output_type": "stream",
     "text": [
      "Total error:  0.0140216662133\nTotal error:  0.0140932902169\nTotal error:  0.0141393772011\nTotal error:  0.0143342499493\nTotal error:  0.0147905048193"
     ]
    },
    {
     "name": "stdout",
     "output_type": "stream",
     "text": [
      "\nTotal error:  0.0135544601198\nTotal error:  0.0133393806008\nTotal error:  0.0147089430847\nTotal error:  0.0146417768867\n"
     ]
    },
    {
     "name": "stdout",
     "output_type": "stream",
     "text": [
      "Total error:  0.014702953575\nTotal error:  0.0136706175347\nTotal error:  0.0141594963497\nTotal error:  0.0147440312493\n"
     ]
    },
    {
     "name": "stdout",
     "output_type": "stream",
     "text": [
      "Total error:  0.0142715683418\nTotal error:  0.0141940525855\nTotal error:  0.0145460743786\nTotal error:  0.0139247838891\n"
     ]
    },
    {
     "name": "stdout",
     "output_type": "stream",
     "text": [
      "Total error:  0.0143742130022\nTotal error:  0.014750256747\nTotal error:  0.0144838307725\nTotal error:  0.0139381351717\n"
     ]
    },
    {
     "name": "stdout",
     "output_type": "stream",
     "text": [
      "Total error:  0.0138455455019\nTotal error:  0.0139720742338\nTotal error:  0.0144085623255\nTotal error:  0.0146297488772\n"
     ]
    },
    {
     "name": "stdout",
     "output_type": "stream",
     "text": [
      "Total error:  0.0145375943572\nTotal error:  0.013959715743\nTotal error:  0.014504683319\nTotal error:  0.0145890532184\n"
     ]
    },
    {
     "name": "stdout",
     "output_type": "stream",
     "text": [
      "Total error:  0.0145754742118\nTotal error:  0.0143657658014\nTotal error:  0.0140723270236\nTotal error:  0.0140604247348\n"
     ]
    },
    {
     "name": "stdout",
     "output_type": "stream",
     "text": [
      "Total error:  0.0145880385884\nTotal error:  0.0138227036269\nTotal error:  0.0144644066345\nTotal error:  0.0138826938047\n"
     ]
    },
    {
     "name": "stdout",
     "output_type": "stream",
     "text": [
      "Total error:  0.0136902914055\nTotal error:  0.0144661153599\nTotal error:  0.0145737775458\nTotal error:  0.014389828529\n"
     ]
    },
    {
     "name": "stdout",
     "output_type": "stream",
     "text": [
      "Total error:  0.013695944288\nTotal error:  0.0141766282757\nTotal error:  0.0143858492213\nTotal error:  0.0143620552901\n"
     ]
    },
    {
     "name": "stdout",
     "output_type": "stream",
     "text": [
      "Total error:  0.014223102496\nTotal error:  0.0141191442738\nTotal error:  0.0139711613035\nTotal error:  0.0143248804184\n"
     ]
    },
    {
     "name": "stdout",
     "output_type": "stream",
     "text": [
      "Total error:  0.0141383712674\nTotal error:  0.0143996697059\nTotal error:  0.0135242345748\nTotal error:  0.0143641241208\n"
     ]
    },
    {
     "name": "stdout",
     "output_type": "stream",
     "text": [
      "Total error:  0.0146876885007\nTotal error:  0.01418253144\nTotal error:  0.0143663609004\nTotal error:  0.0130331752593\n"
     ]
    },
    {
     "name": "stdout",
     "output_type": "stream",
     "text": [
      "Total error:  0.0137138660195\nTotal error:  0.0141237588375\nTotal error:  0.0145927902065\nTotal error:  0.0145360993199\n"
     ]
    },
    {
     "name": "stdout",
     "output_type": "stream",
     "text": [
      "Total error:  0.014124209389\nTotal error:  0.0143937271335\nTotal error:  0.0141727437956\nTotal error:  0.0137099093273\n"
     ]
    },
    {
     "name": "stdout",
     "output_type": "stream",
     "text": [
      "Total error:  0.0142972295354\nTotal error:  0.0132347580249\n"
     ]
    },
    {
     "name": "stdout",
     "output_type": "stream",
     "text": [
      "Total error:  0.0146544628734\nTotal error:  0.0144158892323\nTotal error:  0.0134230516829\nTotal error:  0.0142091889625\n"
     ]
    },
    {
     "name": "stdout",
     "output_type": "stream",
     "text": [
      "Total error:  0.0142088733463\nTotal error:  0.0143746805525\nTotal error:  0.014519087733\nTotal error:  0.0144975388372\n"
     ]
    },
    {
     "name": "stdout",
     "output_type": "stream",
     "text": [
      "Total error:  0.0138633368942\nTotal error:  0.014477615214\nTotal error:  0.0139365365899\nTotal error:  0.0145800162376\n"
     ]
    },
    {
     "name": "stdout",
     "output_type": "stream",
     "text": [
      "Total error:  0.0139568147575\nTotal error:  0.0137860799134\nTotal error:  0.0142707779101\nTotal error:  0.0146912495958\n"
     ]
    },
    {
     "name": "stdout",
     "output_type": "stream",
     "text": [
      "Total error:  0.0142652162493\nTotal error:  0.0140625050611\nTotal error:  0.0144562241029\nTotal error:  0.0138123276441\n"
     ]
    },
    {
     "name": "stdout",
     "output_type": "stream",
     "text": [
      "Total error:  0.0142296998696\nTotal error:  0.0139930562889\nTotal error:  0.0147500174347\nTotal error:  0.0136957931807\n"
     ]
    },
    {
     "name": "stdout",
     "output_type": "stream",
     "text": [
      "Total error:  0.0137802022127\nTotal error:  0.0140183390707\nTotal error:  0.0139197097297\nTotal error:  0.0132479848208\n"
     ]
    },
    {
     "name": "stdout",
     "output_type": "stream",
     "text": [
      "Total error:  0.0144113093832\nTotal error:  0.0140030563111\nTotal error:  0.0133512152739\nTotal error:  0.0150881456538\n"
     ]
    },
    {
     "name": "stdout",
     "output_type": "stream",
     "text": [
      "Total error:  0.0139665826636\nTotal error:  0.0140488535595\nTotal error:  0.0135914674894\nTotal error:  0.0138449527977\n"
     ]
    },
    {
     "name": "stdout",
     "output_type": "stream",
     "text": [
      "Total error:  0.014650334118\nTotal error:  0.0136455751125\nTotal error:  0.0147430375652\nTotal error:  0.0134871878063\n"
     ]
    },
    {
     "name": "stdout",
     "output_type": "stream",
     "text": [
      "Total error:  0.0141251569663\nTotal error:  0.0129544421083\nTotal error:  0.0148398573616\nTotal error:  0.0142720772325\n"
     ]
    },
    {
     "name": "stdout",
     "output_type": "stream",
     "text": [
      "Total error:  0.014228367922\nTotal error:  0.0141216930079\nTotal error:  0.0139951849053\nTotal error:  0.0138275642576\n"
     ]
    },
    {
     "name": "stdout",
     "output_type": "stream",
     "text": [
      "Total error:  0.0137635150013\nTotal error:  0.0131775897192\nTotal error:  0.0145442118528\nTotal error:  0.0129629823277\n"
     ]
    },
    {
     "name": "stdout",
     "output_type": "stream",
     "text": [
      "Total error:  0.0131723145253\nTotal error:  0.0137368885199\nTotal error:  0.0143140382231\nTotal error:  0.0142020151685\n"
     ]
    },
    {
     "name": "stdout",
     "output_type": "stream",
     "text": [
      "Total error:  0.0132212486925\nTotal error:  0.0146616379485\nTotal error:  0.0142362710803\nTotal error:  0.0132717297582\n"
     ]
    },
    {
     "name": "stdout",
     "output_type": "stream",
     "text": [
      "Total error:  0.0141659064599\nTotal error:  0.0142195297973\nTotal error:  0.0143211443155\nTotal error:  0.0134626274646\n"
     ]
    },
    {
     "name": "stdout",
     "output_type": "stream",
     "text": [
      "Total error:  0.013669006193\nTotal error:  0.0135927965316\nTotal error:  0.0135356422422\nTotal error:  0.0144221915938\n"
     ]
    },
    {
     "name": "stdout",
     "output_type": "stream",
     "text": [
      "Total error:  0.0135520646614\nTotal error:  0.013890214009\nTotal error:  0.014288477944\nTotal error:  0.0140022781397\n"
     ]
    },
    {
     "name": "stdout",
     "output_type": "stream",
     "text": [
      "Total error:  0.0141653462805\nTotal error:  0.0142760785087\nTotal error:  0.0141347867869\nTotal error:  0.013928431095\n"
     ]
    },
    {
     "name": "stdout",
     "output_type": "stream",
     "text": [
      "Total error:  0.0143440034899\nTotal error:  0.0142135997913\nTotal error:  0.0136286871213\nTotal error:  0.0133274903715\n"
     ]
    },
    {
     "name": "stdout",
     "output_type": "stream",
     "text": [
      "Total error:  0.0134321682112\nTotal error:  0.0138715930055\nTotal error:  0.0138130310292\nTotal error:  0.0136549562362\n"
     ]
    },
    {
     "name": "stdout",
     "output_type": "stream",
     "text": [
      "Total error:  0.0144564963413\nTotal error:  0.0132746723404\nTotal error:  0.0141709989047\nTotal error:  0.0139000497016\n"
     ]
    },
    {
     "name": "stdout",
     "output_type": "stream",
     "text": [
      "Total error:  0.0143305472719\nTotal error:  0.0141454954988\nTotal error:  0.014118199524\nTotal error:  0.01393632481\n"
     ]
    },
    {
     "name": "stdout",
     "output_type": "stream",
     "text": [
      "Total error:  0.0137163941167\nTotal error:  0.0143364281336\nTotal error:  0.0142973388497\nTotal error:  0.0137985244198\n"
     ]
    },
    {
     "name": "stdout",
     "output_type": "stream",
     "text": [
      "Total error:  0.0141410893146\nTotal error:  0.0140585114085\nTotal error:  0.0135699494439\nTotal error:  0.0143573423868\n"
     ]
    },
    {
     "name": "stdout",
     "output_type": "stream",
     "text": [
      "Total error:  0.0133863570876\nTotal error:  0.0139455326028\nTotal error:  0.0139089433441\nTotal error:  0.0139121744313\n"
     ]
    },
    {
     "name": "stdout",
     "output_type": "stream",
     "text": [
      "Total error:  0.0135213530644\nTotal error:  0.0138473296185\nTotal error:  0.0140617511827\nTotal error:  0.0137973418619\n"
     ]
    },
    {
     "name": "stdout",
     "output_type": "stream",
     "text": [
      "Total error:  0.0137322104968\nTotal error:  0.014563289595\nTotal error:  0.013696839765\nTotal error:  0.0139351380757\n"
     ]
    },
    {
     "name": "stdout",
     "output_type": "stream",
     "text": [
      "Total error:  0.014266456219\nTotal error:  0.014112013928\nTotal error:  0.0128065284172\nTotal error:  0.0141283284268"
     ]
    },
    {
     "name": "stdout",
     "output_type": "stream",
     "text": [
      "\nTotal error:  0.013961051638\nTotal error:  0.0132271936574\nTotal error:  0.0145415577897\nTotal error:  0.0141856198812\n"
     ]
    },
    {
     "name": "stdout",
     "output_type": "stream",
     "text": [
      "Total error:  0.0139816178545\nTotal error:  0.0138885524682\nTotal error:  0.0132405200592\nTotal error:  0.0137963259556\n"
     ]
    },
    {
     "name": "stdout",
     "output_type": "stream",
     "text": [
      "Total error:  0.0144248844023\nTotal error:  0.0141337158456\nTotal error:  0.0135769131918\nTotal error:  0.0140290969337\n"
     ]
    },
    {
     "name": "stdout",
     "output_type": "stream",
     "text": [
      "Total error:  0.0139085854734\nTotal error:  0.013416207313\nTotal error:  0.013449065748\nTotal error:  0.0136447691101\n"
     ]
    },
    {
     "name": "stdout",
     "output_type": "stream",
     "text": [
      "Total error:  0.0140573802109\nTotal error:  0.0129829255433\nTotal error:  0.0142282417232\nTotal error:  0.0129445989288\n"
     ]
    },
    {
     "name": "stdout",
     "output_type": "stream",
     "text": [
      "Total error:  0.0133508889021\nTotal error:  0.0142445940002\nTotal error:  0.0135637017819\nTotal error:  0.0129530014775\nTotal error:  0.0133762319773\n"
     ]
    },
    {
     "name": "stdout",
     "output_type": "stream",
     "text": [
      "Total error:  0.0141535785952\nTotal error:  0.0142380505809\nTotal error:  0.014051790289\nTotal error:  0.0136370399569\n"
     ]
    },
    {
     "name": "stdout",
     "output_type": "stream",
     "text": [
      "Total error:  0.0131259684459\nTotal error:  0.0127445886954\nTotal error:  0.013950247031\nTotal error:  0.0127257792826\n"
     ]
    },
    {
     "name": "stdout",
     "output_type": "stream",
     "text": [
      "Total error:  0.0136291455737\nTotal error:  0.0131032887878\nTotal error:  0.0136064274975\nTotal error:  0.0132002059076\n"
     ]
    },
    {
     "name": "stdout",
     "output_type": "stream",
     "text": [
      "Total error:  0.013531033724\nTotal error:  0.014083666981\nTotal error:  0.013843850117\nTotal error:  0.0138875468379\n"
     ]
    },
    {
     "name": "stdout",
     "output_type": "stream",
     "text": [
      "Total error:  0.0136344520114\nTotal error:  0.0139721965059\nTotal error:  0.0124149975686\nTotal error:  0.0145138879732\n"
     ]
    },
    {
     "name": "stdout",
     "output_type": "stream",
     "text": [
      "Total error:  0.0129523947026\nTotal error:  0.013367866873\nTotal error:  0.0136076895946\nTotal error:  0.0130645198804\n"
     ]
    },
    {
     "name": "stdout",
     "output_type": "stream",
     "text": [
      "Total error:  0.0141036587758\nTotal error:  0.012565777444\nTotal error:  0.0141592800589\nTotal error:  0.0134060992847\n"
     ]
    },
    {
     "name": "stdout",
     "output_type": "stream",
     "text": [
      "Total error:  0.0141721291463\nTotal error:  0.0140390981047\nTotal error:  0.0135468464024\nTotal error:  0.0143688519029\n"
     ]
    },
    {
     "name": "stdout",
     "output_type": "stream",
     "text": [
      "Total error:  0.0138822978442\nTotal error:  0.014086308943\nTotal error:  0.0133999285986\nTotal error:  0.0136146700421\n"
     ]
    },
    {
     "name": "stdout",
     "output_type": "stream",
     "text": [
      "Total error:  0.0138465628904\nTotal error:  0.013842837251\nTotal error:  0.0133701982264\nTotal error:  0.0138861895244\n"
     ]
    },
    {
     "name": "stdout",
     "output_type": "stream",
     "text": [
      "Total error:  0.0138749413901\nTotal error:  0.0131161868781\nTotal error:  0.0133449516206\nTotal error:  0.0132316512282\n"
     ]
    },
    {
     "name": "stdout",
     "output_type": "stream",
     "text": [
      "Total error:  0.0139361043757\nTotal error:  0.01361023818\nTotal error:  0.0139089125202\nTotal error:  0.0136172416203\nTotal error:  0.0136288895038"
     ]
    },
    {
     "name": "stdout",
     "output_type": "stream",
     "text": [
      "\nTotal error:  0.014312203345\nTotal error:  0.0136445845271\nTotal error:  0.0136558651797\nTotal error:  0.0133707616673\n"
     ]
    },
    {
     "name": "stdout",
     "output_type": "stream",
     "text": [
      "Total error:  0.0132025353842\nTotal error:  0.0137699481065\nTotal error:  0.0141682522039\nTotal error:  0.0137311025254\n"
     ]
    },
    {
     "name": "stdout",
     "output_type": "stream",
     "text": [
      "Total error:  0.013567819378\nTotal error:  0.0125562715621\nTotal error:  0.0129615264014\nTotal error:  0.0137778780259\n"
     ]
    },
    {
     "name": "stdout",
     "output_type": "stream",
     "text": [
      "Total error:  0.013691503321\nTotal error:  0.0137986355633\nTotal error:  0.0137205422973\nTotal error:  0.0139517435074\n"
     ]
    },
    {
     "name": "stdout",
     "output_type": "stream",
     "text": [
      "Total error:  0.0139051991004\nTotal error:  0.0139242539899\nTotal error:  0.0131224906819\nTotal error:  0.0139512438556\n"
     ]
    },
    {
     "name": "stdout",
     "output_type": "stream",
     "text": [
      "Total error:  0.0137225405768\nTotal error:  0.0130653917643\nTotal error:  0.0133021146367\nTotal error:  0.0136995393352\n"
     ]
    },
    {
     "name": "stdout",
     "output_type": "stream",
     "text": [
      "Total error:  0.0127102469543\nTotal error:  0.0134750950993\nTotal error:  0.0138390370183\nTotal error:  0.0137916193943\n"
     ]
    },
    {
     "name": "stdout",
     "output_type": "stream",
     "text": [
      "Total error:  0.0136172780227\nTotal error:  0.0139448131376\nTotal error:  0.0135447847079\nTotal error:  0.0134317839479\n"
     ]
    },
    {
     "name": "stdout",
     "output_type": "stream",
     "text": [
      "Total error:  0.0135280738333\nTotal error:  0.01353645031\nTotal error:  0.0134152705747\nTotal error:  0.012576633578\n"
     ]
    },
    {
     "name": "stdout",
     "output_type": "stream",
     "text": [
      "Total error:  0.013308948955\nTotal error:  0.0139811219962\nTotal error:  0.0139364301585\nTotal error:  0.0140334970234\n"
     ]
    },
    {
     "name": "stdout",
     "output_type": "stream",
     "text": [
      "Total error:  0.0138551340499\nTotal error:  0.013778304466\nTotal error:  0.0135789583553\nTotal error:  0.0138023517549\n"
     ]
    },
    {
     "name": "stdout",
     "output_type": "stream",
     "text": [
      "Total error:  0.0140312614957\nTotal error:  0.013897770962\nTotal error:  0.0137506818412\nTotal error:  0.0137131820803\n"
     ]
    },
    {
     "name": "stdout",
     "output_type": "stream",
     "text": [
      "Total error:  0.0133020963599\nTotal error:  0.0138170632772\nTotal error:  0.0133347178229\nTotal error:  0.0138940667083\n"
     ]
    },
    {
     "name": "stdout",
     "output_type": "stream",
     "text": [
      "Total error:  0.0137797030227\nTotal error:  0.0134211865562\nTotal error:  0.0136170846158\nTotal error:  0.0131653981715\n"
     ]
    },
    {
     "name": "stdout",
     "output_type": "stream",
     "text": [
      "Total error:  0.0135619455257\nTotal error:  0.0140604933557\nTotal error:  0.0131809032019\nTotal error:  0.0138044835686\n"
     ]
    },
    {
     "name": "stdout",
     "output_type": "stream",
     "text": [
      "Total error:  0.0129324356891\nTotal error:  0.0141002403409\nTotal error:  0.0135729506276\nTotal error:  0.0136653435438\nTotal error:  0.0134427436012"
     ]
    },
    {
     "name": "stdout",
     "output_type": "stream",
     "text": [
      "\nTotal error:  0.0132785067094\nTotal error:  0.0132824393412\nTotal error:  0.0136831426892\nTotal error:  0.0127094100142\nTotal error:  0.013720961218\n"
     ]
    },
    {
     "name": "stdout",
     "output_type": "stream",
     "text": [
      "Total error:  0.012812074106\nTotal error:  0.0133344141073\nTotal error:  0.0131227443923\nTotal error:  0.0133012143319\n"
     ]
    },
    {
     "name": "stdout",
     "output_type": "stream",
     "text": [
      "Total error:  0.0125315730365\nTotal error:  0.0133112243256\nTotal error:  0.0132441358599\nTotal error:  0.0126680796674\n"
     ]
    },
    {
     "name": "stdout",
     "output_type": "stream",
     "text": [
      "Total error:  0.0139329627359\nTotal error:  0.0137929929191\nTotal error:  0.0133473864981\nTotal error:  0.0130763214881\n"
     ]
    },
    {
     "name": "stdout",
     "output_type": "stream",
     "text": [
      "Total error:  0.0136749399136\nTotal error:  0.012929562887\nTotal error:  0.0131968908715\nTotal error:  0.0132683196909\n"
     ]
    },
    {
     "name": "stdout",
     "output_type": "stream",
     "text": [
      "Total error:  0.0134035127537\nTotal error:  0.0130839772543\nTotal error:  0.0137803575594\nTotal error:  0.0135174201227\n"
     ]
    },
    {
     "name": "stdout",
     "output_type": "stream",
     "text": [
      "Total error:  0.0137901747784\nTotal error:  0.0139985009209\nTotal error:  0.0121919417857\nTotal error:  0.0138128858502\n"
     ]
    },
    {
     "name": "stdout",
     "output_type": "stream",
     "text": [
      "Total error:  0.0139094419504\nTotal error:  0.0136991989715\nTotal error:  0.0132228897924\nTotal error:  0.0125802096914\nTotal error:  0.0137235070047"
     ]
    },
    {
     "name": "stdout",
     "output_type": "stream",
     "text": [
      "\nTotal error:  0.0139440506973\nTotal error:  0.013600770231\nTotal error:  0.0138502344447\nTotal error:  0.0127291839789\n"
     ]
    },
    {
     "name": "stdout",
     "output_type": "stream",
     "text": [
      "Total error:  0.0135709479818\nTotal error:  0.0134753832311\nTotal error:  0.0130233116166\nTotal error:  0.0132801326837\n"
     ]
    },
    {
     "name": "stdout",
     "output_type": "stream",
     "text": [
      "Total error:  0.0131568886831\nTotal error:  0.013673470835\nTotal error:  0.0137442271874\nTotal error:  0.0129416178028\n"
     ]
    },
    {
     "name": "stdout",
     "output_type": "stream",
     "text": [
      "Total error:  0.0137841115036\nTotal error:  0.0134693646473\nTotal error:  0.0129484560815\nTotal error:  0.0137233559659\n"
     ]
    },
    {
     "name": "stdout",
     "output_type": "stream",
     "text": [
      "Total error:  0.012877779073\nTotal error:  0.0136126858693\nTotal error:  0.0122569550173\nTotal error:  0.0135637508056\n"
     ]
    },
    {
     "name": "stdout",
     "output_type": "stream",
     "text": [
      "Total error:  0.0140839958489\nTotal error:  0.0135910406962\nTotal error:  0.0132504705869\nTotal error:  0.0133497170439\n"
     ]
    },
    {
     "name": "stdout",
     "output_type": "stream",
     "text": [
      "Total error:  0.0134477925116\nTotal error:  0.0132745434327\nTotal error:  0.0139939981145\nTotal error:  0.0136177730235\n"
     ]
    },
    {
     "name": "stdout",
     "output_type": "stream",
     "text": [
      "Total error:  0.0133096659013\nTotal error:  0.0138193549609\nTotal error:  0.0132391252202\nTotal error:  0.0137788061862\n"
     ]
    },
    {
     "name": "stdout",
     "output_type": "stream",
     "text": [
      "Total error:  0.0132258510184\nTotal error:  0.0136259028028\nTotal error:  0.0124259618134\nTotal error:  0.0139576718342\n"
     ]
    },
    {
     "name": "stdout",
     "output_type": "stream",
     "text": [
      "Total error:  0.013409538543\nTotal error:  0.013597815515\nTotal error:  0.0133617009522\nTotal error:  0.0136732430573\n"
     ]
    },
    {
     "name": "stdout",
     "output_type": "stream",
     "text": [
      "Total error:  0.0134787108986\nTotal error:  0.0136405393446\nTotal error:  0.0133426755156\nTotal error:  0.013785881509\n"
     ]
    },
    {
     "name": "stdout",
     "output_type": "stream",
     "text": [
      "Total error:  0.0137170243111\nTotal error:  0.0136530235396\nTotal error:  0.0134054647224\nTotal error:  0.0123742135049\n"
     ]
    },
    {
     "name": "stdout",
     "output_type": "stream",
     "text": [
      "Total error:  0.0131020792592\nTotal error:  0.0132344323394\nTotal error:  0.0132458336086\nTotal error:  0.0128589985303\n"
     ]
    },
    {
     "name": "stdout",
     "output_type": "stream",
     "text": [
      "Total error:  0.0136315344106\nTotal error:  0.0135890649383\nTotal error:  0.0136750220621\nTotal error:  0.0135712560939\n"
     ]
    },
    {
     "name": "stdout",
     "output_type": "stream",
     "text": [
      "Total error:  0.0135557337182\nTotal error:  0.0130712234264\nTotal error:  0.0133836263733\nTotal error:  0.0131297233852\n"
     ]
    },
    {
     "name": "stdout",
     "output_type": "stream",
     "text": [
      "Total error:  0.0137077108617\nTotal error:  0.0129261084626\nTotal error:  0.0137441909874\nTotal error:  0.0134213374621\n"
     ]
    },
    {
     "name": "stdout",
     "output_type": "stream",
     "text": [
      "Total error:  0.0135416936918\nTotal error:  0.0130710557849\nTotal error:  0.0136510105692\nTotal error:  0.0136358506347\n"
     ]
    },
    {
     "name": "stdout",
     "output_type": "stream",
     "text": [
      "Total error:  0.0132305828704\nTotal error:  0.0132546396024\nTotal error:  0.0133229714103\nTotal error:  0.0139434738412\n"
     ]
    },
    {
     "name": "stdout",
     "output_type": "stream",
     "text": [
      "Total error:  0.0134074549805\nTotal error:  0.0132038425877\nTotal error:  0.0125458015131\nTotal error:  0.0124489030757\n"
     ]
    },
    {
     "name": "stdout",
     "output_type": "stream",
     "text": [
      "Total error:  0.0131987893637\nTotal error:  0.0136639271813\nTotal error:  0.0128865755167\nTotal error:  0.0123452313168\n"
     ]
    },
    {
     "name": "stdout",
     "output_type": "stream",
     "text": [
      "Total error:  0.013138246434\nTotal error:  0.0134964279789\nTotal error:  0.0134229947326\nTotal error:  0.0134908914405\n"
     ]
    },
    {
     "name": "stdout",
     "output_type": "stream",
     "text": [
      "Total error:  0.0134766270955\nTotal error:  0.0133731101273\nTotal error:  0.0134328741755\nTotal error:  0.013086706988\n"
     ]
    },
    {
     "name": "stdout",
     "output_type": "stream",
     "text": [
      "Total error:  0.0136377576501\nTotal error:  0.0130716976815\nTotal error:  0.0129589311867\n"
     ]
    },
    {
     "name": "stdout",
     "output_type": "stream",
     "text": [
      "Total error:  0.0116641857536\nTotal error:  0.0134058803364\nTotal error:  0.0134634958263\nTotal error:  0.0134198858554\n"
     ]
    },
    {
     "name": "stdout",
     "output_type": "stream",
     "text": [
      "Total error:  0.0132796725048\nTotal error:  0.0133265934885\nTotal error:  0.0131581681648\nTotal error:  0.0129637022459\n"
     ]
    },
    {
     "name": "stdout",
     "output_type": "stream",
     "text": [
      "Total error:  0.0128888307517\nTotal error:  0.0118430163358\nTotal error:  0.0141472233068\nTotal error:  0.012994329399\n"
     ]
    },
    {
     "name": "stdout",
     "output_type": "stream",
     "text": [
      "Total error:  0.0125368341609\nTotal error:  0.0135306031902\nTotal error:  0.0136649425072\nTotal error:  0.013593964745\n"
     ]
    },
    {
     "name": "stdout",
     "output_type": "stream",
     "text": [
      "Total error:  0.0131920895418\nTotal error:  0.0134342563251\nTotal error:  0.0121730649045\nTotal error:  0.0130892966812\n"
     ]
    },
    {
     "name": "stdout",
     "output_type": "stream",
     "text": [
      "Total error:  0.013168288802\nTotal error:  0.0135536191999\nTotal error:  0.0130894412929\nTotal error:  0.0134927758438\n"
     ]
    },
    {
     "name": "stdout",
     "output_type": "stream",
     "text": [
      "Total error:  0.0130992338347\nTotal error:  0.0135418808822\nTotal error:  0.0134567997496\nTotal error:  0.0126899552443\n"
     ]
    },
    {
     "name": "stdout",
     "output_type": "stream",
     "text": [
      "Total error:  0.0133810939234\nTotal error:  0.0134769327397\nTotal error:  0.0133165404544\nTotal error:  0.01311288229\n"
     ]
    },
    {
     "name": "stdout",
     "output_type": "stream",
     "text": [
      "Total error:  0.0135839110024\nTotal error:  0.011515870982\nTotal error:  0.0131675893424\nTotal error:  0.0134662340251\n"
     ]
    },
    {
     "name": "stdout",
     "output_type": "stream",
     "text": [
      "Total error:  0.0133118083666\nTotal error:  0.0126538589106\nTotal error:  0.0129473101906\n"
     ]
    },
    {
     "name": "stdout",
     "output_type": "stream",
     "text": [
      "Total error:  0.013161671123\nTotal error:  0.0129585412825\nTotal error:  0.0133551077919\nTotal error:  0.0133475160817\n"
     ]
    },
    {
     "name": "stdout",
     "output_type": "stream",
     "text": [
      "Total error:  0.0124656195515\nTotal error:  0.0132518026933\nTotal error:  0.0127094865639\nTotal error:  0.0129544291663\n"
     ]
    },
    {
     "name": "stdout",
     "output_type": "stream",
     "text": [
      "Total error:  0.0134156287276\nTotal error:  0.013346404156\nTotal error:  0.0132182225807\nTotal error:  0.0120371851682\n"
     ]
    },
    {
     "name": "stdout",
     "output_type": "stream",
     "text": [
      "Total error:  0.0134407157695\nTotal error:  0.0132304163122\nTotal error:  0.0129694433577\nTotal error:  0.0129854572146\n"
     ]
    },
    {
     "name": "stdout",
     "output_type": "stream",
     "text": [
      "Total error:  0.0132270803773\nTotal error:  0.0129819397427\nTotal error:  0.013214908889\nTotal error:  0.0136358312087\nTotal error:  0.0126735243773"
     ]
    },
    {
     "name": "stdout",
     "output_type": "stream",
     "text": [
      "\nTotal error:  0.0130958203749\nTotal error:  0.0135599881107\nTotal error:  0.013220092235\nTotal error:  0.0131183729094\n"
     ]
    },
    {
     "name": "stdout",
     "output_type": "stream",
     "text": [
      "Total error:  0.0133421761967\nTotal error:  0.0134237606274\nTotal error:  0.0125663694731\nTotal error:  0.0133430276122\n"
     ]
    },
    {
     "name": "stdout",
     "output_type": "stream",
     "text": [
      "Total error:  0.013047473377\nTotal error:  0.0131671519348\nTotal error:  0.0127467462075\nTotal error:  0.0124029208653\n"
     ]
    },
    {
     "name": "stdout",
     "output_type": "stream",
     "text": [
      "Total error:  0.013355438449\nTotal error:  0.0129812270329\nTotal error:  0.0128026406049\nTotal error:  0.0128223006134\n"
     ]
    },
    {
     "name": "stdout",
     "output_type": "stream",
     "text": [
      "Total error:  0.0131537257689\nTotal error:  0.0126177798726\nTotal error:  0.0135262040838\nTotal error:  0.0127696158221\n"
     ]
    },
    {
     "name": "stdout",
     "output_type": "stream",
     "text": [
      "Total error:  0.0129109782621\nTotal error:  0.0131690013397\nTotal error:  0.0133106280736\nTotal error:  0.0133630233105\n"
     ]
    },
    {
     "name": "stdout",
     "output_type": "stream",
     "text": [
      "Total error:  0.0134466165384\nTotal error:  0.0128738428979\nTotal error:  0.0129997188887\nTotal error:  0.0126710003794\n"
     ]
    },
    {
     "name": "stdout",
     "output_type": "stream",
     "text": [
      "Total error:  0.0119079980636\nTotal error:  0.0133664501299\nTotal error:  0.0131932540001\nTotal error:  0.0122913228548\n"
     ]
    },
    {
     "name": "stdout",
     "output_type": "stream",
     "text": [
      "Total error:  0.0129688736898\nTotal error:  0.012822116793\nTotal error:  0.0133907285605\nTotal error:  0.0129434231483\n"
     ]
    },
    {
     "name": "stdout",
     "output_type": "stream",
     "text": [
      "Total error:  0.0130621958846\nTotal error:  0.0131844264835\nTotal error:  0.0133758070596\nTotal error:  0.0128844525827\n"
     ]
    },
    {
     "name": "stdout",
     "output_type": "stream",
     "text": [
      "Total error:  0.0126016358256\nTotal error:  0.0136314259176\nTotal error:  0.0133826403601\nTotal error:  0.0130657079636\n"
     ]
    },
    {
     "name": "stdout",
     "output_type": "stream",
     "text": [
      "Total error:  0.0131232042331\nTotal error:  0.0133163527738\nTotal error:  0.0128761948515\nTotal error:  0.0128809787219\n"
     ]
    },
    {
     "name": "stdout",
     "output_type": "stream",
     "text": [
      "Total error:  0.0134025879975\nTotal error:  0.012674320192\nTotal error:  0.0134793089603\nTotal error:  0.0130755875968\n"
     ]
    },
    {
     "name": "stdout",
     "output_type": "stream",
     "text": [
      "Total error:  0.0134293002158\nTotal error:  0.012767653649\nTotal error:  0.0130946429769\nTotal error:  0.0132455705982\n"
     ]
    },
    {
     "name": "stdout",
     "output_type": "stream",
     "text": [
      "Total error:  0.0127448099693\nTotal error:  0.0132101100747\nTotal error:  0.0132267817816\nTotal error:  0.0129333182752\n"
     ]
    },
    {
     "name": "stdout",
     "output_type": "stream",
     "text": [
      "Total error:  0.0127567611011\nTotal error:  0.0126076281503\nTotal error:  0.0137935422264\nTotal error:  0.0131358413798\n"
     ]
    },
    {
     "name": "stdout",
     "output_type": "stream",
     "text": [
      "Total error:  0.0132145715255\nTotal error:  0.0133387652639\nTotal error:  0.0132153942517\nTotal error:  0.0132487998347\n"
     ]
    },
    {
     "name": "stdout",
     "output_type": "stream",
     "text": [
      "Total error:  0.0127314839108\nTotal error:  0.0125115665807\nTotal error:  0.0128688386656\nTotal error:  0.0127933577742\n"
     ]
    },
    {
     "name": "stdout",
     "output_type": "stream",
     "text": [
      "Total error:  0.0129937035658\nTotal error:  0.0130528657547\nTotal error:  0.0130121421305\nTotal error:  0.012035060812\n"
     ]
    },
    {
     "name": "stdout",
     "output_type": "stream",
     "text": [
      "Total error:  0.0131282482885\nTotal error:  0.0122192363432\nTotal error:  0.0134380275893\nTotal error:  0.0127047653889\n"
     ]
    },
    {
     "name": "stdout",
     "output_type": "stream",
     "text": [
      "Total error:  0.0118092979596\nTotal error:  0.0130000089689\nTotal error:  0.0132494285332\nTotal error:  0.0125815713317\n"
     ]
    },
    {
     "name": "stdout",
     "output_type": "stream",
     "text": [
      "Total error:  0.0128383173583\nTotal error:  0.0132305753514\nTotal error:  0.0124402236317\nTotal error:  0.0126073942635\n"
     ]
    },
    {
     "name": "stdout",
     "output_type": "stream",
     "text": [
      "Total error:  0.0130725501584\nTotal error:  0.0128290665058\nTotal error:  0.0129017662602\nTotal error:  0.0130533844079\n"
     ]
    },
    {
     "name": "stdout",
     "output_type": "stream",
     "text": [
      "Total error:  0.0130475718824\nTotal error:  0.0130339916796\nTotal error:  0.0128496485053\nTotal error:  0.0129199245611\n"
     ]
    },
    {
     "name": "stdout",
     "output_type": "stream",
     "text": [
      "Total error:  0.0127869869568\nTotal error:  0.0128810217902\nTotal error:  0.0126760567689\nTotal error:  0.0125242497962\n"
     ]
    },
    {
     "name": "stdout",
     "output_type": "stream",
     "text": [
      "Total error:  0.0130847613685\nTotal error:  0.0121299606415\nTotal error:  0.0131278314244\nTotal error:  0.0127609675174\n"
     ]
    },
    {
     "name": "stdout",
     "output_type": "stream",
     "text": [
      "Total error:  0.0130860340105\nTotal error:  0.0121560206312\nTotal error:  0.0130606600278\nTotal error:  0.0132842450684\n"
     ]
    },
    {
     "name": "stdout",
     "output_type": "stream",
     "text": [
      "Total error:  0.0128618087935\nTotal error:  0.0127797833089\nTotal error:  0.0123134038038\nTotal error:  0.0125931985408\n"
     ]
    },
    {
     "name": "stdout",
     "output_type": "stream",
     "text": [
      "Total error:  0.0132445858479\nTotal error:  0.0128561514447\nTotal error:  0.0124997949233\nTotal error:  0.0125928845557\n"
     ]
    },
    {
     "name": "stdout",
     "output_type": "stream",
     "text": [
      "Total error:  0.013355426037\nTotal error:  0.0129221496939\nTotal error:  0.012824786001\nTotal error:  0.0126522776355\n"
     ]
    },
    {
     "name": "stdout",
     "output_type": "stream",
     "text": [
      "Total error:  0.0125118740651\nTotal error:  0.0130482772802\nTotal error:  0.0126114365909\nTotal error:  0.0121773740023\n"
     ]
    },
    {
     "name": "stdout",
     "output_type": "stream",
     "text": [
      "Total error:  0.0129816697499\nTotal error:  0.0129089800533\nTotal error:  0.0128656627409\nTotal error:  0.012940475913\n"
     ]
    },
    {
     "name": "stdout",
     "output_type": "stream",
     "text": [
      "Total error:  0.0129834446349\nTotal error:  0.0129193036914\nTotal error:  0.0127718325765\nTotal error:  0.0127882269215\n"
     ]
    },
    {
     "name": "stdout",
     "output_type": "stream",
     "text": [
      "Total error:  0.0127314276483\nTotal error:  0.0126890344908\nTotal error:  0.0130417169511\nTotal error:  0.012633534967\n"
     ]
    },
    {
     "name": "stdout",
     "output_type": "stream",
     "text": [
      "Total error:  0.0129527578868\nTotal error:  0.012678591193\nTotal error:  0.0131599278812\n"
     ]
    },
    {
     "name": "stdout",
     "output_type": "stream",
     "text": [
      "Total error:  0.0131045207885\nTotal error:  0.0125031649676\nTotal error:  0.0126167744542\nTotal error:  0.0129806699437\n"
     ]
    },
    {
     "name": "stdout",
     "output_type": "stream",
     "text": [
      "Total error:  0.0129075284947\nTotal error:  0.0124586236223\nTotal error:  0.0118576021137\nTotal error:  0.0128087000511\n"
     ]
    },
    {
     "name": "stdout",
     "output_type": "stream",
     "text": [
      "Total error:  0.0129304360806\nTotal error:  0.0128126417947\nTotal error:  0.0118970834945\nTotal error:  0.0128393738064\n"
     ]
    },
    {
     "name": "stdout",
     "output_type": "stream",
     "text": [
      "Total error:  0.0129415657693\nTotal error:  0.012810243638\nTotal error:  0.0129058007168\nTotal error:  0.0131906544166\n"
     ]
    },
    {
     "name": "stdout",
     "output_type": "stream",
     "text": [
      "Total error:  0.0130997799877\nTotal error:  0.0121915331982\nTotal error:  0.011868427792\nTotal error:  0.0121017809187\n"
     ]
    },
    {
     "name": "stdout",
     "output_type": "stream",
     "text": [
      "Total error:  0.0129362873715\nTotal error:  0.0130900119659\nTotal error:  0.0132191585459\nTotal error:  0.0128357489908\n"
     ]
    },
    {
     "name": "stdout",
     "output_type": "stream",
     "text": [
      "Total error:  0.0130883642488\nTotal error:  0.0131875109613\nTotal error:  0.0131003814447\nTotal error:  0.0124275756466\n"
     ]
    },
    {
     "name": "stdout",
     "output_type": "stream",
     "text": [
      "Total error:  0.0125812205321\nTotal error:  0.0132589181587\nTotal error:  0.0124875820123\nTotal error:  0.0128563934602\n"
     ]
    },
    {
     "name": "stdout",
     "output_type": "stream",
     "text": [
      "Total error:  0.0128639945251\nTotal error:  0.0127749632548\nTotal error:  0.0127861493047\nTotal error:  0.0131767085538\n"
     ]
    },
    {
     "name": "stdout",
     "output_type": "stream",
     "text": [
      "Total error:  0.0119891380725\nTotal error:  0.0126190832707\nTotal error:  0.012544917222\nTotal error:  0.013216788987\n"
     ]
    },
    {
     "name": "stdout",
     "output_type": "stream",
     "text": [
      "Total error:  0.0128038687372\nTotal error:  0.0128502093157\nTotal error:  0.0124372110398\nTotal error:  0.0127226671319\n"
     ]
    },
    {
     "name": "stdout",
     "output_type": "stream",
     "text": [
      "Total error:  0.0128666020111\nTotal error:  0.0126857235266\nTotal error:  0.0125980684902\nTotal error:  0.0122501446167\n"
     ]
    },
    {
     "name": "stdout",
     "output_type": "stream",
     "text": [
      "Total error:  0.012383967003\nTotal error:  0.0127252419439\nTotal error:  0.0124888133258\nTotal error:  0.0129716106937\n"
     ]
    },
    {
     "name": "stdout",
     "output_type": "stream",
     "text": [
      "Total error:  0.0127376292446\nTotal error:  0.0126880681129\nTotal error:  0.012699994159\nTotal error:  0.0130592402751\n"
     ]
    },
    {
     "name": "stdout",
     "output_type": "stream",
     "text": [
      "Total error:  0.0123193634498\nTotal error:  0.0123893404829\nTotal error:  0.0128287013622\nTotal error:  0.0124022892032\n"
     ]
    },
    {
     "name": "stdout",
     "output_type": "stream",
     "text": [
      "Total error:  0.0127320580999\nTotal error:  0.0124877766074\nTotal error:  0.0109980772807\nTotal error:  0.013321521993\n"
     ]
    },
    {
     "name": "stdout",
     "output_type": "stream",
     "text": [
      "Total error:  0.012725513977\nTotal error:  0.0124135859774\nTotal error:  0.0123937800518\nTotal error:  0.0126993074099\n"
     ]
    },
    {
     "name": "stdout",
     "output_type": "stream",
     "text": [
      "Total error:  0.0125504937052\nTotal error:  0.0130472842266\nTotal error:  0.0112637760009\nTotal error:  0.0125838981854\n"
     ]
    },
    {
     "name": "stdout",
     "output_type": "stream",
     "text": [
      "Total error:  0.0130235734523\nTotal error:  0.0119636444456\nTotal error:  0.0127615060669\nTotal error:  0.0125907252361\n"
     ]
    },
    {
     "name": "stdout",
     "output_type": "stream",
     "text": [
      "Total error:  0.0124857167515\nTotal error:  0.0125595634036\nTotal error:  0.0124732673805\nTotal error:  0.0123036244147\n"
     ]
    },
    {
     "name": "stdout",
     "output_type": "stream",
     "text": [
      "Total error:  0.0130676525651\nTotal error:  0.0128121225903\nTotal error:  0.0127233713732\nTotal error:  0.0125164174695\n"
     ]
    },
    {
     "name": "stdout",
     "output_type": "stream",
     "text": [
      "Total error:  0.0126330162878\nTotal error:  0.0128511520498\nTotal error:  0.0124803003869\nTotal error:  0.0121151554278\n"
     ]
    },
    {
     "name": "stdout",
     "output_type": "stream",
     "text": [
      "Total error:  0.0124089167834\nTotal error:  0.0125570445899\nTotal error:  0.0130881392952\nTotal error:  0.0129025021903\n"
     ]
    },
    {
     "name": "stdout",
     "output_type": "stream",
     "text": [
      "Total error:  0.0125665868993\nTotal error:  0.0129279262193\nTotal error:  0.0129560762733\nTotal error:  0.012730169921\n"
     ]
    },
    {
     "name": "stdout",
     "output_type": "stream",
     "text": [
      "Total error:  0.0127374337838\nTotal error:  0.0127878735013\nTotal error:  0.0129573069577\nTotal error:  0.0128756654057\n"
     ]
    },
    {
     "name": "stdout",
     "output_type": "stream",
     "text": [
      "Total error:  0.0129400947351\nTotal error:  0.0124955260837\nTotal error:  0.0129459669868\nTotal error:  0.0107385802222\n"
     ]
    },
    {
     "name": "stdout",
     "output_type": "stream",
     "text": [
      "Total error:  0.013028506876\nTotal error:  0.0127684349255\nTotal error:  0.0123480108454\nTotal error:  0.0126985390802\n"
     ]
    },
    {
     "name": "stdout",
     "output_type": "stream",
     "text": [
      "Total error:  0.0126612472924\nTotal error:  0.0121865183355\nTotal error:  0.0118474400274\nTotal error:  0.0122194575552\n"
     ]
    },
    {
     "name": "stdout",
     "output_type": "stream",
     "text": [
      "Total error:  0.0118600169413\nTotal error:  0.0116498106705\nTotal error:  0.0123038948521\nTotal error:  0.012359468886\n"
     ]
    },
    {
     "name": "stdout",
     "output_type": "stream",
     "text": [
      "Total error:  0.0127966180289\nTotal error:  0.0123719382101\nTotal error:  0.0126209600378\nTotal error:  0.0121891623382\n"
     ]
    },
    {
     "name": "stdout",
     "output_type": "stream",
     "text": [
      "Total error:  0.0122369719019\nTotal error:  0.012342005751\nTotal error:  0.0127320809354\nTotal error:  0.0125280293847\n"
     ]
    },
    {
     "name": "stdout",
     "output_type": "stream",
     "text": [
      "Total error:  0.0124125124311\nTotal error:  0.0121899897888\nTotal error:  0.0129516275972\nTotal error:  0.0127243660773\n"
     ]
    },
    {
     "name": "stdout",
     "output_type": "stream",
     "text": [
      "Total error:  0.0121916900295\nTotal error:  0.0123803612261\nTotal error:  0.012418343349\nTotal error:  0.0122359917499\n"
     ]
    },
    {
     "name": "stdout",
     "output_type": "stream",
     "text": [
      "Total error:  0.0126375498934\nTotal error:  0.0121560552791\nTotal error:  0.0124430342533\nTotal error:  0.012772180669\n"
     ]
    },
    {
     "name": "stdout",
     "output_type": "stream",
     "text": [
      "Total error:  0.0124734538479\nTotal error:  0.0127366946842\nTotal error:  0.0117946876118\nTotal error:  0.0122792328139\n"
     ]
    },
    {
     "name": "stdout",
     "output_type": "stream",
     "text": [
      "Total error:  0.0123147318185\nTotal error:  0.0122299134819\nTotal error:  0.0122406045407\nTotal error:  0.0123694138058\n"
     ]
    },
    {
     "name": "stdout",
     "output_type": "stream",
     "text": [
      "Total error:  0.0112394614189\nTotal error:  0.0131620568107\nTotal error:  0.0128608580871\nTotal error:  0.0120218739192\n"
     ]
    },
    {
     "name": "stdout",
     "output_type": "stream",
     "text": [
      "Total error:  0.0118429099681\nTotal error:  0.0119652739987\nTotal error:  0.01253972528\nTotal error:  0.0118815178203\n"
     ]
    },
    {
     "name": "stdout",
     "output_type": "stream",
     "text": [
      "Total error:  0.0126928613322\nTotal error:  0.0124186246635\nTotal error:  0.0125662362074\nTotal error:  0.0121501241305\n"
     ]
    },
    {
     "name": "stdout",
     "output_type": "stream",
     "text": [
      "Total error:  0.0122381721862\nTotal error:  0.0116353726697\nTotal error:  0.0127819677666\nTotal error:  0.0122589536658\n"
     ]
    },
    {
     "name": "stdout",
     "output_type": "stream",
     "text": [
      "Total error:  0.012115688294\nTotal error:  0.01255397672\nTotal error:  0.0103159775707\nTotal error:  0.0121145671651\nTotal error:  0.0123541297106"
     ]
    },
    {
     "name": "stdout",
     "output_type": "stream",
     "text": [
      "\nTotal error:  0.0123593092784\nTotal error:  0.01225543078\nTotal error:  0.0119537633904\n"
     ]
    },
    {
     "name": "stdout",
     "output_type": "stream",
     "text": [
      "Total error:  0.012290744701\nTotal error:  0.0126402962374\nTotal error:  0.0120755229421\nTotal error:  0.0121489769329\n"
     ]
    },
    {
     "name": "stdout",
     "output_type": "stream",
     "text": [
      "Total error:  0.0118632390615\nTotal error:  0.0123093476315\nTotal error:  0.0116884660481\nTotal error:  0.0126324910875\n"
     ]
    },
    {
     "name": "stdout",
     "output_type": "stream",
     "text": [
      "Total error:  0.012490214618\nTotal error:  0.0118179957781\nTotal error:  0.0118728169378\nTotal error:  0.0125492636802\n"
     ]
    },
    {
     "name": "stdout",
     "output_type": "stream",
     "text": [
      "Total error:  0.0125376881009\nTotal error:  0.0126955431656\nTotal error:  0.0120122466947\nTotal error:  0.012864426078\n"
     ]
    },
    {
     "name": "stdout",
     "output_type": "stream",
     "text": [
      "Total error:  0.0125720122524\nTotal error:  0.0119613666272\nTotal error:  0.0120912204302\nTotal error:  0.0125319760653\n"
     ]
    },
    {
     "name": "stdout",
     "output_type": "stream",
     "text": [
      "Total error:  0.0125649764386\nTotal error:  0.0126779842261\nTotal error:  0.0122961622482\nTotal error:  0.0123813408716\n"
     ]
    },
    {
     "name": "stdout",
     "output_type": "stream",
     "text": [
      "Total error:  0.0117349936143\nTotal error:  0.0125499818216\nTotal error:  0.0120099499592\nTotal error:  0.0119040737738\n"
     ]
    },
    {
     "name": "stdout",
     "output_type": "stream",
     "text": [
      "Total error:  0.0121702432032\nTotal error:  0.0118883606656\nTotal error:  0.0107452708658\nTotal error:  0.0125959538868\n"
     ]
    },
    {
     "name": "stdout",
     "output_type": "stream",
     "text": [
      "Total error:  0.0116580661304\nTotal error:  0.0126594442293\nTotal error:  0.0125551173082\nTotal error:  0.011980586623\n"
     ]
    },
    {
     "name": "stdout",
     "output_type": "stream",
     "text": [
      "Total error:  0.0109010644457\nTotal error:  0.012778690014\nTotal error:  0.0121637434868\nTotal error:  0.0125256380046\n"
     ]
    },
    {
     "name": "stdout",
     "output_type": "stream",
     "text": [
      "Total error:  0.0118623258408\nTotal error:  0.0124943501512\nTotal error:  0.0118077943359\n"
     ]
    },
    {
     "name": "stdout",
     "output_type": "stream",
     "text": [
      "Total error:  0.0115146829169\nTotal error:  0.0122931239161\nTotal error:  0.012778810256\n"
     ]
    },
    {
     "name": "stdout",
     "output_type": "stream",
     "text": [
      "Total error:  0.0118300626844\nTotal error:  0.0109249463318\nTotal error:  0.0120418823298\n"
     ]
    },
    {
     "name": "stdout",
     "output_type": "stream",
     "text": [
      "Total error:  0.0126052799693\nTotal error:  0.0116634185101\nTotal error:  0.0127389851522\n"
     ]
    },
    {
     "name": "stdout",
     "output_type": "stream",
     "text": [
      "Total error:  0.0102818777332\nTotal error:  0.0123917255676\nTotal error:  0.0122394594774\nTotal error:  0.0123243313559\n"
     ]
    },
    {
     "name": "stdout",
     "output_type": "stream",
     "text": [
      "Total error:  0.0124510147493\nTotal error:  0.0123887601347\nTotal error:  0.0122077709236\nTotal error:  0.012173752205\n"
     ]
    },
    {
     "name": "stdout",
     "output_type": "stream",
     "text": [
      "Total error:  0.0124866077705\nTotal error:  0.0123232843904\nTotal error:  0.0121668765751\nTotal error:  0.0122684946025\n"
     ]
    },
    {
     "name": "stdout",
     "output_type": "stream",
     "text": [
      "Total error:  0.0123899467164\nTotal error:  0.0121695439344\nTotal error:  0.0120911824425\nTotal error:  0.0121137450462\n"
     ]
    },
    {
     "name": "stdout",
     "output_type": "stream",
     "text": [
      "Total error:  0.0117091167218\nTotal error:  0.0120362056665\nTotal error:  0.012515491025\n"
     ]
    },
    {
     "name": "stdout",
     "output_type": "stream",
     "text": [
      "Total error:  0.012332972707\nTotal error:  0.0114543681699\nTotal error:  0.0129875808586\nTotal error:  0.0124404586257\n"
     ]
    },
    {
     "name": "stdout",
     "output_type": "stream",
     "text": [
      "Total error:  0.0118523958768\nTotal error:  0.0125505827768\nTotal error:  0.0122165483912\nTotal error:  0.0122975649547\n"
     ]
    },
    {
     "name": "stdout",
     "output_type": "stream",
     "text": [
      "Total error:  0.0119381935294\nTotal error:  0.0123151145617\nTotal error:  0.0120750510088\nTotal error:  0.0124862362858\n"
     ]
    },
    {
     "name": "stdout",
     "output_type": "stream",
     "text": [
      "Total error:  0.0123810688009\nTotal error:  0.0124860379867\nTotal error:  0.0121573134101\nTotal error:  0.0123823600154\n"
     ]
    },
    {
     "name": "stdout",
     "output_type": "stream",
     "text": [
      "Total error:  0.0123455033439\nTotal error:  0.0123318302833\nTotal error:  0.0121910575075\nTotal error:  0.0123606295122\n"
     ]
    },
    {
     "name": "stdout",
     "output_type": "stream",
     "text": [
      "Total error:  0.0124013740217\nTotal error:  0.012291682837\nTotal error:  0.0122533346639\nTotal error:  0.0121530072007\nTotal error:  0.0125593909369"
     ]
    },
    {
     "name": "stdout",
     "output_type": "stream",
     "text": [
      "\nTotal error:  0.0123158245383\nTotal error:  0.0123844480169\nTotal error:  0.0123488105593\n"
     ]
    },
    {
     "name": "stdout",
     "output_type": "stream",
     "text": [
      "Total error:  0.0119120048646\nTotal error:  0.0124458076852\nTotal error:  0.0117144715347\nTotal error:  0.0124305937871\n"
     ]
    },
    {
     "name": "stdout",
     "output_type": "stream",
     "text": [
      "Total error:  0.0118423252446\nTotal error:  0.0119374482151\nTotal error:  0.0125987552557\nTotal error:  0.0115090821214\n"
     ]
    },
    {
     "name": "stdout",
     "output_type": "stream",
     "text": [
      "Total error:  0.0121812162421\nTotal error:  0.0127186671071\nTotal error:  0.0124749331234\nTotal error:  0.0119635734455\n"
     ]
    },
    {
     "name": "stdout",
     "output_type": "stream",
     "text": [
      "Total error:  0.012306347139\nTotal error:  0.0123189548881\nTotal error:  0.0118156848908\nTotal error:  0.0126652177941\n"
     ]
    },
    {
     "name": "stdout",
     "output_type": "stream",
     "text": [
      "Total error:  0.0110073370535\nTotal error:  0.0122358292381\nTotal error:  0.0120555194975\nTotal error:  0.0117192915589\n"
     ]
    },
    {
     "name": "stdout",
     "output_type": "stream",
     "text": [
      "Total error:  0.0121445139307\nTotal error:  0.0121072316382\nTotal error:  0.0125048669675\nTotal error:  0.012011451342\n"
     ]
    },
    {
     "name": "stdout",
     "output_type": "stream",
     "text": [
      "Total error:  0.0118556848057\nTotal error:  0.0122005562132\nTotal error:  0.0124868229706\nTotal error:  0.0118199614748\n"
     ]
    },
    {
     "name": "stdout",
     "output_type": "stream",
     "text": [
      "Total error:  0.0121941833673\nTotal error:  0.011969030198\nTotal error:  0.0116845649994\nTotal error:  0.0119508413171\n"
     ]
    },
    {
     "name": "stdout",
     "output_type": "stream",
     "text": [
      "Total error:  0.011577276301\nTotal error:  0.0122870690219\nTotal error:  0.0122070254439\nTotal error:  0.0120685604927\n"
     ]
    },
    {
     "name": "stdout",
     "output_type": "stream",
     "text": [
      "Total error:  0.0118219349085\nTotal error:  0.0118332544281\nTotal error:  0.0122394922215\nTotal error:  0.0120746690487\n"
     ]
    },
    {
     "name": "stdout",
     "output_type": "stream",
     "text": [
      "Total error:  0.0122123077521\nTotal error:  0.0117617120772\nTotal error:  0.0124822691559\nTotal error:  0.0121733745054\n"
     ]
    },
    {
     "name": "stdout",
     "output_type": "stream",
     "text": [
      "Total error:  0.0122538625752\nTotal error:  0.0123808570974\nTotal error:  0.0124423151827\nTotal error:  0.0121947982964\n"
     ]
    },
    {
     "name": "stdout",
     "output_type": "stream",
     "text": [
      "Total error:  0.0118339644477\nTotal error:  0.0110302647214\nTotal error:  0.0119890312171\nTotal error:  0.0111141028218\n"
     ]
    },
    {
     "name": "stdout",
     "output_type": "stream",
     "text": [
      "Total error:  0.0120218019711\nTotal error:  0.0120816967101\nTotal error:  0.0120668005292\nTotal error:  0.0121767615668\n"
     ]
    },
    {
     "name": "stdout",
     "output_type": "stream",
     "text": [
      "Total error:  0.0117628612307\nTotal error:  0.011462638439\nTotal error:  0.0122446239179\nTotal error:  0.012482696818\n"
     ]
    },
    {
     "name": "stdout",
     "output_type": "stream",
     "text": [
      "Total error:  0.0123583468232\nTotal error:  0.0120938855915\nTotal error:  0.0115542796069\nTotal error:  0.0125731587836\n"
     ]
    },
    {
     "name": "stdout",
     "output_type": "stream",
     "text": [
      "Total error:  0.0121826305881\nTotal error:  0.0122291692125\nTotal error:  0.0122229540292\nTotal error:  0.0123961478044\n"
     ]
    },
    {
     "name": "stdout",
     "output_type": "stream",
     "text": [
      "Total error:  0.0119462524019\nTotal error:  0.0114504906497\nTotal error:  0.0111121362087\nTotal error:  0.0123920203555\n"
     ]
    },
    {
     "name": "stdout",
     "output_type": "stream",
     "text": [
      "Total error:  0.0123811099647\nTotal error:  0.012070156246\nTotal error:  0.0122089960384\nTotal error:  0.0121357898124\n"
     ]
    },
    {
     "name": "stdout",
     "output_type": "stream",
     "text": [
      "Total error:  0.0115205004793\nTotal error:  0.0121990504196\nTotal error:  0.0117434265748\nTotal error:  0.0117086667935\n"
     ]
    },
    {
     "name": "stdout",
     "output_type": "stream",
     "text": [
      "Total error:  0.0116394329595\nTotal error:  0.0119174157468\nTotal error:  0.012182348304\nTotal error:  0.0123503415816\n"
     ]
    },
    {
     "name": "stdout",
     "output_type": "stream",
     "text": [
      "Total error:  0.0120772619133\nTotal error:  0.0112196890762\nTotal error:  0.0123822479008\nTotal error:  0.0124685080786\n"
     ]
    },
    {
     "name": "stdout",
     "output_type": "stream",
     "text": [
      "Total error:  0.0117194639346\nTotal error:  0.0120763749598\nTotal error:  0.0121202528539\nTotal error:  0.0123167878524\n"
     ]
    },
    {
     "name": "stdout",
     "output_type": "stream",
     "text": [
      "Total error:  0.0116216667881\nTotal error:  0.0123401693542\nTotal error:  0.0115116504785\nTotal error:  0.0120714127304\n"
     ]
    },
    {
     "name": "stdout",
     "output_type": "stream",
     "text": [
      "Total error:  0.0123176462023\nTotal error:  0.0113982397651\nTotal error:  0.0119222635498\nTotal error:  0.0122588981821\n"
     ]
    },
    {
     "name": "stdout",
     "output_type": "stream",
     "text": [
      "Total error:  0.0119715177516\nTotal error:  0.0121208765476\nTotal error:  0.012127179496\nTotal error:  0.0118809817807\n"
     ]
    },
    {
     "name": "stdout",
     "output_type": "stream",
     "text": [
      "Total error:  0.0119340629293\nTotal error:  0.0115634263754\nTotal error:  0.0120634019401\nTotal error:  0.0120073949774\n"
     ]
    },
    {
     "name": "stdout",
     "output_type": "stream",
     "text": [
      "Total error:  0.0119515854007\nTotal error:  0.0113022500578\nTotal error:  0.011331480869\nTotal error:  0.0122336122702\n"
     ]
    },
    {
     "name": "stdout",
     "output_type": "stream",
     "text": [
      "Total error:  0.0115825685232\nTotal error:  0.0114578289234\nTotal error:  0.0120809728479\nTotal error:  0.011999737998\n"
     ]
    },
    {
     "name": "stdout",
     "output_type": "stream",
     "text": [
      "Total error:  0.011532552279\nTotal error:  0.012015558994\nTotal error:  0.012142113175\nTotal error:  0.0120719564272\n"
     ]
    },
    {
     "name": "stdout",
     "output_type": "stream",
     "text": [
      "Total error:  0.0121088252777\nTotal error:  0.012160063119\nTotal error:  0.011335624842\nTotal error:  0.0115681492935\n"
     ]
    },
    {
     "name": "stdout",
     "output_type": "stream",
     "text": [
      "Total error:  0.0119129588782\nTotal error:  0.0121314817641\nTotal error:  0.0120721732028\nTotal error:  0.0119224828088\n"
     ]
    },
    {
     "name": "stdout",
     "output_type": "stream",
     "text": [
      "Total error:  0.0120162635184\nTotal error:  0.0119877843825\nTotal error:  0.0119543389808\nTotal error:  0.0117454212027\n"
     ]
    },
    {
     "name": "stdout",
     "output_type": "stream",
     "text": [
      "Total error:  0.0119664514515\nTotal error:  0.0116917958796\nTotal error:  0.0120140162512\nTotal error:  0.0121011603318\n"
     ]
    },
    {
     "name": "stdout",
     "output_type": "stream",
     "text": [
      "Total error:  0.0119577649457\nTotal error:  0.01228780752\nTotal error:  0.0119743857525\nTotal error:  0.0118163338535\n"
     ]
    },
    {
     "name": "stdout",
     "output_type": "stream",
     "text": [
      "Total error:  0.0121433796533\nTotal error:  0.0118384195589\nTotal error:  0.0112784285963\nTotal error:  0.0107517806745\n"
     ]
    },
    {
     "name": "stdout",
     "output_type": "stream",
     "text": [
      "Total error:  0.0122103654966\nTotal error:  0.0121157095583\nTotal error:  0.0121874977168\nTotal error:  0.0115509801555\n"
     ]
    },
    {
     "name": "stdout",
     "output_type": "stream",
     "text": [
      "Total error:  0.0113562758296\nTotal error:  0.011306374935\nTotal error:  0.0121322500152\nTotal error:  0.0120460215568\n"
     ]
    },
    {
     "name": "stdout",
     "output_type": "stream",
     "text": [
      "Total error:  0.011325555369\nTotal error:  0.0123698597181\nTotal error:  0.0108333641463\nTotal error:  0.0117428246929\n"
     ]
    },
    {
     "name": "stdout",
     "output_type": "stream",
     "text": [
      "Total error:  0.0119339456902\nTotal error:  0.0120173812573\nTotal error:  0.0114555314184\nTotal error:  0.0113861570985\n"
     ]
    },
    {
     "name": "stdout",
     "output_type": "stream",
     "text": [
      "Total error:  0.0120931378518\nTotal error:  0.0123092679599\nTotal error:  0.0114632409758\nTotal error:  0.0119319916451\n"
     ]
    },
    {
     "name": "stdout",
     "output_type": "stream",
     "text": [
      "Total error:  0.0111112440915\nTotal error:  0.0116049616011\nTotal error:  0.0120100565908\nTotal error:  0.0117280715839\n"
     ]
    },
    {
     "name": "stdout",
     "output_type": "stream",
     "text": [
      "Total error:  0.0114208718479\nTotal error:  0.0122022127677\nTotal error:  0.0117598043014\nTotal error:  0.0120457958721\n"
     ]
    },
    {
     "name": "stdout",
     "output_type": "stream",
     "text": [
      "Total error:  0.01194481312\nTotal error:  0.0117481576948\nTotal error:  0.0118800030804\nTotal error:  0.0121310942744\n"
     ]
    },
    {
     "name": "stdout",
     "output_type": "stream",
     "text": [
      "Total error:  0.0118700193831\nTotal error:  0.0119397673901\nTotal error:  0.0118459601684\nTotal error:  0.0118298500211\n"
     ]
    },
    {
     "name": "stdout",
     "output_type": "stream",
     "text": [
      "Total error:  0.0115027330249\nTotal error:  0.0117641558675\nTotal error:  0.0117150835484\nTotal error:  0.0119933318952\n"
     ]
    },
    {
     "name": "stdout",
     "output_type": "stream",
     "text": [
      "Total error:  0.0120358947857\nTotal error:  0.0119955303367\nTotal error:  0.0120570052158\nTotal error:  0.01174574008\n"
     ]
    },
    {
     "name": "stdout",
     "output_type": "stream",
     "text": [
      "Total error:  0.0122476349556\nTotal error:  0.0117550534466\nTotal error:  0.0114996387692\nTotal error:  0.0115288315252\n"
     ]
    },
    {
     "name": "stdout",
     "output_type": "stream",
     "text": [
      "Total error:  0.0120883626666\nTotal error:  0.011801201675\nTotal error:  0.0112328408833\nTotal error:  0.0118129578498\n"
     ]
    },
    {
     "name": "stdout",
     "output_type": "stream",
     "text": [
      "Total error:  0.0117085953475\nTotal error:  0.0116516673431\nTotal error:  0.0122750217679\nTotal error:  0.0117485976489\n"
     ]
    },
    {
     "name": "stdout",
     "output_type": "stream",
     "text": [
      "Total error:  0.0113528106363\nTotal error:  0.0115520775425\nTotal error:  0.0113449910258\nTotal error:  0.0114528224609\n"
     ]
    },
    {
     "name": "stdout",
     "output_type": "stream",
     "text": [
      "Total error:  0.0117872221206\nTotal error:  0.0116595182258\nTotal error:  0.012210934973\nTotal error:  0.0115996239367\n"
     ]
    },
    {
     "name": "stdout",
     "output_type": "stream",
     "text": [
      "Total error:  0.0116599162247\nTotal error:  0.0116554048534\nTotal error:  0.0116361486269\nTotal error:  0.0117802723307\n"
     ]
    },
    {
     "name": "stdout",
     "output_type": "stream",
     "text": [
      "Total error:  0.0117257066774\nTotal error:  0.0121770461837\nTotal error:  0.011842170877\nTotal error:  0.0120580004081"
     ]
    },
    {
     "name": "stdout",
     "output_type": "stream",
     "text": [
      "\nTotal error:  0.0118609357692\nTotal error:  0.0117129504801\nTotal error:  0.0113447312847\n"
     ]
    },
    {
     "name": "stdout",
     "output_type": "stream",
     "text": [
      "Total error:  0.0119478477983\nTotal error:  0.0118321799424\nTotal error:  0.0120058264046\nTotal error:  0.0121220352646\n"
     ]
    },
    {
     "name": "stdout",
     "output_type": "stream",
     "text": [
      "Total error:  0.0116170569633\nTotal error:  0.01184395716\nTotal error:  0.0120453978605\nTotal error:  0.0116221156263\n"
     ]
    },
    {
     "name": "stdout",
     "output_type": "stream",
     "text": [
      "Total error:  0.0115128474895\nTotal error:  0.0116316567805\nTotal error:  0.0119290228421\nTotal error:  0.0111617416883\n"
     ]
    },
    {
     "name": "stdout",
     "output_type": "stream",
     "text": [
      "Total error:  0.0111149046023\nTotal error:  0.0118129241352\nTotal error:  0.0117825043283\nTotal error:  0.0119943335452\n"
     ]
    },
    {
     "name": "stdout",
     "output_type": "stream",
     "text": [
      "Total error:  0.0118052047951\nTotal error:  0.0118479566926\nTotal error:  0.0115273500025\nTotal error:  0.0116853184529\n"
     ]
    },
    {
     "name": "stdout",
     "output_type": "stream",
     "text": [
      "Total error:  0.011892511461\nTotal error:  0.0115463079668\nTotal error:  0.0116859622315\nTotal error:  0.0118582853768\n"
     ]
    },
    {
     "name": "stdout",
     "output_type": "stream",
     "text": [
      "Total error:  0.0121325129373\nTotal error:  0.0118047687232\nTotal error:  0.011811527333\nTotal error:  0.011396513724\n"
     ]
    },
    {
     "name": "stdout",
     "output_type": "stream",
     "text": [
      "Total error:  0.0111882334677\nTotal error:  0.0113212229332\nTotal error:  0.0113214425586\nTotal error:  0.0117159341095\n"
     ]
    },
    {
     "name": "stdout",
     "output_type": "stream",
     "text": [
      "Total error:  0.0113788072692\nTotal error:  0.011827368023\nTotal error:  0.011664066964\nTotal error:  0.0116113461411\n"
     ]
    },
    {
     "name": "stdout",
     "output_type": "stream",
     "text": [
      "Total error:  0.0113018814887\nTotal error:  0.011426852774\nTotal error:  0.0121297891801\nTotal error:  0.0116679593265\n"
     ]
    },
    {
     "name": "stdout",
     "output_type": "stream",
     "text": [
      "Total error:  0.0119228649834\nTotal error:  0.0111880594543\nTotal error:  0.0118055422577\nTotal error:  0.0117405912423\n"
     ]
    },
    {
     "name": "stdout",
     "output_type": "stream",
     "text": [
      "Total error:  0.0119683009762\nTotal error:  0.0116225314116\nTotal error:  0.0110097756934\nTotal error:  0.0116351631954\n"
     ]
    },
    {
     "name": "stdout",
     "output_type": "stream",
     "text": [
      "Total error:  0.0118220874836\nTotal error:  0.0116054429763\nTotal error:  0.0116434916379\nTotal error:  0.0116683968841\n"
     ]
    },
    {
     "name": "stdout",
     "output_type": "stream",
     "text": [
      "Total error:  0.0115525704797\nTotal error:  0.0110429943854\nTotal error:  0.0115710909873\nTotal error:  0.0117025997613\n"
     ]
    },
    {
     "name": "stdout",
     "output_type": "stream",
     "text": [
      "Total error:  0.0117808855332\nTotal error:  0.011673923025\nTotal error:  0.0114242921077\nTotal error:  0.011456494606\nTotal error:  0.0112789866626"
     ]
    },
    {
     "name": "stdout",
     "output_type": "stream",
     "text": [
      "\nTotal error:  0.0119059900507\nTotal error:  0.011252525352\nTotal error:  0.0118733807437\nTotal error:  0.0113138715813\n"
     ]
    },
    {
     "name": "stdout",
     "output_type": "stream",
     "text": [
      "Total error:  0.0117578722922\nTotal error:  0.0116181406185\nTotal error:  0.0117088416563\nTotal error:  0.0112421859115\n"
     ]
    },
    {
     "name": "stdout",
     "output_type": "stream",
     "text": [
      "Total error:  0.0117500711062\nTotal error:  0.0117148236479\nTotal error:  0.0111787857309\nTotal error:  0.0116981221781\n"
     ]
    },
    {
     "name": "stdout",
     "output_type": "stream",
     "text": [
      "Total error:  0.0112059509079\nTotal error:  0.0121849764035\nTotal error:  0.0112155143231\nTotal error:  0.0113558454712\n"
     ]
    },
    {
     "name": "stdout",
     "output_type": "stream",
     "text": [
      "Total error:  0.0114223458014\nTotal error:  0.0119260935554\nTotal error:  0.0100355978671\nTotal error:  0.0118640150609\n"
     ]
    },
    {
     "name": "stdout",
     "output_type": "stream",
     "text": [
      "Total error:  0.0117644478599\nTotal error:  0.010755579655\nTotal error:  0.0117152572308\nTotal error:  0.0118092089328\n"
     ]
    },
    {
     "name": "stdout",
     "output_type": "stream",
     "text": [
      "Total error:  0.0119010058504\nTotal error:  0.0112610084632\nTotal error:  0.0115473275883\n"
     ]
    },
    {
     "name": "stdout",
     "output_type": "stream",
     "text": [
      "Total error:  0.0112818297439\nTotal error:  0.0112630955447\nTotal error:  0.011818632516\n"
     ]
    },
    {
     "name": "stdout",
     "output_type": "stream",
     "text": [
      "Total error:  0.0117298950177\nTotal error:  0.0112473091629\nTotal error:  0.0105544000152\n"
     ]
    },
    {
     "name": "stdout",
     "output_type": "stream",
     "text": [
      "Total error:  0.0115244313762\nTotal error:  0.0117858679201\nTotal error:  0.011321685812\nTotal error:  0.0110827001154\n"
     ]
    },
    {
     "name": "stdout",
     "output_type": "stream",
     "text": [
      "Total error:  0.0116251267821\nTotal error:  0.0114351307882\nTotal error:  0.0112329106929\n"
     ]
    },
    {
     "name": "stdout",
     "output_type": "stream",
     "text": [
      "Total error:  0.0115125670291\nTotal error:  0.011894526224\nTotal error:  0.0114307312919\n"
     ]
    },
    {
     "name": "stdout",
     "output_type": "stream",
     "text": [
      "Total error:  0.0114537256087\nTotal error:  0.0120181292598\nTotal error:  0.0107989503473\nTotal error:  0.0118312652104\n"
     ]
    },
    {
     "name": "stdout",
     "output_type": "stream",
     "text": [
      "Total error:  0.0116963768146\nTotal error:  0.0112359397703\nTotal error:  0.0115104893718\nTotal error:  0.0113275723774\n"
     ]
    },
    {
     "name": "stdout",
     "output_type": "stream",
     "text": [
      "Total error:  0.0115952781815\nTotal error:  0.0116903576404\nTotal error:  0.0113029130255\nTotal error:  0.0118081171732\n"
     ]
    },
    {
     "name": "stdout",
     "output_type": "stream",
     "text": [
      "Total error:  0.0114380307764\nTotal error:  0.011662667302\nTotal error:  0.0118495300319\nTotal error:  0.0115362309834\n"
     ]
    },
    {
     "name": "stdout",
     "output_type": "stream",
     "text": [
      "Total error:  0.0117238786974\nTotal error:  0.0116665210035\nTotal error:  0.0111768777184\n"
     ]
    },
    {
     "name": "stdout",
     "output_type": "stream",
     "text": [
      "Total error:  0.0111868522725\nTotal error:  0.0116224535122\nTotal error:  0.0116084402054\nTotal error:  0.0118596896135"
     ]
    },
    {
     "name": "stdout",
     "output_type": "stream",
     "text": [
      "\nTotal error:  0.0116520007632\nTotal error:  0.011551898507\nTotal error:  0.0115574578186\nTotal error:  0.0115295818984\n"
     ]
    },
    {
     "name": "stdout",
     "output_type": "stream",
     "text": [
      "Total error:  0.0118471406366\nTotal error:  0.0114567641842\nTotal error:  0.0113660258094\nTotal error:  0.0107907917219\n"
     ]
    },
    {
     "name": "stdout",
     "output_type": "stream",
     "text": [
      "Total error:  0.0113763103698\nTotal error:  0.0113096068943\nTotal error:  0.0115072435357\nTotal error:  0.0113265889263"
     ]
    },
    {
     "name": "stdout",
     "output_type": "stream",
     "text": [
      "\nTotal error:  0.0108908559279\nTotal error:  0.0114523103802\nTotal error:  0.0112924501018\nTotal error:  0.0117010572762\n"
     ]
    },
    {
     "name": "stdout",
     "output_type": "stream",
     "text": [
      "Total error:  0.0109022703199\nTotal error:  0.0101795523013\nTotal error:  0.0119465665653\nTotal error:  0.0112049158799\n"
     ]
    },
    {
     "name": "stdout",
     "output_type": "stream",
     "text": [
      "Total error:  0.0113201155641\nTotal error:  0.011158851285\nTotal error:  0.0111518863515\nTotal error:  0.0117401625229\n"
     ]
    },
    {
     "name": "stdout",
     "output_type": "stream",
     "text": [
      "Total error:  0.0115440519792\nTotal error:  0.0111192255423\nTotal error:  0.0120482360689\nTotal error:  0.0115040042804\n"
     ]
    },
    {
     "name": "stdout",
     "output_type": "stream",
     "text": [
      "Total error:  0.0105594867118\nTotal error:  0.0116815309245\nTotal error:  0.0115034865279\nTotal error:  0.0116982259708\n"
     ]
    },
    {
     "name": "stdout",
     "output_type": "stream",
     "text": [
      "Total error:  0.0116219187141\nTotal error:  0.0113462435153\nTotal error:  0.0114920044533\nTotal error:  0.0113432966961\n"
     ]
    },
    {
     "name": "stdout",
     "output_type": "stream",
     "text": [
      "Total error:  0.0117189682063\nTotal error:  0.0115906358345\nTotal error:  0.0115731720806\nTotal error:  0.010708618236\n"
     ]
    },
    {
     "name": "stdout",
     "output_type": "stream",
     "text": [
      "Total error:  0.0116257313782\nTotal error:  0.0114797026166\nTotal error:  0.010950290802\nTotal error:  0.0115411688769\n"
     ]
    },
    {
     "name": "stdout",
     "output_type": "stream",
     "text": [
      "Total error:  0.0115728967614\nTotal error:  0.0116554162614\nTotal error:  0.0109890859083\nTotal error:  0.0112327125034\n"
     ]
    },
    {
     "name": "stdout",
     "output_type": "stream",
     "text": [
      "Total error:  0.0115896891737\nTotal error:  0.0114405128705\nTotal error:  0.0112441361345\nTotal error:  0.0116598458341\n"
     ]
    },
    {
     "name": "stdout",
     "output_type": "stream",
     "text": [
      "Total error:  0.0117801531417\nTotal error:  0.0115669578921\nTotal error:  0.011099201373\nTotal error:  0.0115871424649\n"
     ]
    },
    {
     "name": "stdout",
     "output_type": "stream",
     "text": [
      "Total error:  0.0101679170971\nTotal error:  0.0115226344357\nTotal error:  0.010906039833\nTotal error:  0.0106822214468\n"
     ]
    },
    {
     "name": "stdout",
     "output_type": "stream",
     "text": [
      "Total error:  0.0119604504975\nTotal error:  0.0109645397374\nTotal error:  0.0116966227695\nTotal error:  0.0113502669506\n"
     ]
    },
    {
     "name": "stdout",
     "output_type": "stream",
     "text": [
      "Total error:  0.0107634948736\nTotal error:  0.011663509724\nTotal error:  0.0110116551794\nTotal error:  0.0108993658611\n"
     ]
    },
    {
     "name": "stdout",
     "output_type": "stream",
     "text": [
      "Total error:  0.00976684762923\nTotal error:  0.0114851950962\nTotal error:  0.0115466991078\nTotal error:  0.0112519616472\n"
     ]
    },
    {
     "name": "stdout",
     "output_type": "stream",
     "text": [
      "Total error:  0.00999248294598\nTotal error:  0.0116935398606\nTotal error:  0.011706090721\nTotal error:  0.0113778537818\n"
     ]
    },
    {
     "name": "stdout",
     "output_type": "stream",
     "text": [
      "Total error:  0.0115981644746\nTotal error:  0.0115930269205\nTotal error:  0.0113954510985\nTotal error:  0.0113039193505\n"
     ]
    },
    {
     "name": "stdout",
     "output_type": "stream",
     "text": [
      "Total error:  0.0111646180884\nTotal error:  0.010280876035\nTotal error:  0.011754854604\nTotal error:  0.010951144832\n"
     ]
    },
    {
     "name": "stdout",
     "output_type": "stream",
     "text": [
      "Total error:  0.0113301843914\nTotal error:  0.0113706195186\nTotal error:  0.0116144069103\nTotal error:  0.0113369781299\n"
     ]
    },
    {
     "name": "stdout",
     "output_type": "stream",
     "text": [
      "Total error:  0.0113242912927\nTotal error:  0.0105683982621\nTotal error:  0.0112597035726\nTotal error:  0.0106248996427\n"
     ]
    },
    {
     "name": "stdout",
     "output_type": "stream",
     "text": [
      "Total error:  0.0114348851936\nTotal error:  0.0116325830597\nTotal error:  0.011050939967\nTotal error:  0.0111307695448\n"
     ]
    },
    {
     "name": "stdout",
     "output_type": "stream",
     "text": [
      "Total error:  0.0116131987603\nTotal error:  0.0115215105422\nTotal error:  0.0113856262938\nTotal error:  0.0115567885808\n"
     ]
    },
    {
     "name": "stdout",
     "output_type": "stream",
     "text": [
      "Total error:  0.0112296574837\nTotal error:  0.0115806588123\nTotal error:  0.0116262310049\nTotal error:  0.0115191350704\n"
     ]
    },
    {
     "name": "stdout",
     "output_type": "stream",
     "text": [
      "Total error:  0.0103144684434\nTotal error:  0.0104957068253\nTotal error:  0.0112905880924\nTotal error:  0.0114100859269"
     ]
    },
    {
     "name": "stdout",
     "output_type": "stream",
     "text": [
      "\nTotal error:  0.0111233144163\nTotal error:  0.0113155921276\nTotal error:  0.011553671224\nTotal error:  0.0112677658528\n"
     ]
    },
    {
     "name": "stdout",
     "output_type": "stream",
     "text": [
      "Total error:  0.0110675518853\nTotal error:  0.0106333899818\nTotal error:  0.0114384059462\nTotal error:  0.0117151653451\n"
     ]
    },
    {
     "name": "stdout",
     "output_type": "stream",
     "text": [
      "Total error:  0.0111087500183\nTotal error:  0.0109123707041\nTotal error:  0.0111910179714\nTotal error:  0.0112582110716\n"
     ]
    },
    {
     "name": "stdout",
     "output_type": "stream",
     "text": [
      "Total error:  0.0113212060673\nTotal error:  0.0113685330612\nTotal error:  0.0109181047331\nTotal error:  0.0111829137369\n"
     ]
    },
    {
     "name": "stdout",
     "output_type": "stream",
     "text": [
      "Total error:  0.01148603311\nTotal error:  0.0113870099327\nTotal error:  0.0112244041615\nTotal error:  0.0108396680756\n"
     ]
    },
    {
     "name": "stdout",
     "output_type": "stream",
     "text": [
      "Total error:  0.0114423805267\nTotal error:  0.0109843255588\nTotal error:  0.0106259913244\nTotal error:  0.011464641686\n"
     ]
    },
    {
     "name": "stdout",
     "output_type": "stream",
     "text": [
      "Total error:  0.0107513062143\nTotal error:  0.0116588292712\nTotal error:  0.00906320298627\nTotal error:  0.0111210794816\n"
     ]
    },
    {
     "name": "stdout",
     "output_type": "stream",
     "text": [
      "Total error:  0.0109597489257\nTotal error:  0.0113084214345\nTotal error:  0.0110876126206\nTotal error:  0.0109313461241\n"
     ]
    },
    {
     "name": "stdout",
     "output_type": "stream",
     "text": [
      "Total error:  0.0102374958353\nTotal error:  0.0118315830157\nTotal error:  0.0102431500727\nTotal error:  0.010849058138\n"
     ]
    },
    {
     "name": "stdout",
     "output_type": "stream",
     "text": [
      "Total error:  0.0108773761125\nTotal error:  0.011534827556\nTotal error:  0.0113820616725\nTotal error:  0.0113012342448\n"
     ]
    },
    {
     "name": "stdout",
     "output_type": "stream",
     "text": [
      "Total error:  0.0114707565239\nTotal error:  0.0109998101411\nTotal error:  0.0115354130521\nTotal error:  0.0112472016716\n"
     ]
    },
    {
     "name": "stdout",
     "output_type": "stream",
     "text": [
      "Total error:  0.011573344373\nTotal error:  0.0111002511417\nTotal error:  0.0108481283346\nTotal error:  0.0112107524051\n"
     ]
    },
    {
     "name": "stdout",
     "output_type": "stream",
     "text": [
      "Total error:  0.0112366732234\nTotal error:  0.0108063638682\nTotal error:  0.0106055494217\nTotal error:  0.0112618373643\n"
     ]
    },
    {
     "name": "stdout",
     "output_type": "stream",
     "text": [
      "Total error:  0.0115165752378\nTotal error:  0.0112946588579\nTotal error:  0.0111305471036\nTotal error:  0.0111498307128\n"
     ]
    },
    {
     "name": "stdout",
     "output_type": "stream",
     "text": [
      "Total error:  0.0108501715279\nTotal error:  0.0113079893796\nTotal error:  0.0101982394968\nTotal error:  0.01066294391\n"
     ]
    },
    {
     "name": "stdout",
     "output_type": "stream",
     "text": [
      "Total error:  0.0113764987223\nTotal error:  0.0112364164693\nTotal error:  0.011537785623\nTotal error:  0.0114100867227\n"
     ]
    },
    {
     "name": "stdout",
     "output_type": "stream",
     "text": [
      "Total error:  0.010894079097\nTotal error:  0.0112550911038\nTotal error:  0.0111996175887\nTotal error:  0.0107963012434\n"
     ]
    },
    {
     "name": "stdout",
     "output_type": "stream",
     "text": [
      "Total error:  0.0114551536859\nTotal error:  0.0113851753628\nTotal error:  0.0114336775723\nTotal error:  0.0108449234419\n"
     ]
    },
    {
     "name": "stdout",
     "output_type": "stream",
     "text": [
      "Total error:  0.0109650390136\nTotal error:  0.0110254662455\nTotal error:  0.0113475640398\nTotal error:  0.0100956054829\n"
     ]
    },
    {
     "name": "stdout",
     "output_type": "stream",
     "text": [
      "Total error:  0.0111516599789\nTotal error:  0.010685036259\nTotal error:  0.011093540783\nTotal error:  0.0109473113983\n"
     ]
    },
    {
     "name": "stdout",
     "output_type": "stream",
     "text": [
      "Total error:  0.0110259146996\nTotal error:  0.0111254210935\nTotal error:  0.01130913394\nTotal error:  0.011213898748\n"
     ]
    },
    {
     "name": "stdout",
     "output_type": "stream",
     "text": [
      "Total error:  0.0110272180327\nTotal error:  0.0112096337518\nTotal error:  0.0112433092126\nTotal error:  0.0106754340042\n"
     ]
    },
    {
     "name": "stdout",
     "output_type": "stream",
     "text": [
      "Total error:  0.00973676246143\nTotal error:  0.0113504760159\nTotal error:  0.0112749137591\nTotal error:  0.011073327178\n"
     ]
    },
    {
     "name": "stdout",
     "output_type": "stream",
     "text": [
      "Total error:  0.00994531412578\nTotal error:  0.0110945127361\nTotal error:  0.011310039582\nTotal error:  0.0111120467996\n"
     ]
    },
    {
     "name": "stdout",
     "output_type": "stream",
     "text": [
      "Total error:  0.0110689466146\nTotal error:  0.0112043716681\nTotal error:  0.0111532823447\nTotal error:  0.0113726762715\n"
     ]
    },
    {
     "name": "stdout",
     "output_type": "stream",
     "text": [
      "Total error:  0.0110888965809\nTotal error:  0.010847871997\nTotal error:  0.0114945128266\nTotal error:  0.0111318365976\n"
     ]
    },
    {
     "name": "stdout",
     "output_type": "stream",
     "text": [
      "Total error:  0.0101441028564\nTotal error:  0.0113530531946\nTotal error:  0.0104431163461\nTotal error:  0.0115481275462\n"
     ]
    },
    {
     "name": "stdout",
     "output_type": "stream",
     "text": [
      "Total error:  0.0113399545622\nTotal error:  0.0109191173631\nTotal error:  0.0112749882808\nTotal error:  0.0112086742125\n"
     ]
    },
    {
     "name": "stdout",
     "output_type": "stream",
     "text": [
      "Total error:  0.0112131724039\nTotal error:  0.0110363202016\nTotal error:  0.0110045332096\nTotal error:  0.0108967930956\n"
     ]
    },
    {
     "name": "stdout",
     "output_type": "stream",
     "text": [
      "Total error:  0.0112059867525\nTotal error:  0.0105333552717\nTotal error:  0.0113441866012\nTotal error:  0.0104302118704\n"
     ]
    },
    {
     "name": "stdout",
     "output_type": "stream",
     "text": [
      "Total error:  0.0107112714513\nTotal error:  0.0110720175287\nTotal error:  0.010280169079\nTotal error:  0.010928626935\n"
     ]
    },
    {
     "name": "stdout",
     "output_type": "stream",
     "text": [
      "Total error:  0.0112753970692\nTotal error:  0.0109842103167\nTotal error:  0.0110314245384\nTotal error:  0.0112887387705"
     ]
    },
    {
     "name": "stdout",
     "output_type": "stream",
     "text": [
      "\nTotal error:  0.0111986955385\nTotal error:  0.0111651402632\nTotal error:  0.0111795862077\nTotal error:  0.0112008019792\n"
     ]
    },
    {
     "name": "stdout",
     "output_type": "stream",
     "text": [
      "Total error:  0.0103574542946\nTotal error:  0.0108123218721\nTotal error:  0.0111804370346\nTotal error:  0.0111786563972\n"
     ]
    },
    {
     "name": "stdout",
     "output_type": "stream",
     "text": [
      "Total error:  0.0111538240653\nTotal error:  0.0112163468232\nTotal error:  0.0105666695886\nTotal error:  0.0109791830233\n"
     ]
    },
    {
     "name": "stdout",
     "output_type": "stream",
     "text": [
      "Total error:  0.0111997062083\nTotal error:  0.011140010447\nTotal error:  0.0108742923769\nTotal error:  0.0100776426865\n"
     ]
    },
    {
     "name": "stdout",
     "output_type": "stream",
     "text": [
      "Total error:  0.0111425296014\nTotal error:  0.0109449963913\nTotal error:  0.0112840598081\nTotal error:  0.0103832584876\n"
     ]
    },
    {
     "name": "stdout",
     "output_type": "stream",
     "text": [
      "Total error:  0.0112522596957\nTotal error:  0.0108576227688\nTotal error:  0.0111698393591\nTotal error:  0.0104152039384\n"
     ]
    },
    {
     "name": "stdout",
     "output_type": "stream",
     "text": [
      "Total error:  0.0111595960321\nTotal error:  0.010599042278\nTotal error:  0.0111281503917\nTotal error:  0.0112112944971\n"
     ]
    },
    {
     "name": "stdout",
     "output_type": "stream",
     "text": [
      "Total error:  0.0105790218303\nTotal error:  0.0100762704614\nTotal error:  0.0104163663315\nTotal error:  0.0109590710063\n"
     ]
    },
    {
     "name": "stdout",
     "output_type": "stream",
     "text": [
      "Total error:  0.0110705702369\nTotal error:  0.0109235790933\nTotal error:  0.00994895024271\nTotal error:  0.010747091328\n"
     ]
    },
    {
     "name": "stdout",
     "output_type": "stream",
     "text": [
      "Total error:  0.0109896047012\nTotal error:  0.0110038562841\nTotal error:  0.0108436521427\nTotal error:  0.011294425751\n"
     ]
    },
    {
     "name": "stdout",
     "output_type": "stream",
     "text": [
      "Total error:  0.0111924498054\nTotal error:  0.0112056702185\nTotal error:  0.0109290829635\nTotal error:  0.0102648051218"
     ]
    },
    {
     "name": "stdout",
     "output_type": "stream",
     "text": [
      "\nTotal error:  0.0114523323906\nTotal error:  0.0112640974771\nTotal error:  0.0106712686298\n"
     ]
    },
    {
     "name": "stdout",
     "output_type": "stream",
     "text": [
      "Total error:  0.0112736599062\nTotal error:  0.00997661698814\nTotal error:  0.011182460012\nTotal error:  0.0103439824477\n"
     ]
    },
    {
     "name": "stdout",
     "output_type": "stream",
     "text": [
      "Total error:  0.0114270857555\nTotal error:  0.0110280932504\nTotal error:  0.0108013438727\nTotal error:  0.0111767154594\n"
     ]
    },
    {
     "name": "stdout",
     "output_type": "stream",
     "text": [
      "Total error:  0.0107245367006\nTotal error:  0.0105413790867\nTotal error:  0.0114678798359\nTotal error:  0.0110375830548\n"
     ]
    },
    {
     "name": "stdout",
     "output_type": "stream",
     "text": [
      "Total error:  0.0111018886979\nTotal error:  0.0109974040826\nTotal error:  0.0100873069681\nTotal error:  0.0114540340877\n"
     ]
    },
    {
     "name": "stdout",
     "output_type": "stream",
     "text": [
      "Total error:  0.010272153626\nTotal error:  0.0111752546173\nTotal error:  0.0106186424249\nTotal error:  0.0111773052424\nTotal error:  0.0107110649633"
     ]
    },
    {
     "name": "stdout",
     "output_type": "stream",
     "text": [
      "\nTotal error:  0.0108868842357\nTotal error:  0.0109808934228\nTotal error:  0.0103460145315\nTotal error:  0.0108524653723\n"
     ]
    },
    {
     "name": "stdout",
     "output_type": "stream",
     "text": [
      "Total error:  0.0112436465486\nTotal error:  0.0110250482819\nTotal error:  0.0101268414117\nTotal error:  0.0110163057535\n"
     ]
    },
    {
     "name": "stdout",
     "output_type": "stream",
     "text": [
      "Total error:  0.0107095757818\nTotal error:  0.0111297917157\nTotal error:  0.00989032572383\nTotal error:  0.0114170165838\n"
     ]
    },
    {
     "name": "stdout",
     "output_type": "stream",
     "text": [
      "Total error:  0.0110927934367\nTotal error:  0.0111345480513\nTotal error:  0.0111568570217\nTotal error:  0.0105252650925\n"
     ]
    },
    {
     "name": "stdout",
     "output_type": "stream",
     "text": [
      "Total error:  0.00860330840552\nTotal error:  0.0115043777826\nTotal error:  0.010841047982\nTotal error:  0.0109778918668\n"
     ]
    },
    {
     "name": "stdout",
     "output_type": "stream",
     "text": [
      "Total error:  0.0111081604278\nTotal error:  0.0110128355357\nTotal error:  0.0111720987463\nTotal error:  0.0109255657253\n"
     ]
    },
    {
     "name": "stdout",
     "output_type": "stream",
     "text": [
      "Total error:  0.0109864716155\nTotal error:  0.0111823324522\nTotal error:  0.0107649521612\nTotal error:  0.0112415964238\n"
     ]
    },
    {
     "name": "stdout",
     "output_type": "stream",
     "text": [
      "Total error:  0.0105364841653\nTotal error:  0.0110730829664\nTotal error:  0.0105952863225\nTotal error:  0.0112696031687\n"
     ]
    },
    {
     "name": "stdout",
     "output_type": "stream",
     "text": [
      "Total error:  0.0101363374775\nTotal error:  0.0105628894609\nTotal error:  0.0110513544716\nTotal error:  0.0108848476868\n"
     ]
    },
    {
     "name": "stdout",
     "output_type": "stream",
     "text": [
      "Total error:  0.0100765494948\nTotal error:  0.0102769694726\nTotal error:  0.0106224547091\nTotal error:  0.0105503607605\n"
     ]
    },
    {
     "name": "stdout",
     "output_type": "stream",
     "text": [
      "Total error:  0.0111621233105\nTotal error:  0.0102378707588\nTotal error:  0.0110234948512\nTotal error:  0.0108007924333\n"
     ]
    },
    {
     "name": "stdout",
     "output_type": "stream",
     "text": [
      "Total error:  0.0107378935352\nTotal error:  0.0110015651434\nTotal error:  0.010932933156\n"
     ]
    },
    {
     "name": "stdout",
     "output_type": "stream",
     "text": [
      "Total error:  0.010638567309\nTotal error:  0.0107351527143\nTotal error:  0.0109193238867\nTotal error:  0.01000891539"
     ]
    },
    {
     "name": "stdout",
     "output_type": "stream",
     "text": [
      "\nTotal error:  0.0113307361517\nTotal error:  0.0108343161761\nTotal error:  0.0105085413313\n"
     ]
    },
    {
     "name": "stdout",
     "output_type": "stream",
     "text": [
      "Total error:  0.0109588695859\nTotal error:  0.0108713019421\nTotal error:  0.0104776554805\n"
     ]
    },
    {
     "name": "stdout",
     "output_type": "stream",
     "text": [
      "Total error:  0.0110039718049\nTotal error:  0.0110337201929\nTotal error:  0.0108251092889\n"
     ]
    },
    {
     "name": "stdout",
     "output_type": "stream",
     "text": [
      "Total error:  0.0111125790948\nTotal error:  0.0109925268903\nTotal error:  0.0109499651517\n"
     ]
    },
    {
     "name": "stdout",
     "output_type": "stream",
     "text": [
      "Total error:  0.0109808934337\nTotal error:  0.0108302632183\nTotal error:  0.0111848667952\nTotal error:  0.0109542639571\n"
     ]
    },
    {
     "name": "stdout",
     "output_type": "stream",
     "text": [
      "Total error:  0.0109812202966\nTotal error:  0.0105196321451\nTotal error:  0.0109656072977\nTotal error:  0.0107927855377\n"
     ]
    },
    {
     "name": "stdout",
     "output_type": "stream",
     "text": [
      "Total error:  0.0106569214686\nTotal error:  0.011080508788\nTotal error:  0.0108309055443\nTotal error:  0.0109193702343\n"
     ]
    },
    {
     "name": "stdout",
     "output_type": "stream",
     "text": [
      "Total error:  0.0105142999152\nTotal error:  0.0108607473664\nTotal error:  0.0110856932345\nTotal error:  0.0103404023697\n"
     ]
    },
    {
     "name": "stdout",
     "output_type": "stream",
     "text": [
      "Total error:  0.0110533711509\nTotal error:  0.0108737793759\nTotal error:  0.0107181674557\nTotal error:  0.0109108924968\n"
     ]
    },
    {
     "name": "stdout",
     "output_type": "stream",
     "text": [
      "Total error:  0.0110138799651\nTotal error:  0.0107307356711\nTotal error:  0.0105557236426\nTotal error:  0.0109924443515\n"
     ]
    },
    {
     "name": "stdout",
     "output_type": "stream",
     "text": [
      "Total error:  0.0108534159497\nTotal error:  0.0109117186388\nTotal error:  0.0109721324514\nTotal error:  0.0102638084667\n"
     ]
    },
    {
     "name": "stdout",
     "output_type": "stream",
     "text": [
      "Total error:  0.0108491488449\nTotal error:  0.0104173896811\nTotal error:  0.010789299237\nTotal error:  0.0108878662393\n"
     ]
    },
    {
     "name": "stdout",
     "output_type": "stream",
     "text": [
      "Total error:  0.0108896898342\nTotal error:  0.0109515157292\nTotal error:  0.0107440202643\nTotal error:  0.0109143589018\n"
     ]
    },
    {
     "name": "stdout",
     "output_type": "stream",
     "text": [
      "Total error:  0.0105027112637\nTotal error:  0.0101632808116\nTotal error:  0.0107733979033\nTotal error:  0.0107872219991\n"
     ]
    },
    {
     "name": "stdout",
     "output_type": "stream",
     "text": [
      "Total error:  0.0104190869629\nTotal error:  0.0110373794672\nTotal error:  0.0105132345267\nTotal error:  0.010952657451\n"
     ]
    },
    {
     "name": "stdout",
     "output_type": "stream",
     "text": [
      "Total error:  0.0105464487201\nTotal error:  0.0100667328181\nTotal error:  0.0109314482198\nTotal error:  0.0106137292949\n"
     ]
    },
    {
     "name": "stdout",
     "output_type": "stream",
     "text": [
      "Total error:  0.0100341763178\nTotal error:  0.0107570309101\nTotal error:  0.0109928254277\nTotal error:  0.0109979396271\n"
     ]
    },
    {
     "name": "stdout",
     "output_type": "stream",
     "text": [
      "Total error:  0.0106265367285\nTotal error:  0.0102010303571\nTotal error:  0.0111628511017\nTotal error:  0.0103469829212\n"
     ]
    },
    {
     "name": "stdout",
     "output_type": "stream",
     "text": [
      "Total error:  0.0106818367667\nTotal error:  0.0100672958155\nTotal error:  0.0109354904741\nTotal error:  0.0110269421169\n"
     ]
    },
    {
     "name": "stdout",
     "output_type": "stream",
     "text": [
      "Total error:  0.0107746214943\nTotal error:  0.0108584859246\nTotal error:  0.0107175924765\nTotal error:  0.0104760476297\n"
     ]
    },
    {
     "name": "stdout",
     "output_type": "stream",
     "text": [
      "Total error:  0.0104729186976\nTotal error:  0.00988254627769\nTotal error:  0.0111251412649\nTotal error:  0.0100853107642\n"
     ]
    },
    {
     "name": "stdout",
     "output_type": "stream",
     "text": [
      "Total error:  0.0110567608269\nTotal error:  0.0105816083479\nTotal error:  0.0107026743749\nTotal error:  0.0108380870578\n"
     ]
    },
    {
     "name": "stdout",
     "output_type": "stream",
     "text": [
      "Total error:  0.0106623639702\nTotal error:  0.0106570673401\nTotal error:  0.00907157782615\nTotal error:  0.0107865506719\n"
     ]
    },
    {
     "name": "stdout",
     "output_type": "stream",
     "text": [
      "Total error:  0.010072195456\nTotal error:  0.0110381976529\nTotal error:  0.0109238205497\nTotal error:  0.0111268843822\n"
     ]
    },
    {
     "name": "stdout",
     "output_type": "stream",
     "text": [
      "Total error:  0.0108319494423\nTotal error:  0.0106837361854\nTotal error:  0.0100095608945\nTotal error:  0.0102824317955\n"
     ]
    },
    {
     "name": "stdout",
     "output_type": "stream",
     "text": [
      "Total error:  0.00991469872328\nTotal error:  0.00996976785644\nTotal error:  0.0104236837013\nTotal error:  0.0107438582564\n"
     ]
    },
    {
     "name": "stdout",
     "output_type": "stream",
     "text": [
      "Total error:  0.0102555892161\nTotal error:  0.0106607669459\nTotal error:  0.0110137028488\n"
     ]
    },
    {
     "name": "stdout",
     "output_type": "stream",
     "text": [
      "Total error:  0.0104485724387\nTotal error:  0.0109054343094\n"
     ]
    },
    {
     "name": "stdout",
     "output_type": "stream",
     "text": [
      "Total error:  0.010824930073\nTotal error:  0.0103374007154\nTotal error:  0.0108511580581\n"
     ]
    },
    {
     "name": "stdout",
     "output_type": "stream",
     "text": [
      "Total error:  0.0106661407975\nTotal error:  0.0108747146108\nTotal error:  0.0109932577623\n"
     ]
    },
    {
     "name": "stdout",
     "output_type": "stream",
     "text": [
      "Total error:  0.0107022680249\nTotal error:  0.0105901581955\nTotal error:  0.0105291644309\nTotal error:  0.00993874750773\n"
     ]
    },
    {
     "name": "stdout",
     "output_type": "stream",
     "text": [
      "Total error:  0.0102208999731\nTotal error:  0.0109762424316\n"
     ]
    },
    {
     "name": "stdout",
     "output_type": "stream",
     "text": [
      "Total error:  0.0108292140096\nTotal error:  0.0108680275463\n"
     ]
    },
    {
     "name": "stdout",
     "output_type": "stream",
     "text": [
      "Total error:  0.0107175920669\nTotal error:  0.0101283831257\nTotal error:  0.0098085970195\n"
     ]
    },
    {
     "name": "stdout",
     "output_type": "stream",
     "text": [
      "Total error:  0.0105972295171\nTotal error:  0.0106395773986\nTotal error:  0.0106282946376\n"
     ]
    },
    {
     "name": "stdout",
     "output_type": "stream",
     "text": [
      "Total error:  0.0103887936836\nTotal error:  0.0103159641261\nTotal error:  0.0108498144377\nTotal error:  0.0107689784954\n"
     ]
    },
    {
     "name": "stdout",
     "output_type": "stream",
     "text": [
      "Total error:  0.0104334363215\nTotal error:  0.0109303302155\nTotal error:  0.0107109472507\n"
     ]
    },
    {
     "name": "stdout",
     "output_type": "stream",
     "text": [
      "Total error:  0.010882473753\nTotal error:  0.0102873210484\nTotal error:  0.0110262292988\nTotal error:  0.0102342130661"
     ]
    },
    {
     "name": "stdout",
     "output_type": "stream",
     "text": [
      "\nTotal error:  0.0105301086516\nTotal error:  0.0108052434808\nTotal error:  0.0105433509309\n"
     ]
    },
    {
     "name": "stdout",
     "output_type": "stream",
     "text": [
      "Total error:  0.0107598545285\nTotal error:  0.0107184432532\nTotal error:  0.0105697632467\nTotal error:  0.0108010721831"
     ]
    },
    {
     "name": "stdout",
     "output_type": "stream",
     "text": [
      "\nTotal error:  0.0105707723993\nTotal error:  0.0106606148684\nTotal error:  0.0105649045163\n"
     ]
    },
    {
     "name": "stdout",
     "output_type": "stream",
     "text": [
      "Total error:  0.0107650874196\nTotal error:  0.0108446902545\nTotal error:  0.0106478970224\n"
     ]
    },
    {
     "name": "stdout",
     "output_type": "stream",
     "text": [
      "Total error:  0.010398117415\nTotal error:  0.0106782500635\nTotal error:  0.0107715694249\nTotal error:  0.00971076349525\n"
     ]
    },
    {
     "name": "stdout",
     "output_type": "stream",
     "text": [
      "Total error:  0.010856369665\nTotal error:  0.0106403800552\nTotal error:  0.0106123726838\n"
     ]
    },
    {
     "name": "stdout",
     "output_type": "stream",
     "text": [
      "Total error:  0.0105651770621\nTotal error:  0.0109647525078\nTotal error:  0.0105065262237\n"
     ]
    },
    {
     "name": "stdout",
     "output_type": "stream",
     "text": [
      "Total error:  0.0106111206252\nTotal error:  0.0106902132948\n"
     ]
    },
    {
     "name": "stdout",
     "output_type": "stream",
     "text": [
      "Total error:  0.0107268078764\nTotal error:  0.0100177763492\nTotal error:  0.0102503625639\n"
     ]
    },
    {
     "name": "stdout",
     "output_type": "stream",
     "text": [
      "Total error:  0.0107923518662\nTotal error:  0.0100865042741\nTotal error:  0.0107770422285\n"
     ]
    },
    {
     "name": "stdout",
     "output_type": "stream",
     "text": [
      "Total error:  0.0105603107789\nTotal error:  0.0107443070779\nTotal error:  0.00889783734151\n"
     ]
    },
    {
     "name": "stdout",
     "output_type": "stream",
     "text": [
      "Total error:  0.0113017395884\nTotal error:  0.0104416325847\nTotal error:  0.00993897156669\n"
     ]
    },
    {
     "name": "stdout",
     "output_type": "stream",
     "text": [
      "Total error:  0.010153704537\nTotal error:  0.0100072422733\nTotal error:  0.0109590624587\n"
     ]
    },
    {
     "name": "stdout",
     "output_type": "stream",
     "text": [
      "Total error:  0.0101688271773\nTotal error:  0.0109190517425\n"
     ]
    },
    {
     "name": "stdout",
     "output_type": "stream",
     "text": [
      "Total error:  0.0108772685135\nTotal error:  0.0101778959459\nTotal error:  0.010366273294\n"
     ]
    },
    {
     "name": "stdout",
     "output_type": "stream",
     "text": [
      "Total error:  0.0106412689375\nTotal error:  0.0106632275349\n"
     ]
    },
    {
     "name": "stdout",
     "output_type": "stream",
     "text": [
      "Total error:  0.0102612936607\nTotal error:  0.0109679059478\nTotal error:  0.0103342767557\n"
     ]
    },
    {
     "name": "stdout",
     "output_type": "stream",
     "text": [
      "Total error:  0.0104742635272\nTotal error:  0.0102326026797\nTotal error:  0.0106820218863\n"
     ]
    },
    {
     "name": "stdout",
     "output_type": "stream",
     "text": [
      "Total error:  0.0106467582242\nTotal error:  0.0103220605076\nTotal error:  0.0104221935267\n"
     ]
    },
    {
     "name": "stdout",
     "output_type": "stream",
     "text": [
      "Total error:  0.0101395103503\nTotal error:  0.00985494278062\n"
     ]
    },
    {
     "name": "stdout",
     "output_type": "stream",
     "text": [
      "Total error:  0.0109736640481\nTotal error:  0.0102216639276\nTotal error:  0.0103187524213\n"
     ]
    },
    {
     "name": "stdout",
     "output_type": "stream",
     "text": [
      "Total error:  0.0105202033367\nTotal error:  0.0103501584766\nTotal error:  0.0106768787365\n"
     ]
    },
    {
     "name": "stdout",
     "output_type": "stream",
     "text": [
      "Total error:  0.0108181939479\nTotal error:  0.0108023389116\nTotal error:  0.0103975547821\n"
     ]
    },
    {
     "name": "stdout",
     "output_type": "stream",
     "text": [
      "Total error:  0.0098123852375\nTotal error:  0.0101515863927\nTotal error:  0.0103013263499\nTotal error:  0.0107618676994"
     ]
    },
    {
     "name": "stdout",
     "output_type": "stream",
     "text": [
      "\nTotal error:  0.0104477983065\nTotal error:  0.0105383900302\nTotal error:  0.00925973310687\n"
     ]
    },
    {
     "name": "stdout",
     "output_type": "stream",
     "text": [
      "Total error:  0.0108917372516\nTotal error:  0.0103265283121\nTotal error:  0.0109454679473\n"
     ]
    },
    {
     "name": "stdout",
     "output_type": "stream",
     "text": [
      "Total error:  0.0105454824637\nTotal error:  0.0107528014329\nTotal error:  0.0104538834086\nTotal error:  0.0104756099272"
     ]
    },
    {
     "name": "stdout",
     "output_type": "stream",
     "text": [
      "\nTotal error:  0.0106943152666\nTotal error:  0.0104175689802\n"
     ]
    },
    {
     "name": "stdout",
     "output_type": "stream",
     "text": [
      "Total error:  0.0108379711783\nTotal error:  0.00968366373113\nTotal error:  0.0104228372094\n"
     ]
    },
    {
     "name": "stdout",
     "output_type": "stream",
     "text": [
      "Total error:  0.0100407875562\nTotal error:  0.0106922783611\nTotal error:  0.0108622399755\n"
     ]
    },
    {
     "name": "stdout",
     "output_type": "stream",
     "text": [
      "Total error:  0.00994342733667\nTotal error:  0.0106183582165\nTotal error:  0.0100855181036\n"
     ]
    },
    {
     "name": "stdout",
     "output_type": "stream",
     "text": [
      "Total error:  0.0105791654332\nTotal error:  0.0106434278419\nTotal error:  0.0106282124301\nTotal error:  0.010703968106"
     ]
    },
    {
     "name": "stdout",
     "output_type": "stream",
     "text": [
      "\nTotal error:  0.0101413124396\nTotal error:  0.0107504051164\n"
     ]
    },
    {
     "name": "stdout",
     "output_type": "stream",
     "text": [
      "Total error:  0.00996722369712\nTotal error:  0.0106575215324\nTotal error:  0.010704481812\n"
     ]
    },
    {
     "name": "stdout",
     "output_type": "stream",
     "text": [
      "Total error:  0.010633875577\nTotal error:  0.010360348129\nTotal error:  0.010557786398\n"
     ]
    },
    {
     "name": "stdout",
     "output_type": "stream",
     "text": [
      "Total error:  0.0104079547095\nTotal error:  0.0104525805075\nTotal error:  0.0103034993589\n"
     ]
    },
    {
     "name": "stdout",
     "output_type": "stream",
     "text": [
      "Total error:  0.0101820177716\nTotal error:  0.0100342577898\nTotal error:  0.0104390742492\n"
     ]
    },
    {
     "name": "stdout",
     "output_type": "stream",
     "text": [
      "Total error:  0.0104658863028\nTotal error:  0.00836198190765\nTotal error:  0.0111496200284\n"
     ]
    },
    {
     "name": "stdout",
     "output_type": "stream",
     "text": [
      "Total error:  0.0106777804589\nTotal error:  0.0104156118059\nTotal error:  0.0102369035177\n"
     ]
    },
    {
     "name": "stdout",
     "output_type": "stream",
     "text": [
      "Total error:  0.0106112207575\nTotal error:  0.0103842862039\nTotal error:  0.0103750937885\n"
     ]
    },
    {
     "name": "stdout",
     "output_type": "stream",
     "text": [
      "Total error:  0.0104613079561\nTotal error:  0.0106960601896\nTotal error:  0.0103125209024\n"
     ]
    },
    {
     "name": "stdout",
     "output_type": "stream",
     "text": [
      "Total error:  0.0105149410846\nTotal error:  0.0103744053376\nTotal error:  0.00954243589276\n"
     ]
    },
    {
     "name": "stdout",
     "output_type": "stream",
     "text": [
      "Total error:  0.0102350798496\nTotal error:  0.0106815640183\nTotal error:  0.0103573054055\n"
     ]
    },
    {
     "name": "stdout",
     "output_type": "stream",
     "text": [
      "Total error:  0.010473868596\nTotal error:  0.010004659766\nTotal error:  0.0102203167503\n"
     ]
    },
    {
     "name": "stdout",
     "output_type": "stream",
     "text": [
      "Total error:  0.0100159760703\nTotal error:  0.0105304102684\nTotal error:  0.0107493782577\n"
     ]
    },
    {
     "name": "stdout",
     "output_type": "stream",
     "text": [
      "Total error:  0.0106090310764\nTotal error:  0.0100047560198\nTotal error:  0.0099368092414\n"
     ]
    },
    {
     "name": "stdout",
     "output_type": "stream",
     "text": [
      "Total error:  0.0107407242141\nTotal error:  0.00971382050754\nTotal error:  0.0106988649383\n"
     ]
    },
    {
     "name": "stdout",
     "output_type": "stream",
     "text": [
      "Total error:  0.0102102222557\nTotal error:  0.0103538053662\nTotal error:  0.0107211774505\nTotal error:  0.0106379374647"
     ]
    },
    {
     "name": "stdout",
     "output_type": "stream",
     "text": [
      "\nTotal error:  0.0102847145219\nTotal error:  0.0103676458865\nTotal error:  0.0105280873083\n"
     ]
    },
    {
     "name": "stdout",
     "output_type": "stream",
     "text": [
      "Total error:  0.0107086912292\nTotal error:  0.0105669562243\nTotal error:  0.0101901128238\n"
     ]
    },
    {
     "name": "stdout",
     "output_type": "stream",
     "text": [
      "Total error:  0.0106962610876\nTotal error:  0.0103023793777\nTotal error:  0.0100990476005\n"
     ]
    },
    {
     "name": "stdout",
     "output_type": "stream",
     "text": [
      "Total error:  0.0106700665646\nTotal error:  0.0102676672133\nTotal error:  0.0102414924911\n"
     ]
    },
    {
     "name": "stdout",
     "output_type": "stream",
     "text": [
      "Total error:  0.0105154019189\nTotal error:  0.0105399044828\nTotal error:  0.0101686074739\n"
     ]
    },
    {
     "name": "stdout",
     "output_type": "stream",
     "text": [
      "Total error:  0.0104531337857\nTotal error:  0.00965114851212\nTotal error:  0.0107052547128\n"
     ]
    },
    {
     "name": "stdout",
     "output_type": "stream",
     "text": [
      "Total error:  0.0103436898735\nTotal error:  0.0108488818097\nTotal error:  0.0107492826746\n"
     ]
    },
    {
     "name": "stdout",
     "output_type": "stream",
     "text": [
      "Total error:  0.0103218278566\nTotal error:  0.00986277017433\nTotal error:  0.0103199237716\n"
     ]
    },
    {
     "name": "stdout",
     "output_type": "stream",
     "text": [
      "Total error:  0.0102938558571\nTotal error:  0.0106327571062\nTotal error:  0.0101959986672\n"
     ]
    },
    {
     "name": "stdout",
     "output_type": "stream",
     "text": [
      "Total error:  0.0104290711896\nTotal error:  0.0100913081483\nTotal error:  0.0105225554555\n"
     ]
    },
    {
     "name": "stdout",
     "output_type": "stream",
     "text": [
      "Total error:  0.0106854783023\nTotal error:  0.0101847801686\nTotal error:  0.0105948445354\n"
     ]
    },
    {
     "name": "stdout",
     "output_type": "stream",
     "text": [
      "Total error:  0.0104988555091\nTotal error:  0.0104052424029\nTotal error:  0.0103969635714\n"
     ]
    },
    {
     "name": "stdout",
     "output_type": "stream",
     "text": [
      "Total error:  0.0101937383737\nTotal error:  0.0104746585965\nTotal error:  0.0102479050045\n"
     ]
    },
    {
     "name": "stdout",
     "output_type": "stream",
     "text": [
      "Total error:  0.0105929571281\nTotal error:  0.0105413859636\nTotal error:  0.00990472034553\n"
     ]
    },
    {
     "name": "stdout",
     "output_type": "stream",
     "text": [
      "Total error:  0.0105916207818\nTotal error:  0.0106201280108\nTotal error:  0.010085903363\n"
     ]
    },
    {
     "name": "stdout",
     "output_type": "stream",
     "text": [
      "Total error:  0.0104328810672\nTotal error:  0.0104205134836\nTotal error:  0.0104506170075\n"
     ]
    },
    {
     "name": "stdout",
     "output_type": "stream",
     "text": [
      "Total error:  0.0101092148003\nTotal error:  0.0107193897028\nTotal error:  0.0101513013251\n"
     ]
    },
    {
     "name": "stdout",
     "output_type": "stream",
     "text": [
      "Total error:  0.0103814129169\nTotal error:  0.00986608068441\n"
     ]
    },
    {
     "name": "stdout",
     "output_type": "stream",
     "text": [
      "Total error:  0.0106038425907\nTotal error:  0.0100204147013\n"
     ]
    },
    {
     "name": "stdout",
     "output_type": "stream",
     "text": [
      "Total error:  0.0105030886394\nTotal error:  0.0103846074886\nTotal error:  0.0107199101524\n"
     ]
    },
    {
     "name": "stdout",
     "output_type": "stream",
     "text": [
      "Total error:  0.0101610202432\nTotal error:  0.00979420098737\nTotal error:  0.0106873710563\n"
     ]
    },
    {
     "name": "stdout",
     "output_type": "stream",
     "text": [
      "Total error:  0.0103093620632\nTotal error:  0.0103103735286\nTotal error:  0.0105052626198\n"
     ]
    },
    {
     "name": "stdout",
     "output_type": "stream",
     "text": [
      "Total error:  0.0100890140654\nTotal error:  0.0106930427556\n"
     ]
    },
    {
     "name": "stdout",
     "output_type": "stream",
     "text": [
      "Total error:  0.0103932907478\nTotal error:  0.0105497564162\nTotal error:  0.009764185595\n"
     ]
    },
    {
     "name": "stdout",
     "output_type": "stream",
     "text": [
      "Total error:  0.00941750742913\nTotal error:  0.0100565878698\n"
     ]
    },
    {
     "name": "stdout",
     "output_type": "stream",
     "text": [
      "Total error:  0.00993315281922\nTotal error:  0.00947692215013\nTotal error:  0.0106862419397\n"
     ]
    },
    {
     "name": "stdout",
     "output_type": "stream",
     "text": [
      "Total error:  0.00995301696116\nTotal error:  0.0102712703804\nTotal error:  0.0101026387941\n"
     ]
    },
    {
     "name": "stdout",
     "output_type": "stream",
     "text": [
      "Total error:  0.009969647232\nTotal error:  0.00942861650217\nTotal error:  0.0110557984544\n"
     ]
    },
    {
     "name": "stdout",
     "output_type": "stream",
     "text": [
      "Total error:  0.00989638583208\nTotal error:  0.0105281646594\n"
     ]
    },
    {
     "name": "stdout",
     "output_type": "stream",
     "text": [
      "Total error:  0.0104952379353\nTotal error:  0.0105846509032\n"
     ]
    },
    {
     "name": "stdout",
     "output_type": "stream",
     "text": [
      "Total error:  0.0103544154559\nTotal error:  0.00996013590451\nTotal error:  0.0101182794833"
     ]
    },
    {
     "name": "stdout",
     "output_type": "stream",
     "text": [
      "\nTotal error:  0.0103370195308\n"
     ]
    },
    {
     "name": "stdout",
     "output_type": "stream",
     "text": [
      "Total error:  0.00999065526657\nTotal error:  0.00963242371651\n"
     ]
    },
    {
     "name": "stdout",
     "output_type": "stream",
     "text": [
      "Total error:  0.0100732859982\nTotal error:  0.0100727388489\nTotal error:  0.00958686593798"
     ]
    },
    {
     "name": "stdout",
     "output_type": "stream",
     "text": [
      "\nTotal error:  0.00985685377783\nTotal error:  0.0103993571489\n"
     ]
    },
    {
     "name": "stdout",
     "output_type": "stream",
     "text": [
      "Total error:  0.0105527899715\nTotal error:  0.0102434893822\nTotal error:  0.0104858612128\n"
     ]
    },
    {
     "name": "stdout",
     "output_type": "stream",
     "text": [
      "Total error:  0.0106466295422\nTotal error:  0.0105375866284\n"
     ]
    },
    {
     "name": "stdout",
     "output_type": "stream",
     "text": [
      "Total error:  0.0103679505575\nTotal error:  0.0100163001442\nTotal error:  0.0101861337987\n"
     ]
    },
    {
     "name": "stdout",
     "output_type": "stream",
     "text": [
      "Total error:  0.0102513925592\nTotal error:  0.0101116684646\nTotal error:  0.010007524589\n"
     ]
    },
    {
     "name": "stdout",
     "output_type": "stream",
     "text": [
      "Total error:  0.0101716636334\nTotal error:  0.0103971340354\n"
     ]
    },
    {
     "name": "stdout",
     "output_type": "stream",
     "text": [
      "Total error:  0.00916858105293\nTotal error:  0.0101247239643\nTotal error:  0.0095215945287"
     ]
    },
    {
     "name": "stdout",
     "output_type": "stream",
     "text": [
      "\nTotal error:  0.0108708087047\nTotal error:  0.0104838078025\nTotal error:  0.00925610888743\n"
     ]
    },
    {
     "name": "stdout",
     "output_type": "stream",
     "text": [
      "Total error:  0.00981002129553\nTotal error:  0.0101598875006\n"
     ]
    },
    {
     "name": "stdout",
     "output_type": "stream",
     "text": [
      "Total error:  0.0104094178991\nTotal error:  0.0105578551969\n"
     ]
    },
    {
     "name": "stdout",
     "output_type": "stream",
     "text": [
      "Total error:  0.0101435794424\nTotal error:  0.0100324270533\n"
     ]
    },
    {
     "name": "stdout",
     "output_type": "stream",
     "text": [
      "Total error:  0.0101434370559\nTotal error:  0.00994392043165\nTotal error:  0.0100650232396\n"
     ]
    },
    {
     "name": "stdout",
     "output_type": "stream",
     "text": [
      "Total error:  0.0100321129867\nTotal error:  0.0104847594607\nTotal error:  0.0105079661397\n"
     ]
    },
    {
     "name": "stdout",
     "output_type": "stream",
     "text": [
      "Total error:  0.00940352157546\nTotal error:  0.010242531693\nTotal error:  0.00940910957466\n"
     ]
    },
    {
     "name": "stdout",
     "output_type": "stream",
     "text": [
      "Total error:  0.00978500469083\nTotal error:  0.0103387661406\nTotal error:  0.0105758087907\n"
     ]
    },
    {
     "name": "stdout",
     "output_type": "stream",
     "text": [
      "Total error:  0.0103129005339\nTotal error:  0.0100375309795\nTotal error:  0.010223015224\n"
     ]
    },
    {
     "name": "stdout",
     "output_type": "stream",
     "text": [
      "Total error:  0.0101706014989\nTotal error:  0.00960747038205\nTotal error:  0.0100072628405\n"
     ]
    },
    {
     "name": "stdout",
     "output_type": "stream",
     "text": [
      "Total error:  0.0104008909719\nTotal error:  0.0105286073499\nTotal error:  0.010180891646\n"
     ]
    },
    {
     "name": "stdout",
     "output_type": "stream",
     "text": [
      "Total error:  0.0103232491211\nTotal error:  0.00967379653006\nTotal error:  0.00996949482916\n"
     ]
    },
    {
     "name": "stdout",
     "output_type": "stream",
     "text": [
      "Total error:  0.00995841189291\nTotal error:  0.0095798558273\nTotal error:  0.0100686091034\n"
     ]
    },
    {
     "name": "stdout",
     "output_type": "stream",
     "text": [
      "Total error:  0.009999072034\nTotal error:  0.0103662955503\nTotal error:  0.0101242334202\n"
     ]
    },
    {
     "name": "stdout",
     "output_type": "stream",
     "text": [
      "Total error:  0.0104269432275\nTotal error:  0.0100251436982\nTotal error:  0.00981619976197\n"
     ]
    },
    {
     "name": "stdout",
     "output_type": "stream",
     "text": [
      "Total error:  0.0104613215035\nTotal error:  0.010290878045\nTotal error:  0.00981501866268\n"
     ]
    },
    {
     "name": "stdout",
     "output_type": "stream",
     "text": [
      "Total error:  0.00997178343815\nTotal error:  0.0103379102981\nTotal error:  0.0100054888079\n"
     ]
    },
    {
     "name": "stdout",
     "output_type": "stream",
     "text": [
      "Total error:  0.00992759242903\nTotal error:  0.010023549891\nTotal error:  0.0104176519066\n"
     ]
    },
    {
     "name": "stdout",
     "output_type": "stream",
     "text": [
      "Total error:  0.00997238637647\nTotal error:  0.0102132915337\nTotal error:  0.0101753403792\n"
     ]
    },
    {
     "name": "stdout",
     "output_type": "stream",
     "text": [
      "Total error:  0.0100276507308\nTotal error:  0.0102873303969\nTotal error:  0.0101941908137\n"
     ]
    },
    {
     "name": "stdout",
     "output_type": "stream",
     "text": [
      "Total error:  0.010261591743\nTotal error:  0.00951650073897\nTotal error:  0.0101100206893\n"
     ]
    },
    {
     "name": "stdout",
     "output_type": "stream",
     "text": [
      "Total error:  0.0101664835589\nTotal error:  0.0100605227011\nTotal error:  0.0097187856992\n"
     ]
    },
    {
     "name": "stdout",
     "output_type": "stream",
     "text": [
      "Total error:  0.0103804044049\nTotal error:  0.0102970562617\nTotal error:  0.00956671476911\n"
     ]
    },
    {
     "name": "stdout",
     "output_type": "stream",
     "text": [
      "Total error:  0.00979481642693\nTotal error:  0.0104895656544\nTotal error:  0.0101138222102\n"
     ]
    },
    {
     "name": "stdout",
     "output_type": "stream",
     "text": [
      "Total error:  0.0102993382956\nTotal error:  0.0100556658065\nTotal error:  0.0105543322647\n"
     ]
    },
    {
     "name": "stdout",
     "output_type": "stream",
     "text": [
      "Total error:  0.00944732906165\nTotal error:  0.0104434959817\n"
     ]
    },
    {
     "name": "stdout",
     "output_type": "stream",
     "text": [
      "Total error:  0.00998474231769\nTotal error:  0.0101740916789\nTotal error:  0.0103994742757\nTotal error:  0.0101974730519"
     ]
    },
    {
     "name": "stdout",
     "output_type": "stream",
     "text": [
      "\nTotal error:  0.0102685183992\nTotal error:  0.0101566157911\nTotal error:  0.00991022816495\n"
     ]
    },
    {
     "name": "stdout",
     "output_type": "stream",
     "text": [
      "Total error:  0.0102638109821\nTotal error:  0.0100375779584\nTotal error:  0.0103045491937\n"
     ]
    },
    {
     "name": "stdout",
     "output_type": "stream",
     "text": [
      "Total error:  0.0101005011171\nTotal error:  0.00961364604101\nTotal error:  0.0099337901073\n"
     ]
    },
    {
     "name": "stdout",
     "output_type": "stream",
     "text": [
      "Total error:  0.0100144178982\nTotal error:  0.00997601967445\nTotal error:  0.00981648471664\n"
     ]
    },
    {
     "name": "stdout",
     "output_type": "stream",
     "text": [
      "Total error:  0.0099234451665\nTotal error:  0.0101478674556\nTotal error:  0.00955922741992\n"
     ]
    },
    {
     "name": "stdout",
     "output_type": "stream",
     "text": [
      "Total error:  0.0102150909184\nTotal error:  0.00999234487931\nTotal error:  0.00879231726448\n"
     ]
    },
    {
     "name": "stdout",
     "output_type": "stream",
     "text": [
      "Total error:  0.0102465284345\nTotal error:  0.0100676160414\nTotal error:  0.0104628245765\nTotal error:  0.0101561192542"
     ]
    },
    {
     "name": "stdout",
     "output_type": "stream",
     "text": [
      "\nTotal error:  0.0100055706296\nTotal error:  0.00960392008745\nTotal error:  0.00962291502672\n"
     ]
    },
    {
     "name": "stdout",
     "output_type": "stream",
     "text": [
      "Total error:  0.0101741983305\nTotal error:  0.00955938658281\nTotal error:  0.0104114003592\nTotal error:  0.00996579377187\n"
     ]
    },
    {
     "name": "stdout",
     "output_type": "stream",
     "text": [
      "Total error:  0.0101743828954\nTotal error:  0.00888944727403\nTotal error:  0.00957702906916\nTotal error:  0.00998075725581\n"
     ]
    },
    {
     "name": "stdout",
     "output_type": "stream",
     "text": [
      "Total error:  0.0103008430583\nTotal error:  0.00976765351385\nTotal error:  0.0097158846789\nTotal error:  0.00939619230719"
     ]
    },
    {
     "name": "stdout",
     "output_type": "stream",
     "text": [
      "\nTotal error:  0.0101279223438\nTotal error:  0.00993538257547\nTotal error:  0.00935775210155"
     ]
    },
    {
     "name": "stdout",
     "output_type": "stream",
     "text": [
      "\nTotal error:  0.0100016131619\nTotal error:  0.0104067467477\nTotal error:  0.00997756813651"
     ]
    },
    {
     "name": "stdout",
     "output_type": "stream",
     "text": [
      "\nTotal error:  0.00985976826259\nTotal error:  0.0101663416411\nTotal error:  0.00929353491585\nTotal error:  0.0104020741725\n"
     ]
    },
    {
     "name": "stdout",
     "output_type": "stream",
     "text": [
      "Total error:  0.0100056269437\nTotal error:  0.0102677528859\nTotal error:  0.00911073299851\nTotal error:  0.0105461792277\n"
     ]
    },
    {
     "name": "stdout",
     "output_type": "stream",
     "text": [
      "Total error:  0.00982974771193\nTotal error:  0.010120641693\nTotal error:  0.00985759737928\n"
     ]
    },
    {
     "name": "stdout",
     "output_type": "stream",
     "text": [
      "Total error:  0.0102198317664\nTotal error:  0.0102600971314\nTotal error:  0.0102530102306\nTotal error:  0.0100022551992\n"
     ]
    },
    {
     "name": "stdout",
     "output_type": "stream",
     "text": [
      "Total error:  0.00991501928484\nTotal error:  0.0102640693594\nTotal error:  0.0103238769921\nTotal error:  0.00989958095237\n"
     ]
    },
    {
     "name": "stdout",
     "output_type": "stream",
     "text": [
      "Total error:  0.0101011644765\nTotal error:  0.0100365632585\nTotal error:  0.00975562578711\nTotal error:  0.00994834110998\nTotal error:  0.00966177221421\n"
     ]
    },
    {
     "name": "stdout",
     "output_type": "stream",
     "text": [
      "Total error:  0.00979565622286\nTotal error:  0.00990545016649\nTotal error:  0.0101348215534\nTotal error:  0.00929526092121\n"
     ]
    },
    {
     "name": "stdout",
     "output_type": "stream",
     "text": [
      "Total error:  0.0101001769784\nTotal error:  0.00975138174745\nTotal error:  0.0101595052745\nTotal error:  0.0103347147364\n"
     ]
    },
    {
     "name": "stdout",
     "output_type": "stream",
     "text": [
      "Total error:  0.010311388395\nTotal error:  0.0101384957417\nTotal error:  0.0102066241781\nTotal error:  0.010391078848\n"
     ]
    },
    {
     "name": "stdout",
     "output_type": "stream",
     "text": [
      "Total error:  0.0098332287513\nTotal error:  0.00990923845203\nTotal error:  0.0102191091177\nTotal error:  0.00969033794948\n"
     ]
    },
    {
     "name": "stdout",
     "output_type": "stream",
     "text": [
      "Total error:  0.0103013377186\nTotal error:  0.00997621447587\nTotal error:  0.00995888361333\n"
     ]
    },
    {
     "name": "stdout",
     "output_type": "stream",
     "text": [
      "Total error:  0.0101710020676\nTotal error:  0.00994807887912\nTotal error:  0.00999446463058\nTotal error:  0.0101804342048"
     ]
    },
    {
     "name": "stdout",
     "output_type": "stream",
     "text": [
      "\nTotal error:  0.0100795321707\nTotal error:  0.00994989593051\nTotal error:  0.00971199436167\nTotal error:  0.010313490468\n"
     ]
    },
    {
     "name": "stdout",
     "output_type": "stream",
     "text": [
      "Total error:  0.0101008708903\nTotal error:  0.00882861532175\nTotal error:  0.00994781128091\nTotal error:  0.0101482584918\n"
     ]
    },
    {
     "name": "stdout",
     "output_type": "stream",
     "text": [
      "Total error:  0.00964921209649\nTotal error:  0.00990857391542\nTotal error:  0.00981203287181\nTotal error:  0.00969037973101\nTotal error:  0.0101792257474"
     ]
    },
    {
     "name": "stdout",
     "output_type": "stream",
     "text": [
      "\nTotal error:  0.0101081927573\nTotal error:  0.00990982709098\nTotal error:  0.0101907323193\n"
     ]
    },
    {
     "name": "stdout",
     "output_type": "stream",
     "text": [
      "Total error:  0.00990517838324\nTotal error:  0.0101850862255\nTotal error:  0.0101025289839\n"
     ]
    },
    {
     "name": "stdout",
     "output_type": "stream",
     "text": [
      "Total error:  0.00998317125443\nTotal error:  0.00994409997139\nTotal error:  0.00958507891098\nTotal error:  0.0101962581763\n"
     ]
    },
    {
     "name": "stdout",
     "output_type": "stream",
     "text": [
      "Total error:  0.00983017876132\nTotal error:  0.0101385482827\nTotal error:  0.0100077160144\nTotal error:  0.00998206758003\n"
     ]
    },
    {
     "name": "stdout",
     "output_type": "stream",
     "text": [
      "Total error:  0.0100828247524\nTotal error:  0.010177994906\nTotal error:  0.0101817382871\nTotal error:  0.0102336463258\n"
     ]
    },
    {
     "name": "stdout",
     "output_type": "stream",
     "text": [
      "Total error:  0.00967584796608\nTotal error:  0.0101161261941\nTotal error:  0.0100828219431\nTotal error:  0.00924338639659\nTotal error:  0.00962765419495\n"
     ]
    },
    {
     "name": "stdout",
     "output_type": "stream",
     "text": [
      "Total error:  0.00874734136792\nTotal error:  0.00918422843813\nTotal error:  0.00950890181434\nTotal error:  0.0098266041079\nTotal error:  0.0103222253124"
     ]
    },
    {
     "name": "stdout",
     "output_type": "stream",
     "text": [
      "\nTotal error:  0.0102185171588\nTotal error:  0.00959683714352\nTotal error:  0.0100705528248\n"
     ]
    },
    {
     "name": "stdout",
     "output_type": "stream",
     "text": [
      "Total error:  0.0100555474291\nTotal error:  0.0104279536514\nTotal error:  0.00998288409998\nTotal error:  0.0101804756114"
     ]
    },
    {
     "name": "stdout",
     "output_type": "stream",
     "text": [
      "\nTotal error:  0.00970622837327\nTotal error:  0.00996331976222\nTotal error:  0.00929758035925\nTotal error:  0.00966704996167\n"
     ]
    },
    {
     "name": "stdout",
     "output_type": "stream",
     "text": [
      "Total error:  0.0101064983631\nTotal error:  0.0102108169942\nTotal error:  0.00977785967998\n"
     ]
    },
    {
     "name": "stdout",
     "output_type": "stream",
     "text": [
      "Total error:  0.00993938766039\nTotal error:  0.0103682048132\nTotal error:  0.0100234937069\nTotal error:  0.00991939776935\n"
     ]
    },
    {
     "name": "stdout",
     "output_type": "stream",
     "text": [
      "Total error:  0.0101740604302\nTotal error:  0.0101130172666\nTotal error:  0.0100170094977\nTotal error:  0.0101550554382\n"
     ]
    },
    {
     "name": "stdout",
     "output_type": "stream",
     "text": [
      "Total error:  0.0099836176822\nTotal error:  0.0099169780742\nTotal error:  0.0101028311104\nTotal error:  0.009370891615\n"
     ]
    },
    {
     "name": "stdout",
     "output_type": "stream",
     "text": [
      "Total error:  0.0103398645838\nTotal error:  0.00954501762324\nTotal error:  0.0100873240104\nTotal error:  0.0100650870514\n"
     ]
    },
    {
     "name": "stdout",
     "output_type": "stream",
     "text": [
      "Total error:  0.0100611485192\nTotal error:  0.00990928585632\nTotal error:  0.00986792138932\nTotal error:  0.0098719142349"
     ]
    },
    {
     "name": "stdout",
     "output_type": "stream",
     "text": [
      "\nTotal error:  0.0100435813322\nTotal error:  0.00969328237018\n"
     ]
    },
    {
     "name": "stdout",
     "output_type": "stream",
     "text": [
      "Total error:  0.0102289855081\nTotal error:  0.0100919035289\n"
     ]
    },
    {
     "name": "stdout",
     "output_type": "stream",
     "text": [
      "Total error:  0.00989889989377\nTotal error:  0.00978688044732\nTotal error:  0.00974776392151\n"
     ]
    },
    {
     "name": "stdout",
     "output_type": "stream",
     "text": [
      "Total error:  0.00958756116706\nTotal error:  0.00988429827449\nTotal error:  0.0101847183072\nTotal error:  0.0100819883429\n"
     ]
    },
    {
     "name": "stdout",
     "output_type": "stream",
     "text": [
      "Total error:  0.00978633725155\nTotal error:  0.00939406869392\nTotal error:  0.00922898526805\n"
     ]
    },
    {
     "name": "stdout",
     "output_type": "stream",
     "text": [
      "Total error:  0.0103523230494\nTotal error:  0.0101961113206\n"
     ]
    },
    {
     "name": "stdout",
     "output_type": "stream",
     "text": [
      "Total error:  0.00986341076141\nTotal error:  0.00998903639585\n"
     ]
    },
    {
     "name": "stdout",
     "output_type": "stream",
     "text": [
      "Total error:  0.00978411264219\nTotal error:  0.00843665445766\nTotal error:  0.010050474009\n"
     ]
    },
    {
     "name": "stdout",
     "output_type": "stream",
     "text": [
      "Total error:  0.00984609144043\nTotal error:  0.00973823237967\nTotal error:  0.0100291327844\n"
     ]
    },
    {
     "name": "stdout",
     "output_type": "stream",
     "text": [
      "Total error:  0.00976264362324\nTotal error:  0.00989357021284\nTotal error:  0.01023797333\n"
     ]
    },
    {
     "name": "stdout",
     "output_type": "stream",
     "text": [
      "Total error:  0.00975764917898\nTotal error:  0.00961142615021\nTotal error:  0.00947778739368\n"
     ]
    },
    {
     "name": "stdout",
     "output_type": "stream",
     "text": [
      "Total error:  0.00971506768878\nTotal error:  0.00995761106572\nTotal error:  0.010144165159\n"
     ]
    },
    {
     "name": "stdout",
     "output_type": "stream",
     "text": [
      "Total error:  0.00998908735374\nTotal error:  0.00937996901614\nTotal error:  0.0100045395852\n"
     ]
    },
    {
     "name": "stdout",
     "output_type": "stream",
     "text": [
      "Total error:  0.00963483615973\nTotal error:  0.00997747320618\n"
     ]
    },
    {
     "name": "stdout",
     "output_type": "stream",
     "text": [
      "Total error:  0.00948102317788\nTotal error:  0.00929729418129\nTotal error:  0.00990572474287\nTotal error:  0.00997698066776\n"
     ]
    },
    {
     "name": "stdout",
     "output_type": "stream",
     "text": [
      "Total error:  0.0101410492659\nTotal error:  0.0100190609737\nTotal error:  0.00987960211437\n"
     ]
    },
    {
     "name": "stdout",
     "output_type": "stream",
     "text": [
      "Total error:  0.0100407913719\nTotal error:  0.00904846575252\nTotal error:  0.00974177452413\n"
     ]
    },
    {
     "name": "stdout",
     "output_type": "stream",
     "text": [
      "Total error:  0.0097199927685\nTotal error:  0.0100010474482\nTotal error:  0.0101583653088\nTotal error:  0.0090024561131\n"
     ]
    },
    {
     "name": "stdout",
     "output_type": "stream",
     "text": [
      "Total error:  0.00979351456591\nTotal error:  0.0090310701786\nTotal error:  0.00892993958917\nTotal error:  0.0102161912012\n"
     ]
    },
    {
     "name": "stdout",
     "output_type": "stream",
     "text": [
      "Total error:  0.00889937810906\nTotal error:  0.00993708439769\nTotal error:  0.00987810084842\n"
     ]
    },
    {
     "name": "stdout",
     "output_type": "stream",
     "text": [
      "Total error:  0.00961978431298\nTotal error:  0.00984158479659\nTotal error:  0.00997623145354\nTotal error:  0.00946357985313\n"
     ]
    },
    {
     "name": "stdout",
     "output_type": "stream",
     "text": [
      "Total error:  0.00983059356609\nTotal error:  0.0100387062596\nTotal error:  0.0100415986603\n"
     ]
    },
    {
     "name": "stdout",
     "output_type": "stream",
     "text": [
      "Total error:  0.00977199709509\nTotal error:  0.00959481990229\n"
     ]
    },
    {
     "name": "stdout",
     "output_type": "stream",
     "text": [
      "Total error:  0.00990820206875\nTotal error:  0.00991297279174\n"
     ]
    },
    {
     "name": "stdout",
     "output_type": "stream",
     "text": [
      "Total error:  0.00995995653205\nTotal error:  0.0100023925705\n"
     ]
    },
    {
     "name": "stdout",
     "output_type": "stream",
     "text": [
      "Total error:  0.00968824173154\nTotal error:  0.00957016517324\n"
     ]
    },
    {
     "name": "stdout",
     "output_type": "stream",
     "text": [
      "Total error:  0.00862937926355\nTotal error:  0.00998164959644\nTotal error:  0.010148377707\n"
     ]
    },
    {
     "name": "stdout",
     "output_type": "stream",
     "text": [
      "Total error:  0.00995586630023\nTotal error:  0.010111954448\nTotal error:  0.00857933022531\n"
     ]
    },
    {
     "name": "stdout",
     "output_type": "stream",
     "text": [
      "Total error:  0.0105772524097\nTotal error:  0.00945005076055\nTotal error:  0.0100587321549\n"
     ]
    },
    {
     "name": "stdout",
     "output_type": "stream",
     "text": [
      "Total error:  0.0100517779995\nTotal error:  0.00959856960095\nTotal error:  0.00963192977704\n"
     ]
    },
    {
     "name": "stdout",
     "output_type": "stream",
     "text": [
      "Total error:  0.00999360156176\nTotal error:  0.00966453785442\nTotal error:  0.0103426036131\n"
     ]
    },
    {
     "name": "stdout",
     "output_type": "stream",
     "text": [
      "Total error:  0.00956812481029\nTotal error:  0.00898477259637\nTotal error:  0.00996310790496\n"
     ]
    },
    {
     "name": "stdout",
     "output_type": "stream",
     "text": [
      "Total error:  0.00961505534153\nTotal error:  0.0100807769528\nTotal error:  0.00962010819042\n"
     ]
    },
    {
     "name": "stdout",
     "output_type": "stream",
     "text": [
      "Total error:  0.00883355220104\nTotal error:  0.00947471650271\nTotal error:  0.00982005117751\n"
     ]
    },
    {
     "name": "stdout",
     "output_type": "stream",
     "text": [
      "Total error:  0.010147209508\nTotal error:  0.00992470241796\nTotal error:  0.00944103432081"
     ]
    },
    {
     "name": "stdout",
     "output_type": "stream",
     "text": [
      "\nTotal error:  0.00984084189888\nTotal error:  0.010052048181\n"
     ]
    },
    {
     "name": "stdout",
     "output_type": "stream",
     "text": [
      "Total error:  0.00930121346347\nTotal error:  0.0102928207173\n"
     ]
    },
    {
     "name": "stdout",
     "output_type": "stream",
     "text": [
      "Total error:  0.0090736936468\nTotal error:  0.0101901876955\n"
     ]
    },
    {
     "name": "stdout",
     "output_type": "stream",
     "text": [
      "Total error:  0.00964507494423\nTotal error:  0.00992069994265\n"
     ]
    },
    {
     "name": "stdout",
     "output_type": "stream",
     "text": [
      "Total error:  0.00972764132077\nTotal error:  0.00976217329545\nTotal error:  0.00961170807988\n"
     ]
    },
    {
     "name": "stdout",
     "output_type": "stream",
     "text": [
      "Total error:  0.0095017691522\nTotal error:  0.0097768399688\nTotal error:  0.00923417967566\n"
     ]
    },
    {
     "name": "stdout",
     "output_type": "stream",
     "text": [
      "Total error:  0.00997381442949\nTotal error:  0.0090865016832\nTotal error:  0.00996943735802\n"
     ]
    },
    {
     "name": "stdout",
     "output_type": "stream",
     "text": [
      "Total error:  0.00915356334696\nTotal error:  0.009854091971\n"
     ]
    },
    {
     "name": "stdout",
     "output_type": "stream",
     "text": [
      "Total error:  0.0101251685874\nTotal error:  0.00997397832508\nTotal error:  0.00999596141075\n"
     ]
    },
    {
     "name": "stdout",
     "output_type": "stream",
     "text": [
      "Total error:  0.00835701175818\nTotal error:  0.0104247051621\nTotal error:  0.0100304648875\n"
     ]
    },
    {
     "name": "stdout",
     "output_type": "stream",
     "text": [
      "Total error:  0.0098776885753\nTotal error:  0.00928337015909\n"
     ]
    },
    {
     "name": "stdout",
     "output_type": "stream",
     "text": [
      "Total error:  0.00968817012559\nTotal error:  0.00970719115461\n"
     ]
    },
    {
     "name": "stdout",
     "output_type": "stream",
     "text": [
      "Total error:  0.00987258033924\nTotal error:  0.00982448324539\nTotal error:  0.0098201675827\n"
     ]
    },
    {
     "name": "stdout",
     "output_type": "stream",
     "text": [
      "Total error:  0.00972026654305\nTotal error:  0.00899187344663\nTotal error:  0.00964718788826\n"
     ]
    },
    {
     "name": "stdout",
     "output_type": "stream",
     "text": [
      "Total error:  0.00934848648572\nTotal error:  0.00992302266729\n"
     ]
    },
    {
     "name": "stdout",
     "output_type": "stream",
     "text": [
      "Total error:  0.00962929510806\nTotal error:  0.00972300856649\n"
     ]
    },
    {
     "name": "stdout",
     "output_type": "stream",
     "text": [
      "Total error:  0.009677645978\nTotal error:  0.00994402495139\n"
     ]
    },
    {
     "name": "stdout",
     "output_type": "stream",
     "text": [
      "Total error:  0.00994886995272\nTotal error:  0.00942118327315\n"
     ]
    },
    {
     "name": "stdout",
     "output_type": "stream",
     "text": [
      "Total error:  0.00944124380831\nTotal error:  0.00989391385319\n"
     ]
    },
    {
     "name": "stdout",
     "output_type": "stream",
     "text": [
      "Total error:  0.00975533292802\nTotal error:  0.00972758077519\n"
     ]
    },
    {
     "name": "stdout",
     "output_type": "stream",
     "text": [
      "Total error:  0.00991120122647\nTotal error:  0.00985442762269\nTotal error:  0.00964205351473\n"
     ]
    },
    {
     "name": "stdout",
     "output_type": "stream",
     "text": [
      "Total error:  0.00985103932217\nTotal error:  0.00948152201323\nTotal error:  0.00899753875887\n"
     ]
    },
    {
     "name": "stdout",
     "output_type": "stream",
     "text": [
      "Total error:  0.0105176404522\nTotal error:  0.00947059402668\nTotal error:  0.00966517219244\n"
     ]
    },
    {
     "name": "stdout",
     "output_type": "stream",
     "text": [
      "Total error:  0.00975565407725\nTotal error:  0.00954701841634\n"
     ]
    },
    {
     "name": "stdout",
     "output_type": "stream",
     "text": [
      "Total error:  0.008947538559\nTotal error:  0.00999786507484\n"
     ]
    },
    {
     "name": "stdout",
     "output_type": "stream",
     "text": [
      "Total error:  0.00982357216666\nTotal error:  0.0098775046042\n"
     ]
    },
    {
     "name": "stdout",
     "output_type": "stream",
     "text": [
      "Total error:  0.00965422467024\nTotal error:  0.00909363846363\n"
     ]
    },
    {
     "name": "stdout",
     "output_type": "stream",
     "text": [
      "Total error:  0.00999046016796\nTotal error:  0.00972591152009\n"
     ]
    },
    {
     "name": "stdout",
     "output_type": "stream",
     "text": [
      "Total error:  0.00987534203763\nTotal error:  0.00981576372861\n"
     ]
    },
    {
     "name": "stdout",
     "output_type": "stream",
     "text": [
      "Total error:  0.00967419378458\nTotal error:  0.00979750719911\n"
     ]
    },
    {
     "name": "stdout",
     "output_type": "stream",
     "text": [
      "Total error:  0.00939013778676\nTotal error:  0.0100645698944\nTotal error:  0.00939408805254\n"
     ]
    },
    {
     "name": "stdout",
     "output_type": "stream",
     "text": [
      "Total error:  0.00968743149011\nTotal error:  0.00970071071093\n"
     ]
    },
    {
     "name": "stdout",
     "output_type": "stream",
     "text": [
      "Total error:  0.0100248800395\nTotal error:  0.00991679099864\nTotal error:  0.00912913515393\n"
     ]
    },
    {
     "name": "stdout",
     "output_type": "stream",
     "text": [
      "Total error:  0.00942461114687\nTotal error:  0.00855946249574\n"
     ]
    },
    {
     "name": "stdout",
     "output_type": "stream",
     "text": [
      "Total error:  0.0101946242141\nTotal error:  0.00976446970535\nTotal error:  0.00989131128207"
     ]
    },
    {
     "name": "stdout",
     "output_type": "stream",
     "text": [
      "\nTotal error:  0.00962673441191\nTotal error:  0.0099303348945\n"
     ]
    },
    {
     "name": "stdout",
     "output_type": "stream",
     "text": [
      "Total error:  0.00989774995196\nTotal error:  0.00984314632976\n"
     ]
    },
    {
     "name": "stdout",
     "output_type": "stream",
     "text": [
      "Total error:  0.00986090570657\nTotal error:  0.00985938430346\n"
     ]
    },
    {
     "name": "stdout",
     "output_type": "stream",
     "text": [
      "Total error:  0.00981774353571\nTotal error:  0.00964242785912\n"
     ]
    },
    {
     "name": "stdout",
     "output_type": "stream",
     "text": [
      "Total error:  0.00981729307738\nTotal error:  0.00928123300144\n"
     ]
    },
    {
     "name": "stdout",
     "output_type": "stream",
     "text": [
      "Total error:  0.00977418607993\nTotal error:  0.00987442038603\nTotal error:  0.00948288386942\n"
     ]
    },
    {
     "name": "stdout",
     "output_type": "stream",
     "text": [
      "Total error:  0.00988428940632\nTotal error:  0.00979425592795\nTotal error:  0.00980147901637\n"
     ]
    },
    {
     "name": "stdout",
     "output_type": "stream",
     "text": [
      "Total error:  0.00881721239379\nTotal error:  0.00955607915629\n"
     ]
    },
    {
     "name": "stdout",
     "output_type": "stream",
     "text": [
      "Total error:  0.00974216696124\nTotal error:  0.0095938333167\nTotal error:  0.00917364062544"
     ]
    },
    {
     "name": "stdout",
     "output_type": "stream",
     "text": [
      "\nTotal error:  0.010214920135\nTotal error:  0.00946539859966\nTotal error:  0.00986834045429\n"
     ]
    },
    {
     "name": "stdout",
     "output_type": "stream",
     "text": [
      "Total error:  0.00989222311373\nTotal error:  0.0088332116062\n"
     ]
    },
    {
     "name": "stdout",
     "output_type": "stream",
     "text": [
      "Total error:  0.00984196913002\nTotal error:  0.00942001956373\nTotal error:  0.00955224965455"
     ]
    },
    {
     "name": "stdout",
     "output_type": "stream",
     "text": [
      "\nTotal error:  0.00933712847537\nTotal error:  0.0091614712053\n"
     ]
    },
    {
     "name": "stdout",
     "output_type": "stream",
     "text": [
      "Total error:  0.00876053832999\nTotal error:  0.00908030919235\n"
     ]
    },
    {
     "name": "stdout",
     "output_type": "stream",
     "text": [
      "Total error:  0.0096305459549\nTotal error:  0.00960578513303\n"
     ]
    },
    {
     "name": "stdout",
     "output_type": "stream",
     "text": [
      "Total error:  0.00944283917037\nTotal error:  0.00968234982338\n"
     ]
    },
    {
     "name": "stdout",
     "output_type": "stream",
     "text": [
      "Total error:  0.00942383409321\nTotal error:  0.00958130473672\n"
     ]
    },
    {
     "name": "stdout",
     "output_type": "stream",
     "text": [
      "Total error:  0.00992922496119\nTotal error:  0.00884985616246\n"
     ]
    },
    {
     "name": "stdout",
     "output_type": "stream",
     "text": [
      "Total error:  0.00964845460339\nTotal error:  0.00933771528877\n"
     ]
    },
    {
     "name": "stdout",
     "output_type": "stream",
     "text": [
      "Total error:  0.00918802383339\nTotal error:  0.00966497445184\n"
     ]
    },
    {
     "name": "stdout",
     "output_type": "stream",
     "text": [
      "Total error:  0.00980488295244\nTotal error:  0.00951526986717\nTotal error:  0.00983909625708\n"
     ]
    },
    {
     "name": "stdout",
     "output_type": "stream",
     "text": [
      "Total error:  0.00925366257715\nTotal error:  0.00989376940963\nTotal error:  0.00961551816747\n"
     ]
    },
    {
     "name": "stdout",
     "output_type": "stream",
     "text": [
      "Total error:  0.00914616786419\nTotal error:  0.0101586165272\nTotal error:  0.00941724962172\n"
     ]
    }
   ],
   "source": [
    "net = buildNetwork(dataset.indim, 12, dataset.outdim)\n",
    "trainer = BackpropTrainer(\n",
    "    net,\n",
    "    dataset=train_data,\n",
    "    learningrate=0.01, \n",
    "    momentum=0.1,\n",
    "    verbose=True\n",
    ")\n",
    "\n",
    "train_erros, val_erros = trainer.trainUntilConvergence(dataset=train_data, maxEpochs=5000)"
   ]
  },
  {
   "cell_type": "code",
   "execution_count": 18,
   "metadata": {},
   "outputs": [
    {
     "name": "stdout",
     "output_type": "stream",
     "text": [
      "Total error:  0.333883249041\nTotal error:  0.32695107639\nTotal error:  0.331434175784\n"
     ]
    },
    {
     "name": "stdout",
     "output_type": "stream",
     "text": [
      "Total error:  0.330766174206\nTotal error:  0.332480087681\nTotal error:  0.330035249212\n"
     ]
    },
    {
     "name": "stdout",
     "output_type": "stream",
     "text": [
      "Total error:  0.331586317772\nTotal error:  0.331999939325\nTotal error:  0.33440274534\n"
     ]
    },
    {
     "name": "stdout",
     "output_type": "stream",
     "text": [
      "Total error:  0.328612078238\nTotal error:  0.323239119891\nTotal error:  0.335687751702\n"
     ]
    },
    {
     "name": "stdout",
     "output_type": "stream",
     "text": [
      "Total error:  0.333842438552\nTotal error:  0.334281431171\nTotal error:  0.332095802002\nTotal error:  0.332206254026"
     ]
    },
    {
     "name": "stdout",
     "output_type": "stream",
     "text": [
      "\nTotal error:  0.328414726616\nTotal error:  0.333177731676\nTotal error:  0.33152840588\nTotal error:  0.318479734019\n"
     ]
    },
    {
     "name": "stdout",
     "output_type": "stream",
     "text": [
      "Total error:  0.32949443042\nTotal error:  0.331550062757\nTotal error:  0.326995146775\nTotal error:  0.334030382139\n"
     ]
    },
    {
     "name": "stdout",
     "output_type": "stream",
     "text": [
      "Total error:  0.331081159281\nTotal error:  0.333805889001\nTotal error:  0.330779519888\n"
     ]
    },
    {
     "name": "stdout",
     "output_type": "stream",
     "text": [
      "Total error:  0.328993266564\nTotal error:  0.328396396404\nTotal error:  0.327176224687\n"
     ]
    },
    {
     "name": "stdout",
     "output_type": "stream",
     "text": [
      "Total error:  0.334006578644\nTotal error:  0.333380135438\nTotal error:  0.333206028767\nTotal error:  0.334280150098"
     ]
    },
    {
     "name": "stdout",
     "output_type": "stream",
     "text": [
      "\nTotal error:  0.32386628009\nTotal error:  0.334255853477\nTotal error:  0.32983486415\n"
     ]
    },
    {
     "name": "stdout",
     "output_type": "stream",
     "text": [
      "Total error:  0.334762808228\nTotal error:  0.334247903919\nTotal error:  0.322618148946\n"
     ]
    },
    {
     "name": "stdout",
     "output_type": "stream",
     "text": [
      "Total error:  0.335527153965\nTotal error:  0.331741873038\nTotal error:  0.320793920219\n"
     ]
    },
    {
     "name": "stdout",
     "output_type": "stream",
     "text": [
      "Total error:  0.336746952457\nTotal error:  0.332296156258\nTotal error:  0.333644016756\n"
     ]
    },
    {
     "name": "stdout",
     "output_type": "stream",
     "text": [
      "Total error:  0.331325718642\nTotal error:  0.332539235611\nTotal error:  0.328608410569\n"
     ]
    },
    {
     "name": "stdout",
     "output_type": "stream",
     "text": [
      "Total error:  0.33357452861\nTotal error:  0.333676090569\nTotal error:  0.329269373789\n"
     ]
    },
    {
     "name": "stdout",
     "output_type": "stream",
     "text": [
      "Total error:  0.331548930221\nTotal error:  0.323464125848\nTotal error:  0.33045444969\n"
     ]
    },
    {
     "name": "stdout",
     "output_type": "stream",
     "text": [
      "Total error:  0.328377483021\nTotal error:  0.322512592764\nTotal error:  0.333663562067\n"
     ]
    },
    {
     "name": "stdout",
     "output_type": "stream",
     "text": [
      "Total error:  0.328389699966\nTotal error:  0.333701893122\nTotal error:  0.334733866528\nTotal error:  0.318942826307"
     ]
    },
    {
     "name": "stdout",
     "output_type": "stream",
     "text": [
      "\nTotal error:  0.328705192929\nTotal error:  0.333821683888\nTotal error:  0.333518202897\nTotal error:  0.326082979787"
     ]
    },
    {
     "name": "stdout",
     "output_type": "stream",
     "text": [
      "\nTotal error:  0.333465286839\nTotal error:  0.331166355216\nTotal error:  0.328488647075\nTotal error:  0.333614751876"
     ]
    },
    {
     "name": "stdout",
     "output_type": "stream",
     "text": [
      "\nTotal error:  0.332507192337\nTotal error:  0.331104021587\nTotal error:  0.330921153053\nTotal error:  0.330469051297\n"
     ]
    },
    {
     "name": "stdout",
     "output_type": "stream",
     "text": [
      "Total error:  0.330365052383\nTotal error:  0.332215619077\nTotal error:  0.333221532666\n"
     ]
    },
    {
     "name": "stdout",
     "output_type": "stream",
     "text": [
      "Total error:  0.328112450523\nTotal error:  0.334963547004\nTotal error:  0.326481557209\n"
     ]
    },
    {
     "name": "stdout",
     "output_type": "stream",
     "text": [
      "Total error:  0.327885600469\nTotal error:  0.330433067991\nTotal error:  0.335612918057\n"
     ]
    },
    {
     "name": "stdout",
     "output_type": "stream",
     "text": [
      "Total error:  0.331774519524\nTotal error:  0.331768907161\nTotal error:  0.334586995566\n"
     ]
    },
    {
     "name": "stdout",
     "output_type": "stream",
     "text": [
      "Total error:  0.327919885785\nTotal error:  0.333795117607\nTotal error:  0.331174710279\n"
     ]
    },
    {
     "name": "stdout",
     "output_type": "stream",
     "text": [
      "Total error:  0.333185317111\nTotal error:  0.333993247\nTotal error:  0.332500110841\n"
     ]
    },
    {
     "name": "stdout",
     "output_type": "stream",
     "text": [
      "Total error:  0.331715618127\nTotal error:  0.334743812727\nTotal error:  0.333725516723\n"
     ]
    },
    {
     "name": "stdout",
     "output_type": "stream",
     "text": [
      "Total error:  0.332106442018\nTotal error:  0.331090844684\nTotal error:  0.329539727604\n"
     ]
    },
    {
     "name": "stdout",
     "output_type": "stream",
     "text": [
      "Total error:  0.330250651522\nTotal error:  0.323493084477\nTotal error:  0.33067128976\nTotal error:  0.327930372018"
     ]
    },
    {
     "name": "stdout",
     "output_type": "stream",
     "text": [
      "\nTotal error:  0.330629111501\nTotal error:  0.334845461062\nTotal error:  0.331506109396\nTotal error:  0.328160244253\n"
     ]
    },
    {
     "name": "stdout",
     "output_type": "stream",
     "text": [
      "Total error:  0.332031298754\nTotal error:  0.331299363963\nTotal error:  0.333412045743\n"
     ]
    },
    {
     "name": "stdout",
     "output_type": "stream",
     "text": [
      "Total error:  0.331716535169\nTotal error:  0.326173654462\nTotal error:  0.329904237678\nTotal error:  0.332399734075\n"
     ]
    },
    {
     "name": "stdout",
     "output_type": "stream",
     "text": [
      "Total error:  0.330215081473\nTotal error:  0.333868408843\nTotal error:  0.330008500437\n"
     ]
    },
    {
     "name": "stdout",
     "output_type": "stream",
     "text": [
      "Total error:  0.334307459027\nTotal error:  0.33370039992\nTotal error:  0.33289118109\nTotal error:  0.335757046827"
     ]
    },
    {
     "name": "stdout",
     "output_type": "stream",
     "text": [
      "\nTotal error:  0.331837390247\nTotal error:  0.331883368119\nTotal error:  0.333235303664\n"
     ]
    },
    {
     "name": "stdout",
     "output_type": "stream",
     "text": [
      "Total error:  0.332500031167\nTotal error:  0.331742171377\nTotal error:  0.33134487952\n"
     ]
    },
    {
     "name": "stdout",
     "output_type": "stream",
     "text": [
      "Total error:  0.326443360975\nTotal error:  0.330729786076\nTotal error:  0.33223672665\nTotal error:  0.333447128649\n"
     ]
    },
    {
     "name": "stdout",
     "output_type": "stream",
     "text": [
      "Total error:  0.335267062805\nTotal error:  0.32993836037\nTotal error:  0.334771003887\n"
     ]
    },
    {
     "name": "stdout",
     "output_type": "stream",
     "text": [
      "Total error:  0.330460445563\nTotal error:  0.334587117946\nTotal error:  0.327195830825\nTotal error:  0.32200060998"
     ]
    },
    {
     "name": "stdout",
     "output_type": "stream",
     "text": [
      "\nTotal error:  0.335959760635\nTotal error:  0.332244703549\nTotal error:  0.331107682657\nTotal error:  0.333494580091\n"
     ]
    },
    {
     "name": "stdout",
     "output_type": "stream",
     "text": [
      "Total error:  0.331715410374\nTotal error:  0.333403531962\nTotal error:  0.331462086506\nTotal error:  0.325503072499"
     ]
    },
    {
     "name": "stdout",
     "output_type": "stream",
     "text": [
      "\nTotal error:  0.334212201902\nTotal error:  0.333161351201\nTotal error:  0.329239024791\n"
     ]
    },
    {
     "name": "stdout",
     "output_type": "stream",
     "text": [
      "Total error:  0.330892343119\nTotal error:  0.334296322776\nTotal error:  0.330587809076\nTotal error:  0.331588327824"
     ]
    },
    {
     "name": "stdout",
     "output_type": "stream",
     "text": [
      "\nTotal error:  0.33296322604\nTotal error:  0.328680044708\n"
     ]
    },
    {
     "name": "stdout",
     "output_type": "stream",
     "text": [
      "Total error:  0.331099692881\nTotal error:  0.332261415034\nTotal error:  0.329514062285\n"
     ]
    },
    {
     "name": "stdout",
     "output_type": "stream",
     "text": [
      "Total error:  0.334542334704\nTotal error:  0.331907962334\nTotal error:  0.333047187637\n"
     ]
    },
    {
     "name": "stdout",
     "output_type": "stream",
     "text": [
      "Total error:  0.325960799532\nTotal error:  0.330801629519\nTotal error:  0.332820996835\n"
     ]
    },
    {
     "name": "stdout",
     "output_type": "stream",
     "text": [
      "Total error:  0.326566982179\nTotal error:  0.330029732181\nTotal error:  0.335393647111\n"
     ]
    },
    {
     "name": "stdout",
     "output_type": "stream",
     "text": [
      "Total error:  0.333073912437\nTotal error:  0.328737329304\nTotal error:  0.327862583873\nTotal error:  0.332372626664"
     ]
    },
    {
     "name": "stdout",
     "output_type": "stream",
     "text": [
      "\nTotal error:  0.326612371774\nTotal error:  0.324851949526\nTotal error:  0.329821676909\nTotal error:  0.329202937351"
     ]
    },
    {
     "name": "stdout",
     "output_type": "stream",
     "text": [
      "\nTotal error:  0.33303127495\nTotal error:  0.331999364645\n"
     ]
    },
    {
     "name": "stdout",
     "output_type": "stream",
     "text": [
      "Total error:  0.331583841777\nTotal error:  0.33296980893\nTotal error:  0.330139578137\n"
     ]
    },
    {
     "name": "stdout",
     "output_type": "stream",
     "text": [
      "Total error:  0.332868231043\nTotal error:  0.333537413556\nTotal error:  0.327156256141\n"
     ]
    },
    {
     "name": "stdout",
     "output_type": "stream",
     "text": [
      "Total error:  0.333256269835\nTotal error:  0.330224643912\nTotal error:  0.324159792888\n"
     ]
    },
    {
     "name": "stdout",
     "output_type": "stream",
     "text": [
      "Total error:  0.32754806758\nTotal error:  0.329434567669\nTotal error:  0.330107088793\nTotal error:  0.332120126"
     ]
    },
    {
     "name": "stdout",
     "output_type": "stream",
     "text": [
      "\nTotal error:  0.33279001551\nTotal error:  0.3239457968\nTotal error:  0.334887371758\n"
     ]
    },
    {
     "name": "stdout",
     "output_type": "stream",
     "text": [
      "Total error:  0.327794479408\nTotal error:  0.335295020832\nTotal error:  0.334119811778\n"
     ]
    },
    {
     "name": "stdout",
     "output_type": "stream",
     "text": [
      "Total error:  0.332182491091\nTotal error:  0.330340902656\nTotal error:  0.332161426547\nTotal error:  0.33101247073\n"
     ]
    },
    {
     "name": "stdout",
     "output_type": "stream",
     "text": [
      "Total error:  0.332664203314\nTotal error:  0.333100321148\nTotal error:  0.329047806592\nTotal error:  0.328781176958\n"
     ]
    },
    {
     "name": "stdout",
     "output_type": "stream",
     "text": [
      "Total error:  0.334909661168\nTotal error:  0.330344825343\nTotal error:  0.330696028109\n"
     ]
    },
    {
     "name": "stdout",
     "output_type": "stream",
     "text": [
      "Total error:  0.333377158887\nTotal error:  0.333318434472\nTotal error:  0.332658680929\n"
     ]
    },
    {
     "name": "stdout",
     "output_type": "stream",
     "text": [
      "Total error:  0.328912787206\nTotal error:  0.333598609566\nTotal error:  0.329296284873\n"
     ]
    },
    {
     "name": "stdout",
     "output_type": "stream",
     "text": [
      "Total error:  0.333393961834\nTotal error:  0.332769488351\nTotal error:  0.322565258059\nTotal error:  0.336808716459"
     ]
    },
    {
     "name": "stdout",
     "output_type": "stream",
     "text": [
      "\nTotal error:  0.332215772367\nTotal error:  0.33229012273\n"
     ]
    },
    {
     "name": "stdout",
     "output_type": "stream",
     "text": [
      "Total error:  0.332032651375\nTotal error:  0.330103484193\nTotal error:  0.319802354475\n"
     ]
    },
    {
     "name": "stdout",
     "output_type": "stream",
     "text": [
      "Total error:  0.333519575935\nTotal error:  0.330758146808\nTotal error:  0.335019836779\n"
     ]
    },
    {
     "name": "stdout",
     "output_type": "stream",
     "text": [
      "Total error:  0.333689894256\nTotal error:  0.3293125593\nTotal error:  0.330428281418\n"
     ]
    },
    {
     "name": "stdout",
     "output_type": "stream",
     "text": [
      "Total error:  0.326142618123\nTotal error:  0.334435046995\nTotal error:  0.332486721974\n"
     ]
    },
    {
     "name": "stdout",
     "output_type": "stream",
     "text": [
      "Total error:  0.333141634878\nTotal error:  0.332160589657\nTotal error:  0.333014649129\n"
     ]
    },
    {
     "name": "stdout",
     "output_type": "stream",
     "text": [
      "Total error:  0.328716937108\nTotal error:  0.328687303768\nTotal error:  0.333715107778\n"
     ]
    },
    {
     "name": "stdout",
     "output_type": "stream",
     "text": [
      "Total error:  0.32457949468\nTotal error:  0.334316452656\nTotal error:  0.334271773734\n"
     ]
    },
    {
     "name": "stdout",
     "output_type": "stream",
     "text": [
      "Total error:  0.324660641593\nTotal error:  0.332912562197\nTotal error:  0.334599059164\n"
     ]
    },
    {
     "name": "stdout",
     "output_type": "stream",
     "text": [
      "Total error:  0.334973979763\nTotal error:  0.324929474796\nTotal error:  0.327944154396\n"
     ]
    },
    {
     "name": "stdout",
     "output_type": "stream",
     "text": [
      "Total error:  0.334370185518\nTotal error:  0.333753079812\nTotal error:  0.330847036073\n"
     ]
    },
    {
     "name": "stdout",
     "output_type": "stream",
     "text": [
      "Total error:  0.331803074748\nTotal error:  0.327949024956\nTotal error:  0.334011719375\n"
     ]
    },
    {
     "name": "stdout",
     "output_type": "stream",
     "text": [
      "Total error:  0.332854016613\nTotal error:  0.335094485824\nTotal error:  0.33339312063\n"
     ]
    },
    {
     "name": "stdout",
     "output_type": "stream",
     "text": [
      "Total error:  0.330973211104\nTotal error:  0.332482702103\nTotal error:  0.334772674842\n"
     ]
    },
    {
     "name": "stdout",
     "output_type": "stream",
     "text": [
      "Total error:  0.333309809068\nTotal error:  0.332088043833\nTotal error:  0.329259700642\n"
     ]
    },
    {
     "name": "stdout",
     "output_type": "stream",
     "text": [
      "Total error:  0.334909269221\nTotal error:  0.327363182525\nTotal error:  0.328077785924\n"
     ]
    },
    {
     "name": "stdout",
     "output_type": "stream",
     "text": [
      "Total error:  0.329513780195\nTotal error:  0.331873761473\nTotal error:  0.331779155039\nTotal error:  0.332475838705"
     ]
    },
    {
     "name": "stdout",
     "output_type": "stream",
     "text": [
      "\nTotal error:  0.333805412247\nTotal error:  0.333695844568\nTotal error:  0.332094340844\nTotal error:  0.331602193943"
     ]
    },
    {
     "name": "stdout",
     "output_type": "stream",
     "text": [
      "\nTotal error:  0.319960365521\nTotal error:  0.324544301461\nTotal error:  0.336856563393\n"
     ]
    },
    {
     "name": "stdout",
     "output_type": "stream",
     "text": [
      "Total error:  0.327218917194\nTotal error:  0.330173696926\nTotal error:  0.330364320879\n"
     ]
    },
    {
     "name": "stdout",
     "output_type": "stream",
     "text": [
      "Total error:  0.334747055932\nTotal error:  0.332049273596\nTotal error:  0.334957004967\n"
     ]
    },
    {
     "name": "stdout",
     "output_type": "stream",
     "text": [
      "Total error:  0.330523518646\nTotal error:  0.327090986848\nTotal error:  0.333899226309\n"
     ]
    },
    {
     "name": "stdout",
     "output_type": "stream",
     "text": [
      "Total error:  0.332830299702\nTotal error:  0.327701344925\nTotal error:  0.335479653256\n"
     ]
    },
    {
     "name": "stdout",
     "output_type": "stream",
     "text": [
      "Total error:  0.33397946724\nTotal error:  0.333479190297\nTotal error:  0.331185131008\n"
     ]
    },
    {
     "name": "stdout",
     "output_type": "stream",
     "text": [
      "Total error:  0.331890054147\nTotal error:  0.333405542289\nTotal error:  0.32804154408\n"
     ]
    },
    {
     "name": "stdout",
     "output_type": "stream",
     "text": [
      "Total error:  0.33646992594\nTotal error:  0.33025341634\nTotal error:  0.324027080982\n"
     ]
    },
    {
     "name": "stdout",
     "output_type": "stream",
     "text": [
      "Total error:  0.334498266637\nTotal error:  0.333143115789\nTotal error:  0.326707321513\n"
     ]
    },
    {
     "name": "stdout",
     "output_type": "stream",
     "text": [
      "Total error:  0.326631367819\nTotal error:  0.322605827741\nTotal error:  0.334335493071\n"
     ]
    },
    {
     "name": "stdout",
     "output_type": "stream",
     "text": [
      "Total error:  0.332190588272\nTotal error:  0.333832061371\nTotal error:  0.332306596513\n"
     ]
    },
    {
     "name": "stdout",
     "output_type": "stream",
     "text": [
      "Total error:  0.322951293678\nTotal error:  0.330922347141\nTotal error:  0.331329367357\n"
     ]
    },
    {
     "name": "stdout",
     "output_type": "stream",
     "text": [
      "Total error:  0.332877826644\nTotal error:  0.33055156641\nTotal error:  0.33450005852\n"
     ]
    },
    {
     "name": "stdout",
     "output_type": "stream",
     "text": [
      "Total error:  0.332316130667\nTotal error:  0.325675880727\nTotal error:  0.33230739854\n"
     ]
    },
    {
     "name": "stdout",
     "output_type": "stream",
     "text": [
      "Total error:  0.333773403213\nTotal error:  0.334106464164\nTotal error:  0.329785674752\n"
     ]
    },
    {
     "name": "stdout",
     "output_type": "stream",
     "text": [
      "Total error:  0.324933431614\nTotal error:  0.325363000388\nTotal error:  0.330507065297\n"
     ]
    },
    {
     "name": "stdout",
     "output_type": "stream",
     "text": [
      "Total error:  0.331094343592\nTotal error:  0.332932187713\nTotal error:  0.332316460998\n"
     ]
    },
    {
     "name": "stdout",
     "output_type": "stream",
     "text": [
      "Total error:  0.331425408177\nTotal error:  0.334044546775\nTotal error:  0.329635001594\n"
     ]
    },
    {
     "name": "stdout",
     "output_type": "stream",
     "text": [
      "Total error:  0.327186202033\nTotal error:  0.337251579898\nTotal error:  0.33259744685\n"
     ]
    },
    {
     "name": "stdout",
     "output_type": "stream",
     "text": [
      "Total error:  0.330991151048\nTotal error:  0.32932125536\nTotal error:  0.323675606808\n"
     ]
    },
    {
     "name": "stdout",
     "output_type": "stream",
     "text": [
      "Total error:  0.331635289506\nTotal error:  0.328725099473\nTotal error:  0.32506847014\nTotal error:  0.329404152423"
     ]
    },
    {
     "name": "stdout",
     "output_type": "stream",
     "text": [
      "\nTotal error:  0.33318947515\nTotal error:  0.334911107713\nTotal error:  0.334270059046\nTotal error:  0.329323932426"
     ]
    },
    {
     "name": "stdout",
     "output_type": "stream",
     "text": [
      "\nTotal error:  0.332873432858\nTotal error:  0.334044015338\nTotal error:  0.330820432708\n"
     ]
    },
    {
     "name": "stdout",
     "output_type": "stream",
     "text": [
      "Total error:  0.331806421528\nTotal error:  0.333446433337\nTotal error:  0.332151713416\n"
     ]
    },
    {
     "name": "stdout",
     "output_type": "stream",
     "text": [
      "Total error:  0.334256582458\nTotal error:  0.329213884719\nTotal error:  0.336189843032\n"
     ]
    },
    {
     "name": "stdout",
     "output_type": "stream",
     "text": [
      "Total error:  0.330970808329\nTotal error:  0.331336542761\nTotal error:  0.332683252313\n"
     ]
    },
    {
     "name": "stdout",
     "output_type": "stream",
     "text": [
      "Total error:  0.329415710055\nTotal error:  0.331920279948\nTotal error:  0.334130964724\n"
     ]
    },
    {
     "name": "stdout",
     "output_type": "stream",
     "text": [
      "Total error:  0.32717739417\nTotal error:  0.33494657975\nTotal error:  0.332390447993\n"
     ]
    },
    {
     "name": "stdout",
     "output_type": "stream",
     "text": [
      "Total error:  0.332798247749\nTotal error:  0.334782777233\nTotal error:  0.329477325793\n"
     ]
    },
    {
     "name": "stdout",
     "output_type": "stream",
     "text": [
      "Total error:  0.333810187612\nTotal error:  0.332250997105\nTotal error:  0.330602303588\n"
     ]
    },
    {
     "name": "stdout",
     "output_type": "stream",
     "text": [
      "Total error:  0.323344590314\nTotal error:  0.334089895623\nTotal error:  0.332987831063\n"
     ]
    },
    {
     "name": "stdout",
     "output_type": "stream",
     "text": [
      "Total error:  0.333150015719\nTotal error:  0.334304805823\nTotal error:  0.331553838013\n"
     ]
    },
    {
     "name": "stdout",
     "output_type": "stream",
     "text": [
      "Total error:  0.33430397612\nTotal error:  0.325191637169\nTotal error:  0.331156044789\n"
     ]
    },
    {
     "name": "stdout",
     "output_type": "stream",
     "text": [
      "Total error:  0.332963476054\nTotal error:  0.331707222326\nTotal error:  0.333399161814\n"
     ]
    },
    {
     "name": "stdout",
     "output_type": "stream",
     "text": [
      "Total error:  0.333072194251\nTotal error:  0.32900291136\nTotal error:  0.330324075754\n"
     ]
    },
    {
     "name": "stdout",
     "output_type": "stream",
     "text": [
      "Total error:  0.333631622085\nTotal error:  0.33051702801\nTotal error:  0.334371213025\n"
     ]
    },
    {
     "name": "stdout",
     "output_type": "stream",
     "text": [
      "Total error:  0.328816197355\nTotal error:  0.337023339529\nTotal error:  0.330686284919\n"
     ]
    },
    {
     "name": "stdout",
     "output_type": "stream",
     "text": [
      "Total error:  0.329190926006\nTotal error:  0.335255793127\nTotal error:  0.323615837082\n"
     ]
    },
    {
     "name": "stdout",
     "output_type": "stream",
     "text": [
      "Total error:  0.330307618058\nTotal error:  0.334992087739\nTotal error:  0.332735547522\n"
     ]
    },
    {
     "name": "stdout",
     "output_type": "stream",
     "text": [
      "Total error:  0.327255826986\nTotal error:  0.333151865751\nTotal error:  0.331762345968\n"
     ]
    },
    {
     "name": "stdout",
     "output_type": "stream",
     "text": [
      "Total error:  0.330715712441\nTotal error:  0.330067128592\nTotal error:  0.33619398864\n"
     ]
    },
    {
     "name": "stdout",
     "output_type": "stream",
     "text": [
      "Total error:  0.333530445521\nTotal error:  0.327163772637\nTotal error:  0.332766677877\n"
     ]
    },
    {
     "name": "stdout",
     "output_type": "stream",
     "text": [
      "Total error:  0.331342300276\nTotal error:  0.331853046342\nTotal error:  0.327403274865\n"
     ]
    },
    {
     "name": "stdout",
     "output_type": "stream",
     "text": [
      "Total error:  0.335379606799\nTotal error:  0.332425002472\nTotal error:  0.330715981579\n"
     ]
    },
    {
     "name": "stdout",
     "output_type": "stream",
     "text": [
      "Total error:  0.323211954949\nTotal error:  0.329740072388\n"
     ]
    },
    {
     "name": "stdout",
     "output_type": "stream",
     "text": [
      "Total error:  0.331582160565\nTotal error:  0.336102331509\nTotal error:  0.331808879707\n"
     ]
    },
    {
     "name": "stdout",
     "output_type": "stream",
     "text": [
      "Total error:  0.331299387387\nTotal error:  0.332616417321\nTotal error:  0.333764806583\n"
     ]
    },
    {
     "name": "stdout",
     "output_type": "stream",
     "text": [
      "Total error:  0.329577087076\nTotal error:  0.333869654511\n"
     ]
    },
    {
     "name": "stdout",
     "output_type": "stream",
     "text": [
      "Total error:  0.329853300115\nTotal error:  0.332348816693\n"
     ]
    },
    {
     "name": "stdout",
     "output_type": "stream",
     "text": [
      "Total error:  0.334244849381\nTotal error:  0.329465167953\n"
     ]
    },
    {
     "name": "stdout",
     "output_type": "stream",
     "text": [
      "Total error:  0.330346891344\nTotal error:  0.324076586352\nTotal error:  0.330196403917\n"
     ]
    },
    {
     "name": "stdout",
     "output_type": "stream",
     "text": [
      "Total error:  0.332008002365\nTotal error:  0.330437321606\n"
     ]
    },
    {
     "name": "stdout",
     "output_type": "stream",
     "text": [
      "Total error:  0.333830384983\nTotal error:  0.332153952962\nTotal error:  0.32935983251\n"
     ]
    },
    {
     "name": "stdout",
     "output_type": "stream",
     "text": [
      "Total error:  0.331508409735\nTotal error:  0.335483831098\nTotal error:  0.332537333818\nTotal error:  0.331943572565"
     ]
    },
    {
     "name": "stdout",
     "output_type": "stream",
     "text": [
      "\nTotal error:  0.329755980224\nTotal error:  0.331637052429\nTotal error:  0.33288564128\n"
     ]
    },
    {
     "name": "stdout",
     "output_type": "stream",
     "text": [
      "Total error:  0.33366837548\nTotal error:  0.331458743447\nTotal error:  0.323831607273\n"
     ]
    },
    {
     "name": "stdout",
     "output_type": "stream",
     "text": [
      "Total error:  0.330563293692\nTotal error:  0.333497788458\nTotal error:  0.327850702313\n"
     ]
    },
    {
     "name": "stdout",
     "output_type": "stream",
     "text": [
      "Total error:  0.331431981717\nTotal error:  0.33335906127\nTotal error:  0.333886876319\n"
     ]
    },
    {
     "name": "stdout",
     "output_type": "stream",
     "text": [
      "Total error:  0.32936527019\nTotal error:  0.332059303272\nTotal error:  0.323549341416\n"
     ]
    },
    {
     "name": "stdout",
     "output_type": "stream",
     "text": [
      "Total error:  0.3358324397\nTotal error:  0.327807785029\nTotal error:  0.331550314051\n"
     ]
    },
    {
     "name": "stdout",
     "output_type": "stream",
     "text": [
      "Total error:  0.334355585523\nTotal error:  0.33274605086\nTotal error:  0.332927063408\n"
     ]
    },
    {
     "name": "stdout",
     "output_type": "stream",
     "text": [
      "Total error:  0.319813931282\nTotal error:  0.337951846735\nTotal error:  0.330251928588\n"
     ]
    },
    {
     "name": "stdout",
     "output_type": "stream",
     "text": [
      "Total error:  0.332127554975\nTotal error:  0.319600323012\nTotal error:  0.330359001326\n"
     ]
    },
    {
     "name": "stdout",
     "output_type": "stream",
     "text": [
      "Total error:  0.333603388119\nTotal error:  0.334214630061\nTotal error:  0.329239357125\n"
     ]
    },
    {
     "name": "stdout",
     "output_type": "stream",
     "text": [
      "Total error:  0.329110129527\nTotal error:  0.333622080857\nTotal error:  0.333556032594\n"
     ]
    },
    {
     "name": "stdout",
     "output_type": "stream",
     "text": [
      "Total error:  0.33426034398\nTotal error:  0.330137493896\nTotal error:  0.333678326547\n"
     ]
    },
    {
     "name": "stdout",
     "output_type": "stream",
     "text": [
      "Total error:  0.33416686258\nTotal error:  0.333507032152\nTotal error:  0.32810777478\n"
     ]
    },
    {
     "name": "stdout",
     "output_type": "stream",
     "text": [
      "Total error:  0.333831382063\nTotal error:  0.329089649997\nTotal error:  0.332716736593\n"
     ]
    },
    {
     "name": "stdout",
     "output_type": "stream",
     "text": [
      "Total error:  0.330937748738\nTotal error:  0.333922492128\nTotal error:  0.332750201076\n"
     ]
    },
    {
     "name": "stdout",
     "output_type": "stream",
     "text": [
      "Total error:  0.330255368644\nTotal error:  0.330134016045\nTotal error:  0.33362721429\n"
     ]
    },
    {
     "name": "stdout",
     "output_type": "stream",
     "text": [
      "Total error:  0.333591699315\nTotal error:  0.331564256253\nTotal error:  0.330857656708\nTotal error:  0.334159305897\n"
     ]
    },
    {
     "name": "stdout",
     "output_type": "stream",
     "text": [
      "Total error:  0.33411407662\nTotal error:  0.331444540202\nTotal error:  0.331784160392\n"
     ]
    },
    {
     "name": "stdout",
     "output_type": "stream",
     "text": [
      "Total error:  0.330159041608\nTotal error:  0.332272853935\nTotal error:  0.334021688324\n"
     ]
    },
    {
     "name": "stdout",
     "output_type": "stream",
     "text": [
      "Total error:  0.330603302082\nTotal error:  0.329093962816\nTotal error:  0.331777290662\n"
     ]
    },
    {
     "name": "stdout",
     "output_type": "stream",
     "text": [
      "Total error:  0.334936974238\nTotal error:  0.331052758536\nTotal error:  0.328156114145\n"
     ]
    },
    {
     "name": "stdout",
     "output_type": "stream",
     "text": [
      "Total error:  0.333446690866\nTotal error:  0.325516434681\nTotal error:  0.334616255894\n"
     ]
    },
    {
     "name": "stdout",
     "output_type": "stream",
     "text": [
      "Total error:  0.333021696722\nTotal error:  0.329205293374\n"
     ]
    }
   ],
   "source": [
    "trainer.trainOnDataset(train_data, 500)"
   ]
  },
  {
   "cell_type": "code",
   "execution_count": 23,
   "metadata": {},
   "outputs": [
    {
     "name": "stdout",
     "output_type": "stream",
     "text": [
      "out: [ 0.0121343], correct: [0]\nout: [-0.03840865], correct: [0]\nout: [ 0.02865217], correct: [0]\nout: [ 0.89135763], correct: [1]\nout: [-0.00751585], correct: [0]\nout: [ 2.01047131], correct: [2]\nout: [ 1.81990884], correct: [1]\nout: [ 1.98212913], correct: [2]\nout: [ 0.97909983], correct: [1]\nout: [ 0.04315886], correct: [0]\nout: [ 2.07124864], correct: [2]\nout: [ 1.87329414], correct: [2]\nout: [-0.04796871], correct: [0]\nout: [ 2.02529984], correct: [2]\nout: [-0.01569139], correct: [0]\nout: [ 1.26763768], correct: [1]\nout: [ 0.99939807], correct: [1]\nout: [ 1.67732388], correct: [2]\nout: [ 1.85366084], correct: [2]\nout: [ 0.0179549], correct: [0]\nout: [-0.01822491], correct: [0]\nout: [ 1.62776681], correct: [2]\nout: [ 1.88650103], correct: [2]\nout: [-0.00704836], correct: [0]\nout: [ 1.98505831], correct: [2]\nout: [ 0.93501353], correct: [1]\nout: [ 1.10311106], correct: [1]\nout: [ 0.82273529], correct: [1]\nout: [ 1.97445943], correct: [2]\nout: [ 0.99839045], correct: [1]\n"
     ]
    }
   ],
   "source": [
    "out = net.activateOnDataset(test_data)\n",
    "for i in range(len(out)):\n",
    "    print('out: {}, correct: {}'.format(out[i], test_data['target'][i]))"
   ]
  },
  {
   "cell_type": "code",
   "execution_count": 24,
   "metadata": {},
   "outputs": [
    {
     "name": "stdout",
     "output_type": "stream",
     "text": [
      "<class 'pybrain.datasets.classification.ClassificationDataSet'>\n<class 'pybrain.datasets.supervised.SupervisedDataSet'>\n"
     ]
    }
   ],
   "source": [
    "print(type(dataset))\n",
    "print(type(train_data))"
   ]
  },
  {
   "cell_type": "code",
   "execution_count": null,
   "metadata": {},
   "outputs": [],
   "source": []
  }
 ],
 "metadata": {
  "kernelspec": {
   "display_name": "Python 2",
   "language": "python",
   "name": "python2"
  },
  "language_info": {
   "codemirror_mode": {
    "name": "ipython",
    "version": 2
   },
   "file_extension": ".py",
   "mimetype": "text/x-python",
   "name": "python",
   "nbconvert_exporter": "python",
   "pygments_lexer": "ipython2",
   "version": "2.7.6"
  }
 },
 "nbformat": 4,
 "nbformat_minor": 0
}
