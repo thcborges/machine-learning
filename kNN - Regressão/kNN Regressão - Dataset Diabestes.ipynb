{
 "cells": [
  {
   "cell_type": "code",
   "execution_count": 1,
   "metadata": {
    "collapsed": true
   },
   "outputs": [],
   "source": [
    "from sklearn import datasets"
   ]
  },
  {
   "cell_type": "code",
   "execution_count": 4,
   "metadata": {},
   "outputs": [
    {
     "data": {
      "text/plain": [
       "array([[ 0.03807591,  0.05068012,  0.06169621, ..., -0.00259226,\n         0.01990842, -0.01764613],\n       [-0.00188202, -0.04464164, -0.05147406, ..., -0.03949338,\n        -0.06832974, -0.09220405],\n       [ 0.08529891,  0.05068012,  0.04445121, ..., -0.00259226,\n         0.00286377, -0.02593034],\n       ..., \n       [ 0.04170844,  0.05068012, -0.01590626, ..., -0.01107952,\n        -0.04687948,  0.01549073],\n       [-0.04547248, -0.04464164,  0.03906215, ...,  0.02655962,\n         0.04452837, -0.02593034],\n       [-0.04547248, -0.04464164, -0.0730303 , ..., -0.03949338,\n        -0.00421986,  0.00306441]])"
      ]
     },
     "execution_count": 4,
     "metadata": {},
     "output_type": "execute_result"
    }
   ],
   "source": [
    "diabetes = datasets.load_diabetes()\n",
    "diabetes.data"
   ]
  },
  {
   "cell_type": "code",
   "execution_count": 5,
   "metadata": {},
   "outputs": [
    {
     "data": {
      "text/plain": [
       "array([ 151.,   75.,  141.,  206.,  135.,   97.,  138.,   63.,  110.,\n        310.,  101.,   69.,  179.,  185.,  118.,  171.,  166.,  144.,\n         97.,  168.,   68.,   49.,   68.,  245.,  184.,  202.,  137.,\n         85.,  131.,  283.,  129.,   59.,  341.,   87.,   65.,  102.,\n        265.,  276.,  252.,   90.,  100.,   55.,   61.,   92.,  259.,\n         53.,  190.,  142.,   75.,  142.,  155.,  225.,   59.,  104.,\n        182.,  128.,   52.,   37.,  170.,  170.,   61.,  144.,   52.,\n        128.,   71.,  163.,  150.,   97.,  160.,  178.,   48.,  270.,\n        202.,  111.,   85.,   42.,  170.,  200.,  252.,  113.,  143.,\n         51.,   52.,  210.,   65.,  141.,   55.,  134.,   42.,  111.,\n         98.,  164.,   48.,   96.,   90.,  162.,  150.,  279.,   92.,\n         83.,  128.,  102.,  302.,  198.,   95.,   53.,  134.,  144.,\n        232.,   81.,  104.,   59.,  246.,  297.,  258.,  229.,  275.,\n        281.,  179.,  200.,  200.,  173.,  180.,   84.,  121.,  161.,\n         99.,  109.,  115.,  268.,  274.,  158.,  107.,   83.,  103.,\n        272.,   85.,  280.,  336.,  281.,  118.,  317.,  235.,   60.,\n        174.,  259.,  178.,  128.,   96.,  126.,  288.,   88.,  292.,\n         71.,  197.,  186.,   25.,   84.,   96.,  195.,   53.,  217.,\n        172.,  131.,  214.,   59.,   70.,  220.,  268.,  152.,   47.,\n         74.,  295.,  101.,  151.,  127.,  237.,  225.,   81.,  151.,\n        107.,   64.,  138.,  185.,  265.,  101.,  137.,  143.,  141.,\n         79.,  292.,  178.,   91.,  116.,   86.,  122.,   72.,  129.,\n        142.,   90.,  158.,   39.,  196.,  222.,  277.,   99.,  196.,\n        202.,  155.,   77.,  191.,   70.,   73.,   49.,   65.,  263.,\n        248.,  296.,  214.,  185.,   78.,   93.,  252.,  150.,   77.,\n        208.,   77.,  108.,  160.,   53.,  220.,  154.,  259.,   90.,\n        246.,  124.,   67.,   72.,  257.,  262.,  275.,  177.,   71.,\n         47.,  187.,  125.,   78.,   51.,  258.,  215.,  303.,  243.,\n         91.,  150.,  310.,  153.,  346.,   63.,   89.,   50.,   39.,\n        103.,  308.,  116.,  145.,   74.,   45.,  115.,  264.,   87.,\n        202.,  127.,  182.,  241.,   66.,   94.,  283.,   64.,  102.,\n        200.,  265.,   94.,  230.,  181.,  156.,  233.,   60.,  219.,\n         80.,   68.,  332.,  248.,   84.,  200.,   55.,   85.,   89.,\n         31.,  129.,   83.,  275.,   65.,  198.,  236.,  253.,  124.,\n         44.,  172.,  114.,  142.,  109.,  180.,  144.,  163.,  147.,\n         97.,  220.,  190.,  109.,  191.,  122.,  230.,  242.,  248.,\n        249.,  192.,  131.,  237.,   78.,  135.,  244.,  199.,  270.,\n        164.,   72.,   96.,  306.,   91.,  214.,   95.,  216.,  263.,\n        178.,  113.,  200.,  139.,  139.,   88.,  148.,   88.,  243.,\n         71.,   77.,  109.,  272.,   60.,   54.,  221.,   90.,  311.,\n        281.,  182.,  321.,   58.,  262.,  206.,  233.,  242.,  123.,\n        167.,   63.,  197.,   71.,  168.,  140.,  217.,  121.,  235.,\n        245.,   40.,   52.,  104.,  132.,   88.,   69.,  219.,   72.,\n        201.,  110.,   51.,  277.,   63.,  118.,   69.,  273.,  258.,\n         43.,  198.,  242.,  232.,  175.,   93.,  168.,  275.,  293.,\n        281.,   72.,  140.,  189.,  181.,  209.,  136.,  261.,  113.,\n        131.,  174.,  257.,   55.,   84.,   42.,  146.,  212.,  233.,\n         91.,  111.,  152.,  120.,   67.,  310.,   94.,  183.,   66.,\n        173.,   72.,   49.,   64.,   48.,  178.,  104.,  132.,  220.,   57.])"
      ]
     },
     "execution_count": 5,
     "metadata": {},
     "output_type": "execute_result"
    }
   ],
   "source": [
    "diabetes.target"
   ]
  },
  {
   "cell_type": "code",
   "execution_count": 6,
   "metadata": {},
   "outputs": [
    {
     "data": {
      "text/plain": [
       "442"
      ]
     },
     "execution_count": 6,
     "metadata": {},
     "output_type": "execute_result"
    }
   ],
   "source": [
    "len(diabetes.data)"
   ]
  },
  {
   "cell_type": "code",
   "execution_count": 7,
   "metadata": {},
   "outputs": [
    {
     "data": {
      "text/plain": [
       "442"
      ]
     },
     "execution_count": 7,
     "metadata": {},
     "output_type": "execute_result"
    }
   ],
   "source": [
    "len(diabetes.target)"
   ]
  },
  {
   "cell_type": "code",
   "execution_count": 8,
   "metadata": {},
   "outputs": [],
   "source": [
    "x, y = diabetes.data, diabetes.target"
   ]
  },
  {
   "cell_type": "code",
   "execution_count": 9,
   "metadata": {},
   "outputs": [
    {
     "name": "stdout",
     "output_type": "stream",
     "text": [
      "309\n133\n"
     ]
    }
   ],
   "source": [
    "from sklearn.model_selection import train_test_split\n",
    "x_train, x_test, y_train, y_test = train_test_split(x, y, test_size=0.3, random_state=42)\n",
    "print(len(x_train))\n",
    "print(len(x_test))"
   ]
  },
  {
   "cell_type": "code",
   "execution_count": 13,
   "metadata": {},
   "outputs": [
    {
     "name": "stdout",
     "output_type": "stream",
     "text": [
      "Saída esperada: 230.0\nSaída predita: 228.1904761904762\n"
     ]
    },
    {
     "data": {
      "text/plain": [
       "2964.5362215061468"
      ]
     },
     "execution_count": 13,
     "metadata": {},
     "output_type": "execute_result"
    }
   ],
   "source": [
    "from sklearn.neighbors import KNeighborsRegressor\n",
    "knn = KNeighborsRegressor(n_neighbors=21, p=2)\n",
    "knn.fit(x_train, y_train)\n",
    "outputs = knn.predict(x_test)\n",
    "print('Saída esperada: {}'.format(y_test[3]))\n",
    "print('Saída predita: {}'. format(outputs[3]))\n",
    "\n",
    "from sklearn.metrics import mean_squared_error\n",
    "mean_squared_error(y_test, outputs)"
   ]
  },
  {
   "cell_type": "code",
   "execution_count": 14,
   "metadata": {},
   "outputs": [
    {
     "name": "stdout",
     "output_type": "stream",
     "text": [
      "Diabetes dataset\n================\n\nNotes\n-----\n\nTen baseline variables, age, sex, body mass index, average blood\npressure, and six blood serum measurements were obtained for each of n =\n442 diabetes patients, as well as the response of interest, a\nquantitative measure of disease progression one year after baseline.\n\nData Set Characteristics:\n\n  :Number of Instances: 442\n\n  :Number of Attributes: First 10 columns are numeric predictive values\n\n  :Target: Column 11 is a quantitative measure of disease progression one year after baseline\n\n  :Attributes:\n    :Age:\n    :Sex:\n    :Body mass index:\n    :Average blood pressure:\n    :S1:\n    :S2:\n    :S3:\n    :S4:\n    :S5:\n    :S6:\n\nNote: Each of these 10 feature variables have been mean centered and scaled by the standard deviation times `n_samples` (i.e. the sum of squares of each column totals 1).\n\nSource URL:\nhttp://www4.stat.ncsu.edu/~boos/var.select/diabetes.html\n\nFor more information see:\nBradley Efron, Trevor Hastie, Iain Johnstone and Robert Tibshirani (2004) \"Least Angle Regression,\" Annals of Statistics (with discussion), 407-499.\n(http://web.stanford.edu/~hastie/Papers/LARS/LeastAngle_2002.pdf)\n\n"
     ]
    }
   ],
   "source": [
    "print(diabetes.DESCR)"
   ]
  },
  {
   "cell_type": "code",
   "execution_count": null,
   "metadata": {},
   "outputs": [],
   "source": []
  }
 ],
 "metadata": {
  "kernelspec": {
   "display_name": "Python 2",
   "language": "python",
   "name": "python2"
  },
  "language_info": {
   "codemirror_mode": {
    "name": "ipython",
    "version": 2
   },
   "file_extension": ".py",
   "mimetype": "text/x-python",
   "name": "python",
   "nbconvert_exporter": "python",
   "pygments_lexer": "ipython2",
   "version": "2.7.6"
  }
 },
 "nbformat": 4,
 "nbformat_minor": 0
}
