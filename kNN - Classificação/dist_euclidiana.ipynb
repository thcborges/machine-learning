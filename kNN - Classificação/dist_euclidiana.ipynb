{
 "cells": [
  {
   "cell_type": "code",
   "execution_count": 2,
   "metadata": {},
   "outputs": [],
   "source": [
    "import math"
   ]
  },
  {
   "cell_type": "code",
   "execution_count": 13,
   "metadata": {},
   "outputs": [],
   "source": [
    "v1 = [1.2, 2, 3.8, 4.5]\n",
    "v2 = [0.5, 4.5, 9.6, 3.4]"
   ]
  },
  {
   "cell_type": "code",
   "execution_count": 16,
   "metadata": {},
   "outputs": [],
   "source": [
    "def dist_euclidiana(v1, v2):\n",
    "    dim = len(v1)\n",
    "    soma = 0\n",
    "    for i in range(dim):\n",
    "        soma += math.pow(v1[i] - v2[i], 2)\n",
    "    return math.sqrt(soma)"
   ]
  },
  {
   "cell_type": "code",
   "execution_count": 17,
   "metadata": {},
   "outputs": [
    {
     "name": "stdout",
     "output_type": "stream",
     "text": [
      "6.45\n"
     ]
    }
   ],
   "source": [
    "print('{:.2f}'.format(dist_euclidiana(v1, v2)))"
   ]
  },
  {
   "cell_type": "markdown",
   "metadata": {},
   "source": [
    "# Distância euclidiana com numpy"
   ]
  },
  {
   "cell_type": "code",
   "execution_count": 21,
   "metadata": {},
   "outputs": [],
   "source": [
    "import numpy as np"
   ]
  },
  {
   "cell_type": "code",
   "execution_count": 22,
   "metadata": {},
   "outputs": [],
   "source": [
    "def dist_euclidiana_np(v1, v2):\n",
    "    v1, v2 = np.array(v1), np.array(v2)\n",
    "    diff = v1 - v2\n",
    "    quad_dist = np.dot(diff, diff)\n",
    "    return math.sqrt(quad_dist)"
   ]
  },
  {
   "cell_type": "code",
   "execution_count": 23,
   "metadata": {},
   "outputs": [
    {
     "name": "stdout",
     "output_type": "stream",
     "text": [
      "6.45\n"
     ]
    }
   ],
   "source": [
    "print('{:.2f}'.format(dist_euclidiana_np(v1, v2)))"
   ]
  },
  {
   "cell_type": "code",
   "execution_count": null,
   "metadata": {},
   "outputs": [],
   "source": []
  }
 ],
 "metadata": {
  "kernelspec": {
   "display_name": "Python 3",
   "language": "python",
   "name": "python3"
  },
  "language_info": {
   "codemirror_mode": {
    "name": "ipython",
    "version": 3
   },
   "file_extension": ".py",
   "mimetype": "text/x-python",
   "name": "python",
   "nbconvert_exporter": "python",
   "pygments_lexer": "ipython3",
   "version": "3.6.1"
  }
 },
 "nbformat": 4,
 "nbformat_minor": 2
}
