{
 "cells": [
  {
   "cell_type": "markdown",
   "metadata": {
    "collapsed": true
   },
   "source": [
    "## Dataset: https://archive.ics.uci.edu/ml/datasets/Balance+Scale\n",
    "\n",
    "###Atribute Information:\n",
    "\n",
    "1. Class Name: 3 (L, B, R) \n",
    "2. Left-Weight: 5 (1, 2, 3, 4, 5) \n",
    "3. Left-Distance: 5 (1, 2, 3, 4, 5) \n",
    "4. Right-Weight: 5 (1, 2, 3, 4, 5) \n",
    "5. Right-Distance: 5 (1, 2, 3, 4, 5)\n",
    "\n",
    "São 625 exemplos, 4 atributos e 3 possíveis classes.\n",
    "Onde tem \"L\" coloquei 1, onde tem \"B\" coloquei 2, e onde tem \"R\" coloquei 3"
   ]
  },
  {
   "cell_type": "code",
   "execution_count": 1,
   "metadata": {},
   "outputs": [],
   "source": [
    "import numpy as np"
   ]
  },
  {
   "cell_type": "code",
   "execution_count": 8,
   "metadata": {},
   "outputs": [
    {
     "name": "stdout",
     "output_type": "stream",
     "text": [
      "625\n625\n[[ 1.  1.  1.  1.]\n [ 1.  1.  1.  2.]\n [ 1.  1.  1.  3.]\n ..., \n [ 5.  5.  5.  3.]\n [ 5.  5.  5.  4.]\n [ 5.  5.  5.  5.]]\n[ 2.  3.  3.  3.  3.  3.  3.  3.  3.  3.  3.  3.  3.  3.  3.  3.  3.  3.\n  3.  3.  3.  3.  3.  3.  3.  1.  2.  3.  3.  3.  2.  3.  3.  3.  3.  3.\n  3.  3.  3.  3.  3.  3.  3.  3.  3.  3.  3.  3.  3.  3.  1.  1.  2.  3.\n  3.  1.  3.  3.  3.  3.  2.  3.  3.  3.  3.  3.  3.  3.  3.  3.  3.  3.\n  3.  3.  3.  1.  1.  1.  2.  3.  1.  2.  3.  3.  3.  1.  3.  3.  3.  3.\n  2.  3.  3.  3.  3.  3.  3.  3.  3.  3.  1.  1.  1.  1.  2.  1.  1.  3.\n  3.  3.  1.  3.  3.  3.  3.  1.  3.  3.  3.  3.  2.  3.  3.  3.  3.  1.\n  2.  3.  3.  3.  2.  3.  3.  3.  3.  3.  3.  3.  3.  3.  3.  3.  3.  3.\n  3.  3.  3.  3.  3.  3.  1.  1.  1.  2.  3.  1.  2.  3.  3.  3.  1.  3.\n  3.  3.  3.  2.  3.  3.  3.  3.  3.  3.  3.  3.  3.  1.  1.  1.  1.  1.\n  1.  1.  2.  3.  3.  1.  2.  3.  3.  3.  1.  3.  3.  3.  3.  1.  3.  3.\n  3.  3.  1.  1.  1.  1.  1.  1.  1.  1.  2.  3.  1.  1.  3.  3.  3.  1.\n  2.  3.  3.  3.  1.  3.  3.  3.  3.  1.  1.  1.  1.  1.  1.  1.  1.  1.\n  2.  1.  1.  1.  3.  3.  1.  1.  3.  3.  3.  1.  2.  3.  3.  3.  1.  1.\n  2.  3.  3.  1.  3.  3.  3.  3.  2.  3.  3.  3.  3.  3.  3.  3.  3.  3.\n  3.  3.  3.  3.  3.  1.  1.  1.  1.  1.  1.  1.  2.  3.  3.  1.  2.  3.\n  3.  3.  1.  3.  3.  3.  3.  1.  3.  3.  3.  3.  1.  1.  1.  1.  1.  1.\n  1.  1.  1.  3.  1.  1.  2.  3.  3.  1.  1.  3.  3.  3.  1.  3.  3.  3.\n  3.  1.  1.  1.  1.  1.  1.  1.  1.  1.  1.  1.  1.  1.  2.  3.  1.  1.\n  2.  3.  3.  1.  1.  3.  3.  3.  1.  1.  1.  1.  1.  1.  1.  1.  1.  1.\n  1.  1.  1.  1.  2.  1.  1.  1.  3.  3.  1.  1.  2.  3.  3.  1.  1.  1.\n  2.  3.  1.  2.  3.  3.  3.  1.  3.  3.  3.  3.  2.  3.  3.  3.  3.  3.\n  3.  3.  3.  3.  1.  1.  1.  1.  1.  1.  1.  1.  2.  3.  1.  1.  3.  3.\n  3.  1.  2.  3.  3.  3.  1.  3.  3.  3.  3.  1.  1.  1.  1.  1.  1.  1.\n  1.  1.  1.  1.  1.  1.  2.  3.  1.  1.  2.  3.  3.  1.  1.  3.  3.  3.\n  1.  1.  1.  1.  1.  1.  1.  1.  1.  1.  1.  1.  1.  1.  1.  1.  1.  1.\n  2.  3.  1.  1.  1.  3.  3.  1.  1.  1.  1.  1.  1.  1.  1.  1.  1.  1.\n  1.  1.  1.  1.  1.  1.  1.  1.  2.  1.  1.  1.  2.  3.  1.  1.  1.  1.\n  2.  1.  1.  3.  3.  3.  1.  3.  3.  3.  3.  1.  3.  3.  3.  3.  2.  3.\n  3.  3.  3.  1.  1.  1.  1.  1.  1.  1.  1.  1.  2.  1.  1.  1.  3.  3.\n  1.  1.  3.  3.  3.  1.  2.  3.  3.  3.  1.  1.  1.  1.  1.  1.  1.  1.\n  1.  1.  1.  1.  1.  1.  2.  1.  1.  1.  3.  3.  1.  1.  2.  3.  3.  1.\n  1.  1.  1.  1.  1.  1.  1.  1.  1.  1.  1.  1.  1.  1.  1.  1.  1.  1.\n  2.  1.  1.  1.  2.  3.  1.  1.  1.  1.  1.  1.  1.  1.  1.  1.  1.  1.\n  1.  1.  1.  1.  1.  1.  1.  1.  1.  1.  1.  1.  2.]\n"
     ]
    }
   ],
   "source": [
    "# x são entradas e y as saídas\n",
    "x = np.genfromtxt(\n",
    "    'E:/thcborges/OneDrive/Cursos/Udemy/machine-learning/kNN/balance-scale.data',\n",
    "    delimiter=',',\n",
    "    usecols=(1,2,3,4)\n",
    ")\n",
    "y = np.genfromtxt(\n",
    "    'E:/thcborges/OneDrive/Cursos/Udemy/machine-learning/kNN/balance-scale.data',\n",
    "    delimiter=',',\n",
    "    usecols=(0)\n",
    ")\n",
    "print(len(x))\n",
    "print(len(y))\n",
    "print(x)\n",
    "print(y)"
   ]
  },
  {
   "cell_type": "code",
   "execution_count": 10,
   "metadata": {},
   "outputs": [],
   "source": [
    "from sklearn.cross_validation import train_test_split"
   ]
  },
  {
   "cell_type": "markdown",
   "metadata": {},
   "source": [
    "doc: http://scikit-learn.org/stable/modules/generated/sklearn.model_selection.train_test_split.html"
   ]
  },
  {
   "cell_type": "code",
   "execution_count": 14,
   "metadata": {},
   "outputs": [],
   "source": [
    "x_treino, x_teste, y_treino, y_teste = train_test_split(x, y, test_size=0.3, random_state=42)"
   ]
  },
  {
   "cell_type": "code",
   "execution_count": 12,
   "metadata": {},
   "outputs": [
    {
     "name": "stdout",
     "output_type": "stream",
     "text": [
      "437\n[[ 2.  4.  1.  5.]\n [ 1.  4.  3.  4.]\n [ 5.  1.  5.  3.]\n ..., \n [ 3.  1.  5.  1.]\n [ 4.  3.  3.  1.]\n [ 1.  5.  1.  3.]]\n188\n[[ 4.  3.  5.  3.]\n [ 4.  5.  3.  1.]\n [ 2.  4.  4.  1.]\n [ 2.  4.  3.  3.]\n [ 4.  5.  2.  1.]\n [ 5.  1.  4.  1.]\n [ 2.  2.  3.  4.]\n [ 1.  4.  1.  3.]\n [ 5.  2.  1.  3.]\n [ 2.  1.  5.  1.]\n [ 3.  1.  4.  1.]\n [ 1.  2.  2.  2.]\n [ 1.  3.  2.  1.]\n [ 1.  4.  4.  1.]\n [ 5.  3.  2.  3.]\n [ 1.  4.  1.  2.]\n [ 1.  1.  1.  3.]\n [ 3.  5.  4.  4.]\n [ 4.  1.  5.  1.]\n [ 3.  2.  3.  2.]\n [ 2.  1.  2.  2.]\n [ 2.  1.  5.  4.]\n [ 1.  2.  5.  5.]\n [ 5.  5.  5.  2.]\n [ 4.  3.  3.  3.]\n [ 1.  5.  3.  1.]\n [ 3.  1.  2.  3.]\n [ 5.  4.  1.  4.]\n [ 5.  5.  5.  1.]\n [ 3.  1.  2.  2.]\n [ 3.  4.  2.  5.]\n [ 3.  1.  3.  2.]\n [ 2.  3.  2.  5.]\n [ 5.  3.  1.  5.]\n [ 2.  1.  2.  3.]\n [ 4.  5.  3.  3.]\n [ 3.  4.  3.  1.]\n [ 5.  5.  3.  3.]\n [ 2.  3.  2.  2.]\n [ 5.  4.  5.  5.]\n [ 4.  1.  2.  2.]\n [ 1.  2.  3.  5.]\n [ 1.  4.  3.  2.]\n [ 5.  5.  2.  4.]\n [ 3.  3.  4.  4.]\n [ 2.  4.  2.  4.]\n [ 3.  1.  3.  1.]\n [ 5.  1.  3.  4.]\n [ 1.  4.  1.  4.]\n [ 3.  4.  4.  5.]\n [ 5.  3.  2.  2.]\n [ 3.  2.  2.  2.]\n [ 1.  1.  3.  1.]\n [ 3.  1.  2.  5.]\n [ 5.  5.  1.  1.]\n [ 3.  3.  3.  2.]\n [ 2.  1.  3.  1.]\n [ 4.  3.  2.  5.]\n [ 2.  4.  3.  1.]\n [ 1.  2.  2.  1.]\n [ 5.  4.  1.  5.]\n [ 4.  5.  2.  3.]\n [ 2.  3.  4.  3.]\n [ 5.  1.  2.  5.]\n [ 5.  4.  3.  4.]\n [ 3.  3.  1.  1.]\n [ 1.  3.  2.  2.]\n [ 2.  3.  5.  2.]\n [ 5.  2.  3.  1.]\n [ 2.  5.  3.  1.]\n [ 3.  1.  5.  3.]\n [ 1.  1.  5.  5.]\n [ 1.  4.  2.  3.]\n [ 2.  2.  2.  4.]\n [ 5.  2.  4.  4.]\n [ 2.  4.  5.  1.]\n [ 5.  4.  4.  3.]\n [ 1.  3.  5.  1.]\n [ 3.  5.  2.  3.]\n [ 5.  1.  3.  3.]\n [ 3.  5.  4.  5.]\n [ 1.  3.  3.  1.]\n [ 4.  1.  5.  4.]\n [ 4.  2.  2.  1.]\n [ 2.  4.  2.  5.]\n [ 5.  4.  4.  5.]\n [ 4.  4.  1.  1.]\n [ 5.  3.  2.  5.]\n [ 2.  2.  5.  5.]\n [ 3.  5.  1.  1.]\n [ 3.  1.  1.  1.]\n [ 3.  3.  1.  2.]\n [ 1.  2.  1.  5.]\n [ 5.  3.  5.  1.]\n [ 1.  5.  1.  2.]\n [ 2.  4.  4.  4.]\n [ 3.  2.  4.  3.]\n [ 3.  1.  5.  5.]\n [ 4.  2.  4.  3.]\n [ 3.  1.  5.  2.]\n [ 2.  4.  1.  4.]\n [ 5.  2.  2.  5.]\n [ 4.  2.  5.  2.]\n [ 3.  2.  2.  5.]\n [ 2.  5.  2.  2.]\n [ 1.  4.  2.  2.]\n [ 3.  4.  4.  1.]\n [ 1.  5.  2.  5.]\n [ 4.  3.  4.  4.]\n [ 2.  5.  1.  3.]\n [ 1.  3.  3.  4.]\n [ 2.  2.  2.  1.]\n [ 1.  3.  5.  3.]\n [ 4.  1.  2.  3.]\n [ 5.  4.  2.  4.]\n [ 1.  5.  4.  4.]\n [ 5.  4.  2.  5.]\n [ 3.  3.  3.  1.]\n [ 5.  4.  2.  1.]\n [ 2.  4.  3.  2.]\n [ 2.  1.  4.  1.]\n [ 5.  3.  5.  4.]\n [ 2.  5.  1.  4.]\n [ 4.  2.  3.  3.]\n [ 2.  3.  3.  4.]\n [ 5.  1.  3.  5.]\n [ 4.  4.  4.  5.]\n [ 1.  1.  2.  2.]\n [ 1.  5.  1.  5.]\n [ 1.  5.  3.  5.]\n [ 4.  5.  1.  3.]\n [ 4.  5.  5.  2.]\n [ 4.  5.  4.  5.]\n [ 5.  3.  4.  4.]\n [ 4.  3.  1.  4.]\n [ 3.  3.  1.  5.]\n [ 4.  2.  4.  1.]\n [ 4.  1.  5.  5.]\n [ 3.  2.  4.  1.]\n [ 5.  3.  2.  4.]\n [ 2.  3.  1.  3.]\n [ 4.  4.  5.  4.]\n [ 1.  2.  4.  3.]\n [ 1.  3.  5.  4.]\n [ 5.  2.  4.  2.]\n [ 1.  3.  4.  2.]\n [ 1.  1.  3.  2.]\n [ 3.  4.  2.  3.]\n [ 2.  5.  4.  5.]\n [ 5.  2.  5.  4.]\n [ 2.  3.  5.  5.]\n [ 1.  4.  2.  4.]\n [ 4.  3.  4.  5.]\n [ 3.  5.  3.  4.]\n [ 1.  4.  1.  5.]\n [ 1.  1.  5.  4.]\n [ 4.  1.  4.  1.]\n [ 3.  3.  2.  1.]\n [ 2.  2.  4.  1.]\n [ 5.  5.  4.  2.]\n [ 3.  4.  3.  2.]\n [ 2.  4.  3.  4.]\n [ 2.  1.  3.  3.]\n [ 5.  3.  3.  4.]\n [ 5.  2.  5.  1.]\n [ 2.  3.  1.  2.]\n [ 1.  1.  2.  5.]\n [ 4.  2.  2.  3.]\n [ 2.  5.  3.  4.]\n [ 4.  2.  2.  4.]\n [ 5.  5.  3.  1.]\n [ 3.  1.  4.  4.]\n [ 1.  4.  2.  5.]\n [ 3.  2.  4.  2.]\n [ 3.  3.  3.  3.]\n [ 3.  3.  5.  1.]\n [ 4.  2.  1.  4.]\n [ 5.  5.  2.  2.]\n [ 2.  5.  5.  3.]\n [ 5.  1.  2.  2.]\n [ 3.  2.  5.  5.]\n [ 2.  2.  1.  4.]\n [ 1.  4.  1.  1.]\n [ 1.  4.  4.  3.]\n [ 3.  3.  5.  2.]\n [ 1.  3.  4.  4.]\n [ 1.  1.  4.  1.]\n [ 4.  1.  2.  1.]]\n"
     ]
    }
   ],
   "source": [
    "print(len(x_treino))\n",
    "print(x_treino)\n",
    "print(len(x_teste))\n",
    "print(x_teste)"
   ]
  },
  {
   "cell_type": "code",
   "execution_count": 13,
   "metadata": {},
   "outputs": [
    {
     "data": {
      "text/plain": [
       "3.0"
      ]
     },
     "execution_count": 13,
     "metadata": {},
     "output_type": "execute_result"
    }
   ],
   "source": [
    "y_teste[0]"
   ]
  },
  {
   "cell_type": "code",
   "execution_count": 15,
   "metadata": {},
   "outputs": [
    {
     "name": "stdout",
     "output_type": "stream",
     "text": [
      "188\n[ 1.  1.  1.  1.  1.  1.  3.  1.  1.  3.  3.  3.  1.  3.  1.  1.  3.  3.\n  3.  1.  3.  3.  3.  1.  1.  1.  3.  1.  1.  1.  1.  3.  3.  1.  3.  1.\n  1.  1.  1.  1.  1.  3.  1.  1.  3.  1.  1.  3.  1.  3.  1.  1.  3.  3.\n  1.  1.  3.  1.  1.  1.  1.  1.  3.  3.  1.  1.  3.  3.  1.  1.  3.  3.\n  3.  3.  3.  1.  1.  3.  1.  3.  3.  3.  3.  1.  3.  1.  1.  1.  3.  1.\n  1.  1.  3.  1.  1.  3.  3.  3.  3.  3.  1.  3.  3.  3.  1.  1.  1.  3.\n  3.  1.  3.  1.  3.  3.  1.  3.  1.  1.  1.  1.  3.  3.  1.  3.  3.  3.\n  3.  3.  1.  3.  1.  1.  1.  3.  1.  1.  1.  3.  1.  1.  1.  1.  3.  3.\n  1.  3.  3.  1.  3.  3.  3.  3.  3.  1.  1.  3.  1.  1.  3.  1.  1.  3.\n  3.  1.  1.  1.  3.  1.  3.  3.  1.  3.  3.  3.  1.  1.  1.  1.  3.  1.\n  3.  3.  1.  3.  3.  3.  3.  1.]\n"
     ]
    }
   ],
   "source": [
    "from sklearn.neighbors import KNeighborsClassifier\n",
    "knn = KNeighborsClassifier(n_neighbors=17, p=2)\n",
    "knn.fit(x_treino, y_treino)\n",
    "labels = knn.predict(x_teste)\n",
    "print(len(labels))\n",
    "print(labels)"
   ]
  },
  {
   "cell_type": "code",
   "execution_count": 16,
   "metadata": {},
   "outputs": [
    {
     "name": "stdout",
     "output_type": "stream",
     "text": [
      "[ 3.  1.  1.  3.  1.  1.  3.  1.  1.  3.  3.  3.  1.  2.  1.  1.  3.  3.\n  3.  2.  3.  3.  3.  1.  1.  1.  3.  1.  1.  3.  1.  3.  3.  1.  3.  1.\n  1.  1.  1.  3.  2.  3.  3.  1.  3.  2.  2.  3.  2.  3.  1.  1.  3.  3.\n  1.  1.  3.  1.  1.  2.  1.  1.  3.  3.  1.  1.  3.  3.  1.  1.  3.  3.\n  3.  3.  3.  1.  1.  3.  1.  3.  3.  2.  3.  1.  3.  2.  1.  1.  3.  1.\n  1.  1.  3.  1.  1.  3.  3.  3.  3.  3.  1.  2.  3.  3.  1.  2.  1.  3.\n  3.  1.  3.  1.  3.  3.  1.  3.  1.  1.  1.  1.  3.  3.  1.  3.  3.  3.\n  3.  3.  2.  3.  1.  1.  2.  3.  1.  1.  1.  3.  1.  1.  1.  3.  3.  3.\n  1.  3.  3.  1.  3.  3.  3.  3.  3.  1.  3.  3.  2.  1.  2.  1.  1.  3.\n  3.  1.  1.  1.  3.  1.  3.  2.  1.  3.  3.  3.  2.  1.  1.  1.  3.  1.\n  3.  2.  1.  3.  3.  3.  3.  1.]\n"
     ]
    }
   ],
   "source": [
    "print(y_teste)"
   ]
  },
  {
   "cell_type": "code",
   "execution_count": 17,
   "metadata": {},
   "outputs": [
    {
     "data": {
      "text/plain": [
       "163"
      ]
     },
     "execution_count": 17,
     "metadata": {},
     "output_type": "execute_result"
    }
   ],
   "source": [
    "np.sum(labels == y_teste)"
   ]
  },
  {
   "cell_type": "code",
   "execution_count": 18,
   "metadata": {},
   "outputs": [
    {
     "data": {
      "text/plain": [
       "163"
      ]
     },
     "execution_count": 18,
     "metadata": {},
     "output_type": "execute_result"
    }
   ],
   "source": [
    "(labels == y_teste).sum()"
   ]
  },
  {
   "cell_type": "code",
   "execution_count": 19,
   "metadata": {},
   "outputs": [
    {
     "data": {
      "text/plain": [
       "86.702127659574472"
      ]
     },
     "execution_count": 19,
     "metadata": {},
     "output_type": "execute_result"
    }
   ],
   "source": [
    "100 * np.sum(labels == y_teste) / len(x_teste)"
   ]
  },
  {
   "cell_type": "code",
   "execution_count": 20,
   "metadata": {},
   "outputs": [],
   "source": [
    "from sklearn.model_selection import train_test_split"
   ]
  },
  {
   "cell_type": "code",
   "execution_count": 21,
   "metadata": {},
   "outputs": [
    {
     "name": "stdout",
     "output_type": "stream",
     "text": [
      "188\n[ 1.  1.  1.  1.  1.  1.  3.  1.  1.  3.  3.  3.  1.  3.  1.  1.  3.  3.\n  3.  1.  3.  3.  3.  1.  1.  1.  3.  1.  1.  1.  1.  3.  3.  1.  3.  1.\n  1.  1.  1.  1.  1.  3.  1.  1.  3.  1.  1.  3.  1.  3.  1.  1.  3.  3.\n  1.  1.  3.  1.  1.  1.  1.  1.  3.  3.  1.  1.  3.  3.  1.  1.  3.  3.\n  3.  3.  3.  1.  1.  3.  1.  3.  3.  3.  3.  1.  3.  1.  1.  1.  3.  1.\n  1.  1.  3.  1.  1.  3.  3.  3.  3.  3.  1.  3.  3.  3.  1.  1.  1.  3.\n  3.  1.  3.  1.  3.  3.  1.  3.  1.  1.  1.  1.  3.  3.  1.  3.  3.  3.\n  3.  3.  1.  3.  1.  1.  1.  3.  1.  1.  1.  3.  1.  1.  1.  1.  3.  3.\n  1.  3.  3.  1.  3.  3.  3.  3.  3.  1.  1.  3.  1.  1.  3.  1.  1.  3.\n  3.  1.  1.  1.  3.  1.  3.  3.  1.  3.  3.  3.  1.  1.  1.  1.  3.  1.\n  3.  3.  1.  3.  3.  3.  3.  1.]\n"
     ]
    }
   ],
   "source": [
    "knn = KNeighborsClassifier(n_neighbors=17, p=2)\n",
    "knn.fit(x_treino, y_treino)\n",
    "labels = knn.predict(x_teste)\n",
    "print(len(labels))\n",
    "print(labels)"
   ]
  },
  {
   "cell_type": "code",
   "execution_count": 22,
   "metadata": {},
   "outputs": [
    {
     "data": {
      "text/plain": [
       "86.702127659574472"
      ]
     },
     "execution_count": 22,
     "metadata": {},
     "output_type": "execute_result"
    }
   ],
   "source": [
    "knn.score(x_teste, y_teste) * 100"
   ]
  },
  {
   "cell_type": "code",
   "execution_count": 24,
   "metadata": {},
   "outputs": [
    {
     "data": {
      "text/plain": [
       "86.702127659574472"
      ]
     },
     "execution_count": 24,
     "metadata": {},
     "output_type": "execute_result"
    }
   ],
   "source": [
    "np.mean(labels == y_teste) * 100"
   ]
  },
  {
   "cell_type": "code",
   "execution_count": null,
   "metadata": {},
   "outputs": [],
   "source": []
  }
 ],
 "metadata": {
  "kernelspec": {
   "display_name": "Python 2",
   "language": "python",
   "name": "python2"
  },
  "language_info": {
   "codemirror_mode": {
    "name": "ipython",
    "version": 2
   },
   "file_extension": ".py",
   "mimetype": "text/x-python",
   "name": "python",
   "nbconvert_exporter": "python",
   "pygments_lexer": "ipython2",
   "version": "2.7.6"
  }
 },
 "nbformat": 4,
 "nbformat_minor": 0
}
