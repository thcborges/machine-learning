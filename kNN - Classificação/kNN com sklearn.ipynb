{
 "cells": [
  {
   "cell_type": "markdown",
   "metadata": {
    "collapsed": true
   },
   "source": [
    "# Implementação do kNN com sklearn"
   ]
  },
  {
   "cell_type": "code",
   "execution_count": 1,
   "metadata": {},
   "outputs": [],
   "source": [
    "from sklearn.neighbors import KNeighborsClassifier"
   ]
  },
  {
   "cell_type": "code",
   "execution_count": 2,
   "metadata": {},
   "outputs": [],
   "source": [
    "entradas, saidas = [], []"
   ]
  },
  {
   "cell_type": "code",
   "execution_count": 5,
   "metadata": {},
   "outputs": [],
   "source": [
    "with open('e:/thcborges/onedrive/cursos/udemy/machine-learning/knn/haberman.data', 'r') as f:\n",
    "    for linha in f.readlines():\n",
    "        atrib = linha.replace('\\n', '').split(',')\n",
    "        entradas.append([\n",
    "            int(atrib[0]),\n",
    "            int(atrib[2])\n",
    "        ])\n",
    "        saidas.append(int(atrib[3]))"
   ]
  },
  {
   "cell_type": "code",
   "execution_count": 6,
   "metadata": {},
   "outputs": [],
   "source": [
    "p = 0.6"
   ]
  },
  {
   "cell_type": "code",
   "execution_count": 11,
   "metadata": {},
   "outputs": [
    {
     "name": "stdout",
     "output_type": "stream",
     "text": [
      "Total de treinamento: 183\nTotal de testes: 123\nTotal de acertos: 91\nPorcentagem de acertos: 73.98%\n"
     ]
    }
   ],
   "source": [
    "limite = int(p * len(entradas))\n",
    "knn = KNeighborsClassifier(n_neighbors=15, p=2)  # n_neighbors = K; \n",
    "# p = tipo de distância: \n",
    "#  - 1 = distância manhattan \n",
    "#  - 2 = distância eucidiana \n",
    "#  - default = 2\n",
    "knn.fit(entradas[:limite], saidas[:limite])\n",
    "labels = knn.predict(entradas[limite:])\n",
    "acertos, indice_label = 0, 0\n",
    "for i in range(limite, len(entradas)):\n",
    "    if labels[indice_label] == saidas[i]:\n",
    "        acertos += 1\n",
    "    indice_label += 1\n",
    "    \n",
    "print('Total de treinamento: {}'.format(limite))\n",
    "print('Total de testes: {}'.format(len(entradas) - limite))\n",
    "print('Total de acertos: {}'.format(acertos))\n",
    "print('Porcentagem de acertos: {:.2f}%'.format(100 * acertos / (len(entradas) - limite)))\n"
   ]
  },
  {
   "cell_type": "code",
   "execution_count": null,
   "metadata": {},
   "outputs": [],
   "source": []
  }
 ],
 "metadata": {
  "kernelspec": {
   "display_name": "Python 2",
   "language": "python",
   "name": "python2"
  },
  "language_info": {
   "codemirror_mode": {
    "name": "ipython",
    "version": 2
   },
   "file_extension": ".py",
   "mimetype": "text/x-python",
   "name": "python",
   "nbconvert_exporter": "python",
   "pygments_lexer": "ipython2",
   "version": "2.7.6"
  }
 },
 "nbformat": 4,
 "nbformat_minor": 0
}
