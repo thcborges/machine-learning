{
 "cells": [
  {
   "cell_type": "markdown",
   "metadata": {},
   "source": [
    "# Robôs\n",
    "\n",
    "A matriz vai de 0x0 até 10x10"
   ]
  },
  {
   "cell_type": "code",
   "execution_count": 104,
   "metadata": {
    "collapsed": true
   },
   "outputs": [],
   "source": [
    "class Point(object):\n",
    "    \n",
    "    def __init__(self, x, y):\n",
    "        self.x = x\n",
    "        self.y = y\n",
    "        \n",
    "    def __str__(self):\n",
    "        return '({}, {})'.format(self.x, self.y)"
   ]
  },
  {
   "cell_type": "code",
   "execution_count": 105,
   "metadata": {
    "collapsed": true
   },
   "outputs": [],
   "source": [
    "class Reward(Point):\n",
    "    \n",
    "    def __init__(self, x, y, name):\n",
    "        super(Reward, self).__init__(x, y)\n",
    "        self.name = name\n",
    "        \n",
    "    def __str__(self):\n",
    "        return '{} ({}, {})'.format(self.name, self.x, self.name)\n",
    "    \n",
    "    def __repr__(self):\n",
    "        return '<Reward> {}'.format(str(self))\n",
    "        "
   ]
  },
  {
   "cell_type": "code",
   "execution_count": null,
   "metadata": {},
   "outputs": [],
   "source": [
    "class Robot(Point):\n",
    "        \n",
    "    def move_up(self):\n",
    "        if self.y < 10:\n",
    "            self.y -= 1\n",
    "        else:\n",
    "            print('Movimento proibido')\n",
    "        \n",
    "    def move_down(self):\n",
    "        if self.y > 0:\n",
    "            self.y += 1\n",
    "        else:\n",
    "            print('Movimento proibido')\n",
    "        \n",
    "    def move_left(self):\n",
    "        if self.x < 10:\n",
    "            self.x -= 1\n",
    "        else:\n",
    "            print('Movimento proibido')\n",
    "    \n",
    "    def move_right(self):\n",
    "        if self.x > 0:\n",
    "            self.x += 1\n",
    "        else:\n",
    "            print('Movimento proibido')\n",
    "            \n",
    "    def __str__(self):\n",
    "        return 'Robô ({}, {})'.format(self.x, self.y)\n",
    "    \n",
    "    def __repr__(self):\n",
    "        return '<Robô> {}'.format(str(self))\n",
    "        "
   ]
  },
  {
   "cell_type": "code",
   "execution_count": 96,
   "metadata": {},
   "outputs": [],
   "source": [
    "def check_reward(robot, rewards):\n",
    "    ok = False\n",
    "    for reward in rewards:\n",
    "        if reward.x == robot.x and reward.y == robot.y:\n",
    "            print(\"O robô achou a recompensa: {}\".format(reward.name))\n",
    "            ok = True\n",
    "            \n",
    "    return ok"
   ]
  },
  {
   "cell_type": "code",
   "execution_count": null,
   "metadata": {},
   "outputs": [],
   "source": [
    "import random\n",
    "rewards = [Reward(random.randint(0, 10), random.randint(0, 10), 'moeda'),\n",
    "           Reward(random.randint(0, 10), random.randint(0, 10), 'gasolina'),\n",
    "           Reward(random.randint(0, 10), random.randint(0, 10), 'arma'),\n",
    "           Reward(random.randint(0, 10), random.randint(0, 10), 'moeda'),\n",
    "           Reward(random.randint(0, 10), random.randint(0, 10), 'gasolina'),\n",
    "           Reward(random.randint(0, 10), random.randint(0, 10), 'arma'),\n",
    "           Reward(random.randint(0, 10), random.randint(0, 10), 'moeda'),\n",
    "           Reward(random.randint(0, 10), random.randint(0, 10), 'gasolina'),\n",
    "           Reward(random.randint(0, 10), random.randint(0, 10), 'arma'),\n",
    "           Reward(random.randint(0, 10), random.randint(0, 10), 'moeda'),\n",
    "           Reward(random.randint(0, 10), random.randint(0, 10), 'gasolina'),\n",
    "           Reward(random.randint(0, 10), random.randint(0, 10), 'arma'),\n",
    "           Reward(random.randint(0, 10), random.randint(0, 10), 'moeda'),\n",
    "           Reward(random.randint(0, 10), random.randint(0, 10), 'gasolina'),\n",
    "           Reward(random.randint(0, 10), random.randint(0, 10), 'arma'),\n",
    "           Reward(random.randint(0, 10), random.randint(0, 10), 'moeda'),\n",
    "           Reward(random.randint(0, 10), random.randint(0, 10), 'gasolina'),\n",
    "           Reward(random.randint(0, 10), random.randint(0, 10), 'arma'),\n",
    "           Reward(random.randint(0, 10), random.randint(0, 10), 'moeda'),\n",
    "           Reward(random.randint(0, 10), random.randint(0, 10), 'gasolina'),\n",
    "           Reward(random.randint(0, 10), random.randint(0, 10), 'arma'),\n",
    "           Reward(random.randint(0, 10), random.randint(0, 10), 'moeda'),\n",
    "           Reward(random.randint(0, 10), random.randint(0, 10), 'gasolina'),\n",
    "           Reward(random.randint(0, 10), random.randint(0, 10), 'arma')]\n",
    "           \n",
    "rewards = [r1, r2, r3]\n",
    "robot = Robot(random.randint(0, 10), random.randint(0, 10))"
   ]
  },
  {
   "cell_type": "code",
   "execution_count": null,
   "metadata": {},
   "outputs": [],
   "source": [
    "for i in range(10):\n",
    "    moviment = input(\"Digite up, down, left ou right para o movimento\").lower()\n",
    "    if moviment == 'up':\n",
    "        robot.move_up()\n",
    "    elif moviment == 'down':\n",
    "        robot.move_down()\n",
    "    elif moviment == 'left':\n",
    "        robot.move_left()\n",
    "    elif moviment == 'right':\n",
    "        robot.move_right()\n",
    "    else:\n",
    "        print('Movimento inválido')\n",
    "        continue\n",
    "    print(robot)\n",
    "    check_reward(robot, rewards)"
   ]
  },
  {
   "cell_type": "code",
   "execution_count": null,
   "metadata": {
    "collapsed": true
   },
   "outputs": [],
   "source": []
  }
 ],
 "metadata": {
  "kernelspec": {
   "display_name": "Python 3",
   "language": "python",
   "name": "python3"
  },
  "language_info": {
   "codemirror_mode": {
    "name": "ipython",
    "version": 3
   },
   "file_extension": ".py",
   "mimetype": "text/x-python",
   "name": "python",
   "nbconvert_exporter": "python",
   "pygments_lexer": "ipython3",
   "version": "3.6.1"
  }
 },
 "nbformat": 4,
 "nbformat_minor": 2
}
