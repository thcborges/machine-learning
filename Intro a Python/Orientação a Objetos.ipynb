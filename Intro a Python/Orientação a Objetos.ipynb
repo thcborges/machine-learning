{
 "cells": [
  {
   "cell_type": "code",
   "execution_count": 1,
   "metadata": {},
   "outputs": [
    {
     "name": "stdout",
     "output_type": "stream",
     "text": [
      "Thiago\n"
     ]
    }
   ],
   "source": [
    "class Pessoa:\n",
    "    \n",
    "    def __init__(self, nome, idade):\n",
    "        self.nome = nome\n",
    "        self.idade = idade\n",
    "        \n",
    "    def imprimir_nome(self):\n",
    "        print(self.nome)\n",
    "        \n",
    "        \n",
    "p = Pessoa('Thiago', 31)\n",
    "p.imprimir_nome()"
   ]
  },
  {
   "cell_type": "code",
   "execution_count": 6,
   "metadata": {},
   "outputs": [
    {
     "name": "stdout",
     "output_type": "stream",
     "text": [
      "Thiago 1234 1000\n",
      "Marcos 1234\n"
     ]
    }
   ],
   "source": [
    "class Conta:\n",
    "    \n",
    "    def __init__(self, cliente, numero):\n",
    "        self.cliente = cliente\n",
    "        self.numero = numero\n",
    "        \n",
    "\n",
    "class ContaEspecial(Conta):\n",
    "    \n",
    "    def __init__(self, cliente, numero, limite=0):\n",
    "        Conta.__init__(self, cliente, numero)\n",
    "        self.limite = limite\n",
    "        \n",
    "        \n",
    "conta = ContaEspecial('Thiago', '1234', 1000)\n",
    "print(conta.cliente, conta.numero, conta.limite)\n",
    "\n",
    "\n",
    "conta = Conta('Marcos', '1234')\n",
    "print(conta.cliente, conta.numero)"
   ]
  }
 ],
 "metadata": {
  "kernelspec": {
   "display_name": "Python 3",
   "language": "python",
   "name": "python3"
  },
  "language_info": {
   "codemirror_mode": {
    "name": "ipython",
    "version": 3
   },
   "file_extension": ".py",
   "mimetype": "text/x-python",
   "name": "python",
   "nbconvert_exporter": "python",
   "pygments_lexer": "ipython3",
   "version": "3.6.1"
  }
 },
 "nbformat": 4,
 "nbformat_minor": 2
}
